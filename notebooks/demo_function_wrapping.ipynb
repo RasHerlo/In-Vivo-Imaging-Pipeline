{
 "cells": [
  {
   "cell_type": "markdown",
   "metadata": {
    "collapsed": true,
    "pycharm": {
     "name": "#%% md\n"
    }
   },
   "source": [
    "# **Demo - Function Wrapping**\n",
    "This demo describes the wrapping of a series of functions into"
   ]
  },
  {
   "cell_type": "code",
   "execution_count": 1,
   "outputs": [],
   "source": [
    "import os\n",
    "\n",
    "from Management.Wrapping import FunctionWrapper, write_wrapper, read_wrapper\n",
    "import numpy as np\n",
    "from os import getcwd"
   ],
   "metadata": {
    "collapsed": false,
    "pycharm": {
     "name": "#%%\n"
    }
   }
  },
  {
   "cell_type": "code",
   "execution_count": 2,
   "outputs": [],
   "source": [
    "from Imaging.ImageProcessing import grouped_z_project, fast_filter_images"
   ],
   "metadata": {
    "collapsed": false,
    "pycharm": {
     "name": "#%%\n"
    }
   }
  },
  {
   "cell_type": "code",
   "execution_count": 3,
   "outputs": [],
   "source": [
    "Wrap = FunctionWrapper()"
   ],
   "metadata": {
    "collapsed": false,
    "pycharm": {
     "name": "#%%\n"
    }
   }
  },
  {
   "cell_type": "code",
   "execution_count": 4,
   "outputs": [],
   "source": [
    "Wrap.wrap_function(grouped_z_project, BinSize=(3, 1, 1))"
   ],
   "metadata": {
    "collapsed": false,
    "pycharm": {
     "name": "#%%\n"
    }
   }
  },
  {
   "cell_type": "code",
   "execution_count": 5,
   "outputs": [],
   "source": [
    "footprint = np.ones((3, 1, 1))\n",
    "Wrap.wrap_function(fast_filter_images, Footprint=footprint)"
   ],
   "metadata": {
    "collapsed": false,
    "pycharm": {
     "name": "#%%\n"
    }
   }
  },
  {
   "cell_type": "code",
   "execution_count": 6,
   "outputs": [
    {
     "name": "stdout",
     "output_type": "stream",
     "text": [
      "\n",
      "Wrapped Pipeline: \n",
      "(0, 'grouped_z_project'): grouped_z_project(Input, BinSize=(3, 1, 1)) from Imaging.ImageProcessing\n",
      "(1, 'fast_filter_images'): fast_filter_images(Input, Footprint=[[[1.]]\n",
      "\n",
      " [[1.]]\n",
      "\n",
      " [[1.]]]) from Imaging.ImageProcessing\n"
     ]
    }
   ],
   "source": [
    "print(Wrap)"
   ],
   "metadata": {
    "collapsed": false,
    "pycharm": {
     "name": "#%%\n"
    }
   }
  },
  {
   "cell_type": "code",
   "execution_count": 7,
   "outputs": [],
   "source": [
    "Filename = \"test_wrap.json\""
   ],
   "metadata": {
    "collapsed": false,
    "pycharm": {
     "name": "#%%\n"
    }
   }
  },
  {
   "cell_type": "code",
   "execution_count": 8,
   "outputs": [
    {
     "name": "stdout",
     "output_type": "stream",
     "text": [
      "\n",
      "Saved Function Wrapper to File.\n"
     ]
    }
   ],
   "source": [
    "write_wrapper(Wrap, Filename)"
   ],
   "metadata": {
    "collapsed": false,
    "pycharm": {
     "name": "#%%\n"
    }
   }
  },
  {
   "cell_type": "code",
   "execution_count": 9,
   "outputs": [],
   "source": [
    "Decoded = read_wrapper(\"\".join([os.getcwd(), \"\\\\test_wrap.json\"]))"
   ],
   "metadata": {
    "collapsed": false,
    "pycharm": {
     "name": "#%%\n"
    }
   }
  },
  {
   "cell_type": "code",
   "execution_count": 10,
   "outputs": [
    {
     "name": "stdout",
     "output_type": "stream",
     "text": [
      "\n",
      "Wrapped Pipeline: \n",
      "(0, 'grouped_z_project'): grouped_z_project(Input, BinSize=[3, 1, 1]) from Imaging.ImageProcessing\n",
      "(1, 'fast_filter_images'): fast_filter_images(Input, Footprint=[[[1.]]\n",
      "\n",
      " [[1.]]\n",
      "\n",
      " [[1.]]]) from Imaging.ImageProcessing\n"
     ]
    }
   ],
   "source": [
    "print(Decoded)"
   ],
   "metadata": {
    "collapsed": false,
    "pycharm": {
     "name": "#%%\n"
    }
   }
  },
  {
   "cell_type": "code",
   "execution_count": null,
   "outputs": [],
   "source": [],
   "metadata": {
    "collapsed": false,
    "pycharm": {
     "name": "#%%\n"
    }
   }
  }
 ],
 "metadata": {
  "kernelspec": {
   "display_name": "Python 3",
   "language": "python",
   "name": "python3"
  },
  "language_info": {
   "codemirror_mode": {
    "name": "ipython",
    "version": 2
   },
   "file_extension": ".py",
   "mimetype": "text/x-python",
   "name": "python",
   "nbconvert_exporter": "python",
   "pygments_lexer": "ipython2",
   "version": "2.7.6"
  }
 },
 "nbformat": 4,
 "nbformat_minor": 0
}