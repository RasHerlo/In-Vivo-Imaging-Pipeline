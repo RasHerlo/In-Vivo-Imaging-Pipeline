{
 "cells": [
  {
   "cell_type": "markdown",
   "metadata": {
    "collapsed": true,
    "pycharm": {
     "name": "#%% md\n"
    }
   },
   "source": [
    "# Making Colored Videos"
   ]
  },
  {
   "cell_type": "markdown",
   "source": [
    "Imports"
   ],
   "metadata": {
    "collapsed": false,
    "pycharm": {
     "name": "#%% md\n"
    }
   }
  },
  {
   "cell_type": "code",
   "execution_count": 31,
   "outputs": [],
   "source": [
    "# Visuals\n",
    "import matplotlib\n",
    "matplotlib.use(\"Qt5Agg\")\n",
    "from matplotlib import pyplot as plt\n",
    "import seaborn as sns\n",
    "\n",
    "# Generic\n",
    "import numpy as np\n",
    "import cupy\n",
    "\n",
    "# I/O\n",
    "from Imaging.IO import load_single_tiff, save_video, save_single_tiff\n",
    "\n",
    "# Image Processing\n",
    "from Imaging.ImageProcessing import fast_filter_images, grouped_z_project\n",
    "\n",
    "# Coloring\n",
    "from Imaging.Coloring import ColorImages, rescale_images, colorize_rois, generate_custom_map, generate_pixel_pairs\n",
    "from Imaging.Colorizer import merge_background, overlay_colorized_rois"
   ],
   "metadata": {
    "collapsed": false,
    "pycharm": {
     "name": "#%%\n"
    }
   }
  },
  {
   "cell_type": "markdown",
   "source": [
    "Load Data"
   ],
   "metadata": {
    "collapsed": false,
    "pycharm": {
     "name": "#%% md\n"
    }
   }
  },
  {
   "cell_type": "code",
   "execution_count": 32,
   "outputs": [],
   "source": [
    "images = load_single_tiff(\"C:\\\\Users\\\\YUSTE\\\\Desktop\\\\UpDown.tif\", 5600)\n",
    "stat = np.load(\"C:\\\\Users\\\\YUSTE\\\\Desktop\\\\AA\\\\data\\\\suite2p\\\\plane0\\\\stat.npy\", allow_pickle=True)\n",
    "iscell = np.load(\"C:\\\\Users\\\\YUSTE\\\\Desktop\\\\AA\\\\data\\\\suite2p\\\\plane0\\\\iscell.npy\", allow_pickle=True)"
   ],
   "metadata": {
    "collapsed": false,
    "pycharm": {
     "name": "#%%\n"
    }
   }
  },
  {
   "cell_type": "markdown",
   "source": [
    "Beautify"
   ],
   "metadata": {
    "collapsed": false,
    "pycharm": {
     "name": "#%% md\n"
    }
   }
  },
  {
   "cell_type": "code",
   "execution_count": 33,
   "outputs": [],
   "source": [
    "# images = fast_filter_images(images, Footprint=np.ones((7, 1, 1))).get() # Get is simply to convert from cupy array"
   ],
   "metadata": {
    "collapsed": false,
    "pycharm": {
     "name": "#%%\n"
    }
   }
  },
  {
   "cell_type": "code",
   "execution_count": 34,
   "outputs": [],
   "source": [
    "# save_single_tiff(images, \"C:\\\\Users\\\\YUSTE\\\\Desktop\\\\AA_01_17_23_K.tif\", np.int16)"
   ],
   "metadata": {
    "collapsed": false,
    "pycharm": {
     "name": "#%%\n"
    }
   }
  },
  {
   "cell_type": "markdown",
   "source": [
    "Select Colors"
   ],
   "metadata": {
    "collapsed": false,
    "pycharm": {
     "name": "#%% md\n"
    }
   }
  },
  {
   "cell_type": "code",
   "execution_count": 35,
   "outputs": [],
   "source": [
    "blue = (0.0745, 0.6234, 1.000)\n",
    "red = (1.000, 0.2941, 0.3068)"
   ],
   "metadata": {
    "collapsed": false,
    "pycharm": {
     "name": "#%%\n"
    }
   }
  },
  {
   "cell_type": "code",
   "execution_count": 35,
   "outputs": [],
   "source": [],
   "metadata": {
    "collapsed": false,
    "pycharm": {
     "name": "#%%\n"
    }
   }
  },
  {
   "cell_type": "markdown",
   "source": [
    "Subset Neurons"
   ],
   "metadata": {
    "collapsed": false,
    "pycharm": {
     "name": "#%% md\n"
    }
   }
  },
  {
   "cell_type": "code",
   "execution_count": 36,
   "outputs": [],
   "source": [
    "subset_neurons_1 = \\\n",
    "    [34, 37, 42, 49, 52, 54, 59, 61, 65, 66, 84, 91, 117, 129, 138, 143, 146, 162, 176, 177, 181, 185, 217]\n",
    "subset_neurons_1 = [neuron-1 for neuron in subset_neurons_1] # adj for matlab non-zero indexing\n",
    "\n",
    "subset_neurons_2 = [24, 78]\n",
    "subset_neurons_2 = [neuron-1 for neuron in subset_neurons_2] # adj for matlab non-zero indexing"
   ],
   "metadata": {
    "collapsed": false,
    "pycharm": {
     "name": "#%%\n"
    }
   }
  },
  {
   "cell_type": "code",
   "execution_count": 37,
   "outputs": [
    {
     "data": {
      "text/plain": "Overlaying:   0%|          | 0/5600 [00:00<?, ?it/s]",
      "application/vnd.jupyter.widget-view+json": {
       "version_major": 2,
       "version_minor": 0,
       "model_id": "5563ef9d96ef4189bf3d34c0968a8141"
      },
      "application/json": {
       "n": 0,
       "total": 5600,
       "elapsed": 0.015000343322753906,
       "ncols": null,
       "nrows": null,
       "prefix": "Overlaying",
       "ascii": false,
       "unit": "it",
       "unit_scale": false,
       "rate": null,
       "bar_format": null,
       "postfix": null,
       "unit_divisor": 1000,
       "initial": 0,
       "colour": null
      }
     },
     "metadata": {},
     "output_type": "display_data"
    },
    {
     "data": {
      "text/plain": "Overlaying:   0%|          | 0/5600 [00:00<?, ?it/s]",
      "application/vnd.jupyter.widget-view+json": {
       "version_major": 2,
       "version_minor": 0,
       "model_id": "6f0f2e3d488e4aecbea341b4ed297365"
      },
      "application/json": {
       "n": 0,
       "total": 5600,
       "elapsed": 0.022031545639038086,
       "ncols": null,
       "nrows": null,
       "prefix": "Overlaying",
       "ascii": false,
       "unit": "it",
       "unit_scale": false,
       "rate": null,
       "bar_format": null,
       "postfix": null,
       "unit_divisor": 1000,
       "initial": 0,
       "colour": null
      }
     },
     "metadata": {},
     "output_type": "display_data"
    }
   ],
   "source": [
    "ColorVideo = ColorImages(images, stat, iscell)\n",
    "ColorVideo.cutoffs = (1.0, 99.75)\n",
    "ColorVideo.background_style = \"True\"\n",
    "ColorVideo.background_cutoffs = (5.0, 99.99)\n",
    "ColorVideo.neuron_subsets = ([ColorVideo.neuronal_ids[neuron] for neuron in subset_neurons_1], blue)\n",
    "ColorVideo.neuron_subsets = ([ColorVideo.neuronal_ids[neuron] for neuron in subset_neurons_2], red)"
   ],
   "metadata": {
    "collapsed": false,
    "pycharm": {
     "name": "#%%\n"
    }
   }
  },
  {
   "cell_type": "markdown",
   "source": [
    "Generate custom colormaps"
   ],
   "metadata": {
    "collapsed": false,
    "pycharm": {
     "name": "#%% md\n"
    }
   }
  },
  {
   "cell_type": "code",
   "execution_count": 38,
   "outputs": [],
   "source": [
    "base = (0.2073382588235294, 0.2073382588235294, 0.2073382588235294)\n",
    "_cmap1 = generate_custom_map([base, base, blue, blue])\n",
    "_cmap2 = generate_custom_map([base, base, red, red])"
   ],
   "metadata": {
    "collapsed": false,
    "pycharm": {
     "name": "#%%\n"
    }
   }
  },
  {
   "cell_type": "markdown",
   "source": [
    "Rescale images using cutoffs"
   ],
   "metadata": {
    "collapsed": false,
    "pycharm": {
     "name": "#%% md\n"
    }
   }
  },
  {
   "cell_type": "code",
   "execution_count": 39,
   "outputs": [],
   "source": [
    "scaled_image = rescale_images(images, *ColorVideo.cutoffs)"
   ],
   "metadata": {
    "collapsed": false,
    "pycharm": {
     "name": "#%%\n"
    }
   }
  },
  {
   "cell_type": "markdown",
   "source": [
    "Colorize ROIs"
   ],
   "metadata": {
    "collapsed": false,
    "pycharm": {
     "name": "#%% md\n"
    }
   }
  },
  {
   "cell_type": "code",
   "execution_count": 40,
   "outputs": [],
   "source": [
    "CR1 = colorize_rois(scaled_image.copy(), stat, ColorVideo.neuron_subsets[0], _cmap1)\n",
    "CR2 = colorize_rois(scaled_image.copy(), stat, ColorVideo.neuron_subsets[1], _cmap2)"
   ],
   "metadata": {
    "collapsed": false,
    "pycharm": {
     "name": "#%%\n"
    }
   }
  },
  {
   "cell_type": "markdown",
   "source": [
    "Extract background"
   ],
   "metadata": {
    "collapsed": false,
    "pycharm": {
     "name": "#%% md\n"
    }
   }
  },
  {
   "cell_type": "code",
   "execution_count": 41,
   "outputs": [],
   "source": [
    "background_1 = ColorVideo.background.copy()\n",
    "background_2 = ColorVideo.background.copy()"
   ],
   "metadata": {
    "collapsed": false,
    "pycharm": {
     "name": "#%%\n"
    }
   }
  },
  {
   "cell_type": "markdown",
   "source": [
    "Overlay ROIs"
   ],
   "metadata": {
    "collapsed": false,
    "pycharm": {
     "name": "#%% md\n"
    }
   }
  },
  {
   "cell_type": "code",
   "execution_count": 42,
   "outputs": [
    {
     "data": {
      "text/plain": "Overlaying:   0%|          | 0/5600 [00:00<?, ?it/s]",
      "application/vnd.jupyter.widget-view+json": {
       "version_major": 2,
       "version_minor": 0,
       "model_id": "448e7561256d419d9f7deda711db82a8"
      },
      "application/json": {
       "n": 0,
       "total": 5600,
       "elapsed": 0.014007091522216797,
       "ncols": null,
       "nrows": null,
       "prefix": "Overlaying",
       "ascii": false,
       "unit": "it",
       "unit_scale": false,
       "rate": null,
       "bar_format": null,
       "postfix": null,
       "unit_divisor": 1000,
       "initial": 0,
       "colour": null
      }
     },
     "metadata": {},
     "output_type": "display_data"
    },
    {
     "data": {
      "text/plain": "Overlaying:   0%|          | 0/5600 [00:00<?, ?it/s]",
      "application/vnd.jupyter.widget-view+json": {
       "version_major": 2,
       "version_minor": 0,
       "model_id": "e4ee216112374b75a0f7057e9d030580"
      },
      "application/json": {
       "n": 0,
       "total": 5600,
       "elapsed": 0.01400136947631836,
       "ncols": null,
       "nrows": null,
       "prefix": "Overlaying",
       "ascii": false,
       "unit": "it",
       "unit_scale": false,
       "rate": null,
       "bar_format": null,
       "postfix": null,
       "unit_divisor": 1000,
       "initial": 0,
       "colour": null
      }
     },
     "metadata": {},
     "output_type": "display_data"
    }
   ],
   "source": [
    "overlay_1 = overlay_colorized_rois(background_1, CR1)\n",
    "overlay_2 = overlay_colorized_rois(background_2, CR2)"
   ],
   "metadata": {
    "collapsed": false,
    "pycharm": {
     "name": "#%%\n"
    }
   }
  },
  {
   "cell_type": "markdown",
   "source": [
    "Generate Pixel Pairs"
   ],
   "metadata": {
    "collapsed": false,
    "pycharm": {
     "name": "#%% md\n"
    }
   }
  },
  {
   "cell_type": "code",
   "execution_count": 43,
   "outputs": [],
   "source": [
    "pp_0 = generate_pixel_pairs(stat, ColorVideo.neuron_subsets[0])\n",
    "pp_1 = generate_pixel_pairs(stat, ColorVideo.neuron_subsets[1])"
   ],
   "metadata": {
    "collapsed": false,
    "pycharm": {
     "name": "#%%\n"
    }
   }
  },
  {
   "cell_type": "markdown",
   "source": [
    "Merge"
   ],
   "metadata": {
    "collapsed": false,
    "pycharm": {
     "name": "#%% md\n"
    }
   }
  },
  {
   "cell_type": "code",
   "execution_count": 44,
   "outputs": [],
   "source": [
    "merge_1 = merge_background(ColorVideo.background.copy(), overlay_1, pp_0)\n",
    "merge_2 = merge_background(ColorVideo.background.copy(), overlay_2, pp_1)\n",
    "merge_3 = merge_background(ColorVideo.background.copy(), merge_1, pp_0)\n",
    "merge_4 = merge_background(merge_3.copy(), merge_2, pp_1)"
   ],
   "metadata": {
    "collapsed": false,
    "pycharm": {
     "name": "#%%\n"
    }
   }
  },
  {
   "cell_type": "markdown",
   "source": [
    "Save"
   ],
   "metadata": {
    "collapsed": false,
    "pycharm": {
     "name": "#%% md\n"
    }
   }
  },
  {
   "cell_type": "code",
   "execution_count": 45,
   "outputs": [
    {
     "name": "stdout",
     "output_type": "stream",
     "text": [
      "\n",
      "Writing Images to .mp4...\n",
      "\n",
      "\n",
      "Finished writing images to .mp4.\n",
      "\n",
      "\n",
      "Writing Images to .mp4...\n",
      "\n",
      "\n",
      "Finished writing images to .mp4.\n",
      "\n",
      "\n",
      "Writing Images to .mp4...\n",
      "\n",
      "\n",
      "Finished writing images to .mp4.\n",
      "\n",
      "\n",
      "Writing Images to .mp4...\n",
      "\n",
      "\n",
      "Finished writing images to .mp4.\n",
      "\n"
     ]
    }
   ],
   "source": [
    "save_video(merge_1, \"C:\\\\Users\\\\YUSTE\\\\Desktop\\\\test_A.mp4\", fps=10)\n",
    "save_video(merge_2, \"C:\\\\Users\\\\YUSTE\\\\Desktop\\\\test_B.mp4\", fps=10)\n",
    "save_video(merge_3, \"C:\\\\Users\\\\YUSTE\\\\Desktop\\\\test_C.mp4\", fps=10)\n",
    "save_video(merge_4, \"C:\\\\Users\\\\YUSTE\\\\Desktop\\\\test_D.mp4\", fps=10)"
   ],
   "metadata": {
    "collapsed": false,
    "pycharm": {
     "name": "#%%\n"
    }
   }
  }
 ],
 "metadata": {
  "kernelspec": {
   "display_name": "Python 3",
   "language": "python",
   "name": "python3"
  },
  "language_info": {
   "codemirror_mode": {
    "name": "ipython",
    "version": 2
   },
   "file_extension": ".py",
   "mimetype": "text/x-python",
   "name": "python",
   "nbconvert_exporter": "python",
   "pygments_lexer": "ipython2",
   "version": "2.7.6"
  }
 },
 "nbformat": 4,
 "nbformat_minor": 0
}