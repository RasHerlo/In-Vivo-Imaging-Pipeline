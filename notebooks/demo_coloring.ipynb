{
 "cells": [
  {
   "cell_type": "markdown",
   "metadata": {
    "collapsed": true,
    "pycharm": {
     "name": "#%% md\n"
    }
   },
   "source": [
    "# Making Colored Videos"
   ]
  },
  {
   "cell_type": "markdown",
   "metadata": {
    "pycharm": {
     "name": "#%% md\n"
    }
   },
   "source": [
    "Imports"
   ]
  },
  {
   "cell_type": "code",
   "execution_count": null,
   "metadata": {
    "pycharm": {
     "name": "#%%\n"
    }
   },
   "outputs": [],
   "source": [
    "# Visuals\n",
    "import matplotlib\n",
    "matplotlib.use(\"Qt5Agg\")\n",
    "from matplotlib import pyplot as plt\n",
    "import seaborn as sns\n",
    "\n",
    "# Generic\n",
    "import numpy as np\n",
    "import cupy\n",
    "\n",
    "# I/O\n",
    "from imaging.IO import load_single_tiff, save_video, save_single_tiff\n",
    "\n",
    "# Image Processing\n",
    "from imaging.ImageProcessing import fast_filter_images, grouped_z_project\n",
    "\n",
    "# Coloring\n",
    "from imaging.Coloring import ColorImages, rescale_images, colorize_rois, generate_custom_map, generate_pixel_pairs\n",
    "from imaging.Colorizer import merge_background, overlay_colorized_rois"
   ]
  },
  {
   "cell_type": "markdown",
   "metadata": {
    "pycharm": {
     "name": "#%% md\n"
    }
   },
   "source": [
    "Load Data"
   ]
  },
  {
   "cell_type": "code",
   "execution_count": null,
   "metadata": {
    "pycharm": {
     "name": "#%%\n"
    }
   },
   "outputs": [],
   "source": [
    "images = load_single_tiff(\"C:\\\\Users\\\\YUSTE\\\\Desktop\\\\UpDown.tif\", 5600)\n",
    "stat = np.load(\"C:\\\\Users\\\\YUSTE\\\\Desktop\\\\AA\\\\data\\\\suite2p\\\\plane0\\\\stat.npy\", allow_pickle=True)\n",
    "iscell = np.load(\"C:\\\\Users\\\\YUSTE\\\\Desktop\\\\AA\\\\data\\\\suite2p\\\\plane0\\\\iscell.npy\", allow_pickle=True)"
   ]
  },
  {
   "cell_type": "markdown",
   "metadata": {
    "pycharm": {
     "name": "#%% md\n"
    }
   },
   "source": [
    "Beautify"
   ]
  },
  {
   "cell_type": "code",
   "execution_count": null,
   "metadata": {
    "pycharm": {
     "name": "#%%\n"
    }
   },
   "outputs": [],
   "source": [
    "# images = fast_filter_images(images, Footprint=np.ones((7, 1, 1))).get() # Get is simply to convert from cupy array"
   ]
  },
  {
   "cell_type": "code",
   "execution_count": null,
   "metadata": {
    "pycharm": {
     "name": "#%%\n"
    }
   },
   "outputs": [],
   "source": [
    "# save_single_tiff(images, \"C:\\\\Users\\\\YUSTE\\\\Desktop\\\\AA_01_17_23_K.tif\", np.int16)"
   ]
  },
  {
   "cell_type": "markdown",
   "metadata": {
    "pycharm": {
     "name": "#%% md\n"
    }
   },
   "source": [
    "Select Colors"
   ]
  },
  {
   "cell_type": "code",
   "execution_count": null,
   "metadata": {
    "pycharm": {
     "name": "#%%\n"
    }
   },
   "outputs": [],
   "source": [
    "blue = (0.0745, 0.6234, 1.000)\n",
    "red = (1.000, 0.2941, 0.3068)"
   ]
  },
  {
   "cell_type": "code",
   "execution_count": null,
   "metadata": {
    "pycharm": {
     "name": "#%%\n"
    }
   },
   "outputs": [],
   "source": []
  },
  {
   "cell_type": "markdown",
   "metadata": {
    "pycharm": {
     "name": "#%% md\n"
    }
   },
   "source": [
    "Subset Neurons"
   ]
  },
  {
   "cell_type": "code",
   "execution_count": null,
   "metadata": {
    "pycharm": {
     "name": "#%%\n"
    }
   },
   "outputs": [],
   "source": [
    "subset_neurons_1 = \\\n",
    "    [34, 37, 42, 49, 52, 54, 59, 61, 65, 66, 84, 91, 117, 129, 138, 143, 146, 162, 176, 177, 181, 185, 217]\n",
    "subset_neurons_1 = [neuron-1 for neuron in subset_neurons_1] # adj for matlab non-zero indexing\n",
    "\n",
    "subset_neurons_2 = [24, 78]\n",
    "subset_neurons_2 = [neuron-1 for neuron in subset_neurons_2] # adj for matlab non-zero indexing"
   ]
  },
  {
   "cell_type": "code",
   "execution_count": null,
   "metadata": {
    "pycharm": {
     "name": "#%%\n"
    }
   },
   "outputs": [],
   "source": [
    "ColorVideo = ColorImages(images, stat, iscell)\n",
    "ColorVideo.cutoffs = (1.0, 99.75)\n",
    "ColorVideo.background_style = \"True\"\n",
    "ColorVideo.background_cutoffs = (5.0, 99.99)\n",
    "ColorVideo.neuron_subsets = ([ColorVideo.neuronal_ids[neuron] for neuron in subset_neurons_1], blue)\n",
    "ColorVideo.neuron_subsets = ([ColorVideo.neuronal_ids[neuron] for neuron in subset_neurons_2], red)"
   ]
  },
  {
   "cell_type": "markdown",
   "metadata": {
    "pycharm": {
     "name": "#%% md\n"
    }
   },
   "source": [
    "Generate custom colormaps"
   ]
  },
  {
   "cell_type": "code",
   "execution_count": null,
   "metadata": {
    "pycharm": {
     "name": "#%%\n"
    }
   },
   "outputs": [],
   "source": [
    "base = (0.2073382588235294, 0.2073382588235294, 0.2073382588235294)\n",
    "_cmap1 = generate_custom_map([base, base, blue, blue])\n",
    "_cmap2 = generate_custom_map([base, base, red, red])"
   ]
  },
  {
   "cell_type": "markdown",
   "metadata": {
    "pycharm": {
     "name": "#%% md\n"
    }
   },
   "source": [
    "Rescale images using cutoffs"
   ]
  },
  {
   "cell_type": "code",
   "execution_count": null,
   "metadata": {
    "pycharm": {
     "name": "#%%\n"
    }
   },
   "outputs": [],
   "source": [
    "scaled_image = rescale_images(images, *ColorVideo.cutoffs)"
   ]
  },
  {
   "cell_type": "markdown",
   "metadata": {
    "pycharm": {
     "name": "#%% md\n"
    }
   },
   "source": [
    "Colorize ROIs"
   ]
  },
  {
   "cell_type": "code",
   "execution_count": null,
   "metadata": {
    "pycharm": {
     "name": "#%%\n"
    }
   },
   "outputs": [],
   "source": [
    "CR1 = colorize_rois(scaled_image.copy(), stat, ColorVideo.neuron_subsets[0], _cmap1)\n",
    "CR2 = colorize_rois(scaled_image.copy(), stat, ColorVideo.neuron_subsets[1], _cmap2)"
   ]
  },
  {
   "cell_type": "markdown",
   "metadata": {
    "pycharm": {
     "name": "#%% md\n"
    }
   },
   "source": [
    "Extract background"
   ]
  },
  {
   "cell_type": "code",
   "execution_count": null,
   "metadata": {
    "pycharm": {
     "name": "#%%\n"
    }
   },
   "outputs": [],
   "source": [
    "background_1 = ColorVideo.background.copy()\n",
    "background_2 = ColorVideo.background.copy()"
   ]
  },
  {
   "cell_type": "markdown",
   "metadata": {
    "pycharm": {
     "name": "#%% md\n"
    }
   },
   "source": [
    "Overlay ROIs"
   ]
  },
  {
   "cell_type": "code",
   "execution_count": null,
   "metadata": {
    "pycharm": {
     "name": "#%%\n"
    }
   },
   "outputs": [],
   "source": [
    "overlay_1 = overlay_colorized_rois(background_1, CR1)\n",
    "overlay_2 = overlay_colorized_rois(background_2, CR2)"
   ]
  },
  {
   "cell_type": "markdown",
   "metadata": {
    "pycharm": {
     "name": "#%% md\n"
    }
   },
   "source": [
    "Generate Pixel Pairs"
   ]
  },
  {
   "cell_type": "code",
   "execution_count": null,
   "metadata": {
    "pycharm": {
     "name": "#%%\n"
    }
   },
   "outputs": [],
   "source": [
    "pp_0 = generate_pixel_pairs(stat, ColorVideo.neuron_subsets[0])\n",
    "pp_1 = generate_pixel_pairs(stat, ColorVideo.neuron_subsets[1])"
   ]
  },
  {
   "cell_type": "markdown",
   "metadata": {
    "pycharm": {
     "name": "#%% md\n"
    }
   },
   "source": [
    "Merge"
   ]
  },
  {
   "cell_type": "code",
   "execution_count": null,
   "metadata": {
    "pycharm": {
     "name": "#%%\n"
    }
   },
   "outputs": [],
   "source": [
    "merge_1 = merge_background(ColorVideo.background.copy(), overlay_1, pp_0)\n",
    "merge_2 = merge_background(ColorVideo.background.copy(), overlay_2, pp_1)\n",
    "merge_3 = merge_background(ColorVideo.background.copy(), merge_1, pp_0)\n",
    "merge_4 = merge_background(merge_3.copy(), merge_2, pp_1)"
   ]
  },
  {
   "cell_type": "markdown",
   "metadata": {
    "pycharm": {
     "name": "#%% md\n"
    }
   },
   "source": [
    "Save"
   ]
  },
  {
   "cell_type": "code",
   "execution_count": null,
   "metadata": {
    "pycharm": {
     "name": "#%%\n"
    }
   },
   "outputs": [],
   "source": [
    "save_video(merge_1, \"C:\\\\Users\\\\YUSTE\\\\Desktop\\\\test_A.mp4\", fps=10)\n",
    "save_video(merge_2, \"C:\\\\Users\\\\YUSTE\\\\Desktop\\\\test_B.mp4\", fps=10)\n",
    "save_video(merge_3, \"C:\\\\Users\\\\YUSTE\\\\Desktop\\\\test_C.mp4\", fps=10)\n",
    "save_video(merge_4, \"C:\\\\Users\\\\YUSTE\\\\Desktop\\\\test_D.mp4\", fps=10)"
   ]
  }
 ],
 "metadata": {
  "kernelspec": {
   "display_name": "Python 3 (ipykernel)",
   "language": "python",
   "name": "python3"
  },
  "language_info": {
   "codemirror_mode": {
    "name": "ipython",
    "version": 3
   },
   "file_extension": ".py",
   "mimetype": "text/x-python",
   "name": "python",
   "nbconvert_exporter": "python",
   "pygments_lexer": "ipython3",
   "version": "3.7.12"
  }
 },
 "nbformat": 4,
 "nbformat_minor": 1
}