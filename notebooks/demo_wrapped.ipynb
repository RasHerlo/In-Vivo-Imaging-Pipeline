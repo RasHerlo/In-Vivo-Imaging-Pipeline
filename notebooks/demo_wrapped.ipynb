{
 "cells": [
  {
   "cell_type": "markdown",
   "metadata": {
    "collapsed": true,
    "pycharm": {
     "name": "#%% md\n"
    }
   },
   "source": [
    "# **Demo - Wrapped Implementation**\n",
    "This demo is for the wrapped implementation (single function-analysis)"
   ]
  },
  {
   "cell_type": "markdown",
   "source": [
    "### **Step 1.** Mouse Instantiation\n",
    "Our first step is to load a *mouse* object that will organize all our data and records. It will also auto-log all console input and record major modifications to save us from ourselves."
   ],
   "metadata": {
    "collapsed": false,
    "pycharm": {
     "name": "#%% md\n"
    }
   }
  },
  {
   "cell_type": "markdown",
   "source": [
    "A. First we import the mouse instance factory"
   ],
   "metadata": {
    "collapsed": false,
    "pycharm": {
     "name": "#%% md\n"
    }
   }
  },
  {
   "cell_type": "code",
   "execution_count": 1,
   "metadata": {
    "pycharm": {
     "name": "#%%\n"
    }
   },
   "outputs": [],
   "source": [
    "from mose_framework.organization import Mouse"
   ]
  },
  {
   "cell_type": "markdown",
   "metadata": {
    "pycharm": {
     "name": "#%% md\n"
    }
   },
   "source": [
    "B. We generate a mouse instance (load our mouse)."
   ]
  },
  {
   "cell_type": "code",
   "execution_count": 2,
   "metadata": {
    "pycharm": {
     "name": "#%%\n"
    }
   },
   "outputs": [
    {
     "name": "stdout",
     "output_type": "stream",
     "text": [
      "Loading Experiments...\n",
      "Finished.\n"
     ]
    }
   ],
   "source": [
    "demo_mouse = Mouse.load()"
   ]
  },
  {
   "cell_type": "code",
   "execution_count": 3,
   "outputs": [
    {
     "name": "stdout",
     "output_type": "stream",
     "text": [
      "\n",
      "\u001B[1m\u001B[38;5;11mMouse:\u001B[0m Theodore\n",
      "\u001B[1m\u001B[38;5;11mStudy:\u001B[0m Mouse Manners\n",
      "\u001B[1m\u001B[38;5;11mStudy Mouse ID:\u001B[0m G1\n",
      "\u001B[1m\u001B[38;5;11mExperimental Condition:\u001B[0m Gentlemen\n",
      "\u001B[1m\u001B[38;5;11mDate Created:\u001B[0m 2023-01-18\n",
      "\u001B[1m\u001B[38;5;11mDirectory:\u001B[0m D:\\Theodore\n",
      "\u001B[1m\u001B[38;5;11mLog File:\u001B[0m None\n",
      "\u001B[1m\u001B[38;5;11mOrganization File:\u001B[0m D:\\Theodore\\organization.json\n",
      "\u001B[1m\u001B[38;5;11mExperiments:\u001B[0m BigDayForTheo\n",
      "\n",
      "Last modified on \u001B[32m2023-01-18\u001B[0m at \u001B[32m12:43:33\u001B[0m\n"
     ]
    }
   ],
   "source": [
    "print(demo_mouse)"
   ],
   "metadata": {
    "collapsed": false,
    "pycharm": {
     "name": "#%%\n"
    }
   }
  },
  {
   "cell_type": "markdown",
   "metadata": {
    "pycharm": {
     "name": "#%% md\n"
    }
   },
   "source": [
    "### Step 2. Experiment Instantiation\n",
    "The second step is to create an experiment object to store the results of our mouse Theodore's latest experiment. This experiment happened to be a simple *imaging* experiment to assess expression."
   ]
  },
  {
   "cell_type": "markdown",
   "metadata": {
    "pycharm": {
     "name": "#%% md\n"
    }
   },
   "source": [
    "A. Import the imaging experiment instance factory"
   ]
  },
  {
   "cell_type": "code",
   "execution_count": 3,
   "metadata": {
    "pycharm": {
     "name": "#%%\n"
    }
   },
   "outputs": [],
   "source": [
    "from mose_framework.organization import ImagingExperiment"
   ]
  },
  {
   "cell_type": "markdown",
   "metadata": {
    "pycharm": {
     "name": "#%% md\n"
    }
   },
   "source": [
    "B. Now we add an experiment to our mouse. By using the interactive flag, we can select the folder containing our raw data from our flashdrive or desktop and it will be automatically organized and imported."
   ]
  },
  {
   "cell_type": "code",
   "execution_count": 4,
   "metadata": {
    "pycharm": {
     "name": "#%%\n"
    }
   },
   "outputs": [
    {
     "name": "stdout",
     "output_type": "stream",
     "text": [
      "\n",
      "\n",
      "+-----------------------+-------+\n",
      "| Total Images Detected | 26436 |\n",
      "|        Channels       |   1   |\n",
      "|         Planes        |   4   |\n",
      "|         Frames        |  6609 |\n",
      "|         Height        |  256  |\n",
      "|         Width         |  256  |\n",
      "+-----------------------+-------+\n"
     ]
    },
    {
     "name": "stderr",
     "output_type": "stream",
     "text": [
      "Copying files...: 100%|██████████| 26443/26443 [01:15<00:00, 350.05it/s]\n",
      "Updating Folder Dictionaries: 100%|██████████| 1/1 [00:03<00:00,  3.75s/it]\n"
     ]
    }
   ],
   "source": [
    "demo_mouse.create_experiment(\"BigDayForTheo\", Type=ImagingExperiment, interactive=True)"
   ]
  },
  {
   "cell_type": "markdown",
   "metadata": {
    "pycharm": {
     "name": "#%% md\n"
    }
   },
   "source": [
    "C. Now, we save our progress"
   ]
  },
  {
   "cell_type": "code",
   "execution_count": 5,
   "metadata": {
    "pycharm": {
     "name": "#%%\n"
    }
   },
   "outputs": [
    {
     "name": "stdout",
     "output_type": "stream",
     "text": [
      "Saving mouse...\n",
      "Finished saving mouse.\n"
     ]
    }
   ],
   "source": [
    "demo_mouse.save()"
   ]
  },
  {
   "cell_type": "markdown",
   "metadata": {
    "pycharm": {
     "name": "#%% md\n"
    }
   },
   "source": [
    "### Step 3. Imaging Analysis\n",
    "Now we analyze our images with a single function"
   ]
  },
  {
   "cell_type": "markdown",
   "metadata": {
    "pycharm": {
     "name": "#%% md\n"
    }
   },
   "source": [
    "A. Call the function"
   ]
  },
  {
   "cell_type": "code",
   "execution_count": 4,
   "metadata": {
    "pycharm": {
     "name": "#%%\n"
    }
   },
   "outputs": [],
   "source": [
    "effective_frame_rate = 6 # Hz\n",
    "Pipeline = \"Imaging\\\\config.json\""
   ]
  },
  {
   "cell_type": "code",
   "execution_count": 3,
   "metadata": {
    "pycharm": {
     "name": "#%%\n"
    }
   },
   "outputs": [
    {
     "name": "stdout",
     "output_type": "stream",
     "text": [
      "\n",
      "\n",
      "+-----------------------+-------+\n",
      "| Total Images Detected | 26436 |\n",
      "|        Channels       |   1   |\n",
      "|         Planes        |   4   |\n",
      "|         Frames        |  6609 |\n",
      "|         Height        |  256  |\n",
      "|         Width         |  256  |\n",
      "+-----------------------+-------+\n"
     ]
    },
    {
     "name": "stderr",
     "output_type": "stream",
     "text": [
      "Repackaging Bruker Tiffs...: 100%|██████████| 6609/6609 [00:13<00:00, 477.61it/s]\n"
     ]
    },
    {
     "data": {
      "text/plain": "Loading Images...:   0%|          | 0/1 [00:00<?, ?it/s]",
      "application/vnd.jupyter.widget-view+json": {
       "version_major": 2,
       "version_minor": 0,
       "model_id": "97f4aa19bd9d4c87a8dbbd57a515f280"
      },
      "application/json": {
       "n": 0,
       "total": 1,
       "elapsed": 0.020027637481689453,
       "ncols": null,
       "nrows": null,
       "prefix": "Loading Images...",
       "ascii": false,
       "unit": "it",
       "unit_scale": false,
       "rate": null,
       "bar_format": null,
       "postfix": null,
       "unit_divisor": 1000,
       "initial": 0,
       "colour": null
      }
     },
     "metadata": {},
     "output_type": "display_data"
    },
    {
     "name": "stdout",
     "output_type": "stream",
     "text": [
      "Saving images as a binary file...\n",
      "Finished saving images as a binary file.\n"
     ]
    },
    {
     "ename": "AttributeError",
     "evalue": "module 'os' has no attribute 'getpar'",
     "output_type": "error",
     "traceback": [
      "\u001B[1;31m---------------------------------------------------------------------------\u001B[0m",
      "\u001B[1;31mAttributeError\u001B[0m                            Traceback (most recent call last)",
      "\u001B[1;32m~\\AppData\\Local\\Temp\\ipykernel_3880\\2151649739.py\u001B[0m in \u001B[0;36m<module>\u001B[1;34m\u001B[0m\n\u001B[1;32m----> 1\u001B[1;33m \u001B[0mMyMouse\u001B[0m\u001B[1;33m.\u001B[0m\u001B[0mBigDayForTheo\u001B[0m\u001B[1;33m.\u001B[0m\u001B[0manalyze_images\u001B[0m\u001B[1;33m(\u001B[0m\u001B[1;36m6\u001B[0m\u001B[1;33m,\u001B[0m \u001B[0mPipeline\u001B[0m\u001B[1;33m)\u001B[0m\u001B[1;33m\u001B[0m\u001B[1;33m\u001B[0m\u001B[0m\n\u001B[0m",
      "\u001B[1;32mC:\\ProgramData\\Anaconda3\\envs\\Calcium-Imaging-Analysis-Pipeline\\Management\\Organization.py\u001B[0m in \u001B[0;36manalyze_images\u001B[1;34m(self, FrameRate, Pipeline, **kwargs)\u001B[0m\n\u001B[0;32m    800\u001B[0m \u001B[1;33m\u001B[0m\u001B[0m\n\u001B[0;32m    801\u001B[0m             \u001B[1;31m# Run Pipeline\u001B[0m\u001B[1;33m\u001B[0m\u001B[1;33m\u001B[0m\u001B[1;33m\u001B[0m\u001B[0m\n\u001B[1;32m--> 802\u001B[1;33m             \u001B[0mpipeline\u001B[0m\u001B[1;33m(\u001B[0m\u001B[0mself\u001B[0m\u001B[1;33m,\u001B[0m \u001B[0mFrameRate\u001B[0m\u001B[1;33m,\u001B[0m \u001B[0m_combo\u001B[0m\u001B[1;33m,\u001B[0m \u001B[0m_name\u001B[0m\u001B[1;33m,\u001B[0m \u001B[0mPipeline\u001B[0m\u001B[1;33m)\u001B[0m\u001B[1;33m\u001B[0m\u001B[1;33m\u001B[0m\u001B[0m\n\u001B[0m\u001B[0;32m    803\u001B[0m \u001B[1;33m\u001B[0m\u001B[0m\n\u001B[0;32m    804\u001B[0m \u001B[1;33m\u001B[0m\u001B[0m\n",
      "\u001B[1;32mC:\\ProgramData\\Anaconda3\\envs\\Calcium-Imaging-Analysis-Pipeline\\Notebooks\\Demo_pipeline.py\u001B[0m in \u001B[0;36mpipeline\u001B[1;34m(Obj, FrameRate, Combo, Name, Config)\u001B[0m\n\u001B[0;32m     30\u001B[0m \u001B[1;33m\u001B[0m\u001B[0m\n\u001B[0;32m     31\u001B[0m     \u001B[1;31m# 1. Motion-Correct\u001B[0m\u001B[1;33m\u001B[0m\u001B[1;33m\u001B[0m\u001B[1;33m\u001B[0m\u001B[0m\n\u001B[1;32m---> 32\u001B[1;33m     \u001B[0m_ops_file\u001B[0m \u001B[1;33m=\u001B[0m \u001B[1;34m\"\"\u001B[0m\u001B[1;33m.\u001B[0m\u001B[0mjoin\u001B[0m\u001B[1;33m(\u001B[0m\u001B[1;33m[\u001B[0m\u001B[0mos\u001B[0m\u001B[1;33m.\u001B[0m\u001B[0mgetpar\u001B[0m\u001B[1;33m(\u001B[0m\u001B[1;33m)\u001B[0m\u001B[1;33m,\u001B[0m \u001B[1;34m\"\\\\\"\u001B[0m\u001B[1;33m,\u001B[0m \u001B[0mConfig\u001B[0m\u001B[1;33m.\u001B[0m\u001B[0mget\u001B[0m\u001B[1;33m(\u001B[0m\u001B[1;34m\"suite2p\"\u001B[0m\u001B[1;33m)\u001B[0m\u001B[1;33m]\u001B[0m\u001B[1;33m)\u001B[0m\u001B[1;33m\u001B[0m\u001B[1;33m\u001B[0m\u001B[0m\n\u001B[0m\u001B[0;32m     33\u001B[0m     \u001B[1;32mwith\u001B[0m \u001B[0mopen\u001B[0m\u001B[1;33m(\u001B[0m\u001B[0m_ops_file\u001B[0m\u001B[1;33m,\u001B[0m \u001B[1;34m\"r\"\u001B[0m\u001B[1;33m)\u001B[0m \u001B[1;32mas\u001B[0m \u001B[0mf\u001B[0m\u001B[1;33m:\u001B[0m\u001B[1;33m\u001B[0m\u001B[1;33m\u001B[0m\u001B[0m\n\u001B[0;32m     34\u001B[0m         \u001B[0m_config_ops\u001B[0m \u001B[1;33m=\u001B[0m \u001B[0mjson_tricks\u001B[0m\u001B[1;33m.\u001B[0m\u001B[0mloads\u001B[0m\u001B[1;33m(\u001B[0m\u001B[0mf\u001B[0m\u001B[1;33m.\u001B[0m\u001B[0mread\u001B[0m\u001B[1;33m(\u001B[0m\u001B[1;33m)\u001B[0m\u001B[1;33m)\u001B[0m\u001B[1;33m\u001B[0m\u001B[1;33m\u001B[0m\u001B[0m\n",
      "\u001B[1;31mAttributeError\u001B[0m: module 'os' has no attribute 'getpar'"
     ]
    }
   ],
   "source": [
    "demo_mouse.BigDayForTheo.analyze_images(6, Pipeline)"
   ]
  },
  {
   "cell_type": "markdown",
   "metadata": {
    "pycharm": {
     "name": "#%% md\n"
    }
   },
   "source": [
    "B. Save our progress"
   ]
  },
  {
   "cell_type": "code",
   "execution_count": null,
   "metadata": {
    "pycharm": {
     "name": "#%%\n"
    }
   },
   "outputs": [],
   "source": [
    "demo_mouse.update_all_folder_dictionaries()\n",
    "demo_mouse.record_experiment_mod(\"BigDayForTheo\", \"Analyzed Images\")\n",
    "demo_mouse.save()"
   ]
  },
  {
   "cell_type": "markdown",
   "metadata": {
    "pycharm": {
     "name": "#%% md\n"
    }
   },
   "source": [
    "C. Preview"
   ]
  },
  {
   "cell_type": "code",
   "execution_count": null,
   "metadata": {
    "pycharm": {
     "name": "#%%\n"
    }
   },
   "outputs": [],
   "source": [
    "suite2p_wrapper = demo_mouse.BigDayForTheo.folder_dictionary.get(\"imaging_6Hz_channel_0_plane_0\").load_suite2p()\n",
    "suite2p_wrapper.openGUI()"
   ]
  }
 ],
 "metadata": {
  "kernelspec": {
   "display_name": "Python 3 (ipykernel)",
   "language": "python",
   "name": "python3"
  },
  "language_info": {
   "codemirror_mode": {
    "name": "ipython",
    "version": 3
   },
   "file_extension": ".py",
   "mimetype": "text/x-python",
   "name": "python",
   "nbconvert_exporter": "python",
   "pygments_lexer": "ipython3",
   "version": "3.7.12"
  }
 },
 "nbformat": 4,
 "nbformat_minor": 1
}