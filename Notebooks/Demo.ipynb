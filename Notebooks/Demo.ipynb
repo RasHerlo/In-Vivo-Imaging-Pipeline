{
 "cells": [
  {
   "cell_type": "markdown",
   "metadata": {
    "collapsed": true,
    "pycharm": {
     "name": "#%% md\n"
    }
   },
   "source": [
    "# Demo"
   ]
  },
  {
   "cell_type": "markdown",
   "source": [
    "Make a mouse"
   ],
   "metadata": {
    "collapsed": false,
    "pycharm": {
     "name": "#%% md\n"
    }
   }
  },
  {
   "cell_type": "markdown",
   "source": [
    "Imports"
   ],
   "metadata": {
    "collapsed": false,
    "pycharm": {
     "name": "#%% md\n"
    }
   }
  },
  {
   "cell_type": "code",
   "execution_count": 1,
   "outputs": [],
   "source": [
    "from Management.Organization import Mouse"
   ],
   "metadata": {
    "collapsed": false,
    "pycharm": {
     "name": "#%%\n"
    }
   }
  },
  {
   "cell_type": "markdown",
   "source": [
    "Here we create a structure for organizing the data & created an auto-logger"
   ],
   "metadata": {
    "collapsed": false,
    "pycharm": {
     "name": "#%% md\n"
    }
   }
  },
  {
   "cell_type": "code",
   "execution_count": 2,
   "outputs": [
    {
     "name": "stdout",
     "output_type": "stream",
     "text": [
      "Log file can only be assigned ONCE.\n",
      "Experimental condition can only be assigned ONCE.\n",
      "Logging file assigned as :D:\\Theodore\\log_file.log\n",
      "Saving mouse...\n",
      "Finished saving mouse.\n",
      "Activating auto-logging. Current session state plus future input saved.\n",
      "Filename       : D:\\Theodore\\log_file.log\n",
      "Mode           : append\n",
      "Output logging : True\n",
      "Raw input log  : True\n",
      "Timestamping   : True\n",
      "State          : active\n",
      "Logging Initiated\n"
     ]
    }
   ],
   "source": [
    "MyMouse = Mouse(Directory=\"D:\\\\Theodore\", Mouse=\"Theodore\")"
   ],
   "metadata": {
    "collapsed": false,
    "pycharm": {
     "name": "#%%\n"
    }
   }
  },
  {
   "cell_type": "markdown",
   "source": [
    "We can assign other identifiers during or after creation too"
   ],
   "metadata": {
    "collapsed": false,
    "pycharm": {
     "name": "#%% md\n"
    }
   }
  },
  {
   "cell_type": "code",
   "execution_count": 3,
   "outputs": [],
   "source": [
    "MyMouse.experimental_condition = \"Gentlemen\"\n",
    "MyMouse.study = \"Mouse Manners\"\n",
    "MyMouse.study_mouse = \"G1\""
   ],
   "metadata": {
    "collapsed": false,
    "pycharm": {
     "name": "#%%\n"
    }
   }
  },
  {
   "cell_type": "markdown",
   "source": [
    "We create folders for organizing the data files"
   ],
   "metadata": {
    "collapsed": false,
    "pycharm": {
     "name": "#%% md\n"
    }
   }
  },
  {
   "cell_type": "code",
   "execution_count": 4,
   "outputs": [
    {
     "name": "stdout",
     "output_type": "stream",
     "text": [
      "Saving mouse...\n",
      "Finished saving mouse.\n"
     ]
    }
   ],
   "source": [
    "MyMouse.create() # This makes a folder for any lab notebook / record files, the directory itself, and the organization.json for the mouse"
   ],
   "metadata": {
    "collapsed": false,
    "pycharm": {
     "name": "#%%\n"
    }
   }
  },
  {
   "cell_type": "markdown",
   "source": [],
   "metadata": {
    "collapsed": false,
    "pycharm": {
     "name": "#%% md\n"
    }
   },
   "outputs": [
    {
     "ename": "SyntaxError",
     "evalue": "invalid syntax (1549750120.py, line 1)",
     "output_type": "error",
     "traceback": [
      "\u001B[1;36m  Filename \u001B[1;32m\"C:\\Users\\YUSTE\\AppData\\Local\\Temp\\ipykernel_18680\\1549750120.py\"\u001B[1;36m, line \u001B[1;32m1\u001B[0m\n\u001B[1;33m    Generic Experiment\u001B[0m\n\u001B[1;37m                     ^\u001B[0m\n\u001B[1;31mSyntaxError\u001B[0m\u001B[1;31m:\u001B[0m invalid syntax\n"
     ]
    }
   ],
   "execution_count": 1
  },
  {
   "cell_type": "code",
   "source": [
    "MyMouse.create_experiment(\"Generic_Experiment_1\", interactive=False) # Experiment is a default \"super-class\" for experimental sessions and is picked here by default. You can make classes that inherit all its functions and add others for specific types of experiments like \"FearConditioning\") #By default this creates a folder with sub-folders for behavioral data, imaging data, computational data, and figures"
   ],
   "metadata": {
    "collapsed": false,
    "pycharm": {
     "name": "#%%\n"
    }
   },
   "execution_count": 5,
   "outputs": []
  },
  {
   "cell_type": "markdown",
   "source": [
    "Imaging Experiment"
   ],
   "metadata": {
    "collapsed": false,
    "pycharm": {
     "name": "#%% md\n"
    }
   }
  },
  {
   "cell_type": "code",
   "execution_count": 6,
   "outputs": [],
   "source": [
    "from Management.Organization import ImagingExperiment"
   ],
   "metadata": {
    "collapsed": false,
    "pycharm": {
     "name": "#%%\n"
    }
   }
  },
  {
   "cell_type": "code",
   "execution_count": 7,
   "outputs": [
    {
     "name": "stderr",
     "output_type": "stream",
     "text": [
      "Copying files...: 100%|██████████| 6616/6616 [00:17<00:00, 368.42it/s]\n"
     ]
    }
   ],
   "source": [
    "MyMouse.create_experiment(\"Imaging_Experiment_2\", Type=ImagingExperiment, interactive=True)"
   ],
   "metadata": {
    "collapsed": false,
    "pycharm": {
     "name": "#%%\n"
    }
   }
  },
  {
   "cell_type": "markdown",
   "source": [
    "Behavioral Experiment"
   ],
   "metadata": {
    "collapsed": false,
    "pycharm": {
     "name": "#%% md\n"
    }
   }
  },
  {
   "cell_type": "code",
   "execution_count": 8,
   "outputs": [],
   "source": [
    "from Management.Organization import BehavioralExperiment"
   ],
   "metadata": {
    "collapsed": false,
    "pycharm": {
     "name": "#%%\n"
    }
   }
  },
  {
   "cell_type": "code",
   "execution_count": 9,
   "outputs": [],
   "source": [
    "MyMouse.create_experiment(\"Behavioral_Experiment_3\", Type=BehavioralExperiment, interactive=False) # When interactive is true, a tool is opened to copy the folders & automatically reorganize the files"
   ],
   "metadata": {
    "collapsed": false,
    "pycharm": {
     "name": "#%%\n"
    }
   }
  },
  {
   "cell_type": "markdown",
   "source": [
    "Imaging/Behavioral Experiment"
   ],
   "metadata": {
    "collapsed": false,
    "pycharm": {
     "name": "#%% md\n"
    }
   }
  },
  {
   "cell_type": "code",
   "execution_count": 10,
   "outputs": [],
   "source": [
    "from Management.Organization import ImagingBehaviorExperiment"
   ],
   "metadata": {
    "collapsed": false,
    "pycharm": {
     "name": "#%%\n"
    }
   }
  },
  {
   "cell_type": "code",
   "execution_count": 11,
   "outputs": [],
   "source": [
    "MyMouse.create_experiment(\"ImagingBehavior_Experiment_4\", Type=ImagingBehaviorExperiment, interactive=False)"
   ],
   "metadata": {
    "collapsed": false,
    "pycharm": {
     "name": "#%%\n"
    }
   }
  },
  {
   "cell_type": "markdown",
   "source": [],
   "metadata": {
    "collapsed": false,
    "pycharm": {
     "name": "#%% md\n"
    }
   }
  },
  {
   "cell_type": "code",
   "execution_count": 12,
   "outputs": [
    {
     "name": "stderr",
     "output_type": "stream",
     "text": [
      "Updating Folder Dictionaries: 100%|██████████| 4/4 [00:01<00:00,  2.28it/s]\n"
     ]
    }
   ],
   "source": [
    "MyMouse.update_all_folder_dictionaries() # this function updates all the indexing of all folders and should probably be called before periodically or after changes. It's sometimes called as part of pertinent functions, but not inserted in all yet."
   ],
   "metadata": {
    "collapsed": false,
    "pycharm": {
     "name": "#%%\n"
    }
   }
  },
  {
   "cell_type": "markdown",
   "source": [
    "Save"
   ],
   "metadata": {
    "collapsed": false,
    "pycharm": {
     "name": "#%% md\n"
    }
   }
  },
  {
   "cell_type": "code",
   "execution_count": 13,
   "outputs": [
    {
     "name": "stdout",
     "output_type": "stream",
     "text": [
      "Saving mouse...\n",
      "Finished saving mouse.\n"
     ]
    }
   ],
   "source": [
    "MyMouse.save()"
   ],
   "metadata": {
    "collapsed": false,
    "pycharm": {
     "name": "#%%\n"
    }
   }
  },
  {
   "cell_type": "markdown",
   "source": [
    "## Importing Imaging Files"
   ],
   "metadata": {
    "collapsed": false,
    "pycharm": {
     "name": "#%% md\n"
    }
   }
  },
  {
   "cell_type": "markdown",
   "source": [
    "Imports"
   ],
   "metadata": {
    "collapsed": false,
    "pycharm": {
     "name": "#%% md\n"
    }
   }
  },
  {
   "cell_type": "code",
   "execution_count": 14,
   "outputs": [],
   "source": [
    "from Imaging.IO import repackage_bruker_tiffs, load_all_tiffs, save_raw_binary"
   ],
   "metadata": {
    "collapsed": false,
    "pycharm": {
     "name": "#%%\n"
    }
   }
  },
  {
   "cell_type": "code",
   "execution_count": 15,
   "outputs": [],
   "source": [
    "MyMouse.Imaging_Experiment_2.add_image_sampling_folder(6) # Make 30 Hz Folder"
   ],
   "metadata": {
    "collapsed": false,
    "pycharm": {
     "name": "#%%\n"
    }
   }
  },
  {
   "cell_type": "markdown",
   "source": [
    "Compile into tiff stacks -->"
   ],
   "metadata": {
    "collapsed": false,
    "pycharm": {
     "name": "#%% md\n"
    }
   }
  },
  {
   "cell_type": "code",
   "execution_count": 16,
   "outputs": [
    {
     "name": "stdout",
     "output_type": "stream",
     "text": [
      "\n",
      "\n",
      "+-----------------------+------+\n",
      "| Total Images Detected | 6609 |\n",
      "|        Channels       |  1   |\n",
      "|         Planes        |  1   |\n",
      "|         Frames        | 6609 |\n",
      "|         Height        | 256  |\n",
      "|         Width         | 256  |\n",
      "+-----------------------+------+\n"
     ]
    },
    {
     "name": "stderr",
     "output_type": "stream",
     "text": [
      "Repackaging Bruker Tiffs...: 100%|██████████| 6609/6609 [00:13<00:00, 507.99it/s]\n"
     ]
    }
   ],
   "source": [
    "repackage_bruker_tiffs(MyMouse.Imaging_Experiment_2.folder_dictionary.get(\"raw_imaging_data\").path,\n",
    "                       MyMouse.Imaging_Experiment_2.folder_dictionary.get(\"imaging_6Hz\").folders.get(\"compiled\")\n",
    "                       )\n",
    "# Input folder is raw imaging data, Output folder is the compiled folder in 6Hz folder"
   ],
   "metadata": {
    "collapsed": false,
    "pycharm": {
     "name": "#%%\n"
    }
   }
  },
  {
   "cell_type": "markdown",
   "source": [
    "Load the tiff stacks -->"
   ],
   "metadata": {
    "collapsed": false,
    "pycharm": {
     "name": "#%% md\n"
    }
   }
  },
  {
   "cell_type": "code",
   "execution_count": 17,
   "outputs": [
    {
     "data": {
      "text/plain": "Loading Images...:   0%|          | 0/1 [00:00<?, ?it/s]",
      "application/vnd.jupyter.widget-view+json": {
       "version_major": 2,
       "version_minor": 0,
       "model_id": "320cde508f214b788d365ec5dad9a5fc"
      },
      "application/json": {
       "n": 0,
       "total": 1,
       "elapsed": 0.01896190643310547,
       "ncols": null,
       "nrows": null,
       "prefix": "Loading Images...",
       "ascii": false,
       "unit": "it",
       "unit_scale": false,
       "rate": null,
       "bar_format": null,
       "postfix": null,
       "unit_divisor": 1000,
       "initial": 0,
       "colour": null
      }
     },
     "metadata": {},
     "output_type": "display_data"
    }
   ],
   "source": [
    "images = load_all_tiffs(MyMouse.Imaging_Experiment_2.folder_dictionary.get(\"imaging_6Hz\").folders.get(\"compiled\"))"
   ],
   "metadata": {
    "collapsed": false,
    "pycharm": {
     "name": "#%%\n"
    }
   }
  },
  {
   "cell_type": "code",
   "execution_count": null,
   "outputs": [],
   "source": [
    "# Do something here like down-sample or smooth if desired or preview the mean image"
   ],
   "metadata": {
    "collapsed": false,
    "pycharm": {
     "name": "#%%\n"
    }
   }
  },
  {
   "cell_type": "markdown",
   "source": [
    "Save to raw binary -->"
   ],
   "metadata": {
    "collapsed": false,
    "pycharm": {
     "name": "#%% md\n"
    }
   }
  },
  {
   "cell_type": "code",
   "execution_count": 18,
   "outputs": [
    {
     "name": "stdout",
     "output_type": "stream",
     "text": [
      "Saving images as a binary file...\n",
      "Finished saving images as a binary file.\n"
     ]
    }
   ],
   "source": [
    "save_raw_binary(images, MyMouse.Imaging_Experiment_2.folder_dictionary.get(\"imaging_6Hz\").folders.get(\"compiled\")) # save it as raw binary as its more advantageous\n",
    "del images # delete from memory"
   ],
   "metadata": {
    "collapsed": false,
    "pycharm": {
     "name": "#%%\n"
    }
   }
  },
  {
   "cell_type": "markdown",
   "source": [
    "Clean-up compiled tiff stacks since we don't need them and they take up space on the disk. We could alternatively have just loaded the bruker tiffs and then saved straight to raw binary, but i find the repackaging takes a while and its worth saving to tiff if I want to preview/down-sample/etc"
   ],
   "metadata": {
    "collapsed": false,
    "pycharm": {
     "name": "#%% md\n"
    }
   }
  },
  {
   "cell_type": "code",
   "execution_count": 19,
   "outputs": [],
   "source": [
    "MyMouse.Imaging_Experiment_2.folder_dictionary.get(\"imaging_6Hz\").clean_up_compilation() # Delete the old now binary files to save storage space / etc"
   ],
   "metadata": {
    "collapsed": false,
    "pycharm": {
     "name": "#%%\n"
    }
   }
  },
  {
   "cell_type": "code",
   "execution_count": 20,
   "outputs": [
    {
     "name": "stderr",
     "output_type": "stream",
     "text": [
      "Updating Folder Dictionaries: 100%|██████████| 4/4 [00:01<00:00,  2.44it/s]\n"
     ]
    }
   ],
   "source": [
    "MyMouse.update_all_folder_dictionaries() # Update folders to be sure"
   ],
   "metadata": {
    "collapsed": false,
    "pycharm": {
     "name": "#%%\n"
    }
   }
  },
  {
   "cell_type": "code",
   "execution_count": 21,
   "outputs": [
    {
     "name": "stdout",
     "output_type": "stream",
     "text": [
      "Saving mouse...\n",
      "Finished saving mouse.\n"
     ]
    }
   ],
   "source": [
    "MyMouse.save()"
   ],
   "metadata": {
    "collapsed": false,
    "pycharm": {
     "name": "#%%\n"
    }
   }
  },
  {
   "cell_type": "markdown",
   "source": [
    "Here are the steps for imaging analysis"
   ],
   "metadata": {
    "collapsed": false,
    "pycharm": {
     "name": "#%% md\n"
    }
   }
  },
  {
   "cell_type": "code",
   "execution_count": 22,
   "outputs": [],
   "source": [
    "from Management.Organization import ImagingAnalysis\n",
    "ImagingAnalysis.current_experiment_step?"
   ],
   "metadata": {
    "collapsed": false,
    "pycharm": {
     "name": "#%%\n"
    }
   }
  },
  {
   "cell_type": "markdown",
   "source": [
    "## Run Suite2P for motion correction and ROI identification"
   ],
   "metadata": {
    "collapsed": false,
    "pycharm": {
     "name": "#%% md\n"
    }
   }
  },
  {
   "cell_type": "markdown",
   "source": [
    "Imports"
   ],
   "metadata": {
    "collapsed": false,
    "pycharm": {
     "name": "#%% md\n"
    }
   }
  },
  {
   "cell_type": "code",
   "execution_count": 25,
   "outputs": [],
   "source": [
    "from Imaging.ToolWrappers.Suite2PModule import Suite2PAnalysis\n",
    "import numpy as np"
   ],
   "metadata": {
    "collapsed": false,
    "pycharm": {
     "name": "#%%\n"
    }
   }
  },
  {
   "cell_type": "code",
   "execution_count": 26,
   "outputs": [
    {
     "name": "stdout",
     "output_type": "stream",
     "text": [
      "Warning Folder Already Exists and Will be Overwritten\n"
     ]
    },
    {
     "ename": "NameError",
     "evalue": "name 'ExperimentData' is not defined",
     "output_type": "error",
     "traceback": [
      "\u001B[1;31m---------------------------------------------------------------------------\u001B[0m",
      "\u001B[1;31mNameError\u001B[0m                                 Traceback (most recent call last)",
      "\u001B[1;32m~\\AppData\\Local\\Temp\\ipykernel_20760\\2195512394.py\u001B[0m in \u001B[0;36m<module>\u001B[1;34m\u001B[0m\n\u001B[1;32m----> 1\u001B[1;33m \u001B[0mS2P\u001B[0m \u001B[1;33m=\u001B[0m \u001B[0mSuite2PAnalysis\u001B[0m\u001B[1;33m(\u001B[0m\u001B[0mMyMouse\u001B[0m\u001B[1;33m.\u001B[0m\u001B[0mImaging_Experiment_2\u001B[0m\u001B[1;33m.\u001B[0m\u001B[0mfolder_dictionary\u001B[0m\u001B[1;33m.\u001B[0m\u001B[0mget\u001B[0m\u001B[1;33m(\u001B[0m\u001B[1;34m\"imaging_6Hz\"\u001B[0m\u001B[1;33m)\u001B[0m\u001B[1;33m.\u001B[0m\u001B[0mfolders\u001B[0m\u001B[1;33m.\u001B[0m\u001B[0mget\u001B[0m\u001B[1;33m(\u001B[0m\u001B[1;34m\"compiled\"\u001B[0m\u001B[1;33m)\u001B[0m\u001B[1;33m,\u001B[0m \u001B[0mMyMouse\u001B[0m\u001B[1;33m.\u001B[0m\u001B[0mImaging_Experiment_2\u001B[0m\u001B[1;33m.\u001B[0m\u001B[0mfolder_dictionary\u001B[0m\u001B[1;33m.\u001B[0m\u001B[0mget\u001B[0m\u001B[1;33m(\u001B[0m\u001B[1;34m\"imaging_6Hz\"\u001B[0m\u001B[1;33m)\u001B[0m\u001B[1;33m.\u001B[0m\u001B[0mpath\u001B[0m\u001B[1;33m,\u001B[0m \u001B[0mfile_type\u001B[0m\u001B[1;33m=\u001B[0m\u001B[1;34m\"binary\"\u001B[0m\u001B[1;33m)\u001B[0m\u001B[1;33m\u001B[0m\u001B[1;33m\u001B[0m\u001B[0m\n\u001B[0m\u001B[0;32m      2\u001B[0m \u001B[1;31m# Input folder is the compiled folder\u001B[0m\u001B[1;33m\u001B[0m\u001B[1;33m\u001B[0m\u001B[1;33m\u001B[0m\u001B[0m\n\u001B[0;32m      3\u001B[0m \u001B[1;31m# Output folder is suite2p folder\u001B[0m\u001B[1;33m\u001B[0m\u001B[1;33m\u001B[0m\u001B[1;33m\u001B[0m\u001B[0m\n\u001B[0;32m      4\u001B[0m \u001B[1;31m# file type is binary\u001B[0m\u001B[1;33m\u001B[0m\u001B[1;33m\u001B[0m\u001B[1;33m\u001B[0m\u001B[0m\n",
      "\u001B[1;32mC:\\ProgramData\\Anaconda3\\envs\\Calcium-Imaging-Analysis-Pipeline\\Imaging\\ToolWrappers\\Suite2PModule.py\u001B[0m in \u001B[0;36m__init__\u001B[1;34m(self, ImageDirectory, OutputDirectory, **kwargs)\u001B[0m\n\u001B[0;32m     70\u001B[0m \u001B[1;33m\u001B[0m\u001B[0m\n\u001B[0;32m     71\u001B[0m         \u001B[1;31m# Protected\u001B[0m\u001B[1;33m\u001B[0m\u001B[1;33m\u001B[0m\u001B[1;33m\u001B[0m\u001B[0m\n\u001B[1;32m---> 72\u001B[1;33m         \u001B[0mself\u001B[0m\u001B[1;33m.\u001B[0m\u001B[0m__instance_date\u001B[0m \u001B[1;33m=\u001B[0m \u001B[0mget_date\u001B[0m\u001B[1;33m(\u001B[0m\u001B[1;33m)\u001B[0m\u001B[1;33m\u001B[0m\u001B[1;33m\u001B[0m\u001B[0m\n\u001B[0m\u001B[0;32m     73\u001B[0m \u001B[1;33m\u001B[0m\u001B[0m\n\u001B[0;32m     74\u001B[0m         \u001B[1;31m# Check Filename Types, only support binary of tiff\u001B[0m\u001B[1;33m\u001B[0m\u001B[1;33m\u001B[0m\u001B[1;33m\u001B[0m\u001B[0m\n",
      "\u001B[1;31mNameError\u001B[0m: name 'ExperimentData' is not defined"
     ]
    }
   ],
   "source": [
    "S2P = Suite2PAnalysis(MyMouse.Imaging_Experiment_2.folder_dictionary.get(\"imaging_6Hz\").folders.get(\"compiled\"), MyMouse.Imaging_Experiment_2.folder_dictionary.get(\"imaging_6Hz\").path, file_type=\"binary\")\n",
    "# Input folder is the compiled folder\n",
    "# Output folder is suite2p folder\n",
    "# file type is binary"
   ],
   "metadata": {
    "collapsed": false,
    "pycharm": {
     "name": "#%%\n"
    }
   }
  },
  {
   "cell_type": "code",
   "execution_count": 29,
   "outputs": [
    {
     "name": "stdout",
     "output_type": "stream",
     "text": [
      "Reference frame, 26.83 sec.\n",
      "Registered 887/887 in 5.96s\n",
      "Saving images as a binary file...\n",
      "Finished saving images as a binary file.\n",
      "Binning movie in chunks of length 15\n",
      "Binned movie of size [59,510,510] created in 0.66 sec.\n",
      "Binned movie denoised (for cell detection only) in 3.71 sec.\n",
      ">>>> CELLPOSE finding masks in max_proj / mean_img\n",
      "!NOTE! diameter set to 14.00 for cell detection with cellpose\n",
      ">>>> 10 masks detected, median diameter = 12.10 \n",
      "Detected 10 ROIs, 6.41 sec\n",
      "After removing overlaps, 10 ROIs remain\n",
      "Masks created, 0.42 sec.\n",
      "Extracted fluorescence from 10 ROIs in 887 frames, 5.52 sec.\n",
      "['compact', 'npix_norm', 'skew']\n"
     ]
    },
    {
     "name": "stderr",
     "output_type": "stream",
     "text": [
      "Updating Folder Dictionaries: 100%|██████████| 1/1 [00:00<00:00,  4.54it/s]"
     ]
    },
    {
     "name": "stdout",
     "output_type": "stream",
     "text": [
      "Saving Experiments...\n",
      "Finished.\n"
     ]
    },
    {
     "name": "stderr",
     "output_type": "stream",
     "text": [
      "\n"
     ]
    }
   ],
   "source": [
    "S2P.motionCorrect() # Run Motion Correction\n",
    "MyMouse.Imaging_Experiment_2.folder_dictionary.get(\"imaging_6Hz\").export_registration_to_denoised()\n",
    "S2P.ops[\"meanImg_chan2\"] = np.array([0]) # Don't question, needed for now\n",
    "S2P.ops.pop(\"meanImg_chan2\") # Don't question, needed for now\n",
    "S2P.db  = S2P.ops # Don't question, needed for now\n",
    "S2P.roiDetection()\n",
    "S2P.extractTraces()\n",
    "S2P.classifyROIs()\n",
    "S2P.spikeExtraction()\n",
    "S2P.iscell, S2P.stat = S2P.remove_small_neurons(S2P.iscell, S2P.stat)\n",
    "S2P.save_files()\n",
    "MyMouse.record_stage_mod('Imaging_Experiment_2', 'We ran suite2p on behavior session 1')\n",
    "MyMouse.update_all_folder_dictionaries()\n",
    "MyMouse.save_experiments()"
   ],
   "metadata": {
    "collapsed": false,
    "pycharm": {
     "name": "#%%\n"
    }
   }
  },
  {
   "cell_type": "code",
   "execution_count": 39,
   "outputs": [
    {
     "ename": "NameError",
     "evalue": "name 'S2P' is not defined",
     "output_type": "error",
     "traceback": [
      "\u001B[1;31m---------------------------------------------------------------------------\u001B[0m",
      "\u001B[1;31mNameError\u001B[0m                                 Traceback (most recent call last)",
      "\u001B[1;32m~\\AppData\\Local\\Temp\\ipykernel_21892\\124929254.py\u001B[0m in \u001B[0;36m<module>\u001B[1;34m\u001B[0m\n\u001B[1;32m----> 1\u001B[1;33m \u001B[0mS2P\u001B[0m\u001B[1;33m.\u001B[0m\u001B[0mopenGUI\u001B[0m\u001B[1;33m(\u001B[0m\u001B[1;33m)\u001B[0m\u001B[1;33m\u001B[0m\u001B[1;33m\u001B[0m\u001B[0m\n\u001B[0m",
      "\u001B[1;31mNameError\u001B[0m: name 'S2P' is not defined"
     ]
    }
   ],
   "source": [
    "S2P.openGUI()"
   ],
   "metadata": {
    "collapsed": false,
    "pycharm": {
     "name": "#%%\n"
    }
   }
  },
  {
   "cell_type": "markdown",
   "source": [
    "## Fissa Source Separation"
   ],
   "metadata": {
    "collapsed": false,
    "pycharm": {
     "name": "#%% md\n"
    }
   }
  },
  {
   "cell_type": "code",
   "execution_count": 36,
   "outputs": [],
   "source": [
    "from Imaging.ToolWrappers.FissaModule import FissaAnalysis"
   ],
   "metadata": {
    "collapsed": false,
    "pycharm": {
     "name": "#%%\n"
    }
   }
  },
  {
   "cell_type": "code",
   "execution_count": 38,
   "outputs": [
    {
     "name": "stdout",
     "output_type": "stream",
     "text": [
      "\n",
      "Loading and Splitting Images\n",
      "\n"
     ]
    },
    {
     "ename": "TypeError",
     "evalue": "unsupported operand type(s) for /: 'int' and 'NoneType'",
     "output_type": "error",
     "traceback": [
      "\u001B[1;31m---------------------------------------------------------------------------\u001B[0m",
      "\u001B[1;31mTypeError\u001B[0m                                 Traceback (most recent call last)",
      "\u001B[1;32m~\\AppData\\Local\\Temp\\ipykernel_21892\\2133912336.py\u001B[0m in \u001B[0;36m<module>\u001B[1;34m\u001B[0m\n\u001B[0;32m      1\u001B[0m \u001B[0mMyMouse\u001B[0m\u001B[1;33m.\u001B[0m\u001B[0mBehaviorSession1\u001B[0m\u001B[1;33m.\u001B[0m\u001B[0mfolder_dictionary\u001B[0m\u001B[1;33m.\u001B[0m\u001B[0mget\u001B[0m\u001B[1;33m(\u001B[0m\u001B[1;34m\"imaging_30Hz\"\u001B[0m\u001B[1;33m)\u001B[0m\u001B[1;33m.\u001B[0m\u001B[0mclean_up_motion_correction\u001B[0m\u001B[1;33m(\u001B[0m\u001B[1;33m)\u001B[0m\u001B[1;33m\u001B[0m\u001B[1;33m\u001B[0m\u001B[0m\n\u001B[1;32m----> 2\u001B[1;33m \u001B[0mFissa\u001B[0m \u001B[1;33m=\u001B[0m \u001B[0mFissaAnalysis\u001B[0m\u001B[1;33m(\u001B[0m\u001B[0mdata_folder\u001B[0m\u001B[1;33m=\u001B[0m\u001B[0mMyMouse\u001B[0m\u001B[1;33m.\u001B[0m\u001B[0mBehaviorSession1\u001B[0m\u001B[1;33m.\u001B[0m\u001B[0mfolder_dictionary\u001B[0m\u001B[1;33m.\u001B[0m\u001B[0mget\u001B[0m\u001B[1;33m(\u001B[0m\u001B[1;34m\"imaging_30Hz\"\u001B[0m\u001B[1;33m)\u001B[0m\u001B[1;33m.\u001B[0m\u001B[0mpath\u001B[0m\u001B[1;33m,\u001B[0m \u001B[0mvideo_folder\u001B[0m\u001B[1;33m=\u001B[0m\u001B[0mMyMouse\u001B[0m\u001B[1;33m.\u001B[0m\u001B[0mBehaviorSession1\u001B[0m\u001B[1;33m.\u001B[0m\u001B[0mfolder_dictionary\u001B[0m\u001B[1;33m.\u001B[0m\u001B[0mget\u001B[0m\u001B[1;33m(\u001B[0m\u001B[1;34m\"imaging_30Hz\"\u001B[0m\u001B[1;33m)\u001B[0m\u001B[1;33m.\u001B[0m\u001B[0mfolders\u001B[0m\u001B[1;33m.\u001B[0m\u001B[0mget\u001B[0m\u001B[1;33m(\u001B[0m\u001B[1;34m\"denoised\"\u001B[0m\u001B[1;33m)\u001B[0m\u001B[1;33m,\u001B[0m \u001B[0moutput_folder\u001B[0m\u001B[1;33m=\u001B[0m\u001B[0mMyMouse\u001B[0m\u001B[1;33m.\u001B[0m\u001B[0mBehaviorSession1\u001B[0m\u001B[1;33m.\u001B[0m\u001B[0mfolder_dictionary\u001B[0m\u001B[1;33m.\u001B[0m\u001B[0mget\u001B[0m\u001B[1;33m(\u001B[0m\u001B[1;34m\"imaging_30Hz\"\u001B[0m\u001B[1;33m)\u001B[0m\u001B[1;33m.\u001B[0m\u001B[0mfolders\u001B[0m\u001B[1;33m.\u001B[0m\u001B[0mget\u001B[0m\u001B[1;33m(\u001B[0m\u001B[1;34m\"fissa\"\u001B[0m\u001B[1;33m)\u001B[0m\u001B[1;33m)\u001B[0m\u001B[1;33m\u001B[0m\u001B[1;33m\u001B[0m\u001B[0m\n\u001B[0m\u001B[0;32m      3\u001B[0m \u001B[0mFissa\u001B[0m\u001B[1;33m.\u001B[0m\u001B[0minitializeFissa\u001B[0m\u001B[1;33m(\u001B[0m\u001B[1;33m)\u001B[0m\u001B[1;33m\u001B[0m\u001B[1;33m\u001B[0m\u001B[0m\n\u001B[0;32m      4\u001B[0m \u001B[0mFissa\u001B[0m\u001B[1;33m.\u001B[0m\u001B[0mextractTraces\u001B[0m\u001B[1;33m(\u001B[0m\u001B[1;33m)\u001B[0m \u001B[1;31m# simple, call to extract raw traces from videos\u001B[0m\u001B[1;33m\u001B[0m\u001B[1;33m\u001B[0m\u001B[0m\n\u001B[0;32m      5\u001B[0m \u001B[0mFissa\u001B[0m\u001B[1;33m.\u001B[0m\u001B[0msaveFissaPrep\u001B[0m\u001B[1;33m(\u001B[0m\u001B[1;33m)\u001B[0m\u001B[1;33m\u001B[0m\u001B[1;33m\u001B[0m\u001B[0m\n",
      "\u001B[1;32mC:\\ProgramData\\Anaconda3\\envs\\Calcium-Imaging-Analysis-Pipeline\\Imaging\\ToolWrappers\\FissaModule.py\u001B[0m in \u001B[0;36m__init__\u001B[1;34m(self, **kwargs)\u001B[0m\n\u001B[0;32m     89\u001B[0m                 \u001B[0mself\u001B[0m\u001B[1;33m.\u001B[0m\u001B[0mloadDataFolder\u001B[0m\u001B[1;33m(\u001B[0m\u001B[0m_data_folder\u001B[0m\u001B[1;33m)\u001B[0m\u001B[1;33m\u001B[0m\u001B[1;33m\u001B[0m\u001B[0m\n\u001B[0;32m     90\u001B[0m             \u001B[1;32melse\u001B[0m\u001B[1;33m:\u001B[0m\u001B[1;33m\u001B[0m\u001B[1;33m\u001B[0m\u001B[0m\n\u001B[1;32m---> 91\u001B[1;33m                 \u001B[0mself\u001B[0m\u001B[1;33m.\u001B[0m\u001B[0mloadDataFolder\u001B[0m\u001B[1;33m(\u001B[0m\u001B[0m_data_folder\u001B[0m\u001B[1;33m,\u001B[0m \u001B[0m_video_folder\u001B[0m\u001B[1;33m)\u001B[0m\u001B[1;33m\u001B[0m\u001B[1;33m\u001B[0m\u001B[0m\n\u001B[0m\u001B[0;32m     92\u001B[0m             \u001B[1;31m# Load Neuronal Index if specified or derive\u001B[0m\u001B[1;33m\u001B[0m\u001B[1;33m\u001B[0m\u001B[1;33m\u001B[0m\u001B[0m\n\u001B[0;32m     93\u001B[0m             \u001B[1;32mif\u001B[0m \u001B[0m_index_file\u001B[0m \u001B[1;32mis\u001B[0m \u001B[1;32mnot\u001B[0m \u001B[1;32mNone\u001B[0m\u001B[1;33m:\u001B[0m\u001B[1;33m\u001B[0m\u001B[1;33m\u001B[0m\u001B[0m\n",
      "\u001B[1;32mC:\\ProgramData\\Anaconda3\\envs\\Calcium-Imaging-Analysis-Pipeline\\Imaging\\ToolWrappers\\FissaModule.py\u001B[0m in \u001B[0;36mloadDataFolder\u001B[1;34m(self, _data_folder, *args)\u001B[0m\n\u001B[0;32m    138\u001B[0m         \u001B[1;32melse\u001B[0m\u001B[1;33m:\u001B[0m\u001B[1;33m\u001B[0m\u001B[1;33m\u001B[0m\u001B[0m\n\u001B[0;32m    139\u001B[0m             \u001B[0mprint\u001B[0m\u001B[1;33m(\u001B[0m\u001B[1;34m\"\\nLoading and Splitting Images\\n\"\u001B[0m\u001B[1;33m)\u001B[0m\u001B[1;33m\u001B[0m\u001B[1;33m\u001B[0m\u001B[0m\n\u001B[1;32m--> 140\u001B[1;33m             \u001B[0mself\u001B[0m\u001B[1;33m.\u001B[0m\u001B[0mimages\u001B[0m \u001B[1;33m=\u001B[0m \u001B[0mself\u001B[0m\u001B[1;33m.\u001B[0m\u001B[0msplit_binary_images\u001B[0m\u001B[1;33m(\u001B[0m\u001B[0mload_raw_binary\u001B[0m\u001B[1;33m(\u001B[0m\u001B[1;34m\"\"\u001B[0m\u001B[1;33m,\u001B[0m \u001B[1;34m\"\"\u001B[0m\u001B[1;33m,\u001B[0m \u001B[0m_video_folder\u001B[0m\u001B[1;33m)\u001B[0m\u001B[1;33m)\u001B[0m\u001B[1;33m\u001B[0m\u001B[1;33m\u001B[0m\u001B[0m\n\u001B[0m\u001B[0;32m    141\u001B[0m \u001B[1;33m\u001B[0m\u001B[0m\n\u001B[0;32m    142\u001B[0m         \u001B[1;32mtry\u001B[0m\u001B[1;33m:\u001B[0m\u001B[1;33m\u001B[0m\u001B[1;33m\u001B[0m\u001B[0m\n",
      "\u001B[1;32mC:\\ProgramData\\Anaconda3\\envs\\Calcium-Imaging-Analysis-Pipeline\\Imaging\\ToolWrappers\\FissaModule.py\u001B[0m in \u001B[0;36msplit_binary_images\u001B[1;34m(Images)\u001B[0m\n\u001B[0;32m    529\u001B[0m         \u001B[0m_num_frames\u001B[0m \u001B[1;33m=\u001B[0m \u001B[0mImages\u001B[0m\u001B[1;33m.\u001B[0m\u001B[0mshape\u001B[0m\u001B[1;33m[\u001B[0m\u001B[1;36m0\u001B[0m\u001B[1;33m]\u001B[0m\u001B[1;33m\u001B[0m\u001B[1;33m\u001B[0m\u001B[0m\n\u001B[0;32m    530\u001B[0m         \u001B[0m_chunk_size\u001B[0m \u001B[1;33m=\u001B[0m \u001B[0mdetermine_split_size\u001B[0m\u001B[1;33m(\u001B[0m\u001B[0m_num_frames\u001B[0m\u001B[1;33m,\u001B[0m \u001B[1;36m8000\u001B[0m\u001B[1;33m)\u001B[0m\u001B[1;33m\u001B[0m\u001B[1;33m\u001B[0m\u001B[0m\n\u001B[1;32m--> 531\u001B[1;33m         \u001B[0m_idx\u001B[0m \u001B[1;33m=\u001B[0m \u001B[0mnp\u001B[0m\u001B[1;33m.\u001B[0m\u001B[0marange\u001B[0m\u001B[1;33m(\u001B[0m\u001B[1;36m0\u001B[0m\u001B[1;33m,\u001B[0m \u001B[0m_num_frames\u001B[0m\u001B[1;33m+\u001B[0m\u001B[1;36m1\u001B[0m\u001B[1;33m,\u001B[0m \u001B[0m_num_frames\u001B[0m\u001B[1;33m/\u001B[0m\u001B[0m_chunk_size\u001B[0m\u001B[1;33m)\u001B[0m\u001B[1;33m\u001B[0m\u001B[1;33m\u001B[0m\u001B[0m\n\u001B[0m\u001B[0;32m    532\u001B[0m         \u001B[0mimg_list\u001B[0m \u001B[1;33m=\u001B[0m \u001B[1;33m[\u001B[0m\u001B[1;33m]\u001B[0m\u001B[1;33m\u001B[0m\u001B[1;33m\u001B[0m\u001B[0m\n\u001B[0;32m    533\u001B[0m         \u001B[1;32mfor\u001B[0m \u001B[0mi\u001B[0m \u001B[1;32min\u001B[0m \u001B[0mrange\u001B[0m\u001B[1;33m(\u001B[0m\u001B[0m_idx\u001B[0m\u001B[1;33m.\u001B[0m\u001B[0mshape\u001B[0m\u001B[1;33m[\u001B[0m\u001B[1;36m0\u001B[0m\u001B[1;33m]\u001B[0m \u001B[1;33m-\u001B[0m \u001B[1;36m1\u001B[0m\u001B[1;33m)\u001B[0m\u001B[1;33m:\u001B[0m\u001B[1;33m\u001B[0m\u001B[1;33m\u001B[0m\u001B[0m\n",
      "\u001B[1;31mTypeError\u001B[0m: unsupported operand type(s) for /: 'int' and 'NoneType'"
     ]
    }
   ],
   "source": [
    "MyMouse.Imaging_Experiment_2.folder_dictionary.get(\"imaging_6Hz\").clean_up_motion_correction()\n",
    "Fissa = FissaAnalysis(data_folder=MyMouse.Imaging_Experiment_2.folder_dictionary.get(\"imaging_6Hz\").path, video_folder=MyMouse.Imaging_Experiment_2.folder_dictionary.get(\"imaging_6Hz\").folders.get(\"denoised\"), output_folder=MyMouse.Imaging_Experiment_2.folder_dictionary.get(\"imaging_6Hz\").folders.get(\"fissa\"))\n",
    "Fissa.initializeFissa()\n",
    "Fissa.extractTraces() # simple, call to extract raw traces from videos\n",
    "Fissa.saveFissaPrep()\n",
    "Fissa.passPrepToFissa()\n",
    "Fissa.separateTraces() # simple, call to separate the traces\n",
    "Fissa.saveFissaSep()"
   ],
   "metadata": {
    "collapsed": false,
    "pycharm": {
     "name": "#%%\n"
    }
   }
  },
  {
   "cell_type": "code",
   "execution_count": null,
   "outputs": [],
   "source": [
    "from Imaging.SignalProcessing import smoothTraces_TiffOrg, detrendTraces, calculate_dFoF\n",
    "from Imaging.Utilities import mergeTraces"
   ],
   "metadata": {
    "collapsed": false,
    "pycharm": {
     "name": "#%%\n"
    }
   }
  },
  {
   "cell_type": "code",
   "execution_count": null,
   "outputs": [],
   "source": [
    "Fissa.ProcessedTraces.smoothed_result = smoothTraces_TiffOrg(Fissa.experiment.result, niter=25, kappa=0.15, gamma=0.25)[0]\n",
    "\n",
    "# Calculate Fo/F\n",
    "Fissa.ProcessedTraces.dFoF_result = calculate_dFoF(Fissa.ProcessedTraces.smoothed_result, Fissa.frame_rate, raw=Fissa.preparation.raw, merge_after=False)\n",
    "\n",
    "# Condense the ROI Traces for each Trial into a Single Matrix\n",
    "Fissa.ProcessedTraces.merged_dFoF_result = mergeTraces(Fissa.ProcessedTraces.dFoF_result)\n",
    "\n",
    "for _trace in range(Fissa.ProcessedTraces.merged_dFoF_result.shape[0]):\n",
    "    Fissa.ProcessedTraces.merged_dFoF_result[_trace, :] = Fissa.ProcessedTraces.merged_dFoF_result[_trace, :] - np.mean(Fissa.ProcessedTraces.merged_dFoF_result[_trace, :])\n",
    "\n",
    "# Detrend the Traces by fitting a 4th-order polynomial and subsequently subtracting\n",
    "Fissa.ProcessedTraces.detrended_merged_dFoF_result = detrendTraces(Fissa.ProcessedTraces.merged_dFoF_result, order=4, plot=False)\n",
    "\n",
    "Fissa.saveProcessedTraces()\n",
    "MyMouse.record_stage_mod(\"Imaging_Experiment_2\", \"Fissa\")\n",
    "MyMouse.save_experiments()"
   ],
   "metadata": {
    "collapsed": false,
    "pycharm": {
     "name": "#%%\n"
    }
   }
  },
  {
   "cell_type": "markdown",
   "source": [
    "## Cascade Spike Inference"
   ],
   "metadata": {
    "collapsed": false,
    "pycharm": {
     "name": "#%% md\n"
    }
   }
  },
  {
   "cell_type": "code",
   "execution_count": null,
   "outputs": [],
   "source": [
    "from Imaging.ToolWrappers.CascadeModule import CascadeAnalysis"
   ],
   "metadata": {
    "collapsed": false,
    "pycharm": {
     "name": "#%%\n"
    }
   }
  },
  {
   "cell_type": "code",
   "execution_count": null,
   "outputs": [],
   "source": [
    "Cascade = CascadeAnalysis(Fissa.ProcessedTraces.detrended_merged_dFoF_result, 30, model_folder=\"C:\\\\ProgramData\\\\Anaconda3\\\\envs\\\\Calcium-Imaging-Analysis-Pipeline\\\\Pretrained_models\", SavePath=MyMouse.Imaging_Experiment_2.folder_dictionary.get(\"imaging_6Hz\").folders.get(\"cascade\"))"
   ],
   "metadata": {
    "collapsed": false,
    "pycharm": {
     "name": "#%%\n"
    }
   }
  },
  {
   "cell_type": "code",
   "execution_count": null,
   "outputs": [],
   "source": [
    "# Pull Available Models\n",
    "list_of_models = Cascade.pullModels(Cascade.model_folder)\n",
    "# Select Model: If you know what model you want, you should use the string instead.\n",
    "# This model is Global_EXC_10Hz_smoothing_100ms\n",
    "# Cascade.model_name = list_of_models[21]\n",
    "Cascade.model_name = \"Global_EXC_30Hz_smoothing100ms\"\n",
    "Cascade.downloadModel(Cascade.model_name, \"C:\\\\ProgramData\\\\Anaconda3\\\\envs\\\\Calcium-Imaging-Analysis-Pipeline\\\\Pretrained_models\")\n",
    "Cascade.predictSpikeProb() # Simple, call to infer spike probability for each frame\n",
    "# Calculate Firing Rates # Simple, firing rate = spike probability * imaging frequency\n",
    "Cascade.ProcessedInferences.firing_rates = calculateFiringRate(Cascade.spike_prob, Cascade.frame_rate)\n",
    "Cascade.saveSpikeProb()\n",
    "Cascade.saveProcessedInferences()\n",
    "Cascade.inferDiscreteSpikes()\n",
    "Cascade.saveSpikeInference()\n",
    "MyMouse.record_experiment_mod(\"Imaging_Experiment_2\", \"Cascade\")\n",
    "MyMouse.save()"
   ],
   "metadata": {
    "collapsed": false,
    "pycharm": {
     "name": "#%%\n"
    }
   }
  }
 ],
 "metadata": {
  "kernelspec": {
   "display_name": "Python 3",
   "language": "python",
   "name": "python3"
  },
  "language_info": {
   "codemirror_mode": {
    "name": "ipython",
    "version": 2
   },
   "file_extension": ".py",
   "mimetype": "text/x-python",
   "name": "python",
   "nbconvert_exporter": "python",
   "pygments_lexer": "ipython2",
   "version": "2.7.6"
  }
 },
 "nbformat": 4,
 "nbformat_minor": 0
}