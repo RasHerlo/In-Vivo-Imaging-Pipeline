{
 "cells": [
  {
   "cell_type": "markdown",
   "metadata": {
    "collapsed": true,
    "pycharm": {
     "name": "#%% md\n"
    }
   },
   "source": [
    "# Pipeline for Recovering Neural Activity from Calcium Imaging Data"
   ]
  },
  {
   "cell_type": "markdown",
   "metadata": {
    "pycharm": {
     "name": "#%% md\n"
    }
   },
   "source": [
    "### Relevant Neuroscience Citations / Dependencies\n",
    "**Motion Correction ->** Suite2P Package from Stringer Lab <br>\n",
    "**Denoising ->** DeepCAD Package from Dai Lab <br>\n",
    "\n",
    "**ROI Identification ->** Cellpose Package from Stringer Lab <br>\n",
    "**Signal Extraction ->** FISSA Package from Rochefort Lab <br>\n",
    "**Source-Separation ->** FISSA Package from Rochefort Lab <br>\n",
    "**Spike Inference ->** Cascade Package from Helmchen Lab <br>"
   ]
  },
  {
   "cell_type": "markdown",
   "metadata": {
    "pycharm": {
     "name": "#%% md\n"
    }
   },
   "source": [
    "## Imports"
   ]
  },
  {
   "cell_type": "code",
   "execution_count": null,
   "metadata": {
    "pycharm": {
     "name": "#%%\n"
    }
   },
   "outputs": [],
   "source": [
    "from ExperimentManagement.ExperimentHierarchy import ExperimentData\n",
    "import numpy as np"
   ]
  },
  {
   "cell_type": "markdown",
   "metadata": {
    "pycharm": {
     "name": "#%% md\n"
    }
   },
   "source": [
    "## Generation of Hierarchy"
   ]
  },
  {
   "cell_type": "code",
   "execution_count": null,
   "outputs": [],
   "source": [
    "# EH = ExperimentData(Mouse=\"EM0122\", Directory=\"D:\\\\EM0122\")"
   ],
   "metadata": {
    "collapsed": false,
    "pycharm": {
     "name": "#%%\n"
    }
   }
  },
  {
   "cell_type": "markdown",
   "metadata": {
    "pycharm": {
     "name": "#%% md\n"
    }
   },
   "source": [
    "## Load Hierarchy"
   ]
  },
  {
   "cell_type": "code",
   "execution_count": null,
   "metadata": {
    "pycharm": {
     "name": "#%%\n"
    }
   },
   "outputs": [],
   "source": [
    "EH = ExperimentData.loadHierarchy(\"D:\\\\EM0137\")"
   ]
  },
  {
   "cell_type": "markdown",
   "metadata": {
    "pycharm": {
     "name": "#%% md\n"
    }
   },
   "source": [
    "## Generation of Behavioral Stage"
   ]
  },
  {
   "cell_type": "code",
   "execution_count": 1,
   "metadata": {
    "pycharm": {
     "name": "#%%\n"
    }
   },
   "outputs": [],
   "source": [
    "from BehavioralAnalysis.BurrowFearConditioning import FearConditioning # Create your own usable class by inheriting \"BehavioralStage\" methods alongside your own attributes and functions"
   ]
  },
  {
   "cell_type": "code",
   "execution_count": null,
   "metadata": {
    "pycharm": {
     "name": "#%%\n"
    }
   },
   "outputs": [],
   "source": [
    "EH.Retrieval = FearConditioning(EH.passMeta(), \"Retrieval\")"
   ]
  },
  {
   "cell_type": "markdown",
   "metadata": {
    "pycharm": {
     "name": "#%% md\n"
    }
   },
   "source": [
    "## Image PreProcessing"
   ]
  },
  {
   "cell_type": "markdown",
   "metadata": {
    "pycharm": {
     "name": "#%% md\n"
    }
   },
   "source": [
    "Imports"
   ]
  },
  {
   "cell_type": "code",
   "execution_count": null,
   "metadata": {
    "pycharm": {
     "name": "#%%\n"
    }
   },
   "outputs": [],
   "source": [
    "from ImagingAnalysis.PreprocessingImages import PreProcessing"
   ]
  },
  {
   "cell_type": "markdown",
   "metadata": {
    "pycharm": {
     "name": "#%% md\n"
    }
   },
   "source": [
    "Define Directories"
   ]
  },
  {
   "cell_type": "code",
   "execution_count": null,
   "metadata": {
    "pycharm": {
     "name": "#%%\n"
    }
   },
   "outputs": [],
   "source": [
    "RawVideoDirectory = EH.Retrieval.folder_dictionary.get(\"raw_imaging_data\")\n",
    "OutputDirectory = EH.Retrieval.folder_dictionary.get(\"compiled_imaging_data_folder\").path"
   ]
  },
  {
   "cell_type": "markdown",
   "metadata": {
    "pycharm": {
     "name": "#%% md\n"
    }
   },
   "source": [
    "Import MetaData"
   ]
  },
  {
   "cell_type": "code",
   "execution_count": null,
   "metadata": {
    "pycharm": {
     "name": "#%%\n"
    }
   },
   "outputs": [],
   "source": [
    "EH.Retrieval.loadBrukerMetaData()"
   ]
  },
  {
   "cell_type": "markdown",
   "metadata": {
    "pycharm": {
     "name": "#%% md\n"
    }
   },
   "source": [
    "Repackage bruker files into a single tiff"
   ]
  },
  {
   "cell_type": "code",
   "execution_count": null,
   "metadata": {
    "pycharm": {
     "name": "#%%\n"
    }
   },
   "outputs": [],
   "source": [
    "PreProcessing.repackageBrukerTiffs(RawVideoDirectory, OutputDirectory)\n",
    "EH.Retrieval.update_folder_dictionary()"
   ]
  },
  {
   "cell_type": "markdown",
   "metadata": {
    "pycharm": {
     "name": "#%% md\n"
    }
   },
   "source": [
    "Load Images"
   ]
  },
  {
   "cell_type": "code",
   "execution_count": null,
   "metadata": {
    "pycharm": {
     "name": "#%%\n"
    }
   },
   "outputs": [],
   "source": [
    "images = PreProcessing.loadAllTiffs(OutputDirectory)"
   ]
  },
  {
   "cell_type": "markdown",
   "metadata": {
    "pycharm": {
     "name": "#%% md\n"
    }
   },
   "source": [
    "Filter Images"
   ]
  },
  {
   "cell_type": "code",
   "execution_count": null,
   "metadata": {
    "pycharm": {
     "name": "#%%\n"
    }
   },
   "outputs": [],
   "source": [
    "images = PreProcessing.blockwiseFastFilterTiff(images, Footprint=np.ones((7, 3, 3)))"
   ]
  },
  {
   "cell_type": "markdown",
   "metadata": {
    "pycharm": {
     "name": "#%% md\n"
    }
   },
   "source": [
    "Remove Shutter Artifact"
   ]
  },
  {
   "cell_type": "code",
   "execution_count": null,
   "metadata": {
    "pycharm": {
     "name": "#%%\n"
    }
   },
   "outputs": [],
   "source": [
    "images = PreProcessing.removeShuttleArtifact(images, chunk_size=7000, artifact_length=1000)"
   ]
  },
  {
   "cell_type": "markdown",
   "metadata": {
    "pycharm": {
     "name": "#%% md\n"
    }
   },
   "source": [
    "Save Images as Binary"
   ]
  },
  {
   "cell_type": "code",
   "execution_count": null,
   "metadata": {
    "pycharm": {
     "name": "#%%\n"
    }
   },
   "outputs": [],
   "source": [
    "PreProcessing.saveRawBinary(images, OutputDirectory)\n",
    "EH.Retrieval.update_folder_dictionary()\n",
    "EH.recordMod(\"Repackaged, filtered, and exported images as raw binary. Made video even length this time\")"
   ]
  },
  {
   "cell_type": "markdown",
   "metadata": {
    "pycharm": {
     "name": "#%% md\n"
    }
   },
   "source": [
    "## Image Processing"
   ]
  },
  {
   "cell_type": "markdown",
   "metadata": {
    "pycharm": {
     "name": "#%% md\n"
    }
   },
   "source": [
    "Construct Folder for Data"
   ]
  },
  {
   "cell_type": "code",
   "execution_count": null,
   "metadata": {
    "pycharm": {
     "name": "#%%\n"
    }
   },
   "outputs": [],
   "source": [
    "EH.Retrieval.addImageSamplingFolder(30)"
   ]
  },
  {
   "cell_type": "markdown",
   "metadata": {
    "pycharm": {
     "name": "#%% md\n"
    }
   },
   "source": [
    "Motion Correction"
   ]
  },
  {
   "cell_type": "code",
   "execution_count": null,
   "metadata": {
    "pycharm": {
     "name": "#%%\n"
    }
   },
   "outputs": [],
   "source": [
    "from ImagingAnalysis.Suite2PAnalysis import Suite2PModule"
   ]
  },
  {
   "cell_type": "code",
   "execution_count": null,
   "metadata": {
    "pycharm": {
     "name": "#%%\n"
    }
   },
   "outputs": [],
   "source": [
    "MotionCorrection = Suite2PModule(EH.Retrieval.folder_dictionary.get(\"compiled_imaging_data_folder\").path, EH.Retrieval.folder_dictionary.get(\"imaging_30Hz\").path, file_type=\"binary\")\n",
    "MotionCorrection.motionCorrect()\n",
    "MotionCorrection.exportCroppedCorrection(MotionCorrection.ops)\n",
    "del MotionCorrection # Clean Up"
   ]
  },
  {
   "cell_type": "markdown",
   "metadata": {
    "pycharm": {
     "name": "#%% md\n"
    }
   },
   "source": [
    "Denoise"
   ]
  },
  {
   "cell_type": "code",
   "execution_count": null,
   "metadata": {
    "pycharm": {
     "name": "#%%\n"
    }
   },
   "outputs": [],
   "source": [
    "from ImagingAnalysis.Denoising import DenoisingModule"
   ]
  },
  {
   "cell_type": "code",
   "execution_count": null,
   "metadata": {
    "pycharm": {
     "name": "#%%\n"
    }
   },
   "outputs": [],
   "source": [
    "Denoiser = DenoisingModule(\"ModelForPyTorch\", \"binary_video\",\n",
    "                    model_path=\"C:\\\\ProgramData\\\\Anaconda3\\\\envs\\\\Calcium-Imaging-Analysis-Pipeline\\\\pth\",\n",
    "                    data_path=EH.Retrieval.folder_dictionary.get(\"imaging_30Hz\").folders.get(\"plane0\"),\n",
    "                    output_path=EH.Retrieval.folder_dictionary.get(\"imaging_30Hz\").folders.get(\"denoised\"),\n",
    "                    image_type=\"binary\",\n",
    "                    length=\"14000\",\n",
    "                    workers=4,\n",
    "                    vram=24,\n",
    "                    batch_size2=4)\n",
    "Denoiser.runDenoising()\n",
    "Denoiser = None"
   ]
  },
  {
   "cell_type": "markdown",
   "metadata": {
    "pycharm": {
     "name": "#%% md\n"
    }
   },
   "source": [
    "ROI Detection & Classification"
   ]
  },
  {
   "cell_type": "code",
   "execution_count": null,
   "metadata": {
    "pycharm": {
     "name": "#%%\n"
    }
   },
   "outputs": [],
   "source": [
    "from ImagingAnalysis.Suite2PAnalysis import Suite2PModule"
   ]
  },
  {
   "cell_type": "code",
   "execution_count": null,
   "metadata": {
    "pycharm": {
     "name": "#%%\n"
    }
   },
   "outputs": [],
   "source": [
    "S2P = Suite2PModule(EH.Retrieval.folder_dictionary.get(\"imaging_30Hz\").folders.get(\"denoised\"), EH.Retrieval.folder_dictionary.get(\"imaging_30Hz\").path, file_type=\"binary\")\n",
    "S2P.roiDetection()\n",
    "S2P.extractTraces()\n",
    "S2P.classifyROIs()\n",
    "S2P.spikeExtraction() # Finalize (Required spks.npy to use GUI)\n",
    "S2P.integrateMotionCorrectionDenoising()"
   ]
  },
  {
   "cell_type": "markdown",
   "metadata": {
    "pycharm": {
     "name": "#%% md\n"
    }
   },
   "source": []
  },
  {
   "cell_type": "code",
   "execution_count": null,
   "metadata": {
    "pycharm": {
     "name": "#%%\n"
    }
   },
   "outputs": [],
   "source": [
    "S2P.iscell, S2P.stat = S2P.remove_small_neurons(S2P.iscell, S2P.stat)\n",
    "S2P.save_files()\n",
    "EH.Retrieval.recordMod()\n",
    "EH.recordMod(\"S2P Retrieval\")\n",
    "EH.saveHierarchy()\n",
    "del S2P"
   ]
  },
  {
   "cell_type": "markdown",
   "metadata": {
    "pycharm": {
     "name": "#%% md\n"
    }
   },
   "source": [
    "Fissa: Signal Extraction"
   ]
  },
  {
   "cell_type": "code",
   "execution_count": null,
   "metadata": {
    "pycharm": {
     "name": "#%%\n"
    }
   },
   "outputs": [],
   "source": [
    "from ImagingAnalysis.FissaAnalysis import FissaAnalysis"
   ]
  },
  {
   "cell_type": "code",
   "execution_count": null,
   "metadata": {
    "pycharm": {
     "name": "#%%\n"
    }
   },
   "outputs": [],
   "source": [
    "Fissa = FissaAnalysis(data_folder=EH.Retrieval.folder_dictionary.get(\"imaging_30Hz\").path, video_folder=EH.Retrieval.folder_dictionary.get(\"imaging_30Hz\").folders.get(\"denoised\"))\n",
    "Fissa.initializeFissa()"
   ]
  },
  {
   "cell_type": "code",
   "execution_count": null,
   "metadata": {
    "pycharm": {
     "name": "#%%\n"
    }
   },
   "outputs": [],
   "source": [
    "Fissa.extractTraces() # simple, call to extract raw traces from videos\n",
    "Fissa.saveFissaPrep()"
   ]
  },
  {
   "cell_type": "markdown",
   "metadata": {
    "pycharm": {
     "name": "#%% md\n"
    }
   },
   "source": [
    "Trace Processing"
   ]
  },
  {
   "cell_type": "code",
   "execution_count": null,
   "metadata": {
    "pycharm": {
     "name": "#%%\n"
    }
   },
   "outputs": [],
   "source": [
    "from ImagingAnalysis.StaticProcessing import Processing"
   ]
  },
  {
   "cell_type": "code",
   "execution_count": null,
   "metadata": {
    "pycharm": {
     "name": "#%%\n"
    }
   },
   "outputs": [],
   "source": [
    "# let's smooth the data with edge-preserving to make it nicer\n",
    "Fissa.ProcessedTraces.smoothed_raw = Processing.smoothTraces_TiffOrg(Fissa.preparation.raw, niter=50, kappa=150, gamma=0.15)[0]\n",
    "Fissa.preparation.raw = Fissa.ProcessedTraces.smoothed_raw.copy()\n",
    "#Let's use for separation, so replace the raws with smooths\n",
    "Fissa.passPrepToFissa()"
   ]
  },
  {
   "cell_type": "markdown",
   "metadata": {
    "pycharm": {
     "name": "#%% md\n"
    }
   },
   "source": [
    "Fissa: Source-Separation"
   ]
  },
  {
   "cell_type": "code",
   "execution_count": null,
   "metadata": {
    "pycharm": {
     "name": "#%%\n"
    }
   },
   "outputs": [],
   "source": [
    "Fissa.separateTraces() # simple, call to separate the traces\n",
    "Fissa.saveFissaSep()"
   ]
  },
  {
   "cell_type": "markdown",
   "metadata": {
    "pycharm": {
     "name": "#%% md\n"
    }
   },
   "source": [
    "Trace Post-Processing"
   ]
  },
  {
   "cell_type": "code",
   "execution_count": null,
   "metadata": {
    "pycharm": {
     "name": "#%%\n"
    }
   },
   "outputs": [],
   "source": [
    "# Calculate Fo/F\n",
    "Fissa.ProcessedTraces.dFoF_result = Processing.calculate_dFoF(Fissa.experiment.result, Fissa.frame_rate, raw=Fissa.preparation.raw, merge_after=False)\n",
    "\n",
    "# Condense the ROI Traces for each Trial into a Single Matrix\n",
    "Fissa.ProcessedTraces.merged_dFoF_result = Processing.mergeTraces(Fissa.ProcessedTraces.dFoF_result)\n",
    "\n",
    "# Detrend the Traces by fitting a 4th-order polynomial and subsequently subtracting\n",
    "Fissa.ProcessedTraces.detrended_merged_dFoF_result = Processing.detrendTraces(Fissa.ProcessedTraces.merged_dFoF_result, order=4, plot=False)\n",
    "\n",
    "# Save\n",
    "Fissa.saveProcessedTraces()\n",
    "EH.recordMod(\"Retrieval Source-Separation\")\n",
    "EH.saveHierarchy()"
   ]
  },
  {
   "cell_type": "markdown",
   "metadata": {
    "pycharm": {
     "name": "#%% md\n"
    }
   },
   "source": [
    "Cascade: Event/Spike/Firing Rate Inference"
   ]
  },
  {
   "cell_type": "code",
   "execution_count": null,
   "metadata": {
    "pycharm": {
     "name": "#%%\n"
    }
   },
   "outputs": [],
   "source": [
    "from ImagingAnalysis.CascadeAnalysis import CascadeModule"
   ]
  },
  {
   "cell_type": "code",
   "execution_count": null,
   "metadata": {
    "pycharm": {
     "name": "#%%\n"
    }
   },
   "outputs": [],
   "source": [
    "Cascade = CascadeModule(Fissa.ProcessedTraces.detrended_merged_dFoF_result, Fissa.frame_rate, EH.Retrieval.folder_dictionary.get(\"imaging_30Hz\").folders.get(\"cascade\"), model_folder=\"C:\\\\ProgramData\\\\Anaconda3\\\\envs\\\\Calcium-Imaging-Analysis-Pipeline\\\\Pretrained_models\")"
   ]
  },
  {
   "cell_type": "code",
   "execution_count": null,
   "metadata": {
    "pycharm": {
     "name": "#%%\n"
    }
   },
   "outputs": [],
   "source": [
    "# Pull Available Models\n",
    "list_of_models = Cascade.pullModels(Cascade.model_folder)\n",
    "# Select Model: If you know what model you want, you should use the string instead.\n",
    "# This model is Global_EXC_10Hz_smoothing_100ms\n",
    "# Cascade.model_name = list_of_models[21]\n",
    "Cascade.model_name = \"Global_EXC_30Hz_smoothing100ms\"\n",
    "Cascade.downloadModel(Cascade.model_name, \"C:\\\\ProgramData\\\\Anaconda3\\\\envs\\\\Calcium-Imaging-Analysis-Pipeline\\\\Pretrained_models\")"
   ]
  },
  {
   "cell_type": "code",
   "execution_count": null,
   "metadata": {
    "pycharm": {
     "name": "#%%\n"
    }
   },
   "outputs": [],
   "source": [
    "# Infer Spike Probability\n",
    "Cascade.predictSpikeProb() # Simple, call to infer spike probability for each frame\n",
    "# Calculate Firing Rates # Simple, firing rate = spike probability * imaging frequency\n",
    "Cascade.ProcessedInferences.firing_rates = Processing.calculateFiringRate(Cascade.spike_prob, Cascade.frame_rate)"
   ]
  },
  {
   "cell_type": "code",
   "execution_count": null,
   "metadata": {
    "pycharm": {
     "name": "#%%\n"
    }
   },
   "outputs": [],
   "source": [
    "Cascade.saveSpikeProb(Cascade.save_path)\n",
    "Cascade.saveProcessedInferences(Cascade.save_path)"
   ]
  },
  {
   "cell_type": "code",
   "execution_count": null,
   "metadata": {
    "pycharm": {
     "name": "#%%\n"
    }
   },
   "outputs": [],
   "source": [
    "Cascade.inferDiscreteSpikes()"
   ]
  },
  {
   "cell_type": "code",
   "execution_count": null,
   "metadata": {
    "pycharm": {
     "name": "#%%\n"
    }
   },
   "outputs": [],
   "source": [
    "Cascade.saveSpikeInference(Cascade.save_path)"
   ]
  },
  {
   "cell_type": "code",
   "execution_count": null,
   "metadata": {
    "pycharm": {
     "name": "#%%\n"
    }
   },
   "outputs": [],
   "source": [
    "EH.recordMod(\"Retrieval Cascade\")\n",
    "EH.saveHierarchy()"
   ]
  },
  {
   "cell_type": "code",
   "execution_count": null,
   "metadata": {
    "pycharm": {
     "name": "#%%\n"
    }
   },
   "outputs": [],
   "source": [
    "EH.Retrieval.recordMod()\n",
    "EH.Retrieval.update_folder_dictionary()\n",
    "EH.saveHierarchy()\n",
    "del Fissa\n",
    "del Cascade"
   ]
  }
 ],
 "metadata": {
  "kernelspec": {
   "display_name": "Python 3 (ipykernel)",
   "language": "python",
   "name": "python3"
  },
  "language_info": {
   "codemirror_mode": {
    "name": "ipython",
    "version": 3
   },
   "file_extension": ".py",
   "mimetype": "text/x-python",
   "name": "python",
   "nbconvert_exporter": "python",
   "pygments_lexer": "ipython3",
   "version": "3.7.12"
  }
 },
 "nbformat": 4,
 "nbformat_minor": 1
}