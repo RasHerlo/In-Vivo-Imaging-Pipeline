{
 "cells": [
  {
   "cell_type": "markdown",
   "metadata": {
    "collapsed": true,
    "pycharm": {
     "name": "#%% md\n"
    }
   },
   "source": [
    "# **Demo - Wrapped Implementation**\n",
    "This demo is for the wrapped implementation (single function-analysis)"
   ]
  },
  {
   "cell_type": "markdown",
   "metadata": {
    "pycharm": {
     "name": "#%% md\n"
    }
   },
   "source": [
    "### **Step 1.** Mouse Instantiation\n",
    "Our first step is to construct a *mouse* object that will organize all our data and records for a single mouse. It will also auto-log all console input and record major modifications to save us from ourselves."
   ]
  },
  {
   "cell_type": "markdown",
   "metadata": {
    "pycharm": {
     "name": "#%% md\n"
    }
   },
   "source": [
    "A. First we import the mouse instance factory"
   ]
  },
  {
   "cell_type": "code",
   "execution_count": 1,
   "metadata": {
    "pycharm": {
     "name": "#%%\n"
    }
   },
   "outputs": [],
   "source": [
    "from Management.Organization import Mouse"
   ]
  },
  {
   "cell_type": "markdown",
   "metadata": {
    "pycharm": {
     "name": "#%% md\n"
    }
   },
   "source": [
    "B. We generate a mouse instance."
   ]
  },
  {
   "cell_type": "code",
   "execution_count": 2,
   "metadata": {
    "pycharm": {
     "name": "#%%\n"
    }
   },
   "outputs": [
    {
     "name": "stdout",
     "output_type": "stream",
     "text": [
      "Logging file assigned as :D:\\Theodore\\log_file.log\n",
      "Saving mouse...\n",
      "Finished saving mouse.\n",
      "Activating auto-logging. Current session state plus future input saved.\n",
      "Filename       : D:\\Theodore\\log_file.log\n",
      "Mode           : append\n",
      "Output logging : True\n",
      "Raw input log  : True\n",
      "Timestamping   : True\n",
      "State          : active\n",
      "Logging Initiated\n"
     ]
    }
   ],
   "source": [
    "# We can pass parameters to the mouse as keyword arguments...\n",
    "MyMouse = Mouse(Directory=\"D:\\\\Theodore\", Mouse=\"Theodore\")\n",
    "# Or we can set attributes after instantiation\n",
    "MyMouse.experimental_condition = \"Gentlemen\"\n",
    "MyMouse.study = \"Mouse Manners\"\n",
    "MyMouse.study_mouse = \"G1\""
   ]
  },
  {
   "cell_type": "markdown",
   "metadata": {
    "pycharm": {
     "name": "#%% md\n"
    }
   },
   "source": [
    "C. We create a directory to organize our lab data, records, and notes. We also save our log and an *organization.json* file for our mouse."
   ]
  },
  {
   "cell_type": "code",
   "execution_count": 3,
   "metadata": {
    "pycharm": {
     "name": "#%%\n"
    }
   },
   "outputs": [
    {
     "name": "stdout",
     "output_type": "stream",
     "text": [
      "Saving mouse...\n",
      "Finished saving mouse.\n"
     ]
    }
   ],
   "source": [
    "MyMouse.create()"
   ]
  },
  {
   "cell_type": "markdown",
   "metadata": {
    "pycharm": {
     "name": "#%% md\n"
    }
   },
   "source": [
    "### Step 2. Experiment Instantiation\n",
    "The second step is to create an experiment object to store the results of our mouse Theodore's latest experiment. This experiment happened to be a simple *imaging* experiment to assess expression."
   ]
  },
  {
   "cell_type": "markdown",
   "metadata": {
    "pycharm": {
     "name": "#%% md\n"
    }
   },
   "source": [
    "A. Import the imaging experiment instance factory"
   ]
  },
  {
   "cell_type": "code",
   "execution_count": 4,
   "metadata": {
    "pycharm": {
     "name": "#%%\n"
    }
   },
   "outputs": [],
   "source": [
    "from Management.Organization import ImagingExperiment"
   ]
  },
  {
   "cell_type": "markdown",
   "metadata": {
    "pycharm": {
     "name": "#%% md\n"
    }
   },
   "source": [
    "B. Now we add an experiment to our mouse. By using the interactive flag, we can select the folder containing our raw data from our flashdrive or desktop and it will be automatically organized and imported."
   ]
  },
  {
   "cell_type": "code",
   "execution_count": 5,
   "metadata": {
    "pycharm": {
     "name": "#%%\n"
    }
   },
   "outputs": [
    {
     "name": "stdout",
     "output_type": "stream",
     "text": [
      "\n",
      "\n",
      "+-----------------------+-------+\n",
      "| Total Images Detected | 26436 |\n",
      "|        Channels       |   1   |\n",
      "|         Planes        |   4   |\n",
      "|         Frames        |  6609 |\n",
      "|         Height        |  256  |\n",
      "|         Width         |  256  |\n",
      "+-----------------------+-------+\n"
     ]
    },
    {
     "name": "stderr",
     "output_type": "stream",
     "text": [
      "Copying files...: 100%|██████████| 26443/26443 [01:32<00:00, 285.36it/s]\n",
      "Updating Folder Dictionaries: 100%|██████████| 1/1 [00:09<00:00,  9.21s/it]\n"
     ]
    }
   ],
   "source": [
    "MyMouse.create_experiment(\"BigDayForTheo\", Type=ImagingExperiment, interactive=True)"
   ]
  },
  {
   "cell_type": "markdown",
   "metadata": {
    "pycharm": {
     "name": "#%% md\n"
    }
   },
   "source": [
    "C. Now, we save our progress"
   ]
  },
  {
   "cell_type": "code",
   "execution_count": 6,
   "metadata": {
    "pycharm": {
     "name": "#%%\n"
    }
   },
   "outputs": [
    {
     "name": "stdout",
     "output_type": "stream",
     "text": [
      "Saving mouse...\n",
      "Finished saving mouse.\n"
     ]
    }
   ],
   "source": [
    "MyMouse.save()"
   ]
  },
  {
   "cell_type": "markdown",
   "metadata": {
    "pycharm": {
     "name": "#%% md\n"
    }
   },
   "source": [
    "### Step 3. Imaging Analysis\n",
    "Now we analyze our images with a single function"
   ]
  },
  {
   "cell_type": "markdown",
   "metadata": {
    "pycharm": {
     "name": "#%% md\n"
    }
   },
   "source": [
    "A. Call the function"
   ]
  },
  {
   "cell_type": "code",
   "execution_count": 2,
   "metadata": {
    "pycharm": {
     "name": "#%%\n"
    }
   },
   "outputs": [],
   "source": [
    "effective_frame_rate = 6 # Hz\n",
    "import json_tricks\n",
    "with open('C:\\\\ProgramData\\\\Anaconda3\\\\envs\\\\Calcium-Imaging-Analysis-Pipeline\\\\config_darik_1_12_23.json', \"r\") as _file:\n",
    "    C = json_tricks.loads(_file.read())"
   ]
  },
  {
   "cell_type": "code",
   "execution_count": 1,
   "outputs": [
    {
     "ename": "NameError",
     "evalue": "name 'MyMouse' is not defined",
     "output_type": "error",
     "traceback": [
      "\u001B[1;31m---------------------------------------------------------------------------\u001B[0m",
      "\u001B[1;31mNameError\u001B[0m                                 Traceback (most recent call last)",
      "\u001B[1;32m~\\AppData\\Local\\Temp\\ipykernel_18960\\2135181231.py\u001B[0m in \u001B[0;36m<module>\u001B[1;34m\u001B[0m\n\u001B[1;32m----> 1\u001B[1;33m \u001B[0mMyMouse\u001B[0m\u001B[1;33m.\u001B[0m\u001B[0msave\u001B[0m\u001B[1;33m(\u001B[0m\u001B[1;33m)\u001B[0m\u001B[1;33m\u001B[0m\u001B[1;33m\u001B[0m\u001B[0m\n\u001B[0m",
      "\u001B[1;31mNameError\u001B[0m: name 'MyMouse' is not defined"
     ]
    }
   ],
   "source": [
    "MyMouse.save()"
   ],
   "metadata": {
    "collapsed": false,
    "pycharm": {
     "name": "#%%\n"
    }
   }
  },
  {
   "cell_type": "code",
   "execution_count": 1,
   "outputs": [
    {
     "name": "stderr",
     "output_type": "stream",
     "text": [
      "C:\\ProgramData\\Anaconda3\\envs\\Calcium-Imaging-Analysis-Pipeline\\lib\\site-packages\\_distutils_hack\\__init__.py:33: UserWarning: Setuptools is replacing distutils.\n",
      "  warnings.warn(\"Setuptools is replacing distutils.\")\n"
     ]
    },
    {
     "name": "stdout",
     "output_type": "stream",
     "text": [
      "\tYAML reader installed (version 0.17.21).\n",
      "\tKeras installed (version 2.3.1).\n",
      "\tTensorflow installed (version 2.3.0).\n",
      "Loading Experiments...\n"
     ]
    },
    {
     "name": "stderr",
     "output_type": "stream",
     "text": [
      "Using TensorFlow backend.\n"
     ]
    },
    {
     "name": "stdout",
     "output_type": "stream",
     "text": [
      "Finished.\n",
      "Activating auto-logging. Current session state plus future input saved.\n",
      "Filename       : D:\\Theodore\\log_file.log\n",
      "Mode           : append\n",
      "Output logging : True\n",
      "Raw input log  : True\n",
      "Timestamping   : True\n",
      "State          : active\n",
      "Logging Initiated\n"
     ]
    }
   ],
   "source": [
    "from Management.Organization import Mouse\n",
    "MyMouse = Mouse.load(\"D:\\\\Theodore\")"
   ],
   "metadata": {
    "collapsed": false,
    "pycharm": {
     "name": "#%%\n"
    }
   }
  },
  {
   "cell_type": "code",
   "execution_count": 2,
   "metadata": {
    "pycharm": {
     "name": "#%%\n"
    }
   },
   "outputs": [
    {
     "name": "stdout",
     "output_type": "stream",
     "text": [
      "\n",
      "\n",
      "+-----------------------+-------+\n",
      "| Total Images Detected | 26436 |\n",
      "|        Channels       |   1   |\n",
      "|         Planes        |   4   |\n",
      "|         Frames        |  6609 |\n",
      "|         Height        |  256  |\n",
      "|         Width         |  256  |\n",
      "+-----------------------+-------+\n"
     ]
    },
    {
     "name": "stderr",
     "output_type": "stream",
     "text": [
      "Repackaging Bruker Tiffs...: 100%|██████████| 6609/6609 [00:14<00:00, 465.56it/s]\n"
     ]
    },
    {
     "data": {
      "text/plain": "Loading Images...:   0%|          | 0/1 [00:00<?, ?it/s]",
      "application/vnd.jupyter.widget-view+json": {
       "version_major": 2,
       "version_minor": 0,
       "model_id": "9bb5f94363f8457d8e0e3ada8e71f833"
      },
      "application/json": {
       "n": 0,
       "total": 1,
       "elapsed": 0.017998933792114258,
       "ncols": null,
       "nrows": null,
       "prefix": "Loading Images...",
       "ascii": false,
       "unit": "it",
       "unit_scale": false,
       "rate": null,
       "bar_format": null,
       "postfix": null,
       "unit_divisor": 1000,
       "initial": 0,
       "colour": null
      }
     },
     "metadata": {},
     "output_type": "display_data"
    },
    {
     "name": "stdout",
     "output_type": "stream",
     "text": [
      "Saving images as a binary file...\n",
      "Finished saving images as a binary file.\n",
      "Reference frame, 8.07 sec.\n",
      "Registered 6609/6609 in 14.23s\n",
      "Saving images as a binary file...\n",
      "Finished saving images as a binary file.\n",
      "Saving images as a binary file...\n",
      "Finished saving images as a binary file.\n",
      "Binning movie in chunks of length 15\n",
      "Binned movie of size [440,208,210] created in 1.03 sec.\n",
      "Binned movie denoised (for cell detection only) in 2.89 sec.\n",
      ">>>> CELLPOSE finding masks in max_proj / mean_img\n",
      "!NOTE! diameter set to 14.00 for cell detection with cellpose\n",
      ">>>> 3 masks detected, median diameter = 7.98 \n",
      "Detected 3 ROIs, 2.08 sec\n",
      "After removing overlaps, 3 ROIs remain\n",
      "Masks created, 0.04 sec.\n",
      "Extracted fluorescence from 3 ROIs in 6609 frames, 6.39 sec.\n",
      "['npix_norm', 'compact', 'skew']\n",
      "\n",
      "Loading and Splitting Images\n",
      "\n",
      "Initialized Fissa\n"
     ]
    },
    {
     "data": {
      "text/plain": "Extracting traces:   0%|          | 0/3 [00:00<?, ?it/s]",
      "application/vnd.jupyter.widget-view+json": {
       "version_major": 2,
       "version_minor": 0,
       "model_id": "cbfebf7100d047078af87f21e44cd399"
      },
      "application/json": {
       "n": 0,
       "total": 3,
       "elapsed": 0.013999223709106445,
       "ncols": null,
       "nrows": null,
       "prefix": "Extracting traces",
       "ascii": false,
       "unit": "it",
       "unit_scale": false,
       "rate": null,
       "bar_format": null,
       "postfix": null,
       "unit_divisor": 1000,
       "initial": 0,
       "colour": null
      }
     },
     "metadata": {},
     "output_type": "display_data"
    },
    {
     "name": "stdout",
     "output_type": "stream",
     "text": [
      "Finished extracting raw signals from 2 ROIs across 3 trials in 0.249 seconds.\n",
      "Passing traces between modules.\n",
      "Finished module-passing.\n",
      "Ready for post-processing or source-separation.\n",
      "Saving extracted traces to D:\\Theodore\\BigDayForTheo\\Imaging\\6Hz_channel_0_plane_0\\fissa\\prepared.npz\n",
      "Finished Saving Prep\n",
      "Passing prepared traces to fissa.\n",
      "Initiating fissa source-separation\n"
     ]
    },
    {
     "data": {
      "text/plain": "Separating data:   0%|          | 0/2 [00:00<?, ?it/s]",
      "application/vnd.jupyter.widget-view+json": {
       "version_major": 2,
       "version_minor": 0,
       "model_id": "a98c4ba7dbc14bd7b7a13fffedfd761d"
      },
      "application/json": {
       "n": 0,
       "total": 2,
       "elapsed": 0.01399993896484375,
       "ncols": null,
       "nrows": null,
       "prefix": "Separating data",
       "ascii": false,
       "unit": "it",
       "unit_scale": false,
       "rate": null,
       "bar_format": null,
       "postfix": null,
       "unit_divisor": 1000,
       "initial": 0,
       "colour": null
      }
     },
     "metadata": {},
     "output_type": "display_data"
    },
    {
     "name": "stdout",
     "output_type": "stream",
     "text": [
      "Finished separating signals from 2 ROIs across 3 trials in 0.695 seconds\n",
      "Passing traces between modules.\n",
      "Finished module-passing.\n",
      "Ready for further analysis.\n",
      "Saving results to D:\\Theodore\\BigDayForTheo\\Imaging\\6Hz_channel_0_plane_0\\fissa\\separated.npz\n",
      "Saving Processed Traces...\n",
      "Finished Saving Processed Traces.\n",
      "\n",
      " \n",
      "The selected model was trained on 18 datasets, with 5 ensembles for each noise level, at a sampling rate of 10Hz, with a resampled ground truth that was smoothed with a Gaussian kernel of a standard deviation of 100 milliseconds. \n",
      " \n",
      "\n",
      "Loaded model was trained at frame rate 10 Hz\n",
      "Given argument traces contains 2 neurons and 3 frames.\n"
     ]
    },
    {
     "ename": "TypeError",
     "evalue": "ufunc 'isnan' not supported for the input types, and the inputs could not be safely coerced to any supported types according to the casting rule ''safe''",
     "output_type": "error",
     "traceback": [
      "\u001B[1;31m---------------------------------------------------------------------------\u001B[0m",
      "\u001B[1;31mTypeError\u001B[0m                                 Traceback (most recent call last)",
      "\u001B[1;32m~\\AppData\\Local\\Temp\\ipykernel_24504\\3138000110.py\u001B[0m in \u001B[0;36m<module>\u001B[1;34m\u001B[0m\n\u001B[1;32m----> 1\u001B[1;33m \u001B[0mMyMouse\u001B[0m\u001B[1;33m.\u001B[0m\u001B[0mBigDayForTheo\u001B[0m\u001B[1;33m.\u001B[0m\u001B[0manalyze_images\u001B[0m\u001B[1;33m(\u001B[0m\u001B[1;36m6\u001B[0m\u001B[1;33m)\u001B[0m\u001B[1;33m\u001B[0m\u001B[1;33m\u001B[0m\u001B[0m\n\u001B[0m",
      "\u001B[1;32mC:\\ProgramData\\Anaconda3\\envs\\Calcium-Imaging-Analysis-Pipeline\\Management\\Organization.py\u001B[0m in \u001B[0;36manalyze_images\u001B[1;34m(self, FrameRate, Pipeline, **kwargs)\u001B[0m\n\u001B[0;32m    799\u001B[0m \u001B[1;33m\u001B[0m\u001B[0m\n\u001B[0;32m    800\u001B[0m             \u001B[1;31m# Run Pipeline\u001B[0m\u001B[1;33m\u001B[0m\u001B[1;33m\u001B[0m\u001B[1;33m\u001B[0m\u001B[0m\n\u001B[1;32m--> 801\u001B[1;33m             \u001B[0mpipeline\u001B[0m\u001B[1;33m(\u001B[0m\u001B[0mself\u001B[0m\u001B[1;33m,\u001B[0m \u001B[0mFrameRate\u001B[0m\u001B[1;33m,\u001B[0m \u001B[0m_combo\u001B[0m\u001B[1;33m,\u001B[0m \u001B[0m_name\u001B[0m\u001B[1;33m,\u001B[0m \u001B[0mPipeline\u001B[0m\u001B[1;33m)\u001B[0m\u001B[1;33m\u001B[0m\u001B[1;33m\u001B[0m\u001B[0m\n\u001B[0m\u001B[0;32m    802\u001B[0m \u001B[1;33m\u001B[0m\u001B[0m\n\u001B[0;32m    803\u001B[0m \u001B[1;33m\u001B[0m\u001B[0m\n",
      "\u001B[1;32mC:\\ProgramData\\Anaconda3\\envs\\Calcium-Imaging-Analysis-Pipeline\\Notebooks\\Demo_pipeline.py\u001B[0m in \u001B[0;36mpipeline\u001B[1;34m(Obj, FrameRate, Combo, Name, Config)\u001B[0m\n\u001B[0;32m     67\u001B[0m                                SavePath=Obj.folder_dictionary.get(Name).folders.get(\"cascade\"))\n\u001B[0;32m     68\u001B[0m     \u001B[0m_cascade\u001B[0m\u001B[1;33m.\u001B[0m\u001B[0mmodel_name\u001B[0m \u001B[1;33m=\u001B[0m \u001B[1;34m\"Global_EXC_10Hz_smoothing100ms\"\u001B[0m\u001B[1;33m\u001B[0m\u001B[1;33m\u001B[0m\u001B[0m\n\u001B[1;32m---> 69\u001B[1;33m     \u001B[0m_cascade\u001B[0m\u001B[1;33m.\u001B[0m\u001B[0mpredictSpikeProb\u001B[0m\u001B[1;33m(\u001B[0m\u001B[1;33m)\u001B[0m\u001B[1;33m\u001B[0m\u001B[1;33m\u001B[0m\u001B[0m\n\u001B[0m\u001B[0;32m     70\u001B[0m     \u001B[0m_cascade\u001B[0m\u001B[1;33m.\u001B[0m\u001B[0mProcessedInferences\u001B[0m\u001B[1;33m.\u001B[0m\u001B[0mfiring_rates\u001B[0m \u001B[1;33m=\u001B[0m \u001B[0mProcessing\u001B[0m\u001B[1;33m.\u001B[0m\u001B[0mcalculateFiringRate\u001B[0m\u001B[1;33m(\u001B[0m\u001B[0m_cascade\u001B[0m\u001B[1;33m.\u001B[0m\u001B[0mspike_prob\u001B[0m\u001B[1;33m,\u001B[0m \u001B[0m_cascade\u001B[0m\u001B[1;33m.\u001B[0m\u001B[0mframe_rate\u001B[0m\u001B[1;33m)\u001B[0m\u001B[1;33m\u001B[0m\u001B[1;33m\u001B[0m\u001B[0m\n\u001B[0;32m     71\u001B[0m     \u001B[0m_cascade\u001B[0m\u001B[1;33m.\u001B[0m\u001B[0msaveSpikeProb\u001B[0m\u001B[1;33m(\u001B[0m\u001B[0m_cascade\u001B[0m\u001B[1;33m.\u001B[0m\u001B[0msave_path\u001B[0m\u001B[1;33m)\u001B[0m\u001B[1;33m\u001B[0m\u001B[1;33m\u001B[0m\u001B[0m\n",
      "\u001B[1;32mC:\\ProgramData\\Anaconda3\\envs\\Calcium-Imaging-Analysis-Pipeline\\Imaging\\ToolWrappers\\CascadeModule.py\u001B[0m in \u001B[0;36mpredictSpikeProb\u001B[1;34m(self)\u001B[0m\n\u001B[0;32m    113\u001B[0m         \"\"\"\n\u001B[0;32m    114\u001B[0m         \u001B[0mself\u001B[0m\u001B[1;33m.\u001B[0m\u001B[0mProcessedInferences\u001B[0m\u001B[1;33m.\u001B[0m\u001B[0mutilized_model_name\u001B[0m \u001B[1;33m=\u001B[0m \u001B[0mself\u001B[0m\u001B[1;33m.\u001B[0m\u001B[0mmodel_name\u001B[0m\u001B[1;33m\u001B[0m\u001B[1;33m\u001B[0m\u001B[0m\n\u001B[1;32m--> 115\u001B[1;33m         \u001B[0mself\u001B[0m\u001B[1;33m.\u001B[0m\u001B[0mspike_prob\u001B[0m \u001B[1;33m=\u001B[0m \u001B[0mcascade\u001B[0m\u001B[1;33m.\u001B[0m\u001B[0mpredict\u001B[0m\u001B[1;33m(\u001B[0m\u001B[0mself\u001B[0m\u001B[1;33m.\u001B[0m\u001B[0mmodel_name\u001B[0m\u001B[1;33m,\u001B[0m \u001B[0mself\u001B[0m\u001B[1;33m.\u001B[0m\u001B[0mtraces\u001B[0m\u001B[1;33m,\u001B[0m \u001B[0mmodel_folder\u001B[0m\u001B[1;33m=\u001B[0m\u001B[0mself\u001B[0m\u001B[1;33m.\u001B[0m\u001B[0mmodel_folder\u001B[0m\u001B[1;33m)\u001B[0m\u001B[1;33m\u001B[0m\u001B[1;33m\u001B[0m\u001B[0m\n\u001B[0m\u001B[0;32m    116\u001B[0m \u001B[1;33m\u001B[0m\u001B[0m\n\u001B[0;32m    117\u001B[0m     \u001B[1;32mdef\u001B[0m \u001B[0minferDiscreteSpikes\u001B[0m\u001B[1;33m(\u001B[0m\u001B[0mself\u001B[0m\u001B[1;33m)\u001B[0m\u001B[1;33m:\u001B[0m\u001B[1;33m\u001B[0m\u001B[1;33m\u001B[0m\u001B[0m\n",
      "\u001B[1;32mC:\\ProgramData\\Anaconda3\\envs\\Calcium-Imaging-Analysis-Pipeline\\cascade2p\\cascade.py\u001B[0m in \u001B[0;36mpredict\u001B[1;34m(model_name, traces, model_folder, threshold, padding)\u001B[0m\n\u001B[0;32m    343\u001B[0m \u001B[1;33m\u001B[0m\u001B[0m\n\u001B[0;32m    344\u001B[0m     \u001B[1;31m# calculate noise levels for each trace\u001B[0m\u001B[1;33m\u001B[0m\u001B[1;33m\u001B[0m\u001B[1;33m\u001B[0m\u001B[0m\n\u001B[1;32m--> 345\u001B[1;33m     \u001B[0mtrace_noise_levels\u001B[0m \u001B[1;33m=\u001B[0m \u001B[0mutils\u001B[0m\u001B[1;33m.\u001B[0m\u001B[0mcalculate_noise_levels\u001B[0m\u001B[1;33m(\u001B[0m\u001B[0mtraces\u001B[0m\u001B[1;33m,\u001B[0m \u001B[0msampling_rate\u001B[0m\u001B[1;33m)\u001B[0m\u001B[1;33m\u001B[0m\u001B[1;33m\u001B[0m\u001B[0m\n\u001B[0m\u001B[0;32m    346\u001B[0m \u001B[1;33m\u001B[0m\u001B[0m\n\u001B[0;32m    347\u001B[0m     print(\n",
      "\u001B[1;32mC:\\ProgramData\\Anaconda3\\envs\\Calcium-Imaging-Analysis-Pipeline\\cascade2p\\utils.py\u001B[0m in \u001B[0;36mcalculate_noise_levels\u001B[1;34m(neurons_x_time, frame_rate)\u001B[0m\n\u001B[0;32m    111\u001B[0m     \"\"\"\n\u001B[0;32m    112\u001B[0m     \u001B[0mdF_traces\u001B[0m \u001B[1;33m=\u001B[0m \u001B[0mneurons_x_time\u001B[0m\u001B[1;33m\u001B[0m\u001B[1;33m\u001B[0m\u001B[0m\n\u001B[1;32m--> 113\u001B[1;33m     \u001B[0mnoise_levels\u001B[0m \u001B[1;33m=\u001B[0m \u001B[0mnp\u001B[0m\u001B[1;33m.\u001B[0m\u001B[0mnanmedian\u001B[0m\u001B[1;33m(\u001B[0m\u001B[0mnp\u001B[0m\u001B[1;33m.\u001B[0m\u001B[0mabs\u001B[0m\u001B[1;33m(\u001B[0m\u001B[0mnp\u001B[0m\u001B[1;33m.\u001B[0m\u001B[0mdiff\u001B[0m\u001B[1;33m(\u001B[0m\u001B[0mdF_traces\u001B[0m\u001B[1;33m,\u001B[0m \u001B[0maxis\u001B[0m\u001B[1;33m=\u001B[0m\u001B[1;33m-\u001B[0m\u001B[1;36m1\u001B[0m\u001B[1;33m)\u001B[0m\u001B[1;33m)\u001B[0m\u001B[1;33m,\u001B[0m \u001B[0maxis\u001B[0m\u001B[1;33m=\u001B[0m\u001B[1;33m-\u001B[0m\u001B[1;36m1\u001B[0m\u001B[1;33m)\u001B[0m \u001B[1;33m/\u001B[0m \u001B[0mnp\u001B[0m\u001B[1;33m.\u001B[0m\u001B[0msqrt\u001B[0m\u001B[1;33m(\u001B[0m\u001B[0mframe_rate\u001B[0m\u001B[1;33m)\u001B[0m\u001B[1;33m\u001B[0m\u001B[1;33m\u001B[0m\u001B[0m\n\u001B[0m\u001B[0;32m    114\u001B[0m     \u001B[1;32mreturn\u001B[0m \u001B[0mnoise_levels\u001B[0m \u001B[1;33m*\u001B[0m \u001B[1;36m100\u001B[0m     \u001B[1;31m# scale noise levels to percent\u001B[0m\u001B[1;33m\u001B[0m\u001B[1;33m\u001B[0m\u001B[0m\n\u001B[0;32m    115\u001B[0m \u001B[1;33m\u001B[0m\u001B[0m\n",
      "\u001B[1;32m<__array_function__ internals>\u001B[0m in \u001B[0;36mnanmedian\u001B[1;34m(*args, **kwargs)\u001B[0m\n",
      "\u001B[1;32mC:\\ProgramData\\Anaconda3\\envs\\Calcium-Imaging-Analysis-Pipeline\\lib\\site-packages\\numpy\\lib\\nanfunctions.py\u001B[0m in \u001B[0;36mnanmedian\u001B[1;34m(a, axis, out, overwrite_input, keepdims)\u001B[0m\n\u001B[0;32m   1118\u001B[0m \u001B[1;33m\u001B[0m\u001B[0m\n\u001B[0;32m   1119\u001B[0m     r, k = function_base._ureduce(a, func=_nanmedian, axis=axis, out=out,\n\u001B[1;32m-> 1120\u001B[1;33m                                   overwrite_input=overwrite_input)\n\u001B[0m\u001B[0;32m   1121\u001B[0m     \u001B[1;32mif\u001B[0m \u001B[0mkeepdims\u001B[0m \u001B[1;32mand\u001B[0m \u001B[0mkeepdims\u001B[0m \u001B[1;32mis\u001B[0m \u001B[1;32mnot\u001B[0m \u001B[0mnp\u001B[0m\u001B[1;33m.\u001B[0m\u001B[0m_NoValue\u001B[0m\u001B[1;33m:\u001B[0m\u001B[1;33m\u001B[0m\u001B[1;33m\u001B[0m\u001B[0m\n\u001B[0;32m   1122\u001B[0m         \u001B[1;32mreturn\u001B[0m \u001B[0mr\u001B[0m\u001B[1;33m.\u001B[0m\u001B[0mreshape\u001B[0m\u001B[1;33m(\u001B[0m\u001B[0mk\u001B[0m\u001B[1;33m)\u001B[0m\u001B[1;33m\u001B[0m\u001B[1;33m\u001B[0m\u001B[0m\n",
      "\u001B[1;32mC:\\ProgramData\\Anaconda3\\envs\\Calcium-Imaging-Analysis-Pipeline\\lib\\site-packages\\numpy\\lib\\function_base.py\u001B[0m in \u001B[0;36m_ureduce\u001B[1;34m(a, func, **kwargs)\u001B[0m\n\u001B[0;32m   3562\u001B[0m         \u001B[0mkeepdim\u001B[0m \u001B[1;33m=\u001B[0m \u001B[1;33m(\u001B[0m\u001B[1;36m1\u001B[0m\u001B[1;33m,\u001B[0m\u001B[1;33m)\u001B[0m \u001B[1;33m*\u001B[0m \u001B[0ma\u001B[0m\u001B[1;33m.\u001B[0m\u001B[0mndim\u001B[0m\u001B[1;33m\u001B[0m\u001B[1;33m\u001B[0m\u001B[0m\n\u001B[0;32m   3563\u001B[0m \u001B[1;33m\u001B[0m\u001B[0m\n\u001B[1;32m-> 3564\u001B[1;33m     \u001B[0mr\u001B[0m \u001B[1;33m=\u001B[0m \u001B[0mfunc\u001B[0m\u001B[1;33m(\u001B[0m\u001B[0ma\u001B[0m\u001B[1;33m,\u001B[0m \u001B[1;33m**\u001B[0m\u001B[0mkwargs\u001B[0m\u001B[1;33m)\u001B[0m\u001B[1;33m\u001B[0m\u001B[1;33m\u001B[0m\u001B[0m\n\u001B[0m\u001B[0;32m   3565\u001B[0m     \u001B[1;32mreturn\u001B[0m \u001B[0mr\u001B[0m\u001B[1;33m,\u001B[0m \u001B[0mkeepdim\u001B[0m\u001B[1;33m\u001B[0m\u001B[1;33m\u001B[0m\u001B[0m\n\u001B[0;32m   3566\u001B[0m \u001B[1;33m\u001B[0m\u001B[0m\n",
      "\u001B[1;32mC:\\ProgramData\\Anaconda3\\envs\\Calcium-Imaging-Analysis-Pipeline\\lib\\site-packages\\numpy\\lib\\nanfunctions.py\u001B[0m in \u001B[0;36m_nanmedian\u001B[1;34m(a, axis, out, overwrite_input)\u001B[0m\n\u001B[0;32m    994\u001B[0m         \u001B[1;31m# benchmarked with shuffled (50, 50, x) containing a few NaN\u001B[0m\u001B[1;33m\u001B[0m\u001B[1;33m\u001B[0m\u001B[1;33m\u001B[0m\u001B[0m\n\u001B[0;32m    995\u001B[0m         \u001B[1;32mif\u001B[0m \u001B[0ma\u001B[0m\u001B[1;33m.\u001B[0m\u001B[0mshape\u001B[0m\u001B[1;33m[\u001B[0m\u001B[0maxis\u001B[0m\u001B[1;33m]\u001B[0m \u001B[1;33m<\u001B[0m \u001B[1;36m600\u001B[0m\u001B[1;33m:\u001B[0m\u001B[1;33m\u001B[0m\u001B[1;33m\u001B[0m\u001B[0m\n\u001B[1;32m--> 996\u001B[1;33m             \u001B[1;32mreturn\u001B[0m \u001B[0m_nanmedian_small\u001B[0m\u001B[1;33m(\u001B[0m\u001B[0ma\u001B[0m\u001B[1;33m,\u001B[0m \u001B[0maxis\u001B[0m\u001B[1;33m,\u001B[0m \u001B[0mout\u001B[0m\u001B[1;33m,\u001B[0m \u001B[0moverwrite_input\u001B[0m\u001B[1;33m)\u001B[0m\u001B[1;33m\u001B[0m\u001B[1;33m\u001B[0m\u001B[0m\n\u001B[0m\u001B[0;32m    997\u001B[0m         \u001B[0mresult\u001B[0m \u001B[1;33m=\u001B[0m \u001B[0mnp\u001B[0m\u001B[1;33m.\u001B[0m\u001B[0mapply_along_axis\u001B[0m\u001B[1;33m(\u001B[0m\u001B[0m_nanmedian1d\u001B[0m\u001B[1;33m,\u001B[0m \u001B[0maxis\u001B[0m\u001B[1;33m,\u001B[0m \u001B[0ma\u001B[0m\u001B[1;33m,\u001B[0m \u001B[0moverwrite_input\u001B[0m\u001B[1;33m)\u001B[0m\u001B[1;33m\u001B[0m\u001B[1;33m\u001B[0m\u001B[0m\n\u001B[0;32m    998\u001B[0m         \u001B[1;32mif\u001B[0m \u001B[0mout\u001B[0m \u001B[1;32mis\u001B[0m \u001B[1;32mnot\u001B[0m \u001B[1;32mNone\u001B[0m\u001B[1;33m:\u001B[0m\u001B[1;33m\u001B[0m\u001B[1;33m\u001B[0m\u001B[0m\n",
      "\u001B[1;32mC:\\ProgramData\\Anaconda3\\envs\\Calcium-Imaging-Analysis-Pipeline\\lib\\site-packages\\numpy\\lib\\nanfunctions.py\u001B[0m in \u001B[0;36m_nanmedian_small\u001B[1;34m(a, axis, out, overwrite_input)\u001B[0m\n\u001B[0;32m   1008\u001B[0m     \u001B[0msee\u001B[0m \u001B[0mnanmedian\u001B[0m \u001B[1;32mfor\u001B[0m \u001B[0mparameter\u001B[0m \u001B[0musage\u001B[0m\u001B[1;33m\u001B[0m\u001B[1;33m\u001B[0m\u001B[0m\n\u001B[0;32m   1009\u001B[0m     \"\"\"\n\u001B[1;32m-> 1010\u001B[1;33m     \u001B[0ma\u001B[0m \u001B[1;33m=\u001B[0m \u001B[0mnp\u001B[0m\u001B[1;33m.\u001B[0m\u001B[0mma\u001B[0m\u001B[1;33m.\u001B[0m\u001B[0mmasked_array\u001B[0m\u001B[1;33m(\u001B[0m\u001B[0ma\u001B[0m\u001B[1;33m,\u001B[0m \u001B[0mnp\u001B[0m\u001B[1;33m.\u001B[0m\u001B[0misnan\u001B[0m\u001B[1;33m(\u001B[0m\u001B[0ma\u001B[0m\u001B[1;33m)\u001B[0m\u001B[1;33m)\u001B[0m\u001B[1;33m\u001B[0m\u001B[1;33m\u001B[0m\u001B[0m\n\u001B[0m\u001B[0;32m   1011\u001B[0m     \u001B[0mm\u001B[0m \u001B[1;33m=\u001B[0m \u001B[0mnp\u001B[0m\u001B[1;33m.\u001B[0m\u001B[0mma\u001B[0m\u001B[1;33m.\u001B[0m\u001B[0mmedian\u001B[0m\u001B[1;33m(\u001B[0m\u001B[0ma\u001B[0m\u001B[1;33m,\u001B[0m \u001B[0maxis\u001B[0m\u001B[1;33m=\u001B[0m\u001B[0maxis\u001B[0m\u001B[1;33m,\u001B[0m \u001B[0moverwrite_input\u001B[0m\u001B[1;33m=\u001B[0m\u001B[0moverwrite_input\u001B[0m\u001B[1;33m)\u001B[0m\u001B[1;33m\u001B[0m\u001B[1;33m\u001B[0m\u001B[0m\n\u001B[0;32m   1012\u001B[0m     \u001B[1;32mfor\u001B[0m \u001B[0mi\u001B[0m \u001B[1;32min\u001B[0m \u001B[0mrange\u001B[0m\u001B[1;33m(\u001B[0m\u001B[0mnp\u001B[0m\u001B[1;33m.\u001B[0m\u001B[0mcount_nonzero\u001B[0m\u001B[1;33m(\u001B[0m\u001B[0mm\u001B[0m\u001B[1;33m.\u001B[0m\u001B[0mmask\u001B[0m\u001B[1;33m.\u001B[0m\u001B[0mravel\u001B[0m\u001B[1;33m(\u001B[0m\u001B[1;33m)\u001B[0m\u001B[1;33m)\u001B[0m\u001B[1;33m)\u001B[0m\u001B[1;33m:\u001B[0m\u001B[1;33m\u001B[0m\u001B[1;33m\u001B[0m\u001B[0m\n",
      "\u001B[1;31mTypeError\u001B[0m: ufunc 'isnan' not supported for the input types, and the inputs could not be safely coerced to any supported types according to the casting rule ''safe''"
     ]
    }
   ],
   "source": [
    "MyMouse.BigDayForTheo.analyze_images(6)"
   ]
  },
  {
   "cell_type": "code",
   "execution_count": null,
   "outputs": [],
   "source": [],
   "metadata": {
    "collapsed": false,
    "pycharm": {
     "name": "#%%\n"
    }
   }
  },
  {
   "cell_type": "markdown",
   "metadata": {
    "pycharm": {
     "name": "#%% md\n"
    }
   },
   "source": [
    "B. Save our progress"
   ]
  },
  {
   "cell_type": "code",
   "execution_count": null,
   "metadata": {
    "pycharm": {
     "name": "#%%\n"
    }
   },
   "outputs": [],
   "source": [
    "MyMouse.update_all_folder_dictionaries()\n",
    "MyMouse.record_experiment_mod(\"BigDayForTheo\", \"Analyzed Images\")\n",
    "MyMouse.save()"
   ]
  },
  {
   "cell_type": "markdown",
   "metadata": {
    "pycharm": {
     "name": "#%% md\n"
    }
   },
   "source": [
    "C. Preview"
   ]
  },
  {
   "cell_type": "code",
   "execution_count": null,
   "metadata": {
    "pycharm": {
     "name": "#%%\n"
    }
   },
   "outputs": [],
   "source": [
    "suite2p_wrapper = MyMouse.BigDayForTheo.folder_dictionary.get(\"imaging_6Hz_channel_0_plane_0\").load_suite2p()\n",
    "suite2p_wrapper.openGUI()"
   ]
  }
 ],
 "metadata": {
  "kernelspec": {
   "display_name": "Python 3 (ipykernel)",
   "language": "python",
   "name": "python3"
  },
  "language_info": {
   "codemirror_mode": {
    "name": "ipython",
    "version": 3
   },
   "file_extension": ".py",
   "mimetype": "text/x-python",
   "name": "python",
   "nbconvert_exporter": "python",
   "pygments_lexer": "ipython3",
   "version": "3.7.12"
  }
 },
 "nbformat": 4,
 "nbformat_minor": 1
}