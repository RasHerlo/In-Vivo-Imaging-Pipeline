{
 "cells": [
  {
   "cell_type": "markdown",
   "metadata": {
    "collapsed": true,
    "pycharm": {
     "name": "#%% md\n"
    }
   },
   "source": [
    "# Burrow Fear Conditioning Analysis Pipeline"
   ]
  },
  {
   "cell_type": "markdown",
   "metadata": {
    "pycharm": {
     "name": "#%% md\n"
    }
   },
   "source": [
    "This is a jupyter notebook to conduct the 'standard' analysis of burrow fear conditioning data."
   ]
  },
  {
   "cell_type": "markdown",
   "metadata": {
    "pycharm": {
     "name": "#%% md\n"
    }
   },
   "source": [
    "## Experiment Hierarchy"
   ]
  },
  {
   "cell_type": "markdown",
   "metadata": {
    "pycharm": {
     "name": "#%% md\n"
    }
   },
   "source": [
    "Here we construct and organizational framework for the various behavioral stages and meta-data."
   ]
  },
  {
   "cell_type": "markdown",
   "metadata": {
    "pycharm": {
     "name": "#%% md\n"
    }
   },
   "source": [
    "### Import Modules"
   ]
  },
  {
   "cell_type": "code",
   "execution_count": 1,
   "metadata": {
    "pycharm": {
     "name": "#%%\n"
    }
   },
   "outputs": [],
   "source": [
    "from AnalysisModules.ExperimentHierarchy import ExperimentData"
   ]
  },
  {
   "cell_type": "markdown",
   "metadata": {
    "pycharm": {
     "name": "#%% md\n"
    }
   },
   "source": [
    "### Identify Directory, Study, & Mouse Information"
   ]
  },
  {
   "cell_type": "code",
   "execution_count": 2,
   "metadata": {
    "pycharm": {
     "name": "#%%\n"
    }
   },
   "outputs": [],
   "source": [
    "__directory=\"H:\\\\DEM_Excitatory_Study\\\\DEM2\"\n",
    "__mouse=\"M4584\"\n",
    "__study=\"DEM\"\n",
    "__study_mouse=\"DEM2\""
   ]
  },
  {
   "cell_type": "markdown",
   "metadata": {
    "pycharm": {
     "name": "#%% md\n"
    }
   },
   "source": [
    "### Construct Experiment Hierarchy"
   ]
  },
  {
   "cell_type": "code",
   "execution_count": 3,
   "metadata": {
    "pycharm": {
     "name": "#%%\n"
    }
   },
   "outputs": [],
   "source": [
    "Data = ExperimentData(Directory=__directory, Mouse=__mouse, Study=__study, StudyMouse=__study_mouse)"
   ]
  },
  {
   "cell_type": "markdown",
   "metadata": {
    "pycharm": {
     "name": "#%% md\n"
    }
   },
   "source": [
    "## Conduct Analysis on Encoding"
   ]
  },
  {
   "cell_type": "markdown",
   "metadata": {
    "pycharm": {
     "name": "#%% md\n"
    }
   },
   "source": [
    "### Import Modules"
   ]
  },
  {
   "cell_type": "code",
   "execution_count": 4,
   "metadata": {
    "pycharm": {
     "name": "#%%\n"
    }
   },
   "outputs": [],
   "source": [
    "from AnalysisModules.BurrowFearConditioning import Encoding"
   ]
  },
  {
   "cell_type": "code",
   "execution_count": 5,
   "metadata": {
    "pycharm": {
     "name": "#%%\n"
    }
   },
   "outputs": [],
   "source": [
    "Data.Encoding = Encoding(Data.passMeta())"
   ]
  },
  {
   "cell_type": "markdown",
   "metadata": {
    "pycharm": {
     "name": "#%% md\n"
    }
   },
   "source": [
    "### Identify Dataset and Parameters"
   ]
  },
  {
   "cell_type": "code",
   "execution_count": 6,
   "metadata": {
    "pycharm": {
     "name": "#%%\n"
    }
   },
   "outputs": [],
   "source": [
    "__data_folder = \"H:\\\\DEM_Excitatory_Study\\\\DEM2\\\\Encoding\\\\Imaging\\\\10Hz\"\n",
    "__index_file = \"H:\\\\DEM_Excitatory_Study\\\\DEM2\\\\Encoding\\\\Imaging\\\\10Hz\\\\NeuronalIndex.csv\"\n",
    "__features_file = \"H:\\\\DEM_Excitatory_Study\\\\DEM2\\\\Encoding\\\\Imaging\\\\10Hz\\\\Features.csv\""
   ]
  },
  {
   "cell_type": "markdown",
   "metadata": {},
   "source": [
    "### Import Modules"
   ]
  },
  {
   "cell_type": "code",
   "execution_count": 7,
   "metadata": {
    "pycharm": {
     "name": "#%%\n"
    }
   },
   "outputs": [],
   "source": [
    "# FISSA: Signal Extraction & Source-Separation\n",
    "from AnalysisModules.FissaAnalysis import FissaModule\n",
    "# Assorted Static Processing Functions\n",
    "from AnalysisModules.StaticProcessing import smoothTraces_TiffOrg, calculate_dFoF, mergeTraces, detrendTraces"
   ]
  },
  {
   "cell_type": "markdown",
   "metadata": {
    "pycharm": {
     "name": "#%% md\n"
    }
   },
   "source": [
    "### Instantiation"
   ]
  },
  {
   "cell_type": "code",
   "execution_count": 8,
   "metadata": {},
   "outputs": [
    {
     "name": "stdout",
     "output_type": "stream",
     "text": [
      "Adjusting from 1-to-0 indexing\n",
      "Initialized Fissa\n"
     ]
    }
   ],
   "source": [
    "# Instantiate Fissa Module & Sub-Modules. \n",
    "# Sub-Module 1 is preparation, will contain raw data (PreparationModule)\n",
    "# Sub-Module 2 is experiment, will contain separation data (SeparationModule)\n",
    "# Sub-Module 3 is ProcessedTraces, just a container for processed signals\n",
    "Data.Encoding.Fissa = FissaModule(data_folder=__data_folder, index_file = __index_file)\n",
    "# This folder contains the suite2p/plane0/___.npy files as well as the saved registered files located in the suite2p/plane0/reg_tif folder\n",
    "# Initialize\n",
    "Data.Encoding.Fissa.pruneNonNeuronalROIs() # This step removes all non-neuronal data\n",
    "Data.Encoding.Fissa.initializeFissa()\n"
   ]
  },
  {
   "cell_type": "markdown",
   "metadata": {},
   "source": [
    "### Extract Traces"
   ]
  },
  {
   "cell_type": "code",
   "execution_count": 9,
   "metadata": {
    "pycharm": {
     "is_executing": true
    }
   },
   "outputs": [
    {
     "data": {
      "application/vnd.jupyter.widget-view+json": {
       "model_id": "e285dc3eb322445580161a94e271256f",
       "version_major": 2,
       "version_minor": 0
      },
      "text/plain": [
       "Extracting traces:   0%|          | 0/5 [00:00<?, ?it/s]"
      ]
     },
     "metadata": {},
     "output_type": "display_data"
    },
    {
     "name": "stdout",
     "output_type": "stream",
     "text": [
      "Finished extracting raw signals from 978 ROIs across 5 trials in 4 min, 20 sec.\n",
      "Passing traces between modules.\n",
      "Finished module-passing.\n",
      "Ready for post-processing or source-separation.\n"
     ]
    }
   ],
   "source": [
    "Data.Encoding.Fissa.extractTraces() # simple, call to extract raw traces from videos"
   ]
  },
  {
   "cell_type": "markdown",
   "metadata": {},
   "source": [
    "### Save Progress"
   ]
  },
  {
   "cell_type": "code",
   "execution_count": 10,
   "metadata": {
    "pycharm": {
     "is_executing": true
    }
   },
   "outputs": [
    {
     "name": "stdout",
     "output_type": "stream",
     "text": [
      "Saving extracted traces to H:\\DEM_Excitatory_Study\\DEM2\\Encoding\\Imaging\\10Hz\\prepared.npz\n",
      "Finished Saving Prep\n"
     ]
    }
   ],
   "source": [
    "Data.Encoding.Fissa.saveFissaPrep()"
   ]
  },
  {
   "cell_type": "markdown",
   "metadata": {
    "pycharm": {
     "name": "#%% md\n"
    }
   },
   "source": [
    "### Pre-Process Traces"
   ]
  },
  {
   "cell_type": "code",
   "execution_count": 11,
   "metadata": {
    "pycharm": {
     "is_executing": true,
     "name": "#%%\n"
    }
   },
   "outputs": [
    {
     "data": {
      "application/vnd.jupyter.widget-view+json": {
       "model_id": "7aa7feb73f8d4003aba0b297cfb9ef18",
       "version_major": 2,
       "version_minor": 0
      },
      "text/plain": [
       "Smoothing:   0%|          | 0/978 [00:00<?, ?it/s]"
      ]
     },
     "metadata": {},
     "output_type": "display_data"
    },
    {
     "data": {
      "application/vnd.jupyter.widget-view+json": {
       "model_id": "1d5f45a7f4c94effb1e49cb653ad7163",
       "version_major": 2,
       "version_minor": 0
      },
      "text/plain": [
       "Organizing By Tiff:   0%|          | 0/978 [00:00<?, ?it/s]"
      ]
     },
     "metadata": {},
     "output_type": "display_data"
    }
   ],
   "source": [
    "# let's smooth the data to make it nicer\n",
    "Data.Encoding.Fissa.ProcessedTraces.smoothed_raw = smoothTraces_TiffOrg(Data.Encoding.Fissa.preparation.raw, niter=50, kappa=150, gamma=0.15)[0]"
   ]
  },
  {
   "cell_type": "markdown",
   "metadata": {
    "pycharm": {
     "name": "#%% md\n"
    }
   },
   "source": [
    "### Save Progress"
   ]
  },
  {
   "cell_type": "code",
   "execution_count": 12,
   "metadata": {
    "pycharm": {
     "is_executing": true,
     "name": "#%%\n"
    }
   },
   "outputs": [
    {
     "name": "stdout",
     "output_type": "stream",
     "text": [
      "Saving Processed Traces...\n",
      "Finished Saving Processed Traces.\n"
     ]
    }
   ],
   "source": [
    "Data.Encoding.Fissa.saveProcessedTraces()"
   ]
  },
  {
   "cell_type": "markdown",
   "metadata": {
    "pycharm": {
     "name": "#%% md\n"
    }
   },
   "source": [
    "### Use Pre-Processed Traces for Source-Separation"
   ]
  },
  {
   "cell_type": "code",
   "execution_count": 13,
   "metadata": {
    "pycharm": {
     "is_executing": true,
     "name": "#%%\n"
    }
   },
   "outputs": [],
   "source": [
    "Data.Encoding.Fissa.preparation.raw = Data.Encoding.Fissa.ProcessedTraces.smoothed_raw.copy()\n",
    "#Let's use for separation, so replace the raws with smooths\n",
    "Data.Encoding.Fissa.passPrepToFissa()"
   ]
  },
  {
   "cell_type": "markdown",
   "metadata": {
    "pycharm": {
     "name": "#%% md\n"
    }
   },
   "source": [
    "### Source-Separate Traces"
   ]
  },
  {
   "cell_type": "code",
   "execution_count": 14,
   "metadata": {
    "pycharm": {
     "is_executing": true,
     "name": "#%%\n"
    }
   },
   "outputs": [
    {
     "name": "stdout",
     "output_type": "stream",
     "text": [
      "Passing prepared traces to fissa.\n",
      "Initiating fissa source-separation\n"
     ]
    },
    {
     "data": {
      "application/vnd.jupyter.widget-view+json": {
       "model_id": "946cd7a2ad604c068fcdcc40aa2dc3b2",
       "version_major": 2,
       "version_minor": 0
      },
      "text/plain": [
       "Separating data:   0%|          | 0/978 [00:00<?, ?it/s]"
      ]
     },
     "metadata": {},
     "output_type": "display_data"
    },
    {
     "name": "stdout",
     "output_type": "stream",
     "text": [
      "Finished separating signals from 978 ROIs across 5 trials in 1:13:25.841923\n",
      "Passing traces between modules.\n",
      "Finished module-passing.\n",
      "Ready for further analysis.\n"
     ]
    }
   ],
   "source": [
    "Data.Encoding.Fissa.separateTraces() # simple, call to separate the traces"
   ]
  },
  {
   "cell_type": "markdown",
   "metadata": {
    "pycharm": {
     "name": "#%% md\n"
    }
   },
   "source": [
    "### Save Progress"
   ]
  },
  {
   "cell_type": "code",
   "execution_count": 15,
   "metadata": {
    "pycharm": {
     "is_executing": true,
     "name": "#%%\n"
    }
   },
   "outputs": [
    {
     "name": "stdout",
     "output_type": "stream",
     "text": [
      "Saving results to H:\\DEM_Excitatory_Study\\DEM2\\Encoding\\Imaging\\10Hz\\separated.npz\n"
     ]
    }
   ],
   "source": [
    "Data.Encoding.Fissa.saveFissaSep()"
   ]
  },
  {
   "cell_type": "markdown",
   "metadata": {
    "pycharm": {
     "name": "#%% md\n"
    }
   },
   "source": [
    "### Post-Process Traces"
   ]
  },
  {
   "cell_type": "code",
   "execution_count": 16,
   "metadata": {
    "pycharm": {
     "is_executing": true,
     "name": "#%%\n"
    }
   },
   "outputs": [
    {
     "name": "stdout",
     "output_type": "stream",
     "text": [
      "Calculating Δf/f0  (using single f0 across all tiffs using f0 derived from raw traces during calculations)\n"
     ]
    },
    {
     "data": {
      "application/vnd.jupyter.widget-view+json": {
       "model_id": "5cd860a11f88409b9a3ebc2a29345f85",
       "version_major": 2,
       "version_minor": 0
      },
      "text/plain": [
       "Calculating Δf/f0:   0%|          | 0/978 [00:00<?, ?it/s]"
      ]
     },
     "metadata": {},
     "output_type": "display_data"
    },
    {
     "data": {
      "application/vnd.jupyter.widget-view+json": {
       "model_id": "dc7e5aa8d50a40c9a6ee7edaec5f6f3e",
       "version_major": 2,
       "version_minor": 0
      },
      "text/plain": [
       "Merging Traces Across Tiffs:   0%|          | 0/978 [00:00<?, ?it/s]"
      ]
     },
     "metadata": {},
     "output_type": "display_data"
    },
    {
     "data": {
      "application/vnd.jupyter.widget-view+json": {
       "model_id": "32d4de3a4f72472aa645af605054fc7c",
       "version_major": 2,
       "version_minor": 0
      },
      "text/plain": [
       "Detrending:   0%|          | 0/978 [00:00<?, ?it/s]"
      ]
     },
     "metadata": {},
     "output_type": "display_data"
    }
   ],
   "source": [
    "# Calculate Fo/F\n",
    "Data.Encoding.Fissa.ProcessedTraces.dFoF_result = calculate_dFoF(Data.Encoding.Fissa.experiment.result, Data.Encoding.Fissa.frame_rate, raw=Data.Encoding.Fissa.preparation.raw, merge_after=False)\n",
    "# Condense the ROI Traces for each Trial into a Single Matrix\n",
    "Data.Encoding.Fissa.ProcessedTraces.merged_dFoF_result = mergeTraces(Data.Encoding.Fissa.ProcessedTraces.dFoF_result)\n",
    "# Detrend the Traces by fitting a 4th-order polynomial and subsequently subtracting\n",
    "Data.Encoding.Fissa.ProcessedTraces.detrended_merged_dFoF_result = detrendTraces(Data.Encoding.Fissa.ProcessedTraces.merged_dFoF_result, order=4, plot=False)"
   ]
  },
  {
   "cell_type": "markdown",
   "metadata": {},
   "source": [
    "### Save Progress"
   ]
  },
  {
   "cell_type": "code",
   "execution_count": 17,
   "metadata": {
    "pycharm": {
     "is_executing": true,
     "name": "#%%\n"
    }
   },
   "outputs": [
    {
     "name": "stdout",
     "output_type": "stream",
     "text": [
      "Saving Processed Traces...\n",
      "Finished Saving Processed Traces.\n"
     ]
    }
   ],
   "source": [
    "Data.Encoding.Fissa.saveProcessedTraces()"
   ]
  },
  {
   "cell_type": "markdown",
   "metadata": {
    "pycharm": {
     "name": "#%% md\n"
    }
   },
   "source": [
    "## Infer Firing Rates & Approximate Spikes"
   ]
  },
  {
   "cell_type": "markdown",
   "metadata": {
    "pycharm": {
     "name": "#%% md\n"
    }
   },
   "source": [
    "### Import Modules"
   ]
  },
  {
   "cell_type": "code",
   "execution_count": 18,
   "metadata": {
    "pycharm": {
     "is_executing": true,
     "name": "#%%\n"
    }
   },
   "outputs": [
    {
     "name": "stderr",
     "output_type": "stream",
     "text": [
      "C:\\ProgramData\\Anaconda3\\envs\\Calcium-Imaging-Analysis-Pipeline\\lib\\site-packages\\_distutils_hack\\__init__.py:33: UserWarning: Setuptools is replacing distutils.\n",
      "  warnings.warn(\"Setuptools is replacing distutils.\")\n"
     ]
    },
    {
     "name": "stdout",
     "output_type": "stream",
     "text": [
      "\tYAML reader installed (version 0.17.17).\n"
     ]
    },
    {
     "name": "stderr",
     "output_type": "stream",
     "text": [
      "Using TensorFlow backend.\n"
     ]
    },
    {
     "name": "stdout",
     "output_type": "stream",
     "text": [
      "\tKeras installed (version 2.3.1).\n",
      "\tTensorflow installed (version 2.3.0).\n"
     ]
    }
   ],
   "source": [
    "# CASCADE: Spike Inference\n",
    "from AnalysisModules.CascadeAnalysis import CascadeModule\n",
    "# Assorted Static Processing Functions\n",
    "from AnalysisModules.StaticProcessing import calculateFiringRate\n",
    "# Assorted Static Utility Functions\n",
    "from AnalysisModules.StaticUtilities import pullModels"
   ]
  },
  {
   "cell_type": "markdown",
   "metadata": {},
   "source": [
    "If returning, use this cell to load prior data"
   ]
  },
  {
   "cell_type": "code",
   "execution_count": 19,
   "metadata": {
    "pycharm": {
     "is_executing": true
    }
   },
   "outputs": [],
   "source": [
    "# Instantiate\n",
    "#Data = FissaModule(data_folder=\"H:\\\\DEM_Excitatory_Study\\\\DEM2\\\\Retrieval\\\\Imaging\\\\10Hz\", index_file=\"H:\\\\DEM_Excitatory_Study\\\\DEM2\\\\Retrieval\\\\Imaging\\\\10Hz\\\\NeuronalIndex.csv\")\n",
    "# Initialize\n",
    "#Data.initializeFissa()\n",
    "# Load\n",
    "#Data.loadFissaPrep()\n",
    "#Data.loadFissaSep()\n",
    "#Data.loadProcessedTraces()"
   ]
  },
  {
   "cell_type": "markdown",
   "metadata": {
    "pycharm": {
     "name": "#%% md\n"
    }
   },
   "source": [
    "### Instantiation"
   ]
  },
  {
   "cell_type": "code",
   "execution_count": 20,
   "metadata": {
    "pycharm": {
     "is_executing": true,
     "name": "#%%\n"
    }
   },
   "outputs": [],
   "source": [
    "# Pass the Post-Processed Traces. Here we choose the detrended, matrix-form, Fo/F traces\n",
    "Data.Encoding.Cascade = CascadeModule(Data.Encoding.Fissa.ProcessedTraces.detrended_merged_dFoF_result, Data.Encoding.Fissa.frame_rate, model_folder=\"C:\\\\ProgramData\\\\Anaconda3\\\\envs\\\\suite2p\\\\Pretrained_models\")"
   ]
  },
  {
   "cell_type": "markdown",
   "metadata": {
    "pycharm": {
     "name": "#%% md\n"
    }
   },
   "source": [
    "### Model Selection"
   ]
  },
  {
   "cell_type": "code",
   "execution_count": 21,
   "metadata": {
    "pycharm": {
     "is_executing": true,
     "name": "#%%\n"
    }
   },
   "outputs": [
    {
     "name": "stdout",
     "output_type": "stream",
     "text": [
      "You can now check the updated available_models.yaml file for valid model names.\n",
      "File location: C:\\ProgramData\\Anaconda3\\envs\\suite2p\\Pretrained_models\\available_models.yaml\n",
      "\n",
      " List of available models: \n",
      "\n",
      "Global_EXC_30Hz_smoothing50ms_asymmetric_window_1_frame\n",
      "Global_EXC_30Hz_smoothing50ms_asymmetric_window_2_frames\n",
      "Global_EXC_30Hz_smoothing50ms_asymmetric_window_4_frames\n",
      "Global_EXC_30Hz_smoothing50ms_asymmetric_window_6_frames\n",
      "Global_EXC_30Hz_smoothing50ms_asymmetric_window_8_frames\n",
      "GCaMP6f_mouse_30Hz_smoothing200ms\n",
      "OGB_zf_pDp_7.5Hz_smoothing200ms\n",
      "OGB_zf_pDp_7.5Hz_smoothing200ms_causalkernel\n",
      "Global_EXC_3Hz_smoothing400ms\n",
      "Global_EXC_3Hz_smoothing400ms_high_noise\n",
      "Global_EXC_3Hz_smoothing400ms_causalkernel\n",
      "Global_EXC_4.25Hz_smoothing300ms\n",
      "Global_EXC_4.25Hz_smoothing300ms_high_noise\n",
      "Global_EXC_4.25Hz_smoothing300ms_causalkernel\n",
      "Global_EXC_5Hz_smoothing200ms\n",
      "Global_EXC_5Hz_smoothing200ms_causalkernel\n",
      "Global_EXC_6Hz_smoothing200ms\n",
      "Global_EXC_6Hz_smoothing200ms_causalkernel\n",
      "Global_EXC_7.5Hz_smoothing200ms\n",
      "Global_EXC_7.5Hz_smoothing200ms_causalkernel\n",
      "Global_EXC_10Hz_smoothing50ms\n",
      "Global_EXC_10Hz_smoothing50ms_causalkernel\n",
      "Global_EXC_10Hz_smoothing100ms\n",
      "Global_EXC_10Hz_smoothing100ms_causalkernel\n",
      "Global_EXC_10Hz_smoothing200ms\n",
      "Global_EXC_10Hz_smoothing200ms_causalkernel\n",
      "Global_EXC_12.5Hz_smoothing100ms\n",
      "Global_EXC_12.5Hz_smoothing100ms_causalkernel\n",
      "Global_EXC_12.5Hz_smoothing200ms\n",
      "Global_EXC_12.5Hz_smoothing200ms_causalkernel\n",
      "Global_EXC_15Hz_smoothing100ms\n",
      "Global_EXC_15Hz_smoothing100ms_causalkernel\n",
      "Global_EXC_15Hz_smoothing200ms\n",
      "Global_EXC_15Hz_smoothing200ms_causalkernel\n",
      "Global_EXC_17.5Hz_smoothing100ms\n",
      "Global_EXC_17.5Hz_smoothing200ms\n",
      "Global_EXC_17.5Hz_smoothing200ms_causalkernel\n",
      "Global_EXC_20Hz_smoothing100ms\n",
      "Global_EXC_20Hz_smoothing100ms_causalkernel\n",
      "Global_EXC_20Hz_smoothing200ms\n",
      "Global_EXC_20Hz_smoothing200ms_causalkernel\n",
      "Global_EXC_25Hz_smoothing100ms\n",
      "Global_EXC_25Hz_smoothing100ms_causalkernel\n",
      "Global_EXC_25Hz_smoothing50ms\n",
      "Global_EXC_25Hz_smoothing50ms_causalkernel\n",
      "Global_EXC_30Hz_smoothing100ms\n",
      "Global_EXC_30Hz_smoothing100ms_causalkernel\n",
      "Global_EXC_30Hz_smoothing200ms\n",
      "Global_EXC_30Hz_smoothing50ms\n",
      "Global_EXC_30Hz_smoothing50ms_causalkernel\n",
      "Global_INH_15Hz_smoothing100ms\n",
      "Global_INH_30Hz_smoothing50ms\n",
      "Global_INH_30Hz_smoothing100ms\n",
      "Global_EXC_1Hz_smoothing500ms\n",
      "Global_EXC_1Hz_smoothing1000ms\n",
      "Zebrafish_1Hz_smoothing1000ms\n"
     ]
    }
   ],
   "source": [
    "# Pull Available Models\n",
    "list_of_models = pullModels(Data.Encoding.Cascade.model_folder)\n",
    "\n",
    "# Select Model: If you know what model you want, you should use the string instead.\n",
    "# This model is Global_EXC_10Hz_smoothing_100ms\n",
    "Data.Encoding.Cascade.model_name = list_of_models[21]\n",
    "\n",
    "# Download Model: You will need to download the model before first use\n",
    "# from AnalysisModules.StaticUtilities import downloadModel"
   ]
  },
  {
   "cell_type": "code",
   "execution_count": 24,
   "metadata": {},
   "outputs": [],
   "source": [
    "Data.Encoding.Cascade.model_name = \"Global_EXC_10Hz_smoothing100ms\""
   ]
  },
  {
   "cell_type": "markdown",
   "metadata": {
    "pycharm": {
     "name": "#%% md\n"
    }
   },
   "source": [
    "### Infer Firing Rates"
   ]
  },
  {
   "cell_type": "code",
   "execution_count": 25,
   "metadata": {
    "pycharm": {
     "is_executing": true,
     "name": "#%%\n"
    }
   },
   "outputs": [
    {
     "name": "stdout",
     "output_type": "stream",
     "text": [
      "\n",
      " \n",
      "The selected model was trained on 18 datasets, with 5 ensembles for each noise level, at a sampling rate of 10Hz, with a resampled ground truth that was smoothed with a Gaussian kernel of a standard deviation of 100 milliseconds. \n",
      " \n",
      "\n",
      "Loaded model was trained at frame rate 10 Hz\n",
      "Given argument traces contains 978 neurons and 33551 frames.\n",
      "Noise levels (mean, std; in standard units): 0.07, 0.04\n",
      "\n",
      "Predictions for noise level 2:\n",
      "\t... ensemble 0\n",
      "4006/4006 [==============================] - 18s 4ms/step\n",
      "\t... ensemble 1\n",
      "4006/4006 [==============================] - 18s 4ms/step\n",
      "\t... ensemble 2\n",
      "4006/4006 [==============================] - 19s 5ms/step\n",
      "\t... ensemble 3\n",
      "4006/4006 [==============================] - 18s 4ms/step\n",
      "\t... ensemble 4\n",
      "4006/4006 [==============================] - 18s 4ms/step\n",
      "\n",
      "Predictions for noise level 3:\n",
      "\tNo neurons for this noise level\n",
      "\n",
      "Predictions for noise level 4:\n",
      "\tNo neurons for this noise level\n",
      "\n",
      "Predictions for noise level 5:\n",
      "\tNo neurons for this noise level\n",
      "\n",
      "Predictions for noise level 6:\n",
      "\tNo neurons for this noise level\n",
      "\n",
      "Predictions for noise level 7:\n",
      "\tNo neurons for this noise level\n",
      "\n",
      "Predictions for noise level 8:\n",
      "\tNo neurons for this noise level\n",
      "Done\n"
     ]
    }
   ],
   "source": [
    "# Infer Spike Probability\n",
    "Data.Encoding.Cascade.predictSpikeProb() # Simple, call to infer spike probability for each frame\n",
    "# Calculate Firing Rates # Simple, firing rate = spike probability * imaging frequency\n",
    "Data.Encoding.Cascade.ProcessedInferences.firing_rates = calculateFiringRate(Data.Encoding.Cascade.spike_prob, Data.Encoding.Cascade.frame_rate)"
   ]
  },
  {
   "cell_type": "markdown",
   "metadata": {
    "pycharm": {
     "name": "#%% md\n"
    }
   },
   "source": [
    "### Save Progress"
   ]
  },
  {
   "cell_type": "code",
   "execution_count": 26,
   "metadata": {
    "pycharm": {
     "is_executing": true,
     "name": "#%%\n"
    }
   },
   "outputs": [
    {
     "name": "stdout",
     "output_type": "stream",
     "text": [
      "Saving Processed Inferences...\n",
      "Finished Saving Processed Inferences\n"
     ]
    }
   ],
   "source": [
    "Data.Encoding.Cascade.saveSpikeProb(Data.Encoding.Fissa.output_folder)\n",
    "Data.Encoding.Cascade.saveProcessedInferences(Data.Encoding.Fissa.output_folder)"
   ]
  },
  {
   "cell_type": "markdown",
   "metadata": {
    "pycharm": {
     "name": "#%% md\n"
    }
   },
   "source": [
    "### Infer Discrete Spike Times"
   ]
  },
  {
   "cell_type": "code",
   "execution_count": 27,
   "metadata": {
    "pycharm": {
     "is_executing": true,
     "name": "#%%\n"
    }
   },
   "outputs": [
    {
     "name": "stdout",
     "output_type": "stream",
     "text": [
      "Infer spikes for neuron 1 out of 978\n",
      "Infer spikes for neuron 2 out of 978\n",
      "Infer spikes for neuron 3 out of 978\n",
      "Infer spikes for neuron 4 out of 978\n",
      "Infer spikes for neuron 5 out of 978\n",
      "Infer spikes for neuron 6 out of 978\n",
      "Infer spikes for neuron 7 out of 978\n",
      "Infer spikes for neuron 8 out of 978\n",
      "Infer spikes for neuron 9 out of 978\n",
      "Infer spikes for neuron 10 out of 978\n",
      "Infer spikes for neuron 11 out of 978\n",
      "Infer spikes for neuron 12 out of 978\n",
      "Infer spikes for neuron 13 out of 978\n",
      "Infer spikes for neuron 14 out of 978\n",
      "Infer spikes for neuron 15 out of 978\n",
      "Infer spikes for neuron 16 out of 978\n",
      "Infer spikes for neuron 17 out of 978\n",
      "Infer spikes for neuron 18 out of 978\n",
      "Infer spikes for neuron 19 out of 978\n",
      "Infer spikes for neuron 20 out of 978\n",
      "Infer spikes for neuron 21 out of 978\n",
      "Infer spikes for neuron 22 out of 978\n",
      "Infer spikes for neuron 23 out of 978\n",
      "Infer spikes for neuron 24 out of 978\n",
      "Infer spikes for neuron 25 out of 978\n",
      "Infer spikes for neuron 26 out of 978\n",
      "Infer spikes for neuron 27 out of 978\n",
      "Infer spikes for neuron 28 out of 978\n",
      "Infer spikes for neuron 29 out of 978\n",
      "Infer spikes for neuron 30 out of 978\n",
      "Infer spikes for neuron 31 out of 978\n",
      "Infer spikes for neuron 32 out of 978\n",
      "Infer spikes for neuron 33 out of 978\n",
      "Infer spikes for neuron 34 out of 978\n",
      "Infer spikes for neuron 35 out of 978\n",
      "Infer spikes for neuron 36 out of 978\n",
      "Infer spikes for neuron 37 out of 978\n",
      "Infer spikes for neuron 38 out of 978\n",
      "Infer spikes for neuron 39 out of 978\n",
      "Infer spikes for neuron 40 out of 978\n",
      "Infer spikes for neuron 41 out of 978\n",
      "Infer spikes for neuron 42 out of 978\n",
      "Infer spikes for neuron 43 out of 978\n",
      "Infer spikes for neuron 44 out of 978\n",
      "Infer spikes for neuron 45 out of 978\n",
      "Infer spikes for neuron 46 out of 978\n",
      "Infer spikes for neuron 47 out of 978\n",
      "Infer spikes for neuron 48 out of 978\n",
      "Infer spikes for neuron 49 out of 978\n",
      "Infer spikes for neuron 50 out of 978\n",
      "Infer spikes for neuron 51 out of 978\n",
      "Infer spikes for neuron 52 out of 978\n",
      "Infer spikes for neuron 53 out of 978\n",
      "Infer spikes for neuron 54 out of 978\n",
      "Infer spikes for neuron 55 out of 978\n",
      "Infer spikes for neuron 56 out of 978\n",
      "Infer spikes for neuron 57 out of 978\n",
      "Infer spikes for neuron 58 out of 978\n",
      "Infer spikes for neuron 59 out of 978\n",
      "Infer spikes for neuron 60 out of 978\n",
      "Infer spikes for neuron 61 out of 978\n",
      "Infer spikes for neuron 62 out of 978\n",
      "Infer spikes for neuron 63 out of 978\n",
      "Infer spikes for neuron 64 out of 978\n",
      "Infer spikes for neuron 65 out of 978\n",
      "Infer spikes for neuron 66 out of 978\n",
      "Infer spikes for neuron 67 out of 978\n",
      "Infer spikes for neuron 68 out of 978\n",
      "Infer spikes for neuron 69 out of 978\n",
      "Infer spikes for neuron 70 out of 978\n",
      "Infer spikes for neuron 71 out of 978\n",
      "Infer spikes for neuron 72 out of 978\n",
      "Infer spikes for neuron 73 out of 978\n",
      "Infer spikes for neuron 74 out of 978\n",
      "Infer spikes for neuron 75 out of 978\n",
      "Infer spikes for neuron 76 out of 978\n",
      "Infer spikes for neuron 77 out of 978\n",
      "Infer spikes for neuron 78 out of 978\n",
      "Infer spikes for neuron 79 out of 978\n",
      "Infer spikes for neuron 80 out of 978\n",
      "Infer spikes for neuron 81 out of 978\n",
      "Infer spikes for neuron 82 out of 978\n",
      "Infer spikes for neuron 83 out of 978\n",
      "Infer spikes for neuron 84 out of 978\n",
      "Infer spikes for neuron 85 out of 978\n",
      "Infer spikes for neuron 86 out of 978\n",
      "Infer spikes for neuron 87 out of 978\n",
      "Infer spikes for neuron 88 out of 978\n",
      "Infer spikes for neuron 89 out of 978\n",
      "Infer spikes for neuron 90 out of 978\n",
      "Infer spikes for neuron 91 out of 978\n",
      "Infer spikes for neuron 92 out of 978\n",
      "Infer spikes for neuron 93 out of 978\n",
      "Infer spikes for neuron 94 out of 978\n",
      "Infer spikes for neuron 95 out of 978\n",
      "Infer spikes for neuron 96 out of 978\n",
      "Infer spikes for neuron 97 out of 978\n",
      "Infer spikes for neuron 98 out of 978\n",
      "Infer spikes for neuron 99 out of 978\n",
      "Infer spikes for neuron 100 out of 978\n",
      "Infer spikes for neuron 101 out of 978\n",
      "Infer spikes for neuron 102 out of 978\n",
      "Infer spikes for neuron 103 out of 978\n",
      "Infer spikes for neuron 104 out of 978\n",
      "Infer spikes for neuron 105 out of 978\n",
      "Infer spikes for neuron 106 out of 978\n",
      "Infer spikes for neuron 107 out of 978\n",
      "Infer spikes for neuron 108 out of 978\n",
      "Infer spikes for neuron 109 out of 978\n",
      "Infer spikes for neuron 110 out of 978\n",
      "Infer spikes for neuron 111 out of 978\n",
      "Infer spikes for neuron 112 out of 978\n",
      "Infer spikes for neuron 113 out of 978\n",
      "Infer spikes for neuron 114 out of 978\n",
      "Infer spikes for neuron 115 out of 978\n",
      "Infer spikes for neuron 116 out of 978\n",
      "Infer spikes for neuron 117 out of 978\n",
      "Infer spikes for neuron 118 out of 978\n",
      "Infer spikes for neuron 119 out of 978\n",
      "Infer spikes for neuron 120 out of 978\n",
      "Infer spikes for neuron 121 out of 978\n",
      "Infer spikes for neuron 122 out of 978\n",
      "Infer spikes for neuron 123 out of 978\n",
      "Infer spikes for neuron 124 out of 978\n",
      "Infer spikes for neuron 125 out of 978\n",
      "Infer spikes for neuron 126 out of 978\n",
      "Infer spikes for neuron 127 out of 978\n",
      "Infer spikes for neuron 128 out of 978\n",
      "Infer spikes for neuron 129 out of 978\n",
      "Infer spikes for neuron 130 out of 978\n",
      "Infer spikes for neuron 131 out of 978\n",
      "Infer spikes for neuron 132 out of 978\n",
      "Infer spikes for neuron 133 out of 978\n",
      "Infer spikes for neuron 134 out of 978\n",
      "Infer spikes for neuron 135 out of 978\n",
      "Infer spikes for neuron 136 out of 978\n",
      "Infer spikes for neuron 137 out of 978\n",
      "Infer spikes for neuron 138 out of 978\n",
      "Infer spikes for neuron 139 out of 978\n",
      "Infer spikes for neuron 140 out of 978\n",
      "Infer spikes for neuron 141 out of 978\n",
      "Infer spikes for neuron 142 out of 978\n",
      "Infer spikes for neuron 143 out of 978\n",
      "Infer spikes for neuron 144 out of 978\n",
      "Infer spikes for neuron 145 out of 978\n",
      "Infer spikes for neuron 146 out of 978\n",
      "Infer spikes for neuron 147 out of 978\n",
      "Infer spikes for neuron 148 out of 978\n",
      "Infer spikes for neuron 149 out of 978\n",
      "Infer spikes for neuron 150 out of 978\n",
      "Infer spikes for neuron 151 out of 978\n",
      "Infer spikes for neuron 152 out of 978\n",
      "Infer spikes for neuron 153 out of 978\n",
      "Infer spikes for neuron 154 out of 978\n",
      "Infer spikes for neuron 155 out of 978\n",
      "Infer spikes for neuron 156 out of 978\n",
      "Infer spikes for neuron 157 out of 978\n",
      "Infer spikes for neuron 158 out of 978\n",
      "Infer spikes for neuron 159 out of 978\n",
      "Infer spikes for neuron 160 out of 978\n",
      "Infer spikes for neuron 161 out of 978\n",
      "Infer spikes for neuron 162 out of 978\n",
      "Infer spikes for neuron 163 out of 978\n",
      "Infer spikes for neuron 164 out of 978\n",
      "Infer spikes for neuron 165 out of 978\n",
      "Infer spikes for neuron 166 out of 978\n",
      "Infer spikes for neuron 167 out of 978\n",
      "Infer spikes for neuron 168 out of 978\n",
      "Infer spikes for neuron 169 out of 978\n",
      "Infer spikes for neuron 170 out of 978\n",
      "Infer spikes for neuron 171 out of 978\n",
      "Infer spikes for neuron 172 out of 978\n",
      "Infer spikes for neuron 173 out of 978\n",
      "Infer spikes for neuron 174 out of 978\n",
      "Infer spikes for neuron 175 out of 978\n",
      "Infer spikes for neuron 176 out of 978\n",
      "Infer spikes for neuron 177 out of 978\n",
      "Infer spikes for neuron 178 out of 978\n",
      "Infer spikes for neuron 179 out of 978\n",
      "Infer spikes for neuron 180 out of 978\n",
      "Infer spikes for neuron 181 out of 978\n",
      "Infer spikes for neuron 182 out of 978\n",
      "Infer spikes for neuron 183 out of 978\n",
      "Infer spikes for neuron 184 out of 978\n",
      "Infer spikes for neuron 185 out of 978\n",
      "Infer spikes for neuron 186 out of 978\n",
      "Infer spikes for neuron 187 out of 978\n",
      "Infer spikes for neuron 188 out of 978\n",
      "Infer spikes for neuron 189 out of 978\n",
      "Infer spikes for neuron 190 out of 978\n",
      "Infer spikes for neuron 191 out of 978\n",
      "Infer spikes for neuron 192 out of 978\n",
      "Infer spikes for neuron 193 out of 978\n",
      "Infer spikes for neuron 194 out of 978\n",
      "Infer spikes for neuron 195 out of 978\n",
      "Infer spikes for neuron 196 out of 978\n",
      "Infer spikes for neuron 197 out of 978\n",
      "Infer spikes for neuron 198 out of 978\n",
      "Infer spikes for neuron 199 out of 978\n",
      "Infer spikes for neuron 200 out of 978\n",
      "Infer spikes for neuron 201 out of 978\n",
      "Infer spikes for neuron 202 out of 978\n",
      "Infer spikes for neuron 203 out of 978\n",
      "Infer spikes for neuron 204 out of 978\n",
      "Infer spikes for neuron 205 out of 978\n",
      "Infer spikes for neuron 206 out of 978\n",
      "Infer spikes for neuron 207 out of 978\n",
      "Infer spikes for neuron 208 out of 978\n",
      "Infer spikes for neuron 209 out of 978\n",
      "Infer spikes for neuron 210 out of 978\n",
      "Infer spikes for neuron 211 out of 978\n",
      "Infer spikes for neuron 212 out of 978\n",
      "Infer spikes for neuron 213 out of 978\n",
      "Infer spikes for neuron 214 out of 978\n"
     ]
    },
    {
     "name": "stdout",
     "output_type": "stream",
     "text": [
      "Infer spikes for neuron 215 out of 978\n",
      "Infer spikes for neuron 216 out of 978\n",
      "Infer spikes for neuron 217 out of 978\n",
      "Infer spikes for neuron 218 out of 978\n",
      "Infer spikes for neuron 219 out of 978\n",
      "Infer spikes for neuron 220 out of 978\n",
      "Infer spikes for neuron 221 out of 978\n",
      "Infer spikes for neuron 222 out of 978\n",
      "Infer spikes for neuron 223 out of 978\n",
      "Infer spikes for neuron 224 out of 978\n",
      "Infer spikes for neuron 225 out of 978\n",
      "Infer spikes for neuron 226 out of 978\n",
      "Infer spikes for neuron 227 out of 978\n",
      "Infer spikes for neuron 228 out of 978\n",
      "Infer spikes for neuron 229 out of 978\n",
      "Infer spikes for neuron 230 out of 978\n",
      "Infer spikes for neuron 231 out of 978\n",
      "Infer spikes for neuron 232 out of 978\n",
      "Infer spikes for neuron 233 out of 978\n",
      "Infer spikes for neuron 234 out of 978\n",
      "Infer spikes for neuron 235 out of 978\n",
      "Infer spikes for neuron 236 out of 978\n",
      "Infer spikes for neuron 237 out of 978\n",
      "Infer spikes for neuron 238 out of 978\n",
      "Infer spikes for neuron 239 out of 978\n",
      "Infer spikes for neuron 240 out of 978\n",
      "Infer spikes for neuron 241 out of 978\n",
      "Infer spikes for neuron 242 out of 978\n",
      "Infer spikes for neuron 243 out of 978\n",
      "Infer spikes for neuron 244 out of 978\n",
      "Infer spikes for neuron 245 out of 978\n",
      "Infer spikes for neuron 246 out of 978\n",
      "Infer spikes for neuron 247 out of 978\n",
      "Infer spikes for neuron 248 out of 978\n",
      "Infer spikes for neuron 249 out of 978\n",
      "Infer spikes for neuron 250 out of 978\n",
      "Infer spikes for neuron 251 out of 978\n",
      "Infer spikes for neuron 252 out of 978\n",
      "Infer spikes for neuron 253 out of 978\n",
      "Infer spikes for neuron 254 out of 978\n",
      "Infer spikes for neuron 255 out of 978\n",
      "Infer spikes for neuron 256 out of 978\n",
      "Infer spikes for neuron 257 out of 978\n",
      "Infer spikes for neuron 258 out of 978\n",
      "Infer spikes for neuron 259 out of 978\n",
      "Infer spikes for neuron 260 out of 978\n",
      "Infer spikes for neuron 261 out of 978\n",
      "Infer spikes for neuron 262 out of 978\n",
      "Infer spikes for neuron 263 out of 978\n",
      "Infer spikes for neuron 264 out of 978\n",
      "Infer spikes for neuron 265 out of 978\n",
      "Infer spikes for neuron 266 out of 978\n",
      "Infer spikes for neuron 267 out of 978\n",
      "Infer spikes for neuron 268 out of 978\n",
      "Infer spikes for neuron 269 out of 978\n",
      "Infer spikes for neuron 270 out of 978\n",
      "Infer spikes for neuron 271 out of 978\n",
      "Infer spikes for neuron 272 out of 978\n",
      "Infer spikes for neuron 273 out of 978\n",
      "Infer spikes for neuron 274 out of 978\n",
      "Infer spikes for neuron 275 out of 978\n",
      "Infer spikes for neuron 276 out of 978\n",
      "Infer spikes for neuron 277 out of 978\n",
      "Infer spikes for neuron 278 out of 978\n",
      "Infer spikes for neuron 279 out of 978\n",
      "Infer spikes for neuron 280 out of 978\n",
      "Infer spikes for neuron 281 out of 978\n",
      "Infer spikes for neuron 282 out of 978\n",
      "Infer spikes for neuron 283 out of 978\n",
      "Infer spikes for neuron 284 out of 978\n",
      "Infer spikes for neuron 285 out of 978\n",
      "Infer spikes for neuron 286 out of 978\n",
      "Infer spikes for neuron 287 out of 978\n",
      "Infer spikes for neuron 288 out of 978\n",
      "Infer spikes for neuron 289 out of 978\n",
      "Infer spikes for neuron 290 out of 978\n",
      "Infer spikes for neuron 291 out of 978\n",
      "Infer spikes for neuron 292 out of 978\n",
      "Infer spikes for neuron 293 out of 978\n",
      "Infer spikes for neuron 294 out of 978\n",
      "Infer spikes for neuron 295 out of 978\n",
      "Infer spikes for neuron 296 out of 978\n",
      "Infer spikes for neuron 297 out of 978\n",
      "Infer spikes for neuron 298 out of 978\n",
      "Infer spikes for neuron 299 out of 978\n",
      "Infer spikes for neuron 300 out of 978\n",
      "Infer spikes for neuron 301 out of 978\n",
      "Infer spikes for neuron 302 out of 978\n",
      "Infer spikes for neuron 303 out of 978\n",
      "Infer spikes for neuron 304 out of 978\n",
      "Infer spikes for neuron 305 out of 978\n",
      "Infer spikes for neuron 306 out of 978\n",
      "Infer spikes for neuron 307 out of 978\n",
      "Infer spikes for neuron 308 out of 978\n",
      "Infer spikes for neuron 309 out of 978\n",
      "Infer spikes for neuron 310 out of 978\n",
      "Infer spikes for neuron 311 out of 978\n",
      "Infer spikes for neuron 312 out of 978\n",
      "Infer spikes for neuron 313 out of 978\n",
      "Infer spikes for neuron 314 out of 978\n",
      "Infer spikes for neuron 315 out of 978\n",
      "Infer spikes for neuron 316 out of 978\n",
      "Infer spikes for neuron 317 out of 978\n",
      "Infer spikes for neuron 318 out of 978\n",
      "Infer spikes for neuron 319 out of 978\n",
      "Infer spikes for neuron 320 out of 978\n",
      "Infer spikes for neuron 321 out of 978\n",
      "Infer spikes for neuron 322 out of 978\n",
      "Infer spikes for neuron 323 out of 978\n",
      "Infer spikes for neuron 324 out of 978\n",
      "Infer spikes for neuron 325 out of 978\n",
      "Infer spikes for neuron 326 out of 978\n",
      "Infer spikes for neuron 327 out of 978\n",
      "Infer spikes for neuron 328 out of 978\n",
      "Infer spikes for neuron 329 out of 978\n",
      "Infer spikes for neuron 330 out of 978\n",
      "Infer spikes for neuron 331 out of 978\n",
      "Infer spikes for neuron 332 out of 978\n",
      "Infer spikes for neuron 333 out of 978\n",
      "Infer spikes for neuron 334 out of 978\n",
      "Infer spikes for neuron 335 out of 978\n",
      "Infer spikes for neuron 336 out of 978\n",
      "Infer spikes for neuron 337 out of 978\n",
      "Infer spikes for neuron 338 out of 978\n",
      "Infer spikes for neuron 339 out of 978\n",
      "Infer spikes for neuron 340 out of 978\n",
      "Infer spikes for neuron 341 out of 978\n",
      "Infer spikes for neuron 342 out of 978\n",
      "Infer spikes for neuron 343 out of 978\n",
      "Infer spikes for neuron 344 out of 978\n",
      "Infer spikes for neuron 345 out of 978\n",
      "Infer spikes for neuron 346 out of 978\n",
      "Infer spikes for neuron 347 out of 978\n",
      "Infer spikes for neuron 348 out of 978\n",
      "Infer spikes for neuron 349 out of 978\n",
      "Infer spikes for neuron 350 out of 978\n",
      "Infer spikes for neuron 351 out of 978\n",
      "Infer spikes for neuron 352 out of 978\n",
      "Infer spikes for neuron 353 out of 978\n",
      "Infer spikes for neuron 354 out of 978\n",
      "Infer spikes for neuron 355 out of 978\n",
      "Infer spikes for neuron 356 out of 978\n",
      "Infer spikes for neuron 357 out of 978\n",
      "Infer spikes for neuron 358 out of 978\n",
      "Infer spikes for neuron 359 out of 978\n",
      "Infer spikes for neuron 360 out of 978\n",
      "Infer spikes for neuron 361 out of 978\n",
      "Infer spikes for neuron 362 out of 978\n",
      "Infer spikes for neuron 363 out of 978\n",
      "Infer spikes for neuron 364 out of 978\n",
      "Infer spikes for neuron 365 out of 978\n",
      "Infer spikes for neuron 366 out of 978\n",
      "Infer spikes for neuron 367 out of 978\n",
      "Infer spikes for neuron 368 out of 978\n",
      "Infer spikes for neuron 369 out of 978\n",
      "Infer spikes for neuron 370 out of 978\n",
      "Infer spikes for neuron 371 out of 978\n",
      "Infer spikes for neuron 372 out of 978\n",
      "Infer spikes for neuron 373 out of 978\n",
      "Infer spikes for neuron 374 out of 978\n",
      "Infer spikes for neuron 375 out of 978\n",
      "Infer spikes for neuron 376 out of 978\n",
      "Infer spikes for neuron 377 out of 978\n",
      "Infer spikes for neuron 378 out of 978\n",
      "Infer spikes for neuron 379 out of 978\n",
      "Infer spikes for neuron 380 out of 978\n",
      "Infer spikes for neuron 381 out of 978\n",
      "Infer spikes for neuron 382 out of 978\n",
      "Infer spikes for neuron 383 out of 978\n",
      "Infer spikes for neuron 384 out of 978\n",
      "Infer spikes for neuron 385 out of 978\n",
      "Infer spikes for neuron 386 out of 978\n",
      "Infer spikes for neuron 387 out of 978\n",
      "Infer spikes for neuron 388 out of 978\n",
      "Infer spikes for neuron 389 out of 978\n",
      "Infer spikes for neuron 390 out of 978\n",
      "Infer spikes for neuron 391 out of 978\n",
      "Infer spikes for neuron 392 out of 978\n",
      "Infer spikes for neuron 393 out of 978\n",
      "Infer spikes for neuron 394 out of 978\n",
      "Infer spikes for neuron 395 out of 978\n",
      "Infer spikes for neuron 396 out of 978\n",
      "Infer spikes for neuron 397 out of 978\n",
      "Infer spikes for neuron 398 out of 978\n",
      "Infer spikes for neuron 399 out of 978\n",
      "Infer spikes for neuron 400 out of 978\n",
      "Infer spikes for neuron 401 out of 978\n",
      "Infer spikes for neuron 402 out of 978\n",
      "Infer spikes for neuron 403 out of 978\n",
      "Infer spikes for neuron 404 out of 978\n",
      "Infer spikes for neuron 405 out of 978\n",
      "Infer spikes for neuron 406 out of 978\n",
      "Infer spikes for neuron 407 out of 978\n",
      "Infer spikes for neuron 408 out of 978\n",
      "Infer spikes for neuron 409 out of 978\n",
      "Infer spikes for neuron 410 out of 978\n",
      "Infer spikes for neuron 411 out of 978\n",
      "Infer spikes for neuron 412 out of 978\n",
      "Infer spikes for neuron 413 out of 978\n",
      "Infer spikes for neuron 414 out of 978\n",
      "Infer spikes for neuron 415 out of 978\n",
      "Infer spikes for neuron 416 out of 978\n",
      "Infer spikes for neuron 417 out of 978\n",
      "Infer spikes for neuron 418 out of 978\n",
      "Infer spikes for neuron 419 out of 978\n",
      "Infer spikes for neuron 420 out of 978\n",
      "Infer spikes for neuron 421 out of 978\n",
      "Infer spikes for neuron 422 out of 978\n",
      "Infer spikes for neuron 423 out of 978\n",
      "Infer spikes for neuron 424 out of 978\n",
      "Infer spikes for neuron 425 out of 978\n"
     ]
    },
    {
     "name": "stdout",
     "output_type": "stream",
     "text": [
      "Infer spikes for neuron 426 out of 978\n",
      "Infer spikes for neuron 427 out of 978\n",
      "Infer spikes for neuron 428 out of 978\n",
      "Infer spikes for neuron 429 out of 978\n",
      "Infer spikes for neuron 430 out of 978\n",
      "Infer spikes for neuron 431 out of 978\n",
      "Infer spikes for neuron 432 out of 978\n",
      "Infer spikes for neuron 433 out of 978\n",
      "Infer spikes for neuron 434 out of 978\n",
      "Infer spikes for neuron 435 out of 978\n",
      "Infer spikes for neuron 436 out of 978\n",
      "Infer spikes for neuron 437 out of 978\n",
      "Infer spikes for neuron 438 out of 978\n",
      "Infer spikes for neuron 439 out of 978\n",
      "Infer spikes for neuron 440 out of 978\n",
      "Infer spikes for neuron 441 out of 978\n",
      "Infer spikes for neuron 442 out of 978\n",
      "Infer spikes for neuron 443 out of 978\n",
      "Infer spikes for neuron 444 out of 978\n",
      "Infer spikes for neuron 445 out of 978\n",
      "Infer spikes for neuron 446 out of 978\n",
      "Infer spikes for neuron 447 out of 978\n",
      "Infer spikes for neuron 448 out of 978\n",
      "Infer spikes for neuron 449 out of 978\n",
      "Infer spikes for neuron 450 out of 978\n",
      "Infer spikes for neuron 451 out of 978\n",
      "Infer spikes for neuron 452 out of 978\n",
      "Infer spikes for neuron 453 out of 978\n",
      "Infer spikes for neuron 454 out of 978\n",
      "Infer spikes for neuron 455 out of 978\n",
      "Infer spikes for neuron 456 out of 978\n",
      "Infer spikes for neuron 457 out of 978\n",
      "Infer spikes for neuron 458 out of 978\n",
      "Infer spikes for neuron 459 out of 978\n",
      "Infer spikes for neuron 460 out of 978\n",
      "Infer spikes for neuron 461 out of 978\n",
      "Infer spikes for neuron 462 out of 978\n",
      "Infer spikes for neuron 463 out of 978\n",
      "Infer spikes for neuron 464 out of 978\n",
      "Infer spikes for neuron 465 out of 978\n",
      "Infer spikes for neuron 466 out of 978\n",
      "Infer spikes for neuron 467 out of 978\n",
      "Infer spikes for neuron 468 out of 978\n",
      "Infer spikes for neuron 469 out of 978\n",
      "Infer spikes for neuron 470 out of 978\n",
      "Infer spikes for neuron 471 out of 978\n",
      "Infer spikes for neuron 472 out of 978\n",
      "Infer spikes for neuron 473 out of 978\n",
      "Infer spikes for neuron 474 out of 978\n",
      "Infer spikes for neuron 475 out of 978\n",
      "Infer spikes for neuron 476 out of 978\n",
      "Infer spikes for neuron 477 out of 978\n",
      "Infer spikes for neuron 478 out of 978\n",
      "Infer spikes for neuron 479 out of 978\n",
      "Infer spikes for neuron 480 out of 978\n",
      "Infer spikes for neuron 481 out of 978\n",
      "Infer spikes for neuron 482 out of 978\n",
      "Infer spikes for neuron 483 out of 978\n",
      "Infer spikes for neuron 484 out of 978\n",
      "Infer spikes for neuron 485 out of 978\n",
      "Infer spikes for neuron 486 out of 978\n",
      "Infer spikes for neuron 487 out of 978\n",
      "Infer spikes for neuron 488 out of 978\n",
      "Infer spikes for neuron 489 out of 978\n",
      "Infer spikes for neuron 490 out of 978\n",
      "Infer spikes for neuron 491 out of 978\n",
      "Infer spikes for neuron 492 out of 978\n",
      "Infer spikes for neuron 493 out of 978\n",
      "Infer spikes for neuron 494 out of 978\n",
      "Infer spikes for neuron 495 out of 978\n",
      "Infer spikes for neuron 496 out of 978\n",
      "Infer spikes for neuron 497 out of 978\n",
      "Infer spikes for neuron 498 out of 978\n",
      "Infer spikes for neuron 499 out of 978\n",
      "Infer spikes for neuron 500 out of 978\n",
      "Infer spikes for neuron 501 out of 978\n",
      "Infer spikes for neuron 502 out of 978\n",
      "Infer spikes for neuron 503 out of 978\n",
      "Infer spikes for neuron 504 out of 978\n",
      "Infer spikes for neuron 505 out of 978\n",
      "Infer spikes for neuron 506 out of 978\n",
      "Infer spikes for neuron 507 out of 978\n",
      "Infer spikes for neuron 508 out of 978\n",
      "Infer spikes for neuron 509 out of 978\n",
      "Infer spikes for neuron 510 out of 978\n",
      "Infer spikes for neuron 511 out of 978\n",
      "Infer spikes for neuron 512 out of 978\n",
      "Infer spikes for neuron 513 out of 978\n",
      "Infer spikes for neuron 514 out of 978\n",
      "Infer spikes for neuron 515 out of 978\n",
      "Infer spikes for neuron 516 out of 978\n",
      "Infer spikes for neuron 517 out of 978\n",
      "Infer spikes for neuron 518 out of 978\n",
      "Infer spikes for neuron 519 out of 978\n",
      "Infer spikes for neuron 520 out of 978\n",
      "Infer spikes for neuron 521 out of 978\n",
      "Infer spikes for neuron 522 out of 978\n",
      "Infer spikes for neuron 523 out of 978\n",
      "Infer spikes for neuron 524 out of 978\n",
      "Infer spikes for neuron 525 out of 978\n",
      "Infer spikes for neuron 526 out of 978\n",
      "Infer spikes for neuron 527 out of 978\n",
      "Infer spikes for neuron 528 out of 978\n",
      "Infer spikes for neuron 529 out of 978\n",
      "Infer spikes for neuron 530 out of 978\n",
      "Infer spikes for neuron 531 out of 978\n",
      "Infer spikes for neuron 532 out of 978\n",
      "Infer spikes for neuron 533 out of 978\n",
      "Infer spikes for neuron 534 out of 978\n",
      "Infer spikes for neuron 535 out of 978\n",
      "Infer spikes for neuron 536 out of 978\n",
      "Infer spikes for neuron 537 out of 978\n",
      "Infer spikes for neuron 538 out of 978\n",
      "Infer spikes for neuron 539 out of 978\n",
      "Infer spikes for neuron 540 out of 978\n",
      "Infer spikes for neuron 541 out of 978\n",
      "Infer spikes for neuron 542 out of 978\n",
      "Infer spikes for neuron 543 out of 978\n",
      "Infer spikes for neuron 544 out of 978\n",
      "Infer spikes for neuron 545 out of 978\n",
      "Infer spikes for neuron 546 out of 978\n",
      "Infer spikes for neuron 547 out of 978\n",
      "Infer spikes for neuron 548 out of 978\n",
      "Infer spikes for neuron 549 out of 978\n",
      "Infer spikes for neuron 550 out of 978\n",
      "Infer spikes for neuron 551 out of 978\n",
      "Infer spikes for neuron 552 out of 978\n",
      "Infer spikes for neuron 553 out of 978\n",
      "Infer spikes for neuron 554 out of 978\n",
      "Infer spikes for neuron 555 out of 978\n",
      "Infer spikes for neuron 556 out of 978\n",
      "Infer spikes for neuron 557 out of 978\n",
      "Infer spikes for neuron 558 out of 978\n",
      "Infer spikes for neuron 559 out of 978\n",
      "Infer spikes for neuron 560 out of 978\n",
      "Infer spikes for neuron 561 out of 978\n",
      "Infer spikes for neuron 562 out of 978\n",
      "Infer spikes for neuron 563 out of 978\n",
      "Infer spikes for neuron 564 out of 978\n",
      "Infer spikes for neuron 565 out of 978\n",
      "Infer spikes for neuron 566 out of 978\n",
      "Infer spikes for neuron 567 out of 978\n",
      "Infer spikes for neuron 568 out of 978\n",
      "Infer spikes for neuron 569 out of 978\n",
      "Infer spikes for neuron 570 out of 978\n",
      "Infer spikes for neuron 571 out of 978\n",
      "Infer spikes for neuron 572 out of 978\n",
      "Infer spikes for neuron 573 out of 978\n",
      "Infer spikes for neuron 574 out of 978\n",
      "Infer spikes for neuron 575 out of 978\n",
      "Infer spikes for neuron 576 out of 978\n",
      "Infer spikes for neuron 577 out of 978\n",
      "Infer spikes for neuron 578 out of 978\n",
      "Infer spikes for neuron 579 out of 978\n",
      "Infer spikes for neuron 580 out of 978\n",
      "Infer spikes for neuron 581 out of 978\n",
      "Infer spikes for neuron 582 out of 978\n",
      "Infer spikes for neuron 583 out of 978\n",
      "Infer spikes for neuron 584 out of 978\n",
      "Infer spikes for neuron 585 out of 978\n",
      "Infer spikes for neuron 586 out of 978\n",
      "Infer spikes for neuron 587 out of 978\n",
      "Infer spikes for neuron 588 out of 978\n",
      "Infer spikes for neuron 589 out of 978\n",
      "Infer spikes for neuron 590 out of 978\n",
      "Infer spikes for neuron 591 out of 978\n",
      "Infer spikes for neuron 592 out of 978\n",
      "Infer spikes for neuron 593 out of 978\n",
      "Infer spikes for neuron 594 out of 978\n",
      "Infer spikes for neuron 595 out of 978\n",
      "Infer spikes for neuron 596 out of 978\n",
      "Infer spikes for neuron 597 out of 978\n",
      "Infer spikes for neuron 598 out of 978\n",
      "Infer spikes for neuron 599 out of 978\n",
      "Infer spikes for neuron 600 out of 978\n",
      "Infer spikes for neuron 601 out of 978\n",
      "Infer spikes for neuron 602 out of 978\n",
      "Infer spikes for neuron 603 out of 978\n",
      "Infer spikes for neuron 604 out of 978\n",
      "Infer spikes for neuron 605 out of 978\n",
      "Infer spikes for neuron 606 out of 978\n",
      "Infer spikes for neuron 607 out of 978\n",
      "Infer spikes for neuron 608 out of 978\n",
      "Infer spikes for neuron 609 out of 978\n",
      "Infer spikes for neuron 610 out of 978\n",
      "Infer spikes for neuron 611 out of 978\n",
      "Infer spikes for neuron 612 out of 978\n",
      "Infer spikes for neuron 613 out of 978\n",
      "Infer spikes for neuron 614 out of 978\n",
      "Infer spikes for neuron 615 out of 978\n",
      "Infer spikes for neuron 616 out of 978\n",
      "Infer spikes for neuron 617 out of 978\n",
      "Infer spikes for neuron 618 out of 978\n",
      "Infer spikes for neuron 619 out of 978\n",
      "Infer spikes for neuron 620 out of 978\n",
      "Infer spikes for neuron 621 out of 978\n",
      "Infer spikes for neuron 622 out of 978\n",
      "Infer spikes for neuron 623 out of 978\n",
      "Infer spikes for neuron 624 out of 978\n",
      "Infer spikes for neuron 625 out of 978\n",
      "Infer spikes for neuron 626 out of 978\n",
      "Infer spikes for neuron 627 out of 978\n",
      "Infer spikes for neuron 628 out of 978\n",
      "Infer spikes for neuron 629 out of 978\n",
      "Infer spikes for neuron 630 out of 978\n",
      "Infer spikes for neuron 631 out of 978\n",
      "Infer spikes for neuron 632 out of 978\n",
      "Infer spikes for neuron 633 out of 978\n",
      "Infer spikes for neuron 634 out of 978\n",
      "Infer spikes for neuron 635 out of 978\n",
      "Infer spikes for neuron 636 out of 978\n"
     ]
    },
    {
     "name": "stdout",
     "output_type": "stream",
     "text": [
      "Infer spikes for neuron 637 out of 978\n",
      "Infer spikes for neuron 638 out of 978\n",
      "Infer spikes for neuron 639 out of 978\n",
      "Infer spikes for neuron 640 out of 978\n",
      "Infer spikes for neuron 641 out of 978\n",
      "Infer spikes for neuron 642 out of 978\n",
      "Infer spikes for neuron 643 out of 978\n",
      "Infer spikes for neuron 644 out of 978\n",
      "Infer spikes for neuron 645 out of 978\n",
      "Infer spikes for neuron 646 out of 978\n",
      "Infer spikes for neuron 647 out of 978\n",
      "Infer spikes for neuron 648 out of 978\n",
      "Infer spikes for neuron 649 out of 978\n",
      "Infer spikes for neuron 650 out of 978\n",
      "Infer spikes for neuron 651 out of 978\n",
      "Infer spikes for neuron 652 out of 978\n",
      "Infer spikes for neuron 653 out of 978\n",
      "Infer spikes for neuron 654 out of 978\n",
      "Infer spikes for neuron 655 out of 978\n",
      "Infer spikes for neuron 656 out of 978\n",
      "Infer spikes for neuron 657 out of 978\n",
      "Infer spikes for neuron 658 out of 978\n",
      "Infer spikes for neuron 659 out of 978\n",
      "Infer spikes for neuron 660 out of 978\n",
      "Infer spikes for neuron 661 out of 978\n",
      "Infer spikes for neuron 662 out of 978\n",
      "Infer spikes for neuron 663 out of 978\n",
      "Infer spikes for neuron 664 out of 978\n",
      "Infer spikes for neuron 665 out of 978\n",
      "Infer spikes for neuron 666 out of 978\n",
      "Infer spikes for neuron 667 out of 978\n",
      "Infer spikes for neuron 668 out of 978\n",
      "Infer spikes for neuron 669 out of 978\n",
      "Infer spikes for neuron 670 out of 978\n",
      "Infer spikes for neuron 671 out of 978\n",
      "Infer spikes for neuron 672 out of 978\n",
      "Infer spikes for neuron 673 out of 978\n",
      "Infer spikes for neuron 674 out of 978\n",
      "Infer spikes for neuron 675 out of 978\n",
      "Infer spikes for neuron 676 out of 978\n",
      "Infer spikes for neuron 677 out of 978\n",
      "Infer spikes for neuron 678 out of 978\n",
      "Infer spikes for neuron 679 out of 978\n",
      "Infer spikes for neuron 680 out of 978\n",
      "Infer spikes for neuron 681 out of 978\n",
      "Infer spikes for neuron 682 out of 978\n",
      "Infer spikes for neuron 683 out of 978\n",
      "Infer spikes for neuron 684 out of 978\n",
      "Infer spikes for neuron 685 out of 978\n",
      "Infer spikes for neuron 686 out of 978\n",
      "Infer spikes for neuron 687 out of 978\n",
      "Infer spikes for neuron 688 out of 978\n",
      "Infer spikes for neuron 689 out of 978\n",
      "Infer spikes for neuron 690 out of 978\n",
      "Infer spikes for neuron 691 out of 978\n",
      "Infer spikes for neuron 692 out of 978\n",
      "Infer spikes for neuron 693 out of 978\n",
      "Infer spikes for neuron 694 out of 978\n",
      "Infer spikes for neuron 695 out of 978\n",
      "Infer spikes for neuron 696 out of 978\n",
      "Infer spikes for neuron 697 out of 978\n",
      "Infer spikes for neuron 698 out of 978\n",
      "Infer spikes for neuron 699 out of 978\n",
      "Infer spikes for neuron 700 out of 978\n",
      "Infer spikes for neuron 701 out of 978\n",
      "Infer spikes for neuron 702 out of 978\n",
      "Infer spikes for neuron 703 out of 978\n",
      "Infer spikes for neuron 704 out of 978\n",
      "Infer spikes for neuron 705 out of 978\n",
      "Infer spikes for neuron 706 out of 978\n",
      "Infer spikes for neuron 707 out of 978\n",
      "Infer spikes for neuron 708 out of 978\n",
      "Infer spikes for neuron 709 out of 978\n",
      "Infer spikes for neuron 710 out of 978\n",
      "Infer spikes for neuron 711 out of 978\n",
      "Infer spikes for neuron 712 out of 978\n",
      "Infer spikes for neuron 713 out of 978\n",
      "Infer spikes for neuron 714 out of 978\n",
      "Infer spikes for neuron 715 out of 978\n",
      "Infer spikes for neuron 716 out of 978\n",
      "Infer spikes for neuron 717 out of 978\n",
      "Infer spikes for neuron 718 out of 978\n",
      "Infer spikes for neuron 719 out of 978\n",
      "Infer spikes for neuron 720 out of 978\n",
      "Infer spikes for neuron 721 out of 978\n",
      "Infer spikes for neuron 722 out of 978\n",
      "Infer spikes for neuron 723 out of 978\n",
      "Infer spikes for neuron 724 out of 978\n",
      "Infer spikes for neuron 725 out of 978\n",
      "Infer spikes for neuron 726 out of 978\n",
      "Infer spikes for neuron 727 out of 978\n",
      "Infer spikes for neuron 728 out of 978\n",
      "Infer spikes for neuron 729 out of 978\n",
      "Infer spikes for neuron 730 out of 978\n",
      "Infer spikes for neuron 731 out of 978\n",
      "Infer spikes for neuron 732 out of 978\n",
      "Infer spikes for neuron 733 out of 978\n",
      "Infer spikes for neuron 734 out of 978\n",
      "Infer spikes for neuron 735 out of 978\n",
      "Infer spikes for neuron 736 out of 978\n",
      "Infer spikes for neuron 737 out of 978\n",
      "Infer spikes for neuron 738 out of 978\n",
      "Infer spikes for neuron 739 out of 978\n",
      "Infer spikes for neuron 740 out of 978\n",
      "Infer spikes for neuron 741 out of 978\n",
      "Infer spikes for neuron 742 out of 978\n",
      "Infer spikes for neuron 743 out of 978\n",
      "Infer spikes for neuron 744 out of 978\n",
      "Infer spikes for neuron 745 out of 978\n",
      "Infer spikes for neuron 746 out of 978\n",
      "Infer spikes for neuron 747 out of 978\n",
      "Infer spikes for neuron 748 out of 978\n",
      "Infer spikes for neuron 749 out of 978\n",
      "Infer spikes for neuron 750 out of 978\n",
      "Infer spikes for neuron 751 out of 978\n",
      "Infer spikes for neuron 752 out of 978\n",
      "Infer spikes for neuron 753 out of 978\n",
      "Infer spikes for neuron 754 out of 978\n",
      "Infer spikes for neuron 755 out of 978\n",
      "Infer spikes for neuron 756 out of 978\n",
      "Infer spikes for neuron 757 out of 978\n",
      "Infer spikes for neuron 758 out of 978\n",
      "Infer spikes for neuron 759 out of 978\n",
      "Infer spikes for neuron 760 out of 978\n",
      "Infer spikes for neuron 761 out of 978\n",
      "Infer spikes for neuron 762 out of 978\n",
      "Infer spikes for neuron 763 out of 978\n",
      "Infer spikes for neuron 764 out of 978\n",
      "Infer spikes for neuron 765 out of 978\n",
      "Infer spikes for neuron 766 out of 978\n",
      "Infer spikes for neuron 767 out of 978\n",
      "Infer spikes for neuron 768 out of 978\n",
      "Infer spikes for neuron 769 out of 978\n",
      "Infer spikes for neuron 770 out of 978\n",
      "Infer spikes for neuron 771 out of 978\n",
      "Infer spikes for neuron 772 out of 978\n",
      "Infer spikes for neuron 773 out of 978\n",
      "Infer spikes for neuron 774 out of 978\n",
      "Infer spikes for neuron 775 out of 978\n",
      "Infer spikes for neuron 776 out of 978\n",
      "Infer spikes for neuron 777 out of 978\n",
      "Infer spikes for neuron 778 out of 978\n",
      "Infer spikes for neuron 779 out of 978\n",
      "Infer spikes for neuron 780 out of 978\n",
      "Infer spikes for neuron 781 out of 978\n",
      "Infer spikes for neuron 782 out of 978\n",
      "Infer spikes for neuron 783 out of 978\n",
      "Infer spikes for neuron 784 out of 978\n",
      "Infer spikes for neuron 785 out of 978\n",
      "Infer spikes for neuron 786 out of 978\n",
      "Infer spikes for neuron 787 out of 978\n",
      "Infer spikes for neuron 788 out of 978\n",
      "Infer spikes for neuron 789 out of 978\n",
      "Infer spikes for neuron 790 out of 978\n",
      "Infer spikes for neuron 791 out of 978\n",
      "Infer spikes for neuron 792 out of 978\n",
      "Infer spikes for neuron 793 out of 978\n",
      "Infer spikes for neuron 794 out of 978\n",
      "Infer spikes for neuron 795 out of 978\n",
      "Infer spikes for neuron 796 out of 978\n",
      "Infer spikes for neuron 797 out of 978\n",
      "Infer spikes for neuron 798 out of 978\n",
      "Infer spikes for neuron 799 out of 978\n",
      "Infer spikes for neuron 800 out of 978\n",
      "Infer spikes for neuron 801 out of 978\n",
      "Infer spikes for neuron 802 out of 978\n",
      "Infer spikes for neuron 803 out of 978\n",
      "Infer spikes for neuron 804 out of 978\n",
      "Infer spikes for neuron 805 out of 978\n",
      "Infer spikes for neuron 806 out of 978\n",
      "Infer spikes for neuron 807 out of 978\n",
      "Infer spikes for neuron 808 out of 978\n",
      "Infer spikes for neuron 809 out of 978\n",
      "Infer spikes for neuron 810 out of 978\n",
      "Infer spikes for neuron 811 out of 978\n",
      "Infer spikes for neuron 812 out of 978\n",
      "Infer spikes for neuron 813 out of 978\n",
      "Infer spikes for neuron 814 out of 978\n",
      "Infer spikes for neuron 815 out of 978\n",
      "Infer spikes for neuron 816 out of 978\n",
      "Infer spikes for neuron 817 out of 978\n",
      "Infer spikes for neuron 818 out of 978\n",
      "Infer spikes for neuron 819 out of 978\n",
      "Infer spikes for neuron 820 out of 978\n",
      "Infer spikes for neuron 821 out of 978\n",
      "Infer spikes for neuron 822 out of 978\n",
      "Infer spikes for neuron 823 out of 978\n",
      "Infer spikes for neuron 824 out of 978\n",
      "Infer spikes for neuron 825 out of 978\n",
      "Infer spikes for neuron 826 out of 978\n",
      "Infer spikes for neuron 827 out of 978\n",
      "Infer spikes for neuron 828 out of 978\n",
      "Infer spikes for neuron 829 out of 978\n",
      "Infer spikes for neuron 830 out of 978\n",
      "Infer spikes for neuron 831 out of 978\n",
      "Infer spikes for neuron 832 out of 978\n",
      "Infer spikes for neuron 833 out of 978\n",
      "Infer spikes for neuron 834 out of 978\n",
      "Infer spikes for neuron 835 out of 978\n",
      "Infer spikes for neuron 836 out of 978\n",
      "Infer spikes for neuron 837 out of 978\n",
      "Infer spikes for neuron 838 out of 978\n",
      "Infer spikes for neuron 839 out of 978\n",
      "Infer spikes for neuron 840 out of 978\n",
      "Infer spikes for neuron 841 out of 978\n",
      "Infer spikes for neuron 842 out of 978\n",
      "Infer spikes for neuron 843 out of 978\n",
      "Infer spikes for neuron 844 out of 978\n",
      "Infer spikes for neuron 845 out of 978\n",
      "Infer spikes for neuron 846 out of 978\n",
      "Infer spikes for neuron 847 out of 978\n"
     ]
    },
    {
     "name": "stdout",
     "output_type": "stream",
     "text": [
      "Infer spikes for neuron 848 out of 978\n",
      "Infer spikes for neuron 849 out of 978\n",
      "Infer spikes for neuron 850 out of 978\n",
      "Infer spikes for neuron 851 out of 978\n",
      "Infer spikes for neuron 852 out of 978\n",
      "Infer spikes for neuron 853 out of 978\n",
      "Infer spikes for neuron 854 out of 978\n",
      "Infer spikes for neuron 855 out of 978\n",
      "Infer spikes for neuron 856 out of 978\n",
      "Infer spikes for neuron 857 out of 978\n",
      "Infer spikes for neuron 858 out of 978\n",
      "Infer spikes for neuron 859 out of 978\n",
      "Infer spikes for neuron 860 out of 978\n",
      "Infer spikes for neuron 861 out of 978\n",
      "Infer spikes for neuron 862 out of 978\n",
      "Infer spikes for neuron 863 out of 978\n",
      "Infer spikes for neuron 864 out of 978\n",
      "Infer spikes for neuron 865 out of 978\n",
      "Infer spikes for neuron 866 out of 978\n",
      "Infer spikes for neuron 867 out of 978\n",
      "Infer spikes for neuron 868 out of 978\n",
      "Infer spikes for neuron 869 out of 978\n",
      "Infer spikes for neuron 870 out of 978\n",
      "Infer spikes for neuron 871 out of 978\n",
      "Infer spikes for neuron 872 out of 978\n",
      "Infer spikes for neuron 873 out of 978\n",
      "Infer spikes for neuron 874 out of 978\n",
      "Infer spikes for neuron 875 out of 978\n",
      "Infer spikes for neuron 876 out of 978\n",
      "Infer spikes for neuron 877 out of 978\n",
      "Infer spikes for neuron 878 out of 978\n",
      "Infer spikes for neuron 879 out of 978\n",
      "Infer spikes for neuron 880 out of 978\n",
      "Infer spikes for neuron 881 out of 978\n",
      "Infer spikes for neuron 882 out of 978\n",
      "Infer spikes for neuron 883 out of 978\n",
      "Infer spikes for neuron 884 out of 978\n",
      "Infer spikes for neuron 885 out of 978\n",
      "Infer spikes for neuron 886 out of 978\n",
      "Infer spikes for neuron 887 out of 978\n",
      "Infer spikes for neuron 888 out of 978\n",
      "Infer spikes for neuron 889 out of 978\n",
      "Infer spikes for neuron 890 out of 978\n",
      "Infer spikes for neuron 891 out of 978\n",
      "Infer spikes for neuron 892 out of 978\n",
      "Infer spikes for neuron 893 out of 978\n",
      "Infer spikes for neuron 894 out of 978\n",
      "Infer spikes for neuron 895 out of 978\n",
      "Infer spikes for neuron 896 out of 978\n",
      "Infer spikes for neuron 897 out of 978\n",
      "Infer spikes for neuron 898 out of 978\n",
      "Infer spikes for neuron 899 out of 978\n",
      "Infer spikes for neuron 900 out of 978\n",
      "Infer spikes for neuron 901 out of 978\n",
      "Infer spikes for neuron 902 out of 978\n",
      "Infer spikes for neuron 903 out of 978\n",
      "Infer spikes for neuron 904 out of 978\n",
      "Infer spikes for neuron 905 out of 978\n",
      "Infer spikes for neuron 906 out of 978\n",
      "Infer spikes for neuron 907 out of 978\n",
      "Infer spikes for neuron 908 out of 978\n",
      "Infer spikes for neuron 909 out of 978\n",
      "Infer spikes for neuron 910 out of 978\n",
      "Infer spikes for neuron 911 out of 978\n",
      "Infer spikes for neuron 912 out of 978\n",
      "Infer spikes for neuron 913 out of 978\n",
      "Infer spikes for neuron 914 out of 978\n",
      "Infer spikes for neuron 915 out of 978\n",
      "Infer spikes for neuron 916 out of 978\n",
      "Infer spikes for neuron 917 out of 978\n",
      "Infer spikes for neuron 918 out of 978\n",
      "Infer spikes for neuron 919 out of 978\n",
      "Infer spikes for neuron 920 out of 978\n",
      "Infer spikes for neuron 921 out of 978\n",
      "Infer spikes for neuron 922 out of 978\n",
      "Infer spikes for neuron 923 out of 978\n",
      "Infer spikes for neuron 924 out of 978\n",
      "Infer spikes for neuron 925 out of 978\n",
      "Infer spikes for neuron 926 out of 978\n",
      "Infer spikes for neuron 927 out of 978\n",
      "Infer spikes for neuron 928 out of 978\n",
      "Infer spikes for neuron 929 out of 978\n",
      "Infer spikes for neuron 930 out of 978\n",
      "Infer spikes for neuron 931 out of 978\n",
      "Infer spikes for neuron 932 out of 978\n",
      "Infer spikes for neuron 933 out of 978\n",
      "Infer spikes for neuron 934 out of 978\n",
      "Infer spikes for neuron 935 out of 978\n",
      "Infer spikes for neuron 936 out of 978\n",
      "Infer spikes for neuron 937 out of 978\n",
      "Infer spikes for neuron 938 out of 978\n",
      "Infer spikes for neuron 939 out of 978\n",
      "Infer spikes for neuron 940 out of 978\n",
      "Infer spikes for neuron 941 out of 978\n",
      "Infer spikes for neuron 942 out of 978\n",
      "Infer spikes for neuron 943 out of 978\n",
      "Infer spikes for neuron 944 out of 978\n",
      "Infer spikes for neuron 945 out of 978\n",
      "Infer spikes for neuron 946 out of 978\n",
      "Infer spikes for neuron 947 out of 978\n",
      "Infer spikes for neuron 948 out of 978\n",
      "Infer spikes for neuron 949 out of 978\n",
      "Infer spikes for neuron 950 out of 978\n",
      "Infer spikes for neuron 951 out of 978\n",
      "Infer spikes for neuron 952 out of 978\n",
      "Infer spikes for neuron 953 out of 978\n",
      "Infer spikes for neuron 954 out of 978\n",
      "Infer spikes for neuron 955 out of 978\n",
      "Infer spikes for neuron 956 out of 978\n",
      "Infer spikes for neuron 957 out of 978\n",
      "Infer spikes for neuron 958 out of 978\n",
      "Infer spikes for neuron 959 out of 978\n",
      "Infer spikes for neuron 960 out of 978\n",
      "Infer spikes for neuron 961 out of 978\n",
      "Infer spikes for neuron 962 out of 978\n",
      "Infer spikes for neuron 963 out of 978\n",
      "Infer spikes for neuron 964 out of 978\n",
      "Infer spikes for neuron 965 out of 978\n",
      "Infer spikes for neuron 966 out of 978\n",
      "Infer spikes for neuron 967 out of 978\n",
      "Infer spikes for neuron 968 out of 978\n",
      "Infer spikes for neuron 969 out of 978\n",
      "Infer spikes for neuron 970 out of 978\n",
      "Infer spikes for neuron 971 out of 978\n",
      "Infer spikes for neuron 972 out of 978\n",
      "Infer spikes for neuron 973 out of 978\n",
      "Infer spikes for neuron 974 out of 978\n",
      "Infer spikes for neuron 975 out of 978\n",
      "Infer spikes for neuron 976 out of 978\n",
      "Infer spikes for neuron 977 out of 978\n",
      "Infer spikes for neuron 978 out of 978\n"
     ]
    }
   ],
   "source": [
    "\n",
    "# Infer the discrete spike events, simply call\n",
    "Data.Encoding.Cascade.inferDiscreteSpikes()\n",
    "\n",
    "# If you have an infinite loop:\n",
    "# you are looking at a neuron that should have been dropped for\n",
    "# (1) exceedingly poor SNR\n",
    "# (2) major trend in the data (e.g., lots of bleaching)\n",
    "# (3) abnormal phenotype for particular model-- think of training your own!"
   ]
  },
  {
   "cell_type": "markdown",
   "metadata": {
    "pycharm": {
     "name": "#%% md\n"
    }
   },
   "source": [
    "### Save Progress"
   ]
  },
  {
   "cell_type": "code",
   "execution_count": 28,
   "metadata": {
    "pycharm": {
     "is_executing": true,
     "name": "#%%\n"
    }
   },
   "outputs": [
    {
     "name": "stderr",
     "output_type": "stream",
     "text": [
      "C:\\ProgramData\\Anaconda3\\envs\\Calcium-Imaging-Analysis-Pipeline\\lib\\site-packages\\numpy\\lib\\npyio.py:528: VisibleDeprecationWarning: Creating an ndarray from ragged nested sequences (which is a list-or-tuple of lists-or-tuples-or ndarrays with different lengths or shapes) is deprecated. If you meant to do this, you must specify 'dtype=object' when creating the ndarray.\n",
      "  arr = np.asanyarray(arr)\n"
     ]
    }
   ],
   "source": [
    "Data.Encoding.Cascade.saveSpikeInference(Data.Encoding.Fissa.output_folder)"
   ]
  },
  {
   "cell_type": "markdown",
   "metadata": {
    "pycharm": {
     "name": "#%%\n"
    }
   },
   "source": [
    "### Export to MATLab for MATLab Analyses"
   ]
  },
  {
   "cell_type": "code",
   "execution_count": 29,
   "metadata": {
    "pycharm": {
     "is_executing": true,
     "name": "#%%\n"
    }
   },
   "outputs": [
    {
     "name": "stderr",
     "output_type": "stream",
     "text": [
      "C:\\Users\\YUSTE\\AppData\\Roaming\\Python\\Python37\\site-packages\\scipy\\io\\matlab\\mio5.py:450: VisibleDeprecationWarning: Creating an ndarray from ragged nested sequences (which is a list-or-tuple of lists-or-tuples-or ndarrays with different lengths or shapes) is deprecated. If you meant to do this, you must specify 'dtype=object' when creating the ndarray.\n",
      "  narr = np.asanyarray(source)\n"
     ]
    }
   ],
   "source": [
    "# Here, we can export the spike prob or events to matlab .mat files\n",
    "Data.Cascade.exportSpikeProb(Data.Encoding.Fissa.output_folder)\n",
    "Data.Cascade.exportSpikeInference(Data.Encoding.Fissa.output_folder)"
   ]
  },
  {
   "cell_type": "markdown",
   "metadata": {},
   "source": [
    "# Visualization"
   ]
  },
  {
   "cell_type": "markdown",
   "metadata": {},
   "source": [
    "### Assess Inference of Spike Probability & Approximation of Discrete Spikes"
   ]
  },
  {
   "cell_type": "code",
   "execution_count": 30,
   "metadata": {
    "pycharm": {
     "is_executing": true
    }
   },
   "outputs": [
    {
     "name": "stdout",
     "output_type": "stream",
     "text": [
      "right\n"
     ]
    },
    {
     "name": "stderr",
     "output_type": "stream",
     "text": [
      "Traceback (most recent call last):\n",
      "  File \"C:\\ProgramData\\Anaconda3\\envs\\Calcium-Imaging-Analysis-Pipeline\\lib\\site-packages\\matplotlib\\cbook\\__init__.py\", line 287, in process\n",
      "    func(*args, **kwargs)\n",
      "  File \"C:\\ProgramData\\Anaconda3\\envs\\Calcium-Imaging-Analysis-Pipeline\\AnalysisModules\\StaticPlotting.py\", line 147, in on_key\n",
      "    if xmin_slider < xmin_slider.valmax:\n",
      "TypeError: '>' not supported between instances of 'float' and 'Slider'\n"
     ]
    },
    {
     "name": "stdout",
     "output_type": "stream",
     "text": [
      "right\n"
     ]
    },
    {
     "name": "stderr",
     "output_type": "stream",
     "text": [
      "Traceback (most recent call last):\n",
      "  File \"C:\\ProgramData\\Anaconda3\\envs\\Calcium-Imaging-Analysis-Pipeline\\lib\\site-packages\\matplotlib\\cbook\\__init__.py\", line 287, in process\n",
      "    func(*args, **kwargs)\n",
      "  File \"C:\\ProgramData\\Anaconda3\\envs\\Calcium-Imaging-Analysis-Pipeline\\AnalysisModules\\StaticPlotting.py\", line 147, in on_key\n",
      "    if xmin_slider < xmin_slider.valmax:\n",
      "TypeError: '>' not supported between instances of 'float' and 'Slider'\n"
     ]
    }
   ],
   "source": [
    "from AnalysisModules.StaticPlotting import assessSpikeInference\n",
    "assessSpikeInference(Data.Encoding.Cascade.spike_prob, Data.Encoding.Cascade.spike_time_estimates, Data.Encoding.Cascade.traces, Data.Encoding.Cascade.frame_rate)"
   ]
  },
  {
   "cell_type": "code",
   "execution_count": 31,
   "metadata": {
    "pycharm": {
     "is_executing": true,
     "name": "#%%\n"
    }
   },
   "outputs": [
    {
     "ename": "AttributeError",
     "evalue": "'FissaModule' object has no attribute 'saveHierarchy'",
     "output_type": "error",
     "traceback": [
      "\u001B[1;31m---------------------------------------------------------------------------\u001B[0m",
      "\u001B[1;31mAttributeError\u001B[0m                            Traceback (most recent call last)",
      "\u001B[1;32m<ipython-input-31-25b1c0300056>\u001B[0m in \u001B[0;36m<module>\u001B[1;34m\u001B[0m\n\u001B[1;32m----> 1\u001B[1;33m \u001B[0mData\u001B[0m\u001B[1;33m.\u001B[0m\u001B[0msaveHierarchy\u001B[0m\u001B[1;33m(\u001B[0m\u001B[1;33m)\u001B[0m\u001B[1;33m\u001B[0m\u001B[1;33m\u001B[0m\u001B[0m\n\u001B[0m",
      "\u001B[1;31mAttributeError\u001B[0m: 'FissaModule' object has no attribute 'saveHierarchy'"
     ]
    }
   ],
   "source": [
    "Data.Encoding.saveHierarchy()"
   ]
  }
 ],
 "metadata": {
  "kernelspec": {
   "display_name": "Python 3",
   "language": "python",
   "name": "python3"
  },
  "language_info": {
   "codemirror_mode": {
    "name": "ipython",
    "version": 3
   },
   "file_extension": ".py",
   "mimetype": "text/x-python",
   "name": "python",
   "nbconvert_exporter": "python",
   "pygments_lexer": "ipython3",
   "version": "3.7.12"
  }
 },
 "nbformat": 4,
 "nbformat_minor": 1
}