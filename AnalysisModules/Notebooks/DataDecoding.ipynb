{
 "cells": [
  {
   "cell_type": "markdown",
   "metadata": {
    "collapsed": true,
    "pycharm": {
     "name": "#%% md\n"
    }
   },
   "source": [
    "# Encoding & Decoding Techniques & Calcium Imaging Data"
   ]
  },
  {
   "cell_type": "markdown",
   "metadata": {},
   "source": [
    "### A Collection of Methods for Developing Encoding & Decoding Models using Calcium Imaging Data\n",
    "**Decoding Options:** Logistic Regression, Linear Regression, Linear Non-Linear Regression\n",
    "\n",
    "**Encoding Options:**\n",
    "\n",
    "**Encoding-Decoding Options:**\n",
    "\n",
    "**To Be Implemented:** Principal Component Analysis, Tensor Component Analysis, Manifold Inference from Neural Dynamics, Hidden-Markov Model,  Sparse Non-Linear Dynamical Systems\n",
    "\n",
    "**Maybe Someday:** Variational Auto-Encoder, Recurrent Switching Linear Dynamical Systems, Sparse-Subspace Analysis, \n",
    "Non-Negative Matrix Factorization\n"
   ]
  },
  {
   "cell_type": "markdown",
   "metadata": {},
   "source": [
    "### Relevant Citations / Dependencies\n",
    "\n",
    "**Linear Non-Linear Regression ->** Neural Decoding Package from Joshua Glaser via Kording Lab <br>\n",
    "**Hidden-Markov Model ->** State-Space Modeling (SSM / SSM-jax) Package from Linderman Lab <br>\n",
    "**Manifold Inference from Neural Dynamics (MIND) ->** Annonated implementation by Quentin RV Ferry of Tonegawa Lab (*Method*: Tank Lab) <br>\n",
    "**Sparse Non-Linear Dynamical Systems ->** PySINDY Packge from the Dynamics Lab at UW"
   ]
  },
  {
   "cell_type": "markdown",
   "metadata": {
    "pycharm": {
     "name": "#%% md\n"
    }
   },
   "source": [
    "# Housekeeping: Importing Modules, Loading and Organization of Data"
   ]
  },
  {
   "cell_type": "markdown",
   "metadata": {},
   "source": [
    "### Module Import"
   ]
  },
  {
   "cell_type": "code",
   "execution_count": null,
   "metadata": {
    "pycharm": {
     "name": "#%%\n"
    }
   },
   "outputs": [],
   "source": [
    "# FISSA: Signal Extraction & Source-Separation\n",
    "# Load this module to organize loading our trace data\n",
    "from AnalysisModules.FissaAnalysis import FissaModule\n",
    "\n",
    "# CASCADE: Spike Inference\n",
    "# Load this module to organize loading our inference data\n",
    "from AnalysisModules.CascadeAnalysis import CascadeModule\n",
    "\n",
    "# Visualization Packages\n",
    "import matplotlib\n",
    "#%matplotlib inline\n",
    "matplotlib.use('Qt5Agg')\n",
    "\n",
    "# General Packages\n",
    "import numpy as np"
   ]
  },
  {
   "cell_type": "markdown",
   "metadata": {
    "pycharm": {
     "name": "#%% md\n"
    }
   },
   "source": [
    "### Load Data in Organized Form"
   ]
  },
  {
   "cell_type": "code",
   "execution_count": null,
   "metadata": {
    "pycharm": {
     "name": "#%%\n"
    }
   },
   "outputs": [],
   "source": [
    "# Instantiate Traces & Associated Data\n",
    "Data = FissaModule(data_folder=\"H:\\\\DEM_Excitatory_Study\\\\DEM2\\\\Retrieval\\\\Imaging\\\\10Hz\", index_path=\"H:\\\\DEM_Excitatory_Study\\\\DEM2\\\\Retrieval\\\\Imaging\\\\10Hz\\\\NeuronalIndex.csv\")\n",
    "\n",
    "# Initialize\n",
    "Data.initializeFissa()\n",
    "\n",
    "# Load\n",
    "Data.loadFissaPrep()\n",
    "Data.loadFissaSep()\n",
    "Data.loadProcessedTraces()\n",
    "\n",
    "# Instantiate Firing Rates & Associated Data\n",
    "Data.Cascade = CascadeModule(Data.ProcessedTraces.merged_dFoF_result, Data.frame_rate, model_folder=\"C:\\\\ProgramData\\\\Anaconda3\\\\envs\\\\suite2p\\\\Pretrained_models\")\n",
    "Data.Cascade.loadSpikeProb(load_path=Data.output_folder)\n",
    "Data.Cascade.loadSpikeInference(load_path=Data.output_folder)\n",
    "Data.Cascade.loadProcessedInferences(load_path=Data.output_folder)"
   ]
  },
  {
   "cell_type": "markdown",
   "metadata": {},
   "source": [
    "# Decoding Methods"
   ]
  },
  {
   "cell_type": "markdown",
   "metadata": {},
   "source": [
    "### Logistic Regression"
   ]
  },
  {
   "cell_type": "code",
   "execution_count": null,
   "metadata": {
    "pycharm": {
     "name": "#%%\n"
    }
   },
   "outputs": [],
   "source": [
    "# Logistic Regression\n",
    "from AnalysisModules.DecodingAnalysis import LogisticRegression\n",
    "\n",
    "# Instance\n",
    "Data.LogReg = LogisticRegression(NeuralData=Data.Cascade.ProcessedInferences.firing_rates, FeatureDataFile=\"C:\\\\ProgramData\\\\Anaconda3\\\\envs\\\\Calcium-Imaging-Analysis-Pipeline\\\\DEM2_RET_FeatureList.csv\")\n",
    "\n",
    "# Select Feature\n",
    "Data.LogReg.label_data = Data.LogReg.feature_data[5, :]\n",
    "\n",
    "# Set FR == 0 when NaN\n",
    "Data.LogReg.neural_data[np.isnan(Data.LogReg.neural_data)]=0\n",
    "\n",
    "# Split\n",
    "Data.LogReg.splitData()\n",
    "\n",
    "# Fit\n",
    "Data.LogReg.fitModel(penalty='l1', solver='liblinear', max_iter=100000)\n",
    "\n",
    "# Assess on Training\n",
    "Data.LogReg.assessFit()\n",
    "\n",
    "# Make Predictions on Withheld Data\n",
    "Data.LogReg.makeAllPredictions()\n",
    "\n",
    "# Extended Assessment\n",
    "Data.LogReg.commonAssessment()\n",
    "Data.LogReg.printAssessment()"
   ]
  },
  {
   "cell_type": "markdown",
   "metadata": {},
   "source": [
    "### Linear Regression"
   ]
  },
  {
   "cell_type": "code",
   "execution_count": null,
   "metadata": {
    "pycharm": {
     "name": "#%%\n"
    }
   },
   "outputs": [],
   "source": [
    "# Linear Regression\n",
    "from AnalysisModules.DecodingAnalysis import LinearRegression\n",
    "\n",
    "# Instance\n",
    "Data.LinReg = LinearRegression(NeuralData=Data.Cascade.ProcessedInferences.firing_rates, FeatureDataFile=\"C:\\\\ProgramData\\\\Anaconda3\\\\envs\\\\Calcium-Imaging-Analysis-Pipeline\\\\DEM2_RET_FeatureList.csv\")\n",
    "\n",
    "# Select Feature\n",
    "Data.LinReg.label_data = Data.LinReg.feature_data[5, :]\n",
    "\n",
    "# Set FR == 0 when NaN\n",
    "Data.LinReg.neural_data[np.isnan(Data.LinReg.neural_data)]=0\n",
    "\n",
    "# Split\n",
    "Data.LinReg.splitData()\n",
    "\n",
    "# Fit\n",
    "Data.LinReg.fitModel(fit_intercept=True)\n",
    "\n",
    "# Assess on Training\n",
    "Data.LinReg.assessFit()\n",
    "\n",
    "# Make Predictions on Withheld Data\n",
    "Data.LinReg.makeAllPredictions()\n",
    "\n",
    "# Extended Assessment\n",
    "Data.LinReg.commonAssessment()\n",
    "Data.LinReg.printAssessment()"
   ]
  },
  {
   "cell_type": "markdown",
   "metadata": {},
   "source": [
    "### Linear Non-Linear Regression"
   ]
  },
  {
   "cell_type": "code",
   "execution_count": null,
   "metadata": {},
   "outputs": [],
   "source": [
    "# Linear Non-Linear Regression\n",
    "from AnalysisModules.DecodingAnalysis import LinearNonLinearRegression\n",
    "\n",
    "# Instance\n",
    "Data.LinNonLinReg = LinearNoneLinearRegression(NeuralData=Data.Cascade.ProcessedInferences.firing_rates, FeatureDataFile=\"C:\\\\ProgramData\\\\Anaconda3\\\\envs\\\\Calcium-Imaging-Analysis-Pipeline\\\\DEM2_RET_FeatureList.csv\")\n",
    "\n",
    "# Select Feature\n",
    "Data.LinNonLinReg.label_data = Data.LinReg.feature_data[5, :]\n",
    "\n",
    "# Set FR == 0 when NaN\n",
    "Data.LinNonLinReg.neural_data[np.isnan(Data.LinReg.neural_data)]=0\n",
    "\n",
    "# Split\n",
    "Data.LinNonLinReg.splitData()\n",
    "\n",
    "# Fit\n",
    "Data.LinNonLinReg.fitModel(fit_intercept=True)\n",
    "\n",
    "# Assess on Training\n",
    "Data.LinNonLinReg.assessFit()\n",
    "\n",
    "# Make Predictions on Withheld Data\n",
    "Data.LinNonLinReg.makeAllPredictions()\n",
    "\n",
    "# Extended Assessment\n",
    "Data.LinNonLinReg.commonAssessment()\n",
    "Data.LinNonLinReg.printAssessment()"
   ]
  }
 ],
 "metadata": {
  "kernelspec": {
   "display_name": "Python 3",
   "language": "python",
   "name": "python3"
  },
  "language_info": {
   "codemirror_mode": {
    "name": "ipython",
    "version": 3
   },
   "file_extension": ".py",
   "mimetype": "text/x-python",
   "name": "python",
   "nbconvert_exporter": "python",
   "pygments_lexer": "ipython3",
   "version": "3.7.12"
  }
 },
 "nbformat": 4,
 "nbformat_minor": 1
}
