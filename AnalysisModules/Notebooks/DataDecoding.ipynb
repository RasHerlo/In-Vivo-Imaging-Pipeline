{
 "cells": [
  {
   "cell_type": "markdown",
   "metadata": {
    "collapsed": true,
    "pycharm": {
     "name": "#%% md\n"
    }
   },
   "source": [
    "# Decoding Behavior from Behavior"
   ]
  },
  {
   "cell_type": "markdown",
   "source": [
    "### Import"
   ],
   "metadata": {
    "collapsed": false,
    "pycharm": {
     "name": "#%% md\n"
    }
   }
  },
  {
   "cell_type": "code",
   "execution_count": 1,
   "outputs": [
    {
     "name": "stderr",
     "output_type": "stream",
     "text": [
      "C:\\ProgramData\\Anaconda3\\envs\\Calcium-Imaging-Analysis-Pipeline\\lib\\site-packages\\_distutils_hack\\__init__.py:33: UserWarning: Setuptools is replacing distutils.\n",
      "  warnings.warn(\"Setuptools is replacing distutils.\")\n"
     ]
    },
    {
     "name": "stdout",
     "output_type": "stream",
     "text": [
      "\tYAML reader installed (version 0.17.17).\n"
     ]
    },
    {
     "name": "stderr",
     "output_type": "stream",
     "text": [
      "Using TensorFlow backend.\n"
     ]
    },
    {
     "name": "stdout",
     "output_type": "stream",
     "text": [
      "\tKeras installed (version 2.3.1).\n",
      "\tTensorflow installed (version 2.3.0).\n"
     ]
    }
   ],
   "source": [
    "# FISSA: Signal Extraction & Source-Separation\n",
    "# Load this module to organize loading our trace data\n",
    "from AnalysisModules.FissaAnalysis import FissaModule\n",
    "\n",
    "# CASCADE: Spike Inference\n",
    "# Load this module to organize loading our inference data\n",
    "from AnalysisModules.CascadeAnalysis import CascadeModule\n",
    "\n",
    "# Behavioral Decoder\n",
    "# Load this module to organize encoding-decoding analyses\n",
    "# Interfaces Neural Decoding Package from Joshua Glaser via Kording Lab.\n",
    "# Interfaces with State-Space Modeling (SSM / SSM-jax) Package from Scott Linderman Lab\n",
    "# Interfaces with an annotated implementation of\n",
    "# Manifold Inference from Neural Dynamics Package (MIND) from David Tank Lab\n",
    "# Annotated/Implemented by Quentin RV Ferry via Tonegawa Lab\n",
    "# Interfaces with PySindy Package from the Dynamics Lab at UW\n",
    "from AnalysisModules.BehavioralDecoding import BehavioralDecoder\n",
    "\n",
    "# Visualization Packages\n",
    "import matplotlib\n",
    "#matplotlib inline\n",
    "matplotlib.use('Qt5Agg')"
   ],
   "metadata": {
    "collapsed": false,
    "pycharm": {
     "name": "#%%\n"
    }
   }
  },
  {
   "cell_type": "markdown",
   "source": [
    "### Load Data"
   ],
   "metadata": {
    "collapsed": false,
    "pycharm": {
     "name": "#%% md\n"
    }
   }
  },
  {
   "cell_type": "code",
   "execution_count": 3,
   "outputs": [
    {
     "name": "stdout",
     "output_type": "stream",
     "text": [
      "Initialized Fissa\n",
      "Loading Fissa Preparation...\n",
      "Finished Loading Fissa Prep\n",
      "Loading Fissa Separation...\n",
      "Finished Loading Fissa Sep\n",
      "Loading Processed Traces...\n",
      "Finished Loading Processed Traces.\n",
      "Loading Spike Probabilities from Load Path...\n",
      "Finished Loading Spike Probabilities\n",
      "Loading Spike Times from Load Path...\n",
      "Loading Discrete Approximations from Load Path...\n",
      "Loading Processed Inferences...\n",
      "Finished Loading Processed Traces.\n"
     ]
    }
   ],
   "source": [
    "# Instantiate Traces & Associated Data\n",
    "Data = FissaModule(data_folder=\"H:\\\\DEM_Excitatory_Study\\\\DEM2\\\\Retrieval\\\\Imaging\\\\10Hz\", index_path=\"H:\\\\DEM_Excitatory_Study\\\\DEM2\\\\Retrieval\\\\Imaging\\\\10Hz\\\\NeuronalIndex.csv\")\n",
    "# Initialize\n",
    "Data.initializeFissa()\n",
    "# Load\n",
    "Data.loadFissaPrep()\n",
    "Data.loadFissaSep()\n",
    "Data.loadProcessedTraces()\n",
    "\n",
    "# Instantiate Firing Rates & Associated Data\n",
    "Data.Cascade = CascadeModule(Data.ProcessedTraces.merged_dFoF_result, Data.frame_rate, model_folder=\"C:\\\\ProgramData\\\\Anaconda3\\\\envs\\\\suite2p\\\\Pretrained_models\")\n",
    "Data.Cascade.loadSpikeProb(load_path=Data.output_folder)\n",
    "Data.Cascade.loadSpikeInference(load_path=Data.output_folder)\n",
    "Data.Cascade.loadProcessedInferences(load_path=Data.output_folder)"
   ],
   "metadata": {
    "collapsed": false,
    "pycharm": {
     "name": "#%%\n"
    }
   }
  },
  {
   "cell_type": "markdown",
   "source": [],
   "metadata": {
    "collapsed": false,
    "pycharm": {
     "name": "#%% md\n"
    }
   }
  },
  {
   "cell_type": "code",
   "execution_count": null,
   "outputs": [],
   "source": [
    "BD = BehavioralDecoder(NeuralData=Data.ProcessedTraces.dFoF_result)"
   ],
   "metadata": {
    "collapsed": false,
    "pycharm": {
     "name": "#%%\n"
    }
   }
  },
  {
   "cell_type": "markdown",
   "source": [],
   "metadata": {
    "collapsed": false,
    "pycharm": {
     "name": "#%% md\n"
    }
   }
  }
 ],
 "metadata": {
  "kernelspec": {
   "display_name": "Python 3",
   "language": "python",
   "name": "python3"
  },
  "language_info": {
   "codemirror_mode": {
    "name": "ipython",
    "version": 2
   },
   "file_extension": ".py",
   "mimetype": "text/x-python",
   "name": "python",
   "nbconvert_exporter": "python",
   "pygments_lexer": "ipython2",
   "version": "2.7.6"
  }
 },
 "nbformat": 4,
 "nbformat_minor": 0
}