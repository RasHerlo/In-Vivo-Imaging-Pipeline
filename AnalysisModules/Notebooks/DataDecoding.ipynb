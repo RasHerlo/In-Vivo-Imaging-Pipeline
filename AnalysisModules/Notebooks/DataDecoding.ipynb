{
 "cells": [
  {
   "cell_type": "markdown",
   "metadata": {
    "collapsed": true,
    "pycharm": {
     "name": "#%% md\n"
    }
   },
   "source": [
    "# Decoding Behavior from Behavior"
   ]
  },
  {
   "cell_type": "markdown",
   "metadata": {
    "pycharm": {
     "name": "#%% md\n"
    }
   },
   "source": [
    "### Import"
   ]
  },
  {
   "cell_type": "code",
   "execution_count": 1,
   "metadata": {
    "pycharm": {
     "name": "#%%\n"
    }
   },
   "outputs": [
    {
     "name": "stderr",
     "output_type": "stream",
     "text": [
      "C:\\ProgramData\\Anaconda3\\envs\\Calcium-Imaging-Analysis-Pipeline\\lib\\site-packages\\_distutils_hack\\__init__.py:33: UserWarning: Setuptools is replacing distutils.\n",
      "  warnings.warn(\"Setuptools is replacing distutils.\")\n"
     ]
    },
    {
     "name": "stdout",
     "output_type": "stream",
     "text": [
      "\tYAML reader installed (version 0.17.17).\n"
     ]
    },
    {
     "name": "stderr",
     "output_type": "stream",
     "text": [
      "Using TensorFlow backend.\n"
     ]
    },
    {
     "name": "stdout",
     "output_type": "stream",
     "text": [
      "\tKeras installed (version 2.3.1).\n",
      "\tTensorflow installed (version 2.3.0).\n"
     ]
    }
   ],
   "source": [
    "# FISSA: Signal Extraction & Source-Separation\n",
    "# Load this module to organize loading our trace data\n",
    "from AnalysisModules.FissaAnalysis import FissaModule\n",
    "\n",
    "# CASCADE: Spike Inference\n",
    "# Load this module to organize loading our inference data\n",
    "from AnalysisModules.CascadeAnalysis import CascadeModule\n",
    "\n",
    "# Behavioral Decoder\n",
    "# Load this module to organize encoding-decoding analyses\n",
    "# Interfaces Neural Decoding Package from Joshua Glaser via Kording Lab.\n",
    "# Interfaces with State-Space Modeling (SSM / SSM-jax) Package from Scott Linderman Lab\n",
    "# Interfaces with an annotated implementation of\n",
    "# Manifold Inference from Neural Dynamics Package (MIND) from David Tank Lab\n",
    "# Annotated/Implemented by Quentin RV Ferry via Tonegawa Lab\n",
    "# Interfaces with PySindy Package from the Dynamics Lab at UW\n",
    "# from AnalysisModules.DecodingAnalysis import DecodingModule # Not needed for this nb, as imported inline\n",
    "\n",
    "# Options are Logistic Regression, Linear Regression, Linear Non-Linear Regression\n",
    "# (NYI) Options are Principal Component Analysis, Tensor Component Analysis, Manifold Inference from Neural Dynamics,\n",
    "# (NYI) Hidden-Markov Model, Recurrent Linear Switching, Non-linear Dynamical System\n",
    "\n",
    "# Visualization Packages\n",
    "import matplotlib\n",
    "#%matplotlib inline\n",
    "matplotlib.use('Qt5Agg')\n",
    "\n",
    "# General Packages\n",
    "import numpy as np"
   ]
  },
  {
   "cell_type": "markdown",
   "metadata": {
    "pycharm": {
     "name": "#%% md\n"
    }
   },
   "source": [
    "### Load Data"
   ]
  },
  {
   "cell_type": "code",
   "execution_count": 2,
   "metadata": {
    "pycharm": {
     "name": "#%%\n"
    }
   },
   "outputs": [
    {
     "name": "stdout",
     "output_type": "stream",
     "text": [
      "Initialized Fissa\n",
      "Loading Fissa Preparation...\n",
      "Finished Loading Fissa Prep\n",
      "Loading Fissa Separation...\n",
      "Finished Loading Fissa Sep\n",
      "Loading Processed Traces...\n",
      "Finished Loading Processed Traces.\n",
      "Loading Spike Probabilities from Load Path...\n",
      "Finished Loading Spike Probabilities\n",
      "Loading Spike Times from Load Path...\n",
      "Loading Discrete Approximations from Load Path...\n",
      "Loading Processed Inferences...\n",
      "Finished Loading Processed Traces.\n"
     ]
    }
   ],
   "source": [
    "# Instantiate Traces & Associated Data\n",
    "Data = FissaModule(data_folder=\"H:\\\\DEM_Excitatory_Study\\\\DEM2\\\\Retrieval\\\\Imaging\\\\10Hz\", index_path=\"H:\\\\DEM_Excitatory_Study\\\\DEM2\\\\Retrieval\\\\Imaging\\\\10Hz\\\\NeuronalIndex.csv\")\n",
    "# Initialize\n",
    "Data.initializeFissa()\n",
    "# Load\n",
    "Data.loadFissaPrep()\n",
    "Data.loadFissaSep()\n",
    "Data.loadProcessedTraces()\n",
    "\n",
    "# Instantiate Firing Rates & Associated Data\n",
    "Data.Cascade = CascadeModule(Data.ProcessedTraces.merged_dFoF_result, Data.frame_rate, model_folder=\"C:\\\\ProgramData\\\\Anaconda3\\\\envs\\\\suite2p\\\\Pretrained_models\")\n",
    "Data.Cascade.loadSpikeProb(load_path=Data.output_folder)\n",
    "Data.Cascade.loadSpikeInference(load_path=Data.output_folder)\n",
    "Data.Cascade.loadProcessedInferences(load_path=Data.output_folder)"
   ]
  },
  {
   "cell_type": "code",
   "execution_count": 3,
   "outputs": [
    {
     "name": "stdout",
     "output_type": "stream",
     "text": [
      "Splitting data in training & testing sets\n",
      "Data splits are: 80.0% training vs 20.0% testing\n"
     ]
    },
    {
     "ename": "AttributeError",
     "evalue": "'LogisticRegressionDecoder' object has no attribute 'score'",
     "output_type": "error",
     "traceback": [
      "\u001B[1;31m---------------------------------------------------------------------------\u001B[0m",
      "\u001B[1;31mAttributeError\u001B[0m                            Traceback (most recent call last)",
      "\u001B[1;32m<ipython-input-3-7d9479c62cfe>\u001B[0m in \u001B[0;36m<module>\u001B[1;34m\u001B[0m\n\u001B[0;32m      9\u001B[0m \u001B[0mData\u001B[0m\u001B[1;33m.\u001B[0m\u001B[0mLogReg\u001B[0m\u001B[1;33m.\u001B[0m\u001B[0mfitModel\u001B[0m\u001B[1;33m(\u001B[0m\u001B[0mpenalty\u001B[0m\u001B[1;33m=\u001B[0m\u001B[1;34m'l1'\u001B[0m\u001B[1;33m,\u001B[0m \u001B[0msolver\u001B[0m\u001B[1;33m=\u001B[0m\u001B[1;34m'liblinear'\u001B[0m\u001B[1;33m,\u001B[0m \u001B[0mmax_iter\u001B[0m\u001B[1;33m=\u001B[0m\u001B[1;36m100000\u001B[0m\u001B[1;33m)\u001B[0m\u001B[1;33m\u001B[0m\u001B[1;33m\u001B[0m\u001B[0m\n\u001B[0;32m     10\u001B[0m \u001B[1;31m# Assess on Training\u001B[0m\u001B[1;33m\u001B[0m\u001B[1;33m\u001B[0m\u001B[1;33m\u001B[0m\u001B[0m\n\u001B[1;32m---> 11\u001B[1;33m \u001B[0mData\u001B[0m\u001B[1;33m.\u001B[0m\u001B[0mLogReg\u001B[0m\u001B[1;33m.\u001B[0m\u001B[0massessFit\u001B[0m\u001B[1;33m(\u001B[0m\u001B[1;33m)\u001B[0m\u001B[1;33m\u001B[0m\u001B[1;33m\u001B[0m\u001B[0m\n\u001B[0m\u001B[0;32m     12\u001B[0m \u001B[1;31m# Make Predictions on Withheld Data\u001B[0m\u001B[1;33m\u001B[0m\u001B[1;33m\u001B[0m\u001B[1;33m\u001B[0m\u001B[0m\n\u001B[0;32m     13\u001B[0m \u001B[0mData\u001B[0m\u001B[1;33m.\u001B[0m\u001B[0mLogReg\u001B[0m\u001B[1;33m.\u001B[0m\u001B[0mmakeAllPredictions\u001B[0m\u001B[1;33m(\u001B[0m\u001B[1;33m)\u001B[0m\u001B[1;33m\u001B[0m\u001B[1;33m\u001B[0m\u001B[0m\n",
      "\u001B[1;32mC:\\ProgramData\\Anaconda3\\envs\\Calcium-Imaging-Analysis-Pipeline\\AnalysisModules\\DecodingAnalysis.py\u001B[0m in \u001B[0;36massessFit\u001B[1;34m(self, **kwargs)\u001B[0m\n\u001B[0;32m    194\u001B[0m         \u001B[0m_normalize\u001B[0m \u001B[1;33m=\u001B[0m \u001B[0mkwargs\u001B[0m\u001B[1;33m.\u001B[0m\u001B[0mget\u001B[0m\u001B[1;33m(\u001B[0m\u001B[1;34m'normalize'\u001B[0m\u001B[1;33m,\u001B[0m \u001B[1;32mTrue\u001B[0m\u001B[1;33m)\u001B[0m\u001B[1;33m\u001B[0m\u001B[1;33m\u001B[0m\u001B[0m\n\u001B[0;32m    195\u001B[0m         \u001B[0mself\u001B[0m\u001B[1;33m.\u001B[0m\u001B[0mpredicted_training_y\u001B[0m \u001B[1;33m=\u001B[0m \u001B[0mself\u001B[0m\u001B[1;33m.\u001B[0m\u001B[0mmakePrediction\u001B[0m\u001B[1;33m(\u001B[0m\u001B[0mobserved\u001B[0m\u001B[1;33m=\u001B[0m\u001B[0mself\u001B[0m\u001B[1;33m.\u001B[0m\u001B[0mtraining_x\u001B[0m\u001B[1;33m)\u001B[0m\u001B[1;33m\u001B[0m\u001B[1;33m\u001B[0m\u001B[0m\n\u001B[1;32m--> 196\u001B[1;33m         \u001B[0mself\u001B[0m\u001B[1;33m.\u001B[0m\u001B[0mModelPerformance\u001B[0m\u001B[1;33m[\u001B[0m\u001B[1;33m(\u001B[0m\u001B[1;34m'accuracy'\u001B[0m\u001B[1;33m,\u001B[0m \u001B[1;34m'training'\u001B[0m\u001B[1;33m)\u001B[0m\u001B[1;33m]\u001B[0m \u001B[1;33m=\u001B[0m \u001B[0mself\u001B[0m\u001B[1;33m.\u001B[0m\u001B[0minternalModel\u001B[0m\u001B[1;33m.\u001B[0m\u001B[0mscore\u001B[0m\u001B[1;33m(\u001B[0m\u001B[0mself\u001B[0m\u001B[1;33m.\u001B[0m\u001B[0mtraining_y\u001B[0m\u001B[1;33m,\u001B[0m \u001B[0mself\u001B[0m\u001B[1;33m.\u001B[0m\u001B[0mpredicted_training_y\u001B[0m\u001B[1;33m)\u001B[0m\u001B[1;33m\u001B[0m\u001B[1;33m\u001B[0m\u001B[0m\n\u001B[0m\u001B[0;32m    197\u001B[0m         \u001B[0mprint\u001B[0m\u001B[1;33m(\u001B[0m\u001B[1;34m\"Not Yet Implemented\"\u001B[0m\u001B[1;33m)\u001B[0m\u001B[1;33m\u001B[0m\u001B[1;33m\u001B[0m\u001B[0m\n\u001B[0;32m    198\u001B[0m \u001B[1;33m\u001B[0m\u001B[0m\n",
      "\u001B[1;31mAttributeError\u001B[0m: 'LogisticRegressionDecoder' object has no attribute 'score'"
     ]
    }
   ],
   "source": [
    "from AnalysisModules.DecodingAnalysis import LogisticRegression\n",
    "Data.LogReg = LogisticRegression(NeuralData=Data.Cascade.ProcessedInferences.firing_rates, FeatureDataFile=\"C:\\\\ProgramData\\\\Anaconda3\\\\envs\\\\Calcium-Imaging-Analysis-Pipeline\\\\DEM2_RET_FeatureList.csv\")\n",
    "Data.LogReg.label_data = Data.LogReg.feature_data[5, :]\n",
    "# Set FR == 0 when NaN\n",
    "Data.LogReg.neural_data[np.isnan(Data.LogReg.neural_data)]=0\n",
    "# Split\n",
    "Data.LogReg.splitData()\n",
    "# Fit\n",
    "Data.LogReg.fitModel(penalty='l1', solver='liblinear', max_iter=100000)\n",
    "# Assess on Training\n",
    "Data.LogReg.assessFit()\n",
    "# Make Predictions on Withheld Data\n",
    "Data.LogReg.makeAllPredictions()\n",
    "# Extended Assessment\n",
    "Data.LogReg.commonAssessment()\n",
    "Data.LogReg.printAssessment()"
   ],
   "metadata": {
    "collapsed": false,
    "pycharm": {
     "name": "#%%\n"
    }
   }
  },
  {
   "cell_type": "code",
   "execution_count": 4,
   "outputs": [
    {
     "name": "stdout",
     "output_type": "stream",
     "text": [
      "Instanced Wiener Filter\n",
      "Splitting data in training & testing sets\n",
      "Data splits are: 80.0% training vs 20.0% testing\n",
      "Fitting Wiener Filter...\n",
      "Finished\n",
      "0.6563393775094655\n"
     ]
    },
    {
     "ename": "KeyError",
     "evalue": "('r2', 'testing')",
     "output_type": "error",
     "traceback": [
      "\u001B[1;31m---------------------------------------------------------------------------\u001B[0m",
      "\u001B[1;31mKeyError\u001B[0m                                  Traceback (most recent call last)",
      "\u001B[1;32m<ipython-input-4-8c45214e9776>\u001B[0m in \u001B[0;36m<module>\u001B[1;34m\u001B[0m\n\u001B[0;32m     17\u001B[0m \u001B[0mData\u001B[0m\u001B[1;33m.\u001B[0m\u001B[0mLinReg\u001B[0m\u001B[1;33m.\u001B[0m\u001B[0mmakeAllPredictions\u001B[0m\u001B[1;33m(\u001B[0m\u001B[1;33m)\u001B[0m\u001B[1;33m\u001B[0m\u001B[1;33m\u001B[0m\u001B[0m\n\u001B[0;32m     18\u001B[0m \u001B[1;31m# Extended Assessment\u001B[0m\u001B[1;33m\u001B[0m\u001B[1;33m\u001B[0m\u001B[1;33m\u001B[0m\u001B[0m\n\u001B[1;32m---> 19\u001B[1;33m \u001B[0mData\u001B[0m\u001B[1;33m.\u001B[0m\u001B[0mLinReg\u001B[0m\u001B[1;33m.\u001B[0m\u001B[0mcommonAssessment\u001B[0m\u001B[1;33m(\u001B[0m\u001B[1;33m)\u001B[0m\u001B[1;33m\u001B[0m\u001B[1;33m\u001B[0m\u001B[0m\n\u001B[0m\u001B[0;32m     20\u001B[0m \u001B[0mData\u001B[0m\u001B[1;33m.\u001B[0m\u001B[0mLinReg\u001B[0m\u001B[1;33m.\u001B[0m\u001B[0mprintAssessment\u001B[0m\u001B[1;33m(\u001B[0m\u001B[1;33m)\u001B[0m\u001B[1;33m\u001B[0m\u001B[1;33m\u001B[0m\u001B[0m\n",
      "\u001B[1;32mC:\\ProgramData\\Anaconda3\\envs\\Calcium-Imaging-Analysis-Pipeline\\AnalysisModules\\DecodingAnalysis.py\u001B[0m in \u001B[0;36mcommonAssessment\u001B[1;34m(self, **kwargs)\u001B[0m\n\u001B[0;32m    334\u001B[0m                                                                          \u001B[0mself\u001B[0m\u001B[1;33m.\u001B[0m\u001B[0mpredicted_training_y\u001B[0m\u001B[1;33m,\u001B[0m\u001B[1;33m\u001B[0m\u001B[1;33m\u001B[0m\u001B[0m\n\u001B[0;32m    335\u001B[0m                                                                          multioutput=_multioutput)\n\u001B[1;32m--> 336\u001B[1;33m         \u001B[1;32mif\u001B[0m \u001B[0mself\u001B[0m\u001B[1;33m.\u001B[0m\u001B[0mModelPerformance\u001B[0m\u001B[1;33m[\u001B[0m\u001B[1;33m(\u001B[0m\u001B[1;34m'r2'\u001B[0m\u001B[1;33m,\u001B[0m \u001B[1;34m'testing'\u001B[0m\u001B[1;33m)\u001B[0m\u001B[1;33m]\u001B[0m \u001B[1;32mis\u001B[0m \u001B[1;32mNone\u001B[0m\u001B[1;33m:\u001B[0m\u001B[1;33m\u001B[0m\u001B[1;33m\u001B[0m\u001B[0m\n\u001B[0m\u001B[0;32m    337\u001B[0m             self.ModelPerformance[('r2', 'testing')] = metrics.r2_score(self.testing_y,\n\u001B[0;32m    338\u001B[0m                                                                          \u001B[0mself\u001B[0m\u001B[1;33m.\u001B[0m\u001B[0mpredicted_testing_y\u001B[0m\u001B[1;33m,\u001B[0m\u001B[1;33m\u001B[0m\u001B[1;33m\u001B[0m\u001B[0m\n",
      "\u001B[1;31mKeyError\u001B[0m: ('r2', 'testing')"
     ]
    }
   ],
   "source": [
    "# Linear Regression\n",
    "from AnalysisModules.DecodingAnalysis import LinearRegression\n",
    "# Instance\n",
    "Data.LinReg = LinearRegression(NeuralData=Data.Cascade.ProcessedInferences.firing_rates, FeatureDataFile=\"C:\\\\ProgramData\\\\Anaconda3\\\\envs\\\\Calcium-Imaging-Analysis-Pipeline\\\\DEM2_RET_FeatureList.csv\")\n",
    "# Pick Single Feature\n",
    "Data.LinReg.label_data = Data.LinReg.feature_data[5, :]\n",
    "# Set FR == 0 when NaN\n",
    "Data.LinReg.neural_data[np.isnan(Data.LinReg.neural_data)]=0\n",
    "# Split\n",
    "Data.LinReg.splitData()\n",
    "# Fit\n",
    "Data.LinReg.fitModel(fit_intercept=True)\n",
    "# Assess on Training\n",
    "Data.LinReg.assessFit()\n",
    "print(Data.LinReg.ModelPerformance[('r2','training')])\n",
    "# Make Predictions on Withheld Data\n",
    "Data.LinReg.makeAllPredictions()\n",
    "# Extended Assessment\n",
    "Data.LinReg.commonAssessment()\n",
    "Data.LinReg.printAssessment()"
   ],
   "metadata": {
    "collapsed": false,
    "pycharm": {
     "name": "#%%\n"
    }
   }
  },
  {
   "cell_type": "code",
   "execution_count": null,
   "outputs": [],
   "source": [],
   "metadata": {
    "collapsed": false,
    "pycharm": {
     "name": "#%%\n"
    }
   }
  }
 ],
 "metadata": {
  "kernelspec": {
   "display_name": "Python 3",
   "language": "python",
   "name": "python3"
  },
  "language_info": {
   "codemirror_mode": {
    "name": "ipython",
    "version": 3
   },
   "file_extension": ".py",
   "mimetype": "text/x-python",
   "name": "python",
   "nbconvert_exporter": "python",
   "pygments_lexer": "ipython3",
   "version": "3.7.12"
  }
 },
 "nbformat": 4,
 "nbformat_minor": 1
}