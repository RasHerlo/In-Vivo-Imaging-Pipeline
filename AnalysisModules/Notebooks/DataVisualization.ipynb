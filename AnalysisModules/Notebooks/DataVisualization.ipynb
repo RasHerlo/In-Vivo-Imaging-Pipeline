{
 "cells": [
  {
   "cell_type": "markdown",
   "metadata": {
    "collapsed": true,
    "pycharm": {
     "name": "#%% md\n"
    }
   },
   "source": [
    "# Visualizing Calcium Imaging Data"
   ]
  },
  {
   "cell_type": "markdown",
   "metadata": {
    "pycharm": {
     "name": "#%% md\n"
    }
   },
   "source": [
    "## Visualizing Firing-Rates & Associated Data Inferences"
   ]
  },
  {
   "cell_type": "markdown",
   "metadata": {
    "pycharm": {
     "name": "#%% md\n"
    }
   },
   "source": [
    "### Import"
   ]
  },
  {
   "cell_type": "code",
   "execution_count": null,
   "metadata": {
    "pycharm": {
     "name": "#%%\n"
    }
   },
   "outputs": [],
   "source": [
    "# FISSA: Signal Extraction & Source-Separation\n",
    "# Load this module to organize loading our trace data\n",
    "from AnalysisModules.FissaAnalysis import FissaModule\n",
    "\n",
    "# CASCADE: Spike Inference\n",
    "from AnalysisModules.CascadeAnalysis import CascadeModule\n",
    "\n",
    "# Visualization Packages\n",
    "import matplotlib\n",
    "%matplotlib inline\n",
    "#matplotlib.use('Qt5Agg')\n"
   ]
  },
  {
   "cell_type": "markdown",
   "metadata": {
    "pycharm": {
     "name": "#%% md\n"
    }
   },
   "source": [
    "### Load the Data"
   ]
  },
  {
   "cell_type": "code",
   "execution_count": null,
   "metadata": {
    "pycharm": {
     "name": "#%%\n"
    }
   },
   "outputs": [],
   "source": [
    "# Instantiate Traces & Associated Data\n",
    "Data = FissaModule(data_folder=\"H:\\\\DEM_Excitatory_Study\\\\DEM2\\\\Retrieval\\\\Imaging\\\\10Hz\", index_path=\"H:\\\\DEM_Excitatory_Study\\\\DEM2\\\\Retrieval\\\\Imaging\\\\10Hz\\\\NeuronalIndex.csv\")\n",
    "# Initialize\n",
    "Data.initializeFissa()\n",
    "# Load\n",
    "Data.loadFissaPrep()\n",
    "Data.loadFissaSep()\n",
    "Data.loadProcessedTraces()\n",
    "\n",
    "# Instantiate Firing Rates & Associated Data\n",
    "Data.Cascade = CascadeModule(Data.ProcessedTraces.detrended_merged_dFoF_result, Data.frame_rate, model_folder=\"C:\\\\ProgramData\\\\Anaconda3\\\\envs\\\\suite2p\\\\Pretrained_models\")\n",
    "Data.Cascade.loadSpikeProb(load_path=Data.output_folder)\n",
    "Data.Cascade.loadSpikeInference(load_path=Data.output_folder)\n",
    "Data.Cascade.loadProcessedInferences(load_path=Data.output_folder)"
   ]
  },
  {
   "cell_type": "markdown",
   "metadata": {},
   "source": [
    "### Visualize Noise Histogram"
   ]
  },
  {
   "cell_type": "code",
   "execution_count": null,
   "metadata": {
    "pycharm": {
     "name": "#%%\n"
    }
   },
   "outputs": [],
   "source": [
    "from AnalysisModules.StaticPlotting import plotNoise\n",
    "plotNoise(Data.Cascade.traces, Data.Cascade.frame_rate)"
   ]
  },
  {
   "cell_type": "markdown",
   "metadata": {},
   "source": [
    "## Visualize Spike Inference"
   ]
  },
  {
   "cell_type": "code",
   "execution_count": null,
   "metadata": {
    "pycharm": {
     "name": "#%%\n"
    }
   },
   "outputs": [],
   "source": [
    "from AnalysisModules.StaticPlotting import plotSpikeInference\n",
    "plotSpikeInference(Data.Cascade.spike_prob, Data.Cascade.spike_time_estimates, Data.Cascade.traces, Data.Cascade.frame_rate)"
   ]
  }
 ],
 "metadata": {
  "kernelspec": {
   "display_name": "Python 3",
   "language": "python",
   "name": "python3"
  },
  "language_info": {
   "codemirror_mode": {
    "name": "ipython",
    "version": 3
   },
   "file_extension": ".py",
   "mimetype": "text/x-python",
   "name": "python",
   "nbconvert_exporter": "python",
   "pygments_lexer": "ipython3",
   "version": "3.7.12"
  }
 },
 "nbformat": 4,
 "nbformat_minor": 1
}