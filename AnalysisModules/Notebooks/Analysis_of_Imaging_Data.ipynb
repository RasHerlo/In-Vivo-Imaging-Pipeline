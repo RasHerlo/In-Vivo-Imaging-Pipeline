{
 "cells": [
  {
   "cell_type": "markdown",
   "metadata": {
    "collapsed": true,
    "pycharm": {
     "name": "#%% md\n"
    }
   },
   "source": [
    "# Analysis of Imaging Data"
   ]
  },
  {
   "cell_type": "markdown",
   "metadata": {},
   "source": [
    "## Signal Extraction & Source-Separation"
   ]
  },
  {
   "cell_type": "markdown",
   "metadata": {},
   "source": [
    "### Import Modules"
   ]
  },
  {
   "cell_type": "code",
   "execution_count": 1,
   "metadata": {
    "pycharm": {
     "name": "#%%\n"
    }
   },
   "outputs": [],
   "source": [
    "# FISSA: Signal Extraction & Source-Separation\n",
    "from AnalysisModules.FissaAnalysis import FissaModule\n",
    "# Assorted Static Processing Functions\n",
    "from AnalysisModules.StaticProcessing import smoothTraces_TiffOrg, calculate_dFoF, mergeTraces, detrendTraces"
   ]
  },
  {
   "cell_type": "markdown",
   "metadata": {
    "pycharm": {
     "name": "#%% md\n"
    }
   },
   "source": [
    "### Instantiation"
   ]
  },
  {
   "cell_type": "code",
   "execution_count": 3,
   "metadata": {},
   "outputs": [
    {
     "name": "stdout",
     "output_type": "stream",
     "text": [
      "Adjusting from 1-to-0 indexing\n"
     ]
    }
   ],
   "source": [
    "# Instantiate Fissa Module & Sub-Modules (preparation, experiment (separation), and ProcessedTraces)\n",
    "Data = FissaModule(data_folder=\"D:\\\\M4618_Second_Round\\\\Encoding\", index_file = \"D:\\\\M4618_Second_Round\\\\Encoding\\\\suite2p\\\\plane0\\\\Debug_Neuronal_Index.csv\")\n",
    "# Initialize\n",
    "#Data.initializeFissa()\n",
    "#Data.pruneNonNeuronalROIs()\n"
   ]
  },
  {
   "cell_type": "code",
   "execution_count": 4,
   "outputs": [],
   "source": [
    "Data.stat = Data.stat[Data.neuronal_index]"
   ],
   "metadata": {
    "collapsed": false,
    "pycharm": {
     "name": "#%%\n"
    }
   }
  },
  {
   "cell_type": "code",
   "execution_count": 5,
   "outputs": [],
   "source": [
    "#Data.s2p_rois = Data.s2p_rois[Data.neuronal_index]\n",
    "Data.s2p_rois = [Data.s2p_rois[i] for i in Data.neuronal_index]"
   ],
   "metadata": {
    "collapsed": false,
    "pycharm": {
     "name": "#%%\n"
    }
   }
  },
  {
   "cell_type": "code",
   "execution_count": 6,
   "outputs": [],
   "source": [
    "Data.iscell = Data.iscell[Data.neuronal_index, :]"
   ],
   "metadata": {
    "collapsed": false,
    "pycharm": {
     "name": "#%%\n"
    }
   }
  },
  {
   "cell_type": "code",
   "execution_count": 7,
   "outputs": [
    {
     "name": "stdout",
     "output_type": "stream",
     "text": [
      "Initialized Fissa\n"
     ]
    }
   ],
   "source": [
    "Data.initializeFissa()"
   ],
   "metadata": {
    "collapsed": false,
    "pycharm": {
     "name": "#%%\n"
    }
   }
  },
  {
   "cell_type": "markdown",
   "metadata": {},
   "source": [
    "### Extract Traces"
   ]
  },
  {
   "cell_type": "code",
   "execution_count": 8,
   "metadata": {},
   "outputs": [
    {
     "data": {
      "text/plain": "Extracting traces:   0%|          | 0/6 [00:00<?, ?it/s]",
      "application/vnd.jupyter.widget-view+json": {
       "version_major": 2,
       "version_minor": 0,
       "model_id": "f5fc66467b644f398762e5bc4a09fd9e"
      }
     },
     "metadata": {},
     "output_type": "display_data"
    },
    {
     "name": "stdout",
     "output_type": "stream",
     "text": [
      "Finished extracting raw signals from 662 ROIs across 6 trials in 2 min, 56 sec.\n",
      "Passing traces between modules.\n",
      "Finished module-passing.\n",
      "Ready for post-processing or source-separation.\n"
     ]
    }
   ],
   "source": [
    "Data.extractTraces()"
   ]
  },
  {
   "cell_type": "markdown",
   "metadata": {},
   "source": [
    "### Save Progress"
   ]
  },
  {
   "cell_type": "code",
   "execution_count": 9,
   "metadata": {},
   "outputs": [
    {
     "name": "stdout",
     "output_type": "stream",
     "text": [
      "Saving extracted traces to D:\\M4618_Second_Round\\Encoding\\prepared.npz\n",
      "Finished Saving Prep\n"
     ]
    }
   ],
   "source": [
    "Data.saveFissaPrep()"
   ]
  },
  {
   "cell_type": "markdown",
   "metadata": {
    "pycharm": {
     "name": "#%% md\n"
    }
   },
   "source": [
    "### Pre-Process Traces"
   ]
  },
  {
   "cell_type": "code",
   "execution_count": 10,
   "metadata": {
    "pycharm": {
     "name": "#%%\n"
    }
   },
   "outputs": [
    {
     "data": {
      "text/plain": "Smoothing:   0%|          | 0/662 [00:00<?, ?it/s]",
      "application/vnd.jupyter.widget-view+json": {
       "version_major": 2,
       "version_minor": 0,
       "model_id": "2f8afc9d34404221ac09f0be66adc775"
      }
     },
     "metadata": {},
     "output_type": "display_data"
    },
    {
     "data": {
      "text/plain": "Organizing By Trial:   0%|          | 0/662 [00:00<?, ?it/s]",
      "application/vnd.jupyter.widget-view+json": {
       "version_major": 2,
       "version_minor": 0,
       "model_id": "74a718f47fa34af69f552d9a25face6c"
      }
     },
     "metadata": {},
     "output_type": "display_data"
    }
   ],
   "source": [
    "Data.ProcessedTraces.smoothed_raw = smoothTraces_TiffOrg(Data.preparation.raw, niter=50, kappa=150, gamma=0.15)[0]"
   ]
  },
  {
   "cell_type": "markdown",
   "metadata": {
    "pycharm": {
     "name": "#%% md\n"
    }
   },
   "source": [
    "### Save Progress"
   ]
  },
  {
   "cell_type": "code",
   "execution_count": 11,
   "metadata": {
    "pycharm": {
     "name": "#%%\n"
    }
   },
   "outputs": [
    {
     "name": "stdout",
     "output_type": "stream",
     "text": [
      "Saving Processed Traces...\n",
      "Finished Saving Processed Traces.\n"
     ]
    }
   ],
   "source": [
    "Data.saveProcessedTraces()"
   ]
  },
  {
   "cell_type": "markdown",
   "metadata": {
    "pycharm": {
     "name": "#%% md\n"
    }
   },
   "source": [
    "### Use Pre-Processed Traces for Source-Separation"
   ]
  },
  {
   "cell_type": "code",
   "execution_count": 12,
   "metadata": {
    "pycharm": {
     "name": "#%%\n"
    }
   },
   "outputs": [],
   "source": [
    "Data.preparation.raw = Data.ProcessedTraces.smoothed_raw.copy()\n",
    "Data.passPrepToFissa()"
   ]
  },
  {
   "cell_type": "markdown",
   "metadata": {
    "pycharm": {
     "name": "#%% md\n"
    }
   },
   "source": [
    "### Source-Separate Traces"
   ]
  },
  {
   "cell_type": "code",
   "execution_count": 13,
   "metadata": {
    "pycharm": {
     "name": "#%%\n"
    }
   },
   "outputs": [
    {
     "name": "stdout",
     "output_type": "stream",
     "text": [
      "Passing prepared traces to fissa.\n",
      "Initiating fissa source-separation\n"
     ]
    },
    {
     "data": {
      "text/plain": "Separating data:   0%|          | 0/662 [00:00<?, ?it/s]",
      "application/vnd.jupyter.widget-view+json": {
       "version_major": 2,
       "version_minor": 0,
       "model_id": "6bd0f5700b404ac1ab7aa1e748c03303"
      }
     },
     "metadata": {},
     "output_type": "display_data"
    },
    {
     "name": "stdout",
     "output_type": "stream",
     "text": [
      "Finished separating signals from 662 ROIs across 6 trials in 1:12:59.190875\n",
      "Passing traces between modules.\n",
      "Finished module-passing.\n",
      "Ready for further analysis.\n"
     ]
    }
   ],
   "source": [
    "Data.separateTraces()"
   ]
  },
  {
   "cell_type": "markdown",
   "metadata": {
    "pycharm": {
     "name": "#%% md\n"
    }
   },
   "source": [
    "### Save Progress"
   ]
  },
  {
   "cell_type": "code",
   "execution_count": 14,
   "metadata": {
    "pycharm": {
     "name": "#%%\n"
    }
   },
   "outputs": [
    {
     "name": "stdout",
     "output_type": "stream",
     "text": [
      "Saving results to D:\\M4618_Second_Round\\Encoding\\separated.npz\n"
     ]
    }
   ],
   "source": [
    "Data.saveFissaSep()"
   ]
  },
  {
   "cell_type": "code",
   "execution_count": 7,
   "outputs": [
    {
     "name": "stdout",
     "output_type": "stream",
     "text": [
      "Adjusting from 1-to-0 indexing\n",
      "Initialized Fissa\n",
      "Loading Fissa Preparation...\n",
      "Finished Loading Fissa Prep\n",
      "Loading Fissa Separation...\n",
      "Finished Loading Fissa Sep\n",
      "Loading Processed Traces...\n",
      "Finished Loading Processed Traces.\n"
     ]
    }
   ],
   "source": [
    "Data = FissaModule(data_folder=\"D:\\\\M4618_Second_Round\\\\Encoding\", index_file = \"D:\\\\M4618_Second_Round\\\\Encoding\\\\suite2p\\\\plane0\\\\Debug_Neuronal_Index.csv\")\n",
    "Data.initializeFissa()\n",
    "# Load\n",
    "Data.loadFissaPrep()\n",
    "Data.loadFissaSep()\n",
    "Data.loadProcessedTraces()"
   ],
   "metadata": {
    "collapsed": false,
    "pycharm": {
     "name": "#%%\n"
    }
   }
  },
  {
   "cell_type": "markdown",
   "metadata": {
    "pycharm": {
     "name": "#%% md\n"
    }
   },
   "source": [
    "### Post-Process Traces"
   ]
  },
  {
   "cell_type": "code",
   "execution_count": 3,
   "metadata": {
    "pycharm": {
     "name": "#%%\n"
    }
   },
   "outputs": [
    {
     "name": "stdout",
     "output_type": "stream",
     "text": [
      "Calculating Δf/f0  (using single f0 across all trials using f0 derived from raw traces during calculations)\n"
     ]
    },
    {
     "data": {
      "text/plain": "Calculating Δf/f0:   0%|          | 0/662 [00:00<?, ?it/s]",
      "application/vnd.jupyter.widget-view+json": {
       "version_major": 2,
       "version_minor": 0,
       "model_id": "1377947d076c472398cc4696ce9fa7dc"
      }
     },
     "metadata": {},
     "output_type": "display_data"
    },
    {
     "data": {
      "text/plain": "Merging Traces Across Trials:   0%|          | 0/662 [00:00<?, ?it/s]",
      "application/vnd.jupyter.widget-view+json": {
       "version_major": 2,
       "version_minor": 0,
       "model_id": "533a4f3d0a5d408199ecb6d6919a9bf7"
      }
     },
     "metadata": {},
     "output_type": "display_data"
    },
    {
     "data": {
      "text/plain": "Detrending:   0%|          | 0/662 [00:00<?, ?it/s]",
      "application/vnd.jupyter.widget-view+json": {
       "version_major": 2,
       "version_minor": 0,
       "model_id": "5396fb61e68c461c92a5e8c26ebd9469"
      }
     },
     "metadata": {},
     "output_type": "display_data"
    }
   ],
   "source": [
    "# Calculate Fo/F\n",
    "Data.ProcessedTraces.dFoF_result = calculate_dFoF(Data.experiment.result, Data.frame_rate, raw=Data.preparation.raw, merge_after=False)\n",
    "# Condense the ROI Traces for each Trial into a Single Matrix\n",
    "Data.ProcessedTraces.merged_dFoF_result = mergeTraces(Data.ProcessedTraces.dFoF_result)\n",
    "# Detrend the Traces\n",
    "Data.ProcessedTraces.detrended_merged_dFoF_result = detrendTraces(Data.ProcessedTraces.merged_dFoF_result, order=4, plot=False)"
   ]
  },
  {
   "cell_type": "markdown",
   "metadata": {},
   "source": [
    "### Save Progress"
   ]
  },
  {
   "cell_type": "code",
   "execution_count": 4,
   "metadata": {
    "pycharm": {
     "name": "#%%\n"
    }
   },
   "outputs": [
    {
     "name": "stdout",
     "output_type": "stream",
     "text": [
      "Saving Processed Traces...\n",
      "Finished Saving Processed Traces.\n"
     ]
    }
   ],
   "source": [
    "Data.saveProcessedTraces()"
   ]
  },
  {
   "cell_type": "markdown",
   "metadata": {
    "pycharm": {
     "name": "#%% md\n"
    }
   },
   "source": [
    "## Infer Firing Rates & Approximate Spikes"
   ]
  },
  {
   "cell_type": "markdown",
   "metadata": {
    "pycharm": {
     "name": "#%% md\n"
    }
   },
   "source": [
    "### Import Modules"
   ]
  },
  {
   "cell_type": "code",
   "execution_count": 8,
   "metadata": {
    "pycharm": {
     "name": "#%%\n"
    }
   },
   "outputs": [],
   "source": [
    "from AnalysisModules.CascadeAnalysis import CascadeModule\n",
    "from AnalysisModules.StaticProcessing import calculateFiringRate\n",
    "from AnalysisModules.StaticUtilities import pullModels"
   ]
  },
  {
   "cell_type": "markdown",
   "metadata": {
    "pycharm": {
     "name": "#%% md\n"
    }
   },
   "source": [
    "### Instantiation"
   ]
  },
  {
   "cell_type": "code",
   "execution_count": 9,
   "metadata": {
    "pycharm": {
     "name": "#%%\n"
    }
   },
   "outputs": [],
   "source": [
    "# Pass the Post-Processed Traces\n",
    "Data.Cascade = CascadeModule(Data.ProcessedTraces.detrended_merged_dFoF_result, Data.frame_rate, model_folder=\"C:\\\\ProgramData\\\\Anaconda3\\\\envs\\\\suite2p\\\\Pretrained_models\")"
   ]
  },
  {
   "cell_type": "markdown",
   "metadata": {
    "pycharm": {
     "name": "#%% md\n"
    }
   },
   "source": [
    "### Model Selection"
   ]
  },
  {
   "cell_type": "code",
   "execution_count": 13,
   "metadata": {
    "pycharm": {
     "name": "#%%\n"
    }
   },
   "outputs": [
    {
     "name": "stdout",
     "output_type": "stream",
     "text": [
      "You can now check the updated available_models.yaml file for valid model names.\n",
      "File location: C:\\ProgramData\\Anaconda3\\envs\\suite2p\\Pretrained_models\\available_models.yaml\n",
      "\n",
      " List of available models: \n",
      "\n",
      "Global_EXC_30Hz_smoothing50ms_asymmetric_window_1_frame\n",
      "Global_EXC_30Hz_smoothing50ms_asymmetric_window_2_frames\n",
      "Global_EXC_30Hz_smoothing50ms_asymmetric_window_4_frames\n",
      "Global_EXC_30Hz_smoothing50ms_asymmetric_window_6_frames\n",
      "Global_EXC_30Hz_smoothing50ms_asymmetric_window_8_frames\n",
      "GCaMP6f_mouse_30Hz_smoothing200ms\n",
      "OGB_zf_pDp_7.5Hz_smoothing200ms\n",
      "OGB_zf_pDp_7.5Hz_smoothing200ms_causalkernel\n",
      "Global_EXC_3Hz_smoothing400ms\n",
      "Global_EXC_3Hz_smoothing400ms_causalkernel\n",
      "Global_EXC_4.25Hz_smoothing300ms\n",
      "Global_EXC_4.25Hz_smoothing300ms_high_noise\n",
      "Global_EXC_4.25Hz_smoothing300ms_causalkernel\n",
      "Global_EXC_5Hz_smoothing200ms\n",
      "Global_EXC_5Hz_smoothing200ms_causalkernel\n",
      "Global_EXC_6Hz_smoothing200ms\n",
      "Global_EXC_6Hz_smoothing200ms_causalkernel\n",
      "Global_EXC_7.5Hz_smoothing200ms\n",
      "Global_EXC_7.5Hz_smoothing200ms_causalkernel\n",
      "Global_EXC_10Hz_smoothing50ms\n",
      "Global_EXC_10Hz_smoothing50ms_causalkernel\n",
      "Global_EXC_10Hz_smoothing100ms\n",
      "Global_EXC_10Hz_smoothing100ms_causalkernel\n",
      "Global_EXC_10Hz_smoothing200ms\n",
      "Global_EXC_10Hz_smoothing200ms_causalkernel\n",
      "Global_EXC_12.5Hz_smoothing100ms\n",
      "Global_EXC_12.5Hz_smoothing100ms_causalkernel\n",
      "Global_EXC_12.5Hz_smoothing200ms\n",
      "Global_EXC_12.5Hz_smoothing200ms_causalkernel\n",
      "Global_EXC_15Hz_smoothing100ms\n",
      "Global_EXC_15Hz_smoothing100ms_causalkernel\n",
      "Global_EXC_15Hz_smoothing200ms\n",
      "Global_EXC_15Hz_smoothing200ms_causalkernel\n",
      "Global_EXC_17.5Hz_smoothing100ms\n",
      "Global_EXC_17.5Hz_smoothing200ms\n",
      "Global_EXC_17.5Hz_smoothing200ms_causalkernel\n",
      "Global_EXC_20Hz_smoothing100ms\n",
      "Global_EXC_20Hz_smoothing100ms_causalkernel\n",
      "Global_EXC_20Hz_smoothing200ms\n",
      "Global_EXC_20Hz_smoothing200ms_causalkernel\n",
      "Global_EXC_25Hz_smoothing100ms\n",
      "Global_EXC_25Hz_smoothing100ms_causalkernel\n",
      "Global_EXC_25Hz_smoothing50ms\n",
      "Global_EXC_25Hz_smoothing50ms_causalkernel\n",
      "Global_EXC_30Hz_smoothing100ms\n",
      "Global_EXC_30Hz_smoothing100ms_causalkernel\n",
      "Global_EXC_30Hz_smoothing200ms\n",
      "Global_EXC_30Hz_smoothing50ms\n",
      "Global_EXC_30Hz_smoothing50ms_causalkernel\n",
      "Global_INH_15Hz_smoothing100ms\n",
      "Global_INH_30Hz_smoothing50ms\n",
      "Global_INH_30Hz_smoothing100ms\n",
      "Global_EXC_1Hz_smoothing500ms\n",
      "Global_EXC_1Hz_smoothing1000ms\n",
      "Zebrafish_1Hz_smoothing1000ms\n"
     ]
    }
   ],
   "source": [
    "# Pull Available Models\n",
    "list_of_models = pullModels(Data.Cascade.model_folder)\n",
    "# Select Model\n",
    "Data.Cascade.model_name = list_of_models[21]"
   ]
  },
  {
   "cell_type": "code",
   "execution_count": 8,
   "outputs": [
    {
     "name": "stdout",
     "output_type": "stream",
     "text": [
      "Loading Spike Probabilities from Load Path...\n",
      "Finished Loading Spike Probabilities\n",
      "Loading Processed Inferences...\n",
      "Finished Loading Processed Traces.\n"
     ]
    }
   ],
   "source": [
    "Data.Cascade.loadSpikeProb(load_path=Data.output_folder)\n",
    "Data.Cascade.loadProcessedInferences(load_path=Data.output_folder)"
   ],
   "metadata": {
    "collapsed": false,
    "pycharm": {
     "name": "#%%\n"
    }
   }
  },
  {
   "cell_type": "markdown",
   "metadata": {
    "pycharm": {
     "name": "#%% md\n"
    }
   },
   "source": [
    "### Infer Firing Rates"
   ]
  },
  {
   "cell_type": "code",
   "execution_count": 14,
   "metadata": {
    "pycharm": {
     "name": "#%%\n"
    }
   },
   "outputs": [
    {
     "name": "stdout",
     "output_type": "stream",
     "text": [
      "\n",
      " \n",
      "The selected model was trained on 18 datasets, with 5 ensembles for each noise level, at a sampling rate of 10Hz, with a resampled ground truth that was smoothed with a Gaussian kernel of a standard deviation of 100 milliseconds. \n",
      " \n",
      "\n",
      "Loaded model was trained at frame rate 10 Hz\n",
      "Given argument traces contains 662 neurons and 41703 frames.\n",
      "Noise levels (mean, std; in standard units): 0.06, 0.04\n",
      "\n",
      "Predictions for noise level 2:\n",
      "\t... ensemble 0\n",
      "3371/3371 [==============================] - 15s 4ms/step\n",
      "\t... ensemble 1\n",
      "3371/3371 [==============================] - 16s 5ms/step\n",
      "\t... ensemble 2\n",
      "3371/3371 [==============================] - 15s 5ms/step\n",
      "\t... ensemble 3\n",
      "3371/3371 [==============================] - 15s 5ms/step\n",
      "\t... ensemble 4\n",
      "3371/3371 [==============================] - 15s 5ms/step\n",
      "\n",
      "Predictions for noise level 3:\n",
      "\tNo neurons for this noise level\n",
      "\n",
      "Predictions for noise level 4:\n",
      "\tNo neurons for this noise level\n",
      "\n",
      "Predictions for noise level 5:\n",
      "\tNo neurons for this noise level\n",
      "\n",
      "Predictions for noise level 6:\n",
      "\tNo neurons for this noise level\n",
      "\n",
      "Predictions for noise level 7:\n",
      "\tNo neurons for this noise level\n",
      "\n",
      "Predictions for noise level 8:\n",
      "\tNo neurons for this noise level\n",
      "Done\n"
     ]
    }
   ],
   "source": [
    "# Infer Spike Probability\n",
    "Data.Cascade.predictSpikeProb()\n",
    "# Calculate Firing Rates\n",
    "Data.Cascade.ProcessedInferences.firing_rates = calculateFiringRate(Data.Cascade.spike_prob, Data.Cascade.frame_rate)"
   ]
  },
  {
   "cell_type": "markdown",
   "metadata": {
    "pycharm": {
     "name": "#%% md\n"
    }
   },
   "source": [
    "### Save Progress"
   ]
  },
  {
   "cell_type": "code",
   "execution_count": 15,
   "metadata": {
    "pycharm": {
     "name": "#%%\n"
    }
   },
   "outputs": [
    {
     "name": "stdout",
     "output_type": "stream",
     "text": [
      "Saving Processed Inferences...\n",
      "Finished Saving Processed Inferences\n"
     ]
    }
   ],
   "source": [
    "Data.Cascade.saveSpikeProb(Data.output_folder)\n",
    "Data.Cascade.saveProcessedInferences(Data.output_folder)"
   ]
  },
  {
   "cell_type": "markdown",
   "metadata": {
    "pycharm": {
     "name": "#%% md\n"
    }
   },
   "source": [
    "### Infer Discrete Spike Times"
   ]
  },
  {
   "cell_type": "code",
   "execution_count": 16,
   "metadata": {
    "pycharm": {
     "name": "#%%\n"
    }
   },
   "outputs": [
    {
     "name": "stdout",
     "output_type": "stream",
     "text": [
      "Infer spikes for neuron 1 out of 662\n",
      "Infer spikes for neuron 2 out of 662\n",
      "Infer spikes for neuron 3 out of 662\n",
      "Infer spikes for neuron 4 out of 662\n",
      "Infer spikes for neuron 5 out of 662\n",
      "Infer spikes for neuron 6 out of 662\n",
      "Infer spikes for neuron 7 out of 662\n",
      "Infer spikes for neuron 8 out of 662\n",
      "Infer spikes for neuron 9 out of 662\n",
      "Infer spikes for neuron 10 out of 662\n",
      "Infer spikes for neuron 11 out of 662\n",
      "Infer spikes for neuron 12 out of 662\n",
      "Infer spikes for neuron 13 out of 662\n",
      "Infer spikes for neuron 14 out of 662\n",
      "Infer spikes for neuron 15 out of 662\n",
      "Infer spikes for neuron 16 out of 662\n",
      "Infer spikes for neuron 17 out of 662\n",
      "Infer spikes for neuron 18 out of 662\n",
      "Infer spikes for neuron 19 out of 662\n",
      "Infer spikes for neuron 20 out of 662\n",
      "Infer spikes for neuron 21 out of 662\n",
      "Infer spikes for neuron 22 out of 662\n",
      "Infer spikes for neuron 23 out of 662\n",
      "Infer spikes for neuron 24 out of 662\n",
      "Infer spikes for neuron 25 out of 662\n",
      "Infer spikes for neuron 26 out of 662\n",
      "Infer spikes for neuron 27 out of 662\n",
      "Infer spikes for neuron 28 out of 662\n",
      "Infer spikes for neuron 29 out of 662\n",
      "Infer spikes for neuron 30 out of 662\n",
      "Infer spikes for neuron 31 out of 662\n",
      "Infer spikes for neuron 32 out of 662\n",
      "Infer spikes for neuron 33 out of 662\n",
      "Infer spikes for neuron 34 out of 662\n",
      "Infer spikes for neuron 35 out of 662\n",
      "Infer spikes for neuron 36 out of 662\n",
      "Infer spikes for neuron 37 out of 662\n",
      "Infer spikes for neuron 38 out of 662\n",
      "Infer spikes for neuron 39 out of 662\n",
      "Infer spikes for neuron 40 out of 662\n",
      "Infer spikes for neuron 41 out of 662\n",
      "Infer spikes for neuron 42 out of 662\n",
      "Infer spikes for neuron 43 out of 662\n",
      "Infer spikes for neuron 44 out of 662\n",
      "Infer spikes for neuron 45 out of 662\n",
      "Infer spikes for neuron 46 out of 662\n",
      "Infer spikes for neuron 47 out of 662\n",
      "Infer spikes for neuron 48 out of 662\n",
      "Infer spikes for neuron 49 out of 662\n",
      "Infer spikes for neuron 50 out of 662\n",
      "Infer spikes for neuron 51 out of 662\n",
      "Infer spikes for neuron 52 out of 662\n",
      "Infer spikes for neuron 53 out of 662\n",
      "Infer spikes for neuron 54 out of 662\n",
      "Infer spikes for neuron 55 out of 662\n",
      "Infer spikes for neuron 56 out of 662\n",
      "Infer spikes for neuron 57 out of 662\n",
      "Infer spikes for neuron 58 out of 662\n",
      "Infer spikes for neuron 59 out of 662\n",
      "Infer spikes for neuron 60 out of 662\n",
      "Infer spikes for neuron 61 out of 662\n",
      "Infer spikes for neuron 62 out of 662\n",
      "Infer spikes for neuron 63 out of 662\n",
      "Infer spikes for neuron 64 out of 662\n",
      "Infer spikes for neuron 65 out of 662\n",
      "Infer spikes for neuron 66 out of 662\n",
      "Infer spikes for neuron 67 out of 662\n",
      "Infer spikes for neuron 68 out of 662\n",
      "Infer spikes for neuron 69 out of 662\n",
      "Infer spikes for neuron 70 out of 662\n",
      "Infer spikes for neuron 71 out of 662\n",
      "Infer spikes for neuron 72 out of 662\n",
      "Infer spikes for neuron 73 out of 662\n",
      "Infer spikes for neuron 74 out of 662\n",
      "Infer spikes for neuron 75 out of 662\n",
      "Infer spikes for neuron 76 out of 662\n",
      "Infer spikes for neuron 77 out of 662\n",
      "Infer spikes for neuron 78 out of 662\n",
      "Infer spikes for neuron 79 out of 662\n",
      "Infer spikes for neuron 80 out of 662\n",
      "Infer spikes for neuron 81 out of 662\n",
      "Infer spikes for neuron 82 out of 662\n",
      "Infer spikes for neuron 83 out of 662\n",
      "Infer spikes for neuron 84 out of 662\n",
      "Infer spikes for neuron 85 out of 662\n",
      "Infer spikes for neuron 86 out of 662\n",
      "Infer spikes for neuron 87 out of 662\n",
      "Infer spikes for neuron 88 out of 662\n",
      "Infer spikes for neuron 89 out of 662\n",
      "Infer spikes for neuron 90 out of 662\n",
      "Infer spikes for neuron 91 out of 662\n",
      "Infer spikes for neuron 92 out of 662\n",
      "Infer spikes for neuron 93 out of 662\n",
      "Infer spikes for neuron 94 out of 662\n",
      "Infer spikes for neuron 95 out of 662\n",
      "Infer spikes for neuron 96 out of 662\n",
      "Infer spikes for neuron 97 out of 662\n",
      "Infer spikes for neuron 98 out of 662\n",
      "Infer spikes for neuron 99 out of 662\n",
      "Infer spikes for neuron 100 out of 662\n",
      "Infer spikes for neuron 101 out of 662\n",
      "Infer spikes for neuron 102 out of 662\n",
      "Infer spikes for neuron 103 out of 662\n",
      "Infer spikes for neuron 104 out of 662\n",
      "Infer spikes for neuron 105 out of 662\n",
      "Infer spikes for neuron 106 out of 662\n",
      "Infer spikes for neuron 107 out of 662\n",
      "Infer spikes for neuron 108 out of 662\n",
      "Infer spikes for neuron 109 out of 662\n",
      "Infer spikes for neuron 110 out of 662\n",
      "Infer spikes for neuron 111 out of 662\n",
      "Infer spikes for neuron 112 out of 662\n",
      "Infer spikes for neuron 113 out of 662\n",
      "Infer spikes for neuron 114 out of 662\n",
      "Infer spikes for neuron 115 out of 662\n",
      "Infer spikes for neuron 116 out of 662\n",
      "Infer spikes for neuron 117 out of 662\n",
      "Infer spikes for neuron 118 out of 662\n",
      "Infer spikes for neuron 119 out of 662\n",
      "Infer spikes for neuron 120 out of 662\n",
      "Infer spikes for neuron 121 out of 662\n",
      "Infer spikes for neuron 122 out of 662\n",
      "Infer spikes for neuron 123 out of 662\n",
      "Infer spikes for neuron 124 out of 662\n",
      "Infer spikes for neuron 125 out of 662\n",
      "Infer spikes for neuron 126 out of 662\n",
      "Infer spikes for neuron 127 out of 662\n",
      "Infer spikes for neuron 128 out of 662\n",
      "Infer spikes for neuron 129 out of 662\n",
      "Infer spikes for neuron 130 out of 662\n",
      "Infer spikes for neuron 131 out of 662\n",
      "Infer spikes for neuron 132 out of 662\n",
      "Infer spikes for neuron 133 out of 662\n",
      "Infer spikes for neuron 134 out of 662\n",
      "Infer spikes for neuron 135 out of 662\n",
      "Infer spikes for neuron 136 out of 662\n",
      "Infer spikes for neuron 137 out of 662\n",
      "Infer spikes for neuron 138 out of 662\n",
      "Infer spikes for neuron 139 out of 662\n",
      "Infer spikes for neuron 140 out of 662\n",
      "Infer spikes for neuron 141 out of 662\n",
      "Infer spikes for neuron 142 out of 662\n",
      "Infer spikes for neuron 143 out of 662\n",
      "Infer spikes for neuron 144 out of 662\n",
      "Infer spikes for neuron 145 out of 662\n",
      "Infer spikes for neuron 146 out of 662\n",
      "Infer spikes for neuron 147 out of 662\n",
      "Infer spikes for neuron 148 out of 662\n",
      "Infer spikes for neuron 149 out of 662\n",
      "Infer spikes for neuron 150 out of 662\n",
      "Infer spikes for neuron 151 out of 662\n",
      "Infer spikes for neuron 152 out of 662\n",
      "Infer spikes for neuron 153 out of 662\n",
      "Infer spikes for neuron 154 out of 662\n",
      "Infer spikes for neuron 155 out of 662\n",
      "Infer spikes for neuron 156 out of 662\n",
      "Infer spikes for neuron 157 out of 662\n",
      "Infer spikes for neuron 158 out of 662\n",
      "Infer spikes for neuron 159 out of 662\n",
      "Infer spikes for neuron 160 out of 662\n",
      "Infer spikes for neuron 161 out of 662\n",
      "Infer spikes for neuron 162 out of 662\n",
      "Infer spikes for neuron 163 out of 662\n",
      "Infer spikes for neuron 164 out of 662\n",
      "Infer spikes for neuron 165 out of 662\n",
      "Infer spikes for neuron 166 out of 662\n",
      "Infer spikes for neuron 167 out of 662\n",
      "Infer spikes for neuron 168 out of 662\n",
      "Infer spikes for neuron 169 out of 662\n",
      "Infer spikes for neuron 170 out of 662\n",
      "Infer spikes for neuron 171 out of 662\n",
      "Infer spikes for neuron 172 out of 662\n",
      "Infer spikes for neuron 173 out of 662\n",
      "Infer spikes for neuron 174 out of 662\n",
      "Infer spikes for neuron 175 out of 662\n",
      "Infer spikes for neuron 176 out of 662\n",
      "Infer spikes for neuron 177 out of 662\n",
      "Infer spikes for neuron 178 out of 662\n",
      "Infer spikes for neuron 179 out of 662\n",
      "Infer spikes for neuron 180 out of 662\n",
      "Infer spikes for neuron 181 out of 662\n",
      "Infer spikes for neuron 182 out of 662\n",
      "Infer spikes for neuron 183 out of 662\n",
      "Infer spikes for neuron 184 out of 662\n",
      "Infer spikes for neuron 185 out of 662\n",
      "Infer spikes for neuron 186 out of 662\n",
      "Infer spikes for neuron 187 out of 662\n",
      "Infer spikes for neuron 188 out of 662\n",
      "Infer spikes for neuron 189 out of 662\n",
      "Infer spikes for neuron 190 out of 662\n",
      "Infer spikes for neuron 191 out of 662\n",
      "Infer spikes for neuron 192 out of 662\n",
      "Infer spikes for neuron 193 out of 662\n",
      "Infer spikes for neuron 194 out of 662\n",
      "Infer spikes for neuron 195 out of 662\n",
      "Infer spikes for neuron 196 out of 662\n",
      "Infer spikes for neuron 197 out of 662\n",
      "Infer spikes for neuron 198 out of 662\n",
      "Infer spikes for neuron 199 out of 662\n",
      "Infer spikes for neuron 200 out of 662\n",
      "Infer spikes for neuron 201 out of 662\n",
      "Infer spikes for neuron 202 out of 662\n",
      "Infer spikes for neuron 203 out of 662\n",
      "Infer spikes for neuron 204 out of 662\n",
      "Infer spikes for neuron 205 out of 662\n",
      "Infer spikes for neuron 206 out of 662\n",
      "Infer spikes for neuron 207 out of 662\n",
      "Infer spikes for neuron 208 out of 662\n",
      "Infer spikes for neuron 209 out of 662\n",
      "Infer spikes for neuron 210 out of 662\n",
      "Infer spikes for neuron 211 out of 662\n",
      "Infer spikes for neuron 212 out of 662\n",
      "Infer spikes for neuron 213 out of 662\n",
      "Infer spikes for neuron 214 out of 662\n",
      "Infer spikes for neuron 215 out of 662\n",
      "Infer spikes for neuron 216 out of 662\n",
      "Infer spikes for neuron 217 out of 662\n",
      "Infer spikes for neuron 218 out of 662\n",
      "Infer spikes for neuron 219 out of 662\n",
      "Infer spikes for neuron 220 out of 662\n",
      "Infer spikes for neuron 221 out of 662\n",
      "Infer spikes for neuron 222 out of 662\n",
      "Infer spikes for neuron 223 out of 662\n",
      "Infer spikes for neuron 224 out of 662\n",
      "Infer spikes for neuron 225 out of 662\n",
      "Infer spikes for neuron 226 out of 662\n",
      "Infer spikes for neuron 227 out of 662\n",
      "Infer spikes for neuron 228 out of 662\n",
      "Infer spikes for neuron 229 out of 662\n",
      "Infer spikes for neuron 230 out of 662\n",
      "Infer spikes for neuron 231 out of 662\n",
      "Infer spikes for neuron 232 out of 662\n",
      "Infer spikes for neuron 233 out of 662\n",
      "Infer spikes for neuron 234 out of 662\n",
      "Infer spikes for neuron 235 out of 662\n",
      "Infer spikes for neuron 236 out of 662\n",
      "Infer spikes for neuron 237 out of 662\n",
      "Infer spikes for neuron 238 out of 662\n",
      "Infer spikes for neuron 239 out of 662\n",
      "Infer spikes for neuron 240 out of 662\n",
      "Infer spikes for neuron 241 out of 662\n",
      "Infer spikes for neuron 242 out of 662\n",
      "Infer spikes for neuron 243 out of 662\n",
      "Infer spikes for neuron 244 out of 662\n",
      "Infer spikes for neuron 245 out of 662\n",
      "Infer spikes for neuron 246 out of 662\n",
      "Infer spikes for neuron 247 out of 662\n",
      "Infer spikes for neuron 248 out of 662\n",
      "Infer spikes for neuron 249 out of 662\n",
      "Infer spikes for neuron 250 out of 662\n",
      "Infer spikes for neuron 251 out of 662\n",
      "Infer spikes for neuron 252 out of 662\n",
      "Infer spikes for neuron 253 out of 662\n",
      "Infer spikes for neuron 254 out of 662\n",
      "Infer spikes for neuron 255 out of 662\n",
      "Infer spikes for neuron 256 out of 662\n",
      "Infer spikes for neuron 257 out of 662\n",
      "Infer spikes for neuron 258 out of 662\n",
      "Infer spikes for neuron 259 out of 662\n",
      "Infer spikes for neuron 260 out of 662\n",
      "Infer spikes for neuron 261 out of 662\n",
      "Infer spikes for neuron 262 out of 662\n",
      "Infer spikes for neuron 263 out of 662\n",
      "Infer spikes for neuron 264 out of 662\n",
      "Infer spikes for neuron 265 out of 662\n",
      "Infer spikes for neuron 266 out of 662\n",
      "Infer spikes for neuron 267 out of 662\n",
      "Infer spikes for neuron 268 out of 662\n",
      "Infer spikes for neuron 269 out of 662\n",
      "Infer spikes for neuron 270 out of 662\n",
      "Infer spikes for neuron 271 out of 662\n",
      "Infer spikes for neuron 272 out of 662\n",
      "Infer spikes for neuron 273 out of 662\n",
      "Infer spikes for neuron 274 out of 662\n",
      "Infer spikes for neuron 275 out of 662\n",
      "Infer spikes for neuron 276 out of 662\n",
      "Infer spikes for neuron 277 out of 662\n",
      "Infer spikes for neuron 278 out of 662\n",
      "Infer spikes for neuron 279 out of 662\n",
      "Infer spikes for neuron 280 out of 662\n",
      "Infer spikes for neuron 281 out of 662\n",
      "Infer spikes for neuron 282 out of 662\n",
      "Infer spikes for neuron 283 out of 662\n",
      "Infer spikes for neuron 284 out of 662\n",
      "Infer spikes for neuron 285 out of 662\n",
      "Infer spikes for neuron 286 out of 662\n",
      "Infer spikes for neuron 287 out of 662\n",
      "Infer spikes for neuron 288 out of 662\n",
      "Infer spikes for neuron 289 out of 662\n",
      "Infer spikes for neuron 290 out of 662\n",
      "Infer spikes for neuron 291 out of 662\n",
      "Infer spikes for neuron 292 out of 662\n",
      "Infer spikes for neuron 293 out of 662\n",
      "Infer spikes for neuron 294 out of 662\n",
      "Infer spikes for neuron 295 out of 662\n",
      "Infer spikes for neuron 296 out of 662\n",
      "Infer spikes for neuron 297 out of 662\n",
      "Infer spikes for neuron 298 out of 662\n",
      "Infer spikes for neuron 299 out of 662\n",
      "Infer spikes for neuron 300 out of 662\n",
      "Infer spikes for neuron 301 out of 662\n",
      "Infer spikes for neuron 302 out of 662\n",
      "Infer spikes for neuron 303 out of 662\n",
      "Infer spikes for neuron 304 out of 662\n",
      "Infer spikes for neuron 305 out of 662\n",
      "Infer spikes for neuron 306 out of 662\n",
      "Infer spikes for neuron 307 out of 662\n",
      "Infer spikes for neuron 308 out of 662\n",
      "Infer spikes for neuron 309 out of 662\n",
      "Infer spikes for neuron 310 out of 662\n",
      "Infer spikes for neuron 311 out of 662\n",
      "Infer spikes for neuron 312 out of 662\n",
      "Infer spikes for neuron 313 out of 662\n",
      "Infer spikes for neuron 314 out of 662\n",
      "Infer spikes for neuron 315 out of 662\n",
      "Infer spikes for neuron 316 out of 662\n",
      "Infer spikes for neuron 317 out of 662\n",
      "Infer spikes for neuron 318 out of 662\n",
      "Infer spikes for neuron 319 out of 662\n",
      "Infer spikes for neuron 320 out of 662\n",
      "Infer spikes for neuron 321 out of 662\n",
      "Infer spikes for neuron 322 out of 662\n",
      "Infer spikes for neuron 323 out of 662\n",
      "Infer spikes for neuron 324 out of 662\n",
      "Infer spikes for neuron 325 out of 662\n",
      "Infer spikes for neuron 326 out of 662\n",
      "Infer spikes for neuron 327 out of 662\n",
      "Infer spikes for neuron 328 out of 662\n",
      "Infer spikes for neuron 329 out of 662\n",
      "Infer spikes for neuron 330 out of 662\n",
      "Infer spikes for neuron 331 out of 662\n",
      "Infer spikes for neuron 332 out of 662\n",
      "Infer spikes for neuron 333 out of 662\n",
      "Infer spikes for neuron 334 out of 662\n",
      "Infer spikes for neuron 335 out of 662\n",
      "Infer spikes for neuron 336 out of 662\n",
      "Infer spikes for neuron 337 out of 662\n",
      "Infer spikes for neuron 338 out of 662\n",
      "Infer spikes for neuron 339 out of 662\n",
      "Infer spikes for neuron 340 out of 662\n",
      "Infer spikes for neuron 341 out of 662\n",
      "Infer spikes for neuron 342 out of 662\n",
      "Infer spikes for neuron 343 out of 662\n",
      "Infer spikes for neuron 344 out of 662\n",
      "Infer spikes for neuron 345 out of 662\n",
      "Infer spikes for neuron 346 out of 662\n",
      "Infer spikes for neuron 347 out of 662\n",
      "Infer spikes for neuron 348 out of 662\n",
      "Infer spikes for neuron 349 out of 662\n",
      "Infer spikes for neuron 350 out of 662\n",
      "Infer spikes for neuron 351 out of 662\n",
      "Infer spikes for neuron 352 out of 662\n",
      "Infer spikes for neuron 353 out of 662\n",
      "Infer spikes for neuron 354 out of 662\n",
      "Infer spikes for neuron 355 out of 662\n",
      "Infer spikes for neuron 356 out of 662\n",
      "Infer spikes for neuron 357 out of 662\n",
      "Infer spikes for neuron 358 out of 662\n",
      "Infer spikes for neuron 359 out of 662\n",
      "Infer spikes for neuron 360 out of 662\n",
      "Infer spikes for neuron 361 out of 662\n",
      "Infer spikes for neuron 362 out of 662\n",
      "Infer spikes for neuron 363 out of 662\n",
      "Infer spikes for neuron 364 out of 662\n",
      "Infer spikes for neuron 365 out of 662\n",
      "Infer spikes for neuron 366 out of 662\n",
      "Infer spikes for neuron 367 out of 662\n",
      "Infer spikes for neuron 368 out of 662\n",
      "Infer spikes for neuron 369 out of 662\n",
      "Infer spikes for neuron 370 out of 662\n",
      "Infer spikes for neuron 371 out of 662\n",
      "Infer spikes for neuron 372 out of 662\n",
      "Infer spikes for neuron 373 out of 662\n",
      "Infer spikes for neuron 374 out of 662\n",
      "Infer spikes for neuron 375 out of 662\n",
      "Infer spikes for neuron 376 out of 662\n",
      "Infer spikes for neuron 377 out of 662\n",
      "Infer spikes for neuron 378 out of 662\n",
      "Infer spikes for neuron 379 out of 662\n",
      "Infer spikes for neuron 380 out of 662\n",
      "Infer spikes for neuron 381 out of 662\n",
      "Infer spikes for neuron 382 out of 662\n",
      "Infer spikes for neuron 383 out of 662\n",
      "Infer spikes for neuron 384 out of 662\n",
      "Infer spikes for neuron 385 out of 662\n",
      "Infer spikes for neuron 386 out of 662\n",
      "Infer spikes for neuron 387 out of 662\n",
      "Infer spikes for neuron 388 out of 662\n",
      "Infer spikes for neuron 389 out of 662\n",
      "Infer spikes for neuron 390 out of 662\n",
      "Infer spikes for neuron 391 out of 662\n",
      "Infer spikes for neuron 392 out of 662\n",
      "Infer spikes for neuron 393 out of 662\n",
      "Infer spikes for neuron 394 out of 662\n",
      "Infer spikes for neuron 395 out of 662\n",
      "Infer spikes for neuron 396 out of 662\n",
      "Infer spikes for neuron 397 out of 662\n",
      "Infer spikes for neuron 398 out of 662\n",
      "Infer spikes for neuron 399 out of 662\n",
      "Infer spikes for neuron 400 out of 662\n",
      "Infer spikes for neuron 401 out of 662\n",
      "Infer spikes for neuron 402 out of 662\n",
      "Infer spikes for neuron 403 out of 662\n",
      "Infer spikes for neuron 404 out of 662\n",
      "Infer spikes for neuron 405 out of 662\n",
      "Infer spikes for neuron 406 out of 662\n",
      "Infer spikes for neuron 407 out of 662\n",
      "Infer spikes for neuron 408 out of 662\n",
      "Infer spikes for neuron 409 out of 662\n",
      "Infer spikes for neuron 410 out of 662\n",
      "Infer spikes for neuron 411 out of 662\n",
      "Infer spikes for neuron 412 out of 662\n",
      "Infer spikes for neuron 413 out of 662\n",
      "Infer spikes for neuron 414 out of 662\n",
      "Infer spikes for neuron 415 out of 662\n",
      "Infer spikes for neuron 416 out of 662\n",
      "Infer spikes for neuron 417 out of 662\n",
      "Infer spikes for neuron 418 out of 662\n",
      "Infer spikes for neuron 419 out of 662\n",
      "Infer spikes for neuron 420 out of 662\n",
      "Infer spikes for neuron 421 out of 662\n",
      "Infer spikes for neuron 422 out of 662\n",
      "Infer spikes for neuron 423 out of 662\n",
      "Infer spikes for neuron 424 out of 662\n",
      "Infer spikes for neuron 425 out of 662\n",
      "Infer spikes for neuron 426 out of 662\n",
      "Infer spikes for neuron 427 out of 662\n",
      "Infer spikes for neuron 428 out of 662\n",
      "Infer spikes for neuron 429 out of 662\n",
      "Infer spikes for neuron 430 out of 662\n",
      "Infer spikes for neuron 431 out of 662\n",
      "Infer spikes for neuron 432 out of 662\n",
      "Infer spikes for neuron 433 out of 662\n",
      "Infer spikes for neuron 434 out of 662\n",
      "Infer spikes for neuron 435 out of 662\n",
      "Infer spikes for neuron 436 out of 662\n",
      "Infer spikes for neuron 437 out of 662\n",
      "Infer spikes for neuron 438 out of 662\n",
      "Infer spikes for neuron 439 out of 662\n",
      "Infer spikes for neuron 440 out of 662\n",
      "Infer spikes for neuron 441 out of 662\n",
      "Infer spikes for neuron 442 out of 662\n",
      "Infer spikes for neuron 443 out of 662\n",
      "Infer spikes for neuron 444 out of 662\n",
      "Infer spikes for neuron 445 out of 662\n",
      "Infer spikes for neuron 446 out of 662\n",
      "Infer spikes for neuron 447 out of 662\n",
      "Infer spikes for neuron 448 out of 662\n",
      "Infer spikes for neuron 449 out of 662\n",
      "Infer spikes for neuron 450 out of 662\n",
      "Infer spikes for neuron 451 out of 662\n",
      "Infer spikes for neuron 452 out of 662\n",
      "Infer spikes for neuron 453 out of 662\n",
      "Infer spikes for neuron 454 out of 662\n",
      "Infer spikes for neuron 455 out of 662\n",
      "Infer spikes for neuron 456 out of 662\n",
      "Infer spikes for neuron 457 out of 662\n",
      "Infer spikes for neuron 458 out of 662\n",
      "Infer spikes for neuron 459 out of 662\n",
      "Infer spikes for neuron 460 out of 662\n",
      "Infer spikes for neuron 461 out of 662\n",
      "Infer spikes for neuron 462 out of 662\n",
      "Infer spikes for neuron 463 out of 662\n",
      "Infer spikes for neuron 464 out of 662\n",
      "Infer spikes for neuron 465 out of 662\n",
      "Infer spikes for neuron 466 out of 662\n",
      "Infer spikes for neuron 467 out of 662\n",
      "Infer spikes for neuron 468 out of 662\n",
      "Infer spikes for neuron 469 out of 662\n",
      "Infer spikes for neuron 470 out of 662\n",
      "Infer spikes for neuron 471 out of 662\n",
      "Infer spikes for neuron 472 out of 662\n",
      "Infer spikes for neuron 473 out of 662\n",
      "Infer spikes for neuron 474 out of 662\n",
      "Infer spikes for neuron 475 out of 662\n",
      "Infer spikes for neuron 476 out of 662\n",
      "Infer spikes for neuron 477 out of 662\n",
      "Infer spikes for neuron 478 out of 662\n",
      "Infer spikes for neuron 479 out of 662\n",
      "Infer spikes for neuron 480 out of 662\n",
      "Infer spikes for neuron 481 out of 662\n",
      "Infer spikes for neuron 482 out of 662\n",
      "Infer spikes for neuron 483 out of 662\n",
      "Infer spikes for neuron 484 out of 662\n",
      "Infer spikes for neuron 485 out of 662\n",
      "Infer spikes for neuron 486 out of 662\n",
      "Infer spikes for neuron 487 out of 662\n",
      "Infer spikes for neuron 488 out of 662\n",
      "Infer spikes for neuron 489 out of 662\n",
      "Infer spikes for neuron 490 out of 662\n",
      "Infer spikes for neuron 491 out of 662\n",
      "Infer spikes for neuron 492 out of 662\n",
      "Infer spikes for neuron 493 out of 662\n",
      "Infer spikes for neuron 494 out of 662\n",
      "Infer spikes for neuron 495 out of 662\n",
      "Infer spikes for neuron 496 out of 662\n",
      "Infer spikes for neuron 497 out of 662\n",
      "Infer spikes for neuron 498 out of 662\n",
      "Infer spikes for neuron 499 out of 662\n",
      "Infer spikes for neuron 500 out of 662\n",
      "Infer spikes for neuron 501 out of 662\n",
      "Infer spikes for neuron 502 out of 662\n",
      "Infer spikes for neuron 503 out of 662\n",
      "Infer spikes for neuron 504 out of 662\n",
      "Infer spikes for neuron 505 out of 662\n",
      "Infer spikes for neuron 506 out of 662\n",
      "Infer spikes for neuron 507 out of 662\n",
      "Infer spikes for neuron 508 out of 662\n",
      "Infer spikes for neuron 509 out of 662\n",
      "Infer spikes for neuron 510 out of 662\n",
      "Infer spikes for neuron 511 out of 662\n",
      "Infer spikes for neuron 512 out of 662\n",
      "Infer spikes for neuron 513 out of 662\n",
      "Infer spikes for neuron 514 out of 662\n",
      "Infer spikes for neuron 515 out of 662\n",
      "Infer spikes for neuron 516 out of 662\n",
      "Infer spikes for neuron 517 out of 662\n",
      "Infer spikes for neuron 518 out of 662\n",
      "Infer spikes for neuron 519 out of 662\n",
      "Infer spikes for neuron 520 out of 662\n",
      "Infer spikes for neuron 521 out of 662\n",
      "Infer spikes for neuron 522 out of 662\n",
      "Infer spikes for neuron 523 out of 662\n",
      "Infer spikes for neuron 524 out of 662\n",
      "Infer spikes for neuron 525 out of 662\n",
      "Infer spikes for neuron 526 out of 662\n",
      "Infer spikes for neuron 527 out of 662\n",
      "Infer spikes for neuron 528 out of 662\n",
      "Infer spikes for neuron 529 out of 662\n",
      "Infer spikes for neuron 530 out of 662\n",
      "Infer spikes for neuron 531 out of 662\n",
      "Infer spikes for neuron 532 out of 662\n",
      "Infer spikes for neuron 533 out of 662\n",
      "Infer spikes for neuron 534 out of 662\n",
      "Infer spikes for neuron 535 out of 662\n",
      "Infer spikes for neuron 536 out of 662\n",
      "Infer spikes for neuron 537 out of 662\n",
      "Infer spikes for neuron 538 out of 662\n",
      "Infer spikes for neuron 539 out of 662\n",
      "Infer spikes for neuron 540 out of 662\n",
      "Infer spikes for neuron 541 out of 662\n",
      "Infer spikes for neuron 542 out of 662\n",
      "Infer spikes for neuron 543 out of 662\n",
      "Infer spikes for neuron 544 out of 662\n",
      "Infer spikes for neuron 545 out of 662\n",
      "Infer spikes for neuron 546 out of 662\n",
      "Infer spikes for neuron 547 out of 662\n",
      "Infer spikes for neuron 548 out of 662\n",
      "Infer spikes for neuron 549 out of 662\n",
      "Infer spikes for neuron 550 out of 662\n",
      "Infer spikes for neuron 551 out of 662\n",
      "Infer spikes for neuron 552 out of 662\n",
      "Infer spikes for neuron 553 out of 662\n",
      "Infer spikes for neuron 554 out of 662\n",
      "Infer spikes for neuron 555 out of 662\n",
      "Infer spikes for neuron 556 out of 662\n",
      "Infer spikes for neuron 557 out of 662\n",
      "Infer spikes for neuron 558 out of 662\n",
      "Infer spikes for neuron 559 out of 662\n",
      "Infer spikes for neuron 560 out of 662\n",
      "Infer spikes for neuron 561 out of 662\n",
      "Infer spikes for neuron 562 out of 662\n",
      "Infer spikes for neuron 563 out of 662\n",
      "Infer spikes for neuron 564 out of 662\n",
      "Infer spikes for neuron 565 out of 662\n",
      "Infer spikes for neuron 566 out of 662\n",
      "Infer spikes for neuron 567 out of 662\n",
      "Infer spikes for neuron 568 out of 662\n",
      "Infer spikes for neuron 569 out of 662\n",
      "Infer spikes for neuron 570 out of 662\n",
      "Infer spikes for neuron 571 out of 662\n",
      "Infer spikes for neuron 572 out of 662\n",
      "Infer spikes for neuron 573 out of 662\n",
      "Infer spikes for neuron 574 out of 662\n",
      "Infer spikes for neuron 575 out of 662\n",
      "Infer spikes for neuron 576 out of 662\n",
      "Infer spikes for neuron 577 out of 662\n",
      "Infer spikes for neuron 578 out of 662\n",
      "Infer spikes for neuron 579 out of 662\n",
      "Infer spikes for neuron 580 out of 662\n",
      "Infer spikes for neuron 581 out of 662\n",
      "Infer spikes for neuron 582 out of 662\n",
      "Infer spikes for neuron 583 out of 662\n",
      "Infer spikes for neuron 584 out of 662\n",
      "Infer spikes for neuron 585 out of 662\n",
      "Infer spikes for neuron 586 out of 662\n",
      "Infer spikes for neuron 587 out of 662\n",
      "Infer spikes for neuron 588 out of 662\n",
      "Infer spikes for neuron 589 out of 662\n",
      "Infer spikes for neuron 590 out of 662\n",
      "Infer spikes for neuron 591 out of 662\n",
      "Infer spikes for neuron 592 out of 662\n",
      "Infer spikes for neuron 593 out of 662\n",
      "Infer spikes for neuron 594 out of 662\n",
      "Infer spikes for neuron 595 out of 662\n",
      "Infer spikes for neuron 596 out of 662\n",
      "Infer spikes for neuron 597 out of 662\n",
      "Infer spikes for neuron 598 out of 662\n",
      "Infer spikes for neuron 599 out of 662\n",
      "Infer spikes for neuron 600 out of 662\n",
      "Infer spikes for neuron 601 out of 662\n",
      "Infer spikes for neuron 602 out of 662\n",
      "Infer spikes for neuron 603 out of 662\n",
      "Infer spikes for neuron 604 out of 662\n",
      "Infer spikes for neuron 605 out of 662\n",
      "Infer spikes for neuron 606 out of 662\n",
      "Infer spikes for neuron 607 out of 662\n",
      "Infer spikes for neuron 608 out of 662\n",
      "Infer spikes for neuron 609 out of 662\n",
      "Infer spikes for neuron 610 out of 662\n",
      "Infer spikes for neuron 611 out of 662\n",
      "Infer spikes for neuron 612 out of 662\n",
      "Infer spikes for neuron 613 out of 662\n",
      "Infer spikes for neuron 614 out of 662\n",
      "Infer spikes for neuron 615 out of 662\n",
      "Infer spikes for neuron 616 out of 662\n",
      "Infer spikes for neuron 617 out of 662\n",
      "Infer spikes for neuron 618 out of 662\n",
      "Infer spikes for neuron 619 out of 662\n",
      "Infer spikes for neuron 620 out of 662\n",
      "Infer spikes for neuron 621 out of 662\n",
      "Infer spikes for neuron 622 out of 662\n",
      "Infer spikes for neuron 623 out of 662\n",
      "Infer spikes for neuron 624 out of 662\n",
      "Infer spikes for neuron 625 out of 662\n",
      "Infer spikes for neuron 626 out of 662\n",
      "Infer spikes for neuron 627 out of 662\n",
      "Infer spikes for neuron 628 out of 662\n",
      "Infer spikes for neuron 629 out of 662\n",
      "Infer spikes for neuron 630 out of 662\n",
      "Infer spikes for neuron 631 out of 662\n",
      "Infer spikes for neuron 632 out of 662\n",
      "Infer spikes for neuron 633 out of 662\n",
      "Infer spikes for neuron 634 out of 662\n",
      "Infer spikes for neuron 635 out of 662\n",
      "Infer spikes for neuron 636 out of 662\n",
      "Infer spikes for neuron 637 out of 662\n",
      "Infer spikes for neuron 638 out of 662\n",
      "Infer spikes for neuron 639 out of 662\n",
      "Infer spikes for neuron 640 out of 662\n",
      "Infer spikes for neuron 641 out of 662\n",
      "Infer spikes for neuron 642 out of 662\n",
      "Infer spikes for neuron 643 out of 662\n",
      "Infer spikes for neuron 644 out of 662\n",
      "Infer spikes for neuron 645 out of 662\n",
      "Infer spikes for neuron 646 out of 662\n",
      "Infer spikes for neuron 647 out of 662\n",
      "Infer spikes for neuron 648 out of 662\n",
      "Infer spikes for neuron 649 out of 662\n",
      "Infer spikes for neuron 650 out of 662\n",
      "Infer spikes for neuron 651 out of 662\n",
      "Infer spikes for neuron 652 out of 662\n",
      "Infer spikes for neuron 653 out of 662\n",
      "Infer spikes for neuron 654 out of 662\n",
      "Infer spikes for neuron 655 out of 662\n",
      "Infer spikes for neuron 656 out of 662\n",
      "Infer spikes for neuron 657 out of 662\n",
      "Infer spikes for neuron 658 out of 662\n",
      "Infer spikes for neuron 659 out of 662\n",
      "Infer spikes for neuron 660 out of 662\n",
      "Infer spikes for neuron 661 out of 662\n",
      "Infer spikes for neuron 662 out of 662\n"
     ]
    }
   ],
   "source": [
    "Data.Cascade.inferDiscreteSpikes()"
   ]
  },
  {
   "cell_type": "markdown",
   "metadata": {
    "pycharm": {
     "name": "#%% md\n"
    }
   },
   "source": [
    "### Save Progress"
   ]
  },
  {
   "cell_type": "code",
   "execution_count": 17,
   "metadata": {
    "pycharm": {
     "name": "#%%\n"
    }
   },
   "outputs": [
    {
     "name": "stderr",
     "output_type": "stream",
     "text": [
      "C:\\ProgramData\\Anaconda3\\envs\\Calcium-Imaging-Analysis-Pipeline\\lib\\site-packages\\numpy\\lib\\npyio.py:528: VisibleDeprecationWarning: Creating an ndarray from ragged nested sequences (which is a list-or-tuple of lists-or-tuples-or ndarrays with different lengths or shapes) is deprecated. If you meant to do this, you must specify 'dtype=object' when creating the ndarray.\n",
      "  arr = np.asanyarray(arr)\n"
     ]
    }
   ],
   "source": [
    "Data.Cascade.saveSpikeInference(Data.output_folder)"
   ]
  },
  {
   "cell_type": "code",
   "execution_count": null,
   "outputs": [],
   "source": [
    "## Export to MATLab for MATLab Analyses"
   ],
   "metadata": {
    "collapsed": false,
    "pycharm": {
     "name": "#%%\n"
    }
   }
  },
  {
   "cell_type": "code",
   "execution_count": 18,
   "outputs": [
    {
     "name": "stderr",
     "output_type": "stream",
     "text": [
      "C:\\Users\\YUSTE\\AppData\\Roaming\\Python\\Python37\\site-packages\\scipy\\io\\matlab\\mio5.py:450: VisibleDeprecationWarning: Creating an ndarray from ragged nested sequences (which is a list-or-tuple of lists-or-tuples-or ndarrays with different lengths or shapes) is deprecated. If you meant to do this, you must specify 'dtype=object' when creating the ndarray.\n",
      "  narr = np.asanyarray(source)\n"
     ]
    }
   ],
   "source": [
    "Data.Cascade.exportSpikeProb(Data.output_folder)\n",
    "Data.Cascade.exportSpikeInference(Data.output_folder)"
   ],
   "metadata": {
    "collapsed": false,
    "pycharm": {
     "name": "#%%\n"
    }
   }
  },
  {
   "cell_type": "code",
   "execution_count": 19,
   "outputs": [],
   "source": [
    "### Visualize Noise Histogram\n",
    "from AnalysisModules.StaticPlotting import plotNoise\n",
    "plotNoise(Data.Cascade.traces, Data.Cascade.frame_rate)"
   ],
   "metadata": {
    "collapsed": false,
    "pycharm": {
     "name": "#%%\n"
    }
   }
  },
  {
   "cell_type": "code",
   "execution_count": null,
   "outputs": [],
   "source": [
    "## Visualize Spike Inference\n",
    "from AnalysisModules.StaticPlotting import plotSpikeInference\n",
    "plotSpikeInference(Data.Cascade.spike_prob, Data.Cascade.spike_time_estimates, Data.Cascade.traces, Data.Cascade.frame_rate)"
   ],
   "metadata": {
    "collapsed": false,
    "pycharm": {
     "name": "#%%\n"
    }
   }
  },
  {
   "cell_type": "code",
   "execution_count": null,
   "outputs": [],
   "source": [],
   "metadata": {
    "collapsed": false,
    "pycharm": {
     "name": "#%%\n"
    }
   }
  },
  {
   "cell_type": "code",
   "execution_count": 21,
   "outputs": [
    {
     "ename": "ValueError",
     "evalue": "The number of FixedLocator locations (70), usually from a call to set_ticks, does not match the number of ticklabels (71).",
     "output_type": "error",
     "traceback": [
      "\u001B[1;31m---------------------------------------------------------------------------\u001B[0m",
      "\u001B[1;31mValueError\u001B[0m                                Traceback (most recent call last)",
      "\u001B[1;32m<ipython-input-21-9f6fb4917067>\u001B[0m in \u001B[0;36m<module>\u001B[1;34m\u001B[0m\n\u001B[0;32m      5\u001B[0m \u001B[1;32mimport\u001B[0m \u001B[0mscipy\u001B[0m\u001B[1;33m.\u001B[0m\u001B[0mndimage\u001B[0m\u001B[1;33m\u001B[0m\u001B[1;33m\u001B[0m\u001B[0m\n\u001B[0;32m      6\u001B[0m \u001B[0mFiringRate\u001B[0m \u001B[1;33m=\u001B[0m \u001B[0mscipy\u001B[0m\u001B[1;33m.\u001B[0m\u001B[0mndimage\u001B[0m\u001B[1;33m.\u001B[0m\u001B[0mgaussian_filter1d\u001B[0m\u001B[1;33m(\u001B[0m\u001B[0mFiringRate\u001B[0m\u001B[1;33m,\u001B[0m \u001B[0msigma\u001B[0m\u001B[1;33m=\u001B[0m\u001B[1;36m3\u001B[0m\u001B[1;33m,\u001B[0m \u001B[0maxis\u001B[0m\u001B[1;33m=\u001B[0m\u001B[1;36m1\u001B[0m\u001B[1;33m)\u001B[0m\u001B[1;33m\u001B[0m\u001B[1;33m\u001B[0m\u001B[0m\n\u001B[1;32m----> 7\u001B[1;33m \u001B[0mplotFiringRateMatrix\u001B[0m\u001B[1;33m(\u001B[0m\u001B[0mFiringRate\u001B[0m\u001B[1;33m,\u001B[0m \u001B[0mData\u001B[0m\u001B[1;33m.\u001B[0m\u001B[0mCascade\u001B[0m\u001B[1;33m.\u001B[0m\u001B[0mframe_rate\u001B[0m\u001B[1;33m)\u001B[0m\u001B[1;33m\u001B[0m\u001B[1;33m\u001B[0m\u001B[0m\n\u001B[0m",
      "\u001B[1;32mC:\\ProgramData\\Anaconda3\\envs\\Calcium-Imaging-Analysis-Pipeline\\AnalysisModules\\StaticPlotting.py\u001B[0m in \u001B[0;36mplotFiringRateMatrix\u001B[1;34m(FiringRates, FrameRate, **kwargs)\u001B[0m\n\u001B[0;32m    150\u001B[0m     ax1.set_xticks((range(0, int(FiringRates.shape[1]), int(step_size))),\n\u001B[0;32m    151\u001B[0m                    labels=(range(0, int(FiringRates.shape[1]/FrameRate),\n\u001B[1;32m--> 152\u001B[1;33m                                  int(step_size/FrameRate))))\n\u001B[0m\u001B[0;32m    153\u001B[0m     \u001B[0max1\u001B[0m\u001B[1;33m.\u001B[0m\u001B[0mset_yticks\u001B[0m\u001B[1;33m(\u001B[0m\u001B[1;33m[\u001B[0m\u001B[1;36m0\u001B[0m\u001B[1;33m,\u001B[0m \u001B[0mint\u001B[0m\u001B[1;33m(\u001B[0m\u001B[0mFiringRates\u001B[0m\u001B[1;33m.\u001B[0m\u001B[0mshape\u001B[0m\u001B[1;33m[\u001B[0m\u001B[1;36m0\u001B[0m\u001B[1;33m]\u001B[0m\u001B[1;33m)\u001B[0m\u001B[1;33m]\u001B[0m\u001B[1;33m,\u001B[0m \u001B[0mlabels\u001B[0m\u001B[1;33m=\u001B[0m\u001B[1;33m[\u001B[0m\u001B[1;36m0\u001B[0m\u001B[1;33m,\u001B[0m \u001B[0mint\u001B[0m\u001B[1;33m(\u001B[0m\u001B[0mFiringRates\u001B[0m\u001B[1;33m.\u001B[0m\u001B[0mshape\u001B[0m\u001B[1;33m[\u001B[0m\u001B[1;36m0\u001B[0m\u001B[1;33m]\u001B[0m\u001B[1;33m)\u001B[0m\u001B[1;33m]\u001B[0m\u001B[1;33m)\u001B[0m\u001B[1;33m\u001B[0m\u001B[1;33m\u001B[0m\u001B[0m\n\u001B[0;32m    154\u001B[0m     \u001B[0max1\u001B[0m\u001B[1;33m.\u001B[0m\u001B[0mset_title\u001B[0m\u001B[1;33m(\u001B[0m\u001B[1;34m\"Firing Rate Map\"\u001B[0m\u001B[1;33m)\u001B[0m\u001B[1;33m\u001B[0m\u001B[1;33m\u001B[0m\u001B[0m\n",
      "\u001B[1;32mC:\\ProgramData\\Anaconda3\\envs\\Calcium-Imaging-Analysis-Pipeline\\lib\\site-packages\\matplotlib\\axes\\_base.py\u001B[0m in \u001B[0;36mwrapper\u001B[1;34m(self, *args, **kwargs)\u001B[0m\n\u001B[0;32m     73\u001B[0m \u001B[1;33m\u001B[0m\u001B[0m\n\u001B[0;32m     74\u001B[0m         \u001B[1;32mdef\u001B[0m \u001B[0mwrapper\u001B[0m\u001B[1;33m(\u001B[0m\u001B[0mself\u001B[0m\u001B[1;33m,\u001B[0m \u001B[1;33m*\u001B[0m\u001B[0margs\u001B[0m\u001B[1;33m,\u001B[0m \u001B[1;33m**\u001B[0m\u001B[0mkwargs\u001B[0m\u001B[1;33m)\u001B[0m\u001B[1;33m:\u001B[0m\u001B[1;33m\u001B[0m\u001B[1;33m\u001B[0m\u001B[0m\n\u001B[1;32m---> 75\u001B[1;33m             \u001B[1;32mreturn\u001B[0m \u001B[0mget_method\u001B[0m\u001B[1;33m(\u001B[0m\u001B[0mself\u001B[0m\u001B[1;33m)\u001B[0m\u001B[1;33m(\u001B[0m\u001B[1;33m*\u001B[0m\u001B[0margs\u001B[0m\u001B[1;33m,\u001B[0m \u001B[1;33m**\u001B[0m\u001B[0mkwargs\u001B[0m\u001B[1;33m)\u001B[0m\u001B[1;33m\u001B[0m\u001B[1;33m\u001B[0m\u001B[0m\n\u001B[0m\u001B[0;32m     76\u001B[0m \u001B[1;33m\u001B[0m\u001B[0m\n\u001B[0;32m     77\u001B[0m         \u001B[0mwrapper\u001B[0m\u001B[1;33m.\u001B[0m\u001B[0m__module__\u001B[0m \u001B[1;33m=\u001B[0m \u001B[0mowner\u001B[0m\u001B[1;33m.\u001B[0m\u001B[0m__module__\u001B[0m\u001B[1;33m\u001B[0m\u001B[1;33m\u001B[0m\u001B[0m\n",
      "\u001B[1;32mC:\\ProgramData\\Anaconda3\\envs\\Calcium-Imaging-Analysis-Pipeline\\lib\\site-packages\\matplotlib\\axis.py\u001B[0m in \u001B[0;36mset_ticks\u001B[1;34m(self, ticks, labels, minor, **kwargs)\u001B[0m\n\u001B[0;32m   1855\u001B[0m         \u001B[0mresult\u001B[0m \u001B[1;33m=\u001B[0m \u001B[0mself\u001B[0m\u001B[1;33m.\u001B[0m\u001B[0m_set_tick_locations\u001B[0m\u001B[1;33m(\u001B[0m\u001B[0mticks\u001B[0m\u001B[1;33m,\u001B[0m \u001B[0mminor\u001B[0m\u001B[1;33m=\u001B[0m\u001B[0mminor\u001B[0m\u001B[1;33m)\u001B[0m\u001B[1;33m\u001B[0m\u001B[1;33m\u001B[0m\u001B[0m\n\u001B[0;32m   1856\u001B[0m         \u001B[1;32mif\u001B[0m \u001B[0mlabels\u001B[0m \u001B[1;32mis\u001B[0m \u001B[1;32mnot\u001B[0m \u001B[1;32mNone\u001B[0m\u001B[1;33m:\u001B[0m\u001B[1;33m\u001B[0m\u001B[1;33m\u001B[0m\u001B[0m\n\u001B[1;32m-> 1857\u001B[1;33m             \u001B[0mself\u001B[0m\u001B[1;33m.\u001B[0m\u001B[0mset_ticklabels\u001B[0m\u001B[1;33m(\u001B[0m\u001B[0mlabels\u001B[0m\u001B[1;33m,\u001B[0m \u001B[0mminor\u001B[0m\u001B[1;33m=\u001B[0m\u001B[0mminor\u001B[0m\u001B[1;33m,\u001B[0m \u001B[1;33m**\u001B[0m\u001B[0mkwargs\u001B[0m\u001B[1;33m)\u001B[0m\u001B[1;33m\u001B[0m\u001B[1;33m\u001B[0m\u001B[0m\n\u001B[0m\u001B[0;32m   1858\u001B[0m         \u001B[1;32mreturn\u001B[0m \u001B[0mresult\u001B[0m\u001B[1;33m\u001B[0m\u001B[1;33m\u001B[0m\u001B[0m\n\u001B[0;32m   1859\u001B[0m \u001B[1;33m\u001B[0m\u001B[0m\n",
      "\u001B[1;32mC:\\ProgramData\\Anaconda3\\envs\\Calcium-Imaging-Analysis-Pipeline\\lib\\site-packages\\matplotlib\\axis.py\u001B[0m in \u001B[0;36mset_ticklabels\u001B[1;34m(self, ticklabels, minor, **kwargs)\u001B[0m\n\u001B[0;32m   1719\u001B[0m             \u001B[1;32mif\u001B[0m \u001B[0mlen\u001B[0m\u001B[1;33m(\u001B[0m\u001B[0mlocator\u001B[0m\u001B[1;33m.\u001B[0m\u001B[0mlocs\u001B[0m\u001B[1;33m)\u001B[0m \u001B[1;33m!=\u001B[0m \u001B[0mlen\u001B[0m\u001B[1;33m(\u001B[0m\u001B[0mticklabels\u001B[0m\u001B[1;33m)\u001B[0m \u001B[1;32mand\u001B[0m \u001B[0mlen\u001B[0m\u001B[1;33m(\u001B[0m\u001B[0mticklabels\u001B[0m\u001B[1;33m)\u001B[0m \u001B[1;33m!=\u001B[0m \u001B[1;36m0\u001B[0m\u001B[1;33m:\u001B[0m\u001B[1;33m\u001B[0m\u001B[1;33m\u001B[0m\u001B[0m\n\u001B[0;32m   1720\u001B[0m                 raise ValueError(\n\u001B[1;32m-> 1721\u001B[1;33m                     \u001B[1;34m\"The number of FixedLocator locations\"\u001B[0m\u001B[1;33m\u001B[0m\u001B[1;33m\u001B[0m\u001B[0m\n\u001B[0m\u001B[0;32m   1722\u001B[0m                     \u001B[1;34mf\" ({len(locator.locs)}), usually from a call to\"\u001B[0m\u001B[1;33m\u001B[0m\u001B[1;33m\u001B[0m\u001B[0m\n\u001B[0;32m   1723\u001B[0m                     \u001B[1;34m\" set_ticks, does not match\"\u001B[0m\u001B[1;33m\u001B[0m\u001B[1;33m\u001B[0m\u001B[0m\n",
      "\u001B[1;31mValueError\u001B[0m: The number of FixedLocator locations (70), usually from a call to set_ticks, does not match the number of ticklabels (71)."
     ]
    }
   ],
   "source": [
    "from AnalysisModules.StaticPlotting import plotFiringRateMatrix\n",
    "FiringRate = Data.Cascade.ProcessedInferences.firing_rates.copy()\n",
    "import sklearn.preprocessing\n",
    "FiringRate = sklearn.preprocessing.minmax_scale(FiringRate, axis=1)\n",
    "import scipy.ndimage\n",
    "FiringRate = scipy.ndimage.gaussian_filter1d(FiringRate, sigma=3, axis=1)\n",
    "plotFiringRateMatrix(FiringRate, Data.Cascade.frame_rate)"
   ],
   "metadata": {
    "collapsed": false,
    "pycharm": {
     "name": "#%%\n"
    }
   }
  },
  {
   "cell_type": "code",
   "execution_count": 23,
   "outputs": [],
   "source": [
    "import matplotlib\n",
    "matplotlib.use('Qt5Agg')\n",
    "\n",
    "from matplotlib import pyplot as plt"
   ],
   "metadata": {
    "collapsed": false,
    "pycharm": {
     "name": "#%%\n"
    }
   }
  },
  {
   "cell_type": "code",
   "execution_count": 14,
   "outputs": [
    {
     "data": {
      "text/plain": "array([ 0.        ,  0.10152284,  0.20304569,  0.30456853,  0.40609137,\n        0.50761421,  0.60913706,  0.7106599 ,  0.81218274,  0.91370558,\n        1.01522843,  1.11675127,  1.21827411,  1.31979695,  1.4213198 ,\n        1.52284264,  1.62436548,  1.72588832,  1.82741117,  1.92893401,\n        2.03045685,  2.1319797 ,  2.23350254,  2.33502538,  2.43654822,\n        2.53807107,  2.63959391,  2.74111675,  2.84263959,  2.94416244,\n        3.04568528,  3.14720812,  3.24873096,  3.35025381,  3.45177665,\n        3.55329949,  3.65482234,  3.75634518,  3.85786802,  3.95939086,\n        4.06091371,  4.16243655,  4.26395939,  4.36548223,  4.46700508,\n        4.56852792,  4.67005076,  4.7715736 ,  4.87309645,  4.97461929,\n        5.07614213,  5.17766497,  5.27918782,  5.38071066,  5.4822335 ,\n        5.58375635,  5.68527919,  5.78680203,  5.88832487,  5.98984772,\n        6.09137056,  6.1928934 ,  6.29441624,  6.39593909,  6.49746193,\n        6.59898477,  6.70050761,  6.80203046,  6.9035533 ,  7.00507614,\n        7.10659898,  7.20812183,  7.30964467,  7.41116751,  7.51269036,\n        7.6142132 ,  7.71573604,  7.81725888,  7.91878173,  8.02030457,\n        8.12182741,  8.22335025,  8.3248731 ,  8.42639594,  8.52791878,\n        8.62944162,  8.73096447,  8.83248731,  8.93401015,  9.03553299,\n        9.13705584,  9.23857868,  9.34010152,  9.44162437,  9.54314721,\n        9.64467005,  9.74619289,  9.84771574,  9.94923858, 10.05076142,\n       10.15228426, 10.25380711, 10.35532995, 10.45685279, 10.55837563,\n       10.65989848, 10.76142132, 10.86294416, 10.96446701, 11.06598985,\n       11.16751269, 11.26903553, 11.37055838, 11.47208122, 11.57360406,\n       11.6751269 , 11.77664975, 11.87817259, 11.97969543, 12.08121827,\n       12.18274112, 12.28426396, 12.3857868 , 12.48730964, 12.58883249,\n       12.69035533, 12.79187817, 12.89340102, 12.99492386, 13.0964467 ,\n       13.19796954, 13.29949239, 13.40101523, 13.50253807, 13.60406091,\n       13.70558376, 13.8071066 , 13.90862944, 14.01015228, 14.11167513,\n       14.21319797, 14.31472081, 14.41624365, 14.5177665 , 14.61928934,\n       14.72081218, 14.82233503, 14.92385787, 15.02538071, 15.12690355,\n       15.2284264 , 15.32994924, 15.43147208, 15.53299492, 15.63451777,\n       15.73604061, 15.83756345, 15.93908629, 16.04060914, 16.14213198,\n       16.24365482, 16.34517766, 16.44670051, 16.54822335, 16.64974619,\n       16.75126904, 16.85279188, 16.95431472, 17.05583756, 17.15736041,\n       17.25888325, 17.36040609, 17.46192893, 17.56345178, 17.66497462,\n       17.76649746, 17.8680203 , 17.96954315, 18.07106599, 18.17258883,\n       18.27411168, 18.37563452, 18.47715736, 18.5786802 , 18.68020305,\n       18.78172589, 18.88324873, 18.98477157, 19.08629442, 19.18781726,\n       19.2893401 , 19.39086294, 19.49238579, 19.59390863, 19.69543147,\n       19.79695431, 19.89847716, 20.        , 20.10152284, 20.20304569,\n       20.30456853, 20.40609137, 20.50761421, 20.60913706, 20.7106599 ,\n       20.81218274, 20.91370558, 21.01522843, 21.11675127, 21.21827411,\n       21.31979695, 21.4213198 , 21.52284264, 21.62436548, 21.72588832,\n       21.82741117, 21.92893401, 22.03045685, 22.1319797 , 22.23350254,\n       22.33502538, 22.43654822, 22.53807107, 22.63959391, 22.74111675,\n       22.84263959, 22.94416244, 23.04568528, 23.14720812, 23.24873096,\n       23.35025381, 23.45177665, 23.55329949, 23.65482234, 23.75634518,\n       23.85786802, 23.95939086, 24.06091371, 24.16243655, 24.26395939,\n       24.36548223, 24.46700508, 24.56852792, 24.67005076, 24.7715736 ,\n       24.87309645, 24.97461929, 25.07614213, 25.17766497, 25.27918782,\n       25.38071066, 25.4822335 , 25.58375635, 25.68527919, 25.78680203,\n       25.88832487, 25.98984772, 26.09137056, 26.1928934 , 26.29441624,\n       26.39593909, 26.49746193, 26.59898477, 26.70050761, 26.80203046,\n       26.9035533 , 27.00507614, 27.10659898, 27.20812183, 27.30964467,\n       27.41116751, 27.51269036, 27.6142132 , 27.71573604, 27.81725888,\n       27.91878173, 28.02030457, 28.12182741, 28.22335025, 28.3248731 ,\n       28.42639594, 28.52791878, 28.62944162, 28.73096447, 28.83248731,\n       28.93401015, 29.03553299, 29.13705584, 29.23857868, 29.34010152,\n       29.44162437, 29.54314721, 29.64467005, 29.74619289, 29.84771574,\n       29.94923858, 30.05076142, 30.15228426, 30.25380711, 30.35532995,\n       30.45685279, 30.55837563, 30.65989848, 30.76142132, 30.86294416,\n       30.96446701, 31.06598985, 31.16751269, 31.26903553, 31.37055838,\n       31.47208122, 31.57360406, 31.6751269 , 31.77664975, 31.87817259,\n       31.97969543, 32.08121827, 32.18274112, 32.28426396, 32.3857868 ,\n       32.48730964, 32.58883249, 32.69035533, 32.79187817, 32.89340102,\n       32.99492386, 33.0964467 , 33.19796954, 33.29949239, 33.40101523,\n       33.50253807, 33.60406091, 33.70558376, 33.8071066 , 33.90862944,\n       34.01015228, 34.11167513, 34.21319797, 34.31472081, 34.41624365,\n       34.5177665 , 34.61928934, 34.72081218, 34.82233503, 34.92385787,\n       35.02538071, 35.12690355, 35.2284264 , 35.32994924, 35.43147208,\n       35.53299492, 35.63451777, 35.73604061, 35.83756345, 35.93908629,\n       36.04060914, 36.14213198, 36.24365482, 36.34517766, 36.44670051,\n       36.54822335, 36.64974619, 36.75126904, 36.85279188, 36.95431472,\n       37.05583756, 37.15736041, 37.25888325, 37.36040609, 37.46192893,\n       37.56345178, 37.66497462, 37.76649746, 37.8680203 , 37.96954315,\n       38.07106599, 38.17258883, 38.27411168, 38.37563452, 38.47715736,\n       38.5786802 , 38.68020305, 38.78172589, 38.88324873, 38.98477157,\n       39.08629442, 39.18781726, 39.2893401 , 39.39086294, 39.49238579,\n       39.59390863, 39.69543147, 39.79695431, 39.89847716, 40.        ,\n       40.10152284, 40.20304569, 40.30456853, 40.40609137, 40.50761421,\n       40.60913706, 40.7106599 , 40.81218274, 40.91370558, 41.01522843,\n       41.11675127, 41.21827411, 41.31979695, 41.4213198 , 41.52284264,\n       41.62436548, 41.72588832, 41.82741117, 41.92893401, 42.03045685,\n       42.1319797 , 42.23350254, 42.33502538, 42.43654822, 42.53807107,\n       42.63959391, 42.74111675, 42.84263959, 42.94416244, 43.04568528,\n       43.14720812, 43.24873096, 43.35025381, 43.45177665, 43.55329949,\n       43.65482234, 43.75634518, 43.85786802, 43.95939086, 44.06091371,\n       44.16243655, 44.26395939, 44.36548223, 44.46700508, 44.56852792,\n       44.67005076, 44.7715736 , 44.87309645, 44.97461929, 45.07614213,\n       45.17766497, 45.27918782, 45.38071066, 45.4822335 , 45.58375635,\n       45.68527919, 45.78680203, 45.88832487, 45.98984772, 46.09137056,\n       46.1928934 , 46.29441624, 46.39593909, 46.49746193, 46.59898477,\n       46.70050761, 46.80203046, 46.9035533 , 47.00507614, 47.10659898,\n       47.20812183, 47.30964467, 47.41116751, 47.51269036, 47.6142132 ,\n       47.71573604, 47.81725888, 47.91878173, 48.02030457, 48.12182741,\n       48.22335025, 48.3248731 , 48.42639594, 48.52791878, 48.62944162,\n       48.73096447, 48.83248731, 48.93401015, 49.03553299, 49.13705584,\n       49.23857868, 49.34010152, 49.44162437, 49.54314721, 49.64467005,\n       49.74619289, 49.84771574])"
     },
     "execution_count": 14,
     "metadata": {},
     "output_type": "execute_result"
    }
   ],
   "source": [
    "from cascade2p.utils import plot_dFF_traces\n",
    "import numpy as np\n",
    "subset = np.random.randint(Data.Cascade.traces.shape[0], size=10)\n",
    "plot_dFF_traces(Data.Cascade.traces, subset, frame_rate=9.85, spiking=Data.Cascade.spike_prob)"
   ],
   "metadata": {
    "collapsed": false,
    "pycharm": {
     "name": "#%%\n"
    }
   }
  },
  {
   "cell_type": "code",
   "execution_count": null,
   "outputs": [
    {
     "ename": "KeyboardInterrupt",
     "evalue": "",
     "output_type": "error",
     "traceback": [
      "\u001B[1;31m---------------------------------------------------------------------------\u001B[0m",
      "\u001B[1;31mKeyboardInterrupt\u001B[0m                         Traceback (most recent call last)",
      "\u001B[1;32m<ipython-input-15-f403add858da>\u001B[0m in \u001B[0;36m<module>\u001B[1;34m\u001B[0m\n\u001B[0;32m      3\u001B[0m \u001B[0max1\u001B[0m\u001B[1;33m.\u001B[0m\u001B[0mplot\u001B[0m\u001B[1;33m(\u001B[0m\u001B[0mData\u001B[0m\u001B[1;33m.\u001B[0m\u001B[0mCascade\u001B[0m\u001B[1;33m.\u001B[0m\u001B[0mtraces\u001B[0m\u001B[1;33m[\u001B[0m\u001B[1;36m87\u001B[0m\u001B[1;33m,\u001B[0m \u001B[1;33m:\u001B[0m\u001B[1;33m]\u001B[0m\u001B[1;33m)\u001B[0m\u001B[1;33m\u001B[0m\u001B[1;33m\u001B[0m\u001B[0m\n\u001B[0;32m      4\u001B[0m \u001B[0max1\u001B[0m\u001B[1;33m.\u001B[0m\u001B[0mplot\u001B[0m\u001B[1;33m(\u001B[0m\u001B[0mData\u001B[0m\u001B[1;33m.\u001B[0m\u001B[0mCascade\u001B[0m\u001B[1;33m.\u001B[0m\u001B[0mspike_prob\u001B[0m\u001B[1;33m[\u001B[0m\u001B[1;36m87\u001B[0m\u001B[1;33m,\u001B[0m \u001B[1;33m:\u001B[0m\u001B[1;33m]\u001B[0m\u001B[1;33m)\u001B[0m\u001B[1;33m\u001B[0m\u001B[1;33m\u001B[0m\u001B[0m\n\u001B[1;32m----> 5\u001B[1;33m \u001B[0mplt\u001B[0m\u001B[1;33m.\u001B[0m\u001B[0mshow\u001B[0m\u001B[1;33m(\u001B[0m\u001B[1;33m)\u001B[0m\u001B[1;33m\u001B[0m\u001B[1;33m\u001B[0m\u001B[0m\n\u001B[0m",
      "\u001B[1;32mC:\\ProgramData\\Anaconda3\\envs\\Calcium-Imaging-Analysis-Pipeline\\lib\\site-packages\\matplotlib\\pyplot.py\u001B[0m in \u001B[0;36mshow\u001B[1;34m(*args, **kwargs)\u001B[0m\n\u001B[0;32m    387\u001B[0m     \"\"\"\n\u001B[0;32m    388\u001B[0m     \u001B[0m_warn_if_gui_out_of_main_thread\u001B[0m\u001B[1;33m(\u001B[0m\u001B[1;33m)\u001B[0m\u001B[1;33m\u001B[0m\u001B[1;33m\u001B[0m\u001B[0m\n\u001B[1;32m--> 389\u001B[1;33m     \u001B[1;32mreturn\u001B[0m \u001B[0m_get_backend_mod\u001B[0m\u001B[1;33m(\u001B[0m\u001B[1;33m)\u001B[0m\u001B[1;33m.\u001B[0m\u001B[0mshow\u001B[0m\u001B[1;33m(\u001B[0m\u001B[1;33m*\u001B[0m\u001B[0margs\u001B[0m\u001B[1;33m,\u001B[0m \u001B[1;33m**\u001B[0m\u001B[0mkwargs\u001B[0m\u001B[1;33m)\u001B[0m\u001B[1;33m\u001B[0m\u001B[1;33m\u001B[0m\u001B[0m\n\u001B[0m\u001B[0;32m    390\u001B[0m \u001B[1;33m\u001B[0m\u001B[0m\n\u001B[0;32m    391\u001B[0m \u001B[1;33m\u001B[0m\u001B[0m\n",
      "\u001B[1;32mC:\\ProgramData\\Anaconda3\\envs\\Calcium-Imaging-Analysis-Pipeline\\lib\\site-packages\\matplotlib\\backend_bases.py\u001B[0m in \u001B[0;36mshow\u001B[1;34m(cls, block)\u001B[0m\n\u001B[0;32m   3542\u001B[0m                 \u001B[0mblock\u001B[0m \u001B[1;33m=\u001B[0m \u001B[1;32mTrue\u001B[0m\u001B[1;33m\u001B[0m\u001B[1;33m\u001B[0m\u001B[0m\n\u001B[0;32m   3543\u001B[0m         \u001B[1;32mif\u001B[0m \u001B[0mblock\u001B[0m\u001B[1;33m:\u001B[0m\u001B[1;33m\u001B[0m\u001B[1;33m\u001B[0m\u001B[0m\n\u001B[1;32m-> 3544\u001B[1;33m             \u001B[0mcls\u001B[0m\u001B[1;33m.\u001B[0m\u001B[0mmainloop\u001B[0m\u001B[1;33m(\u001B[0m\u001B[1;33m)\u001B[0m\u001B[1;33m\u001B[0m\u001B[1;33m\u001B[0m\u001B[0m\n\u001B[0m\u001B[0;32m   3545\u001B[0m \u001B[1;33m\u001B[0m\u001B[0m\n\u001B[0;32m   3546\u001B[0m     \u001B[1;31m# This method is the one actually exporting the required methods.\u001B[0m\u001B[1;33m\u001B[0m\u001B[1;33m\u001B[0m\u001B[1;33m\u001B[0m\u001B[0m\n",
      "\u001B[1;32mC:\\ProgramData\\Anaconda3\\envs\\Calcium-Imaging-Analysis-Pipeline\\lib\\site-packages\\matplotlib\\backends\\backend_qt.py\u001B[0m in \u001B[0;36mmainloop\u001B[1;34m()\u001B[0m\n\u001B[0;32m   1053\u001B[0m     \u001B[1;32mdef\u001B[0m \u001B[0mmainloop\u001B[0m\u001B[1;33m(\u001B[0m\u001B[1;33m)\u001B[0m\u001B[1;33m:\u001B[0m\u001B[1;33m\u001B[0m\u001B[1;33m\u001B[0m\u001B[0m\n\u001B[0;32m   1054\u001B[0m         \u001B[1;32mwith\u001B[0m \u001B[0m_maybe_allow_interrupt\u001B[0m\u001B[1;33m(\u001B[0m\u001B[0mqApp\u001B[0m\u001B[1;33m)\u001B[0m\u001B[1;33m:\u001B[0m\u001B[1;33m\u001B[0m\u001B[1;33m\u001B[0m\u001B[0m\n\u001B[1;32m-> 1055\u001B[1;33m             \u001B[0mqt_compat\u001B[0m\u001B[1;33m.\u001B[0m\u001B[0m_exec\u001B[0m\u001B[1;33m(\u001B[0m\u001B[0mqApp\u001B[0m\u001B[1;33m)\u001B[0m\u001B[1;33m\u001B[0m\u001B[1;33m\u001B[0m\u001B[0m\n\u001B[0m",
      "\u001B[1;32mC:\\ProgramData\\Anaconda3\\envs\\Calcium-Imaging-Analysis-Pipeline\\lib\\contextlib.py\u001B[0m in \u001B[0;36m__exit__\u001B[1;34m(self, type, value, traceback)\u001B[0m\n\u001B[0;32m    117\u001B[0m         \u001B[1;32mif\u001B[0m \u001B[0mtype\u001B[0m \u001B[1;32mis\u001B[0m \u001B[1;32mNone\u001B[0m\u001B[1;33m:\u001B[0m\u001B[1;33m\u001B[0m\u001B[1;33m\u001B[0m\u001B[0m\n\u001B[0;32m    118\u001B[0m             \u001B[1;32mtry\u001B[0m\u001B[1;33m:\u001B[0m\u001B[1;33m\u001B[0m\u001B[1;33m\u001B[0m\u001B[0m\n\u001B[1;32m--> 119\u001B[1;33m                 \u001B[0mnext\u001B[0m\u001B[1;33m(\u001B[0m\u001B[0mself\u001B[0m\u001B[1;33m.\u001B[0m\u001B[0mgen\u001B[0m\u001B[1;33m)\u001B[0m\u001B[1;33m\u001B[0m\u001B[1;33m\u001B[0m\u001B[0m\n\u001B[0m\u001B[0;32m    120\u001B[0m             \u001B[1;32mexcept\u001B[0m \u001B[0mStopIteration\u001B[0m\u001B[1;33m:\u001B[0m\u001B[1;33m\u001B[0m\u001B[1;33m\u001B[0m\u001B[0m\n\u001B[0;32m    121\u001B[0m                 \u001B[1;32mreturn\u001B[0m \u001B[1;32mFalse\u001B[0m\u001B[1;33m\u001B[0m\u001B[1;33m\u001B[0m\u001B[0m\n",
      "\u001B[1;32mC:\\ProgramData\\Anaconda3\\envs\\Calcium-Imaging-Analysis-Pipeline\\lib\\site-packages\\matplotlib\\backends\\qt_compat.py\u001B[0m in \u001B[0;36m_maybe_allow_interrupt\u001B[1;34m(qapp)\u001B[0m\n\u001B[0;32m    274\u001B[0m             \u001B[0msignal\u001B[0m\u001B[1;33m.\u001B[0m\u001B[0msignal\u001B[0m\u001B[1;33m(\u001B[0m\u001B[0msignal\u001B[0m\u001B[1;33m.\u001B[0m\u001B[0mSIGINT\u001B[0m\u001B[1;33m,\u001B[0m \u001B[0mold_sigint_handler\u001B[0m\u001B[1;33m)\u001B[0m\u001B[1;33m\u001B[0m\u001B[1;33m\u001B[0m\u001B[0m\n\u001B[0;32m    275\u001B[0m             \u001B[1;32mif\u001B[0m \u001B[0mhandler_args\u001B[0m \u001B[1;32mis\u001B[0m \u001B[1;32mnot\u001B[0m \u001B[1;32mNone\u001B[0m\u001B[1;33m:\u001B[0m\u001B[1;33m\u001B[0m\u001B[1;33m\u001B[0m\u001B[0m\n\u001B[1;32m--> 276\u001B[1;33m                 \u001B[0mold_sigint_handler\u001B[0m\u001B[1;33m(\u001B[0m\u001B[1;33m*\u001B[0m\u001B[0mhandler_args\u001B[0m\u001B[1;33m)\u001B[0m\u001B[1;33m\u001B[0m\u001B[1;33m\u001B[0m\u001B[0m\n\u001B[0m\u001B[0;32m    277\u001B[0m \u001B[1;33m\u001B[0m\u001B[0m\n\u001B[0;32m    278\u001B[0m \u001B[1;33m\u001B[0m\u001B[0m\n",
      "\u001B[1;31mKeyboardInterrupt\u001B[0m: "
     ]
    }
   ],
   "source": [
    "fig = plt.figure(figsize=(12, 6))\n",
    "ax1 = fig.add_subplot(111)\n",
    "ax1.plot(Data.Cascade.traces[87, :])\n",
    "ax1.plot(Data.Cascade.spike_prob[87, :])\n",
    "plt.show()"
   ],
   "metadata": {
    "collapsed": false,
    "pycharm": {
     "name": "#%%\n",
     "is_executing": true
    }
   }
  },
  {
   "cell_type": "code",
   "execution_count": 26,
   "outputs": [
    {
     "data": {
      "text/plain": "<AxesSubplot:>"
     },
     "execution_count": 26,
     "metadata": {},
     "output_type": "execute_result"
    }
   ],
   "source": [
    "step_size=600\n",
    "fig = plt.figure(figsize=(12, 6))\n",
    "ax1 = fig.add_subplot(111)\n",
    "sns.heatmap(FiringRate, ax=ax1, cmap=\"Spectral_r\")"
   ],
   "metadata": {
    "collapsed": false,
    "pycharm": {
     "name": "#%%\n"
    }
   }
  },
  {
   "cell_type": "code",
   "execution_count": 27,
   "outputs": [
    {
     "data": {
      "text/plain": "Text(0.5, 1.0, 'Firing Rate Map')"
     },
     "execution_count": 27,
     "metadata": {},
     "output_type": "execute_result"
    }
   ],
   "source": [
    "ax1.set_title(\"Firing Rate Map\")"
   ],
   "metadata": {
    "collapsed": false,
    "pycharm": {
     "name": "#%%\n"
    }
   }
  },
  {
   "cell_type": "code",
   "execution_count": 24,
   "outputs": [],
   "source": [
    "import seaborn as sns"
   ],
   "metadata": {
    "collapsed": false,
    "pycharm": {
     "name": "#%%\n"
    }
   }
  },
  {
   "cell_type": "code",
   "execution_count": 28,
   "outputs": [
    {
     "data": {
      "text/plain": "[<matplotlib.axis.XTick at 0x23dcf92d6c8>,\n <matplotlib.axis.XTick at 0x23dcc2f6348>,\n <matplotlib.axis.XTick at 0x23fe860ef48>,\n <matplotlib.axis.XTick at 0x23fe8619208>,\n <matplotlib.axis.XTick at 0x23fe8619d08>,\n <matplotlib.axis.XTick at 0x23fe861dbc8>,\n <matplotlib.axis.XTick at 0x23fe8622ac8>,\n <matplotlib.axis.XTick at 0x23fe8625988>,\n <matplotlib.axis.XTick at 0x23fe8628848>,\n <matplotlib.axis.XTick at 0x23fe8628248>,\n <matplotlib.axis.XTick at 0x23fe862d5c8>,\n <matplotlib.axis.XTick at 0x23fe8631348>,\n <matplotlib.axis.XTick at 0x23fe86350c8>,\n <matplotlib.axis.XTick at 0x23fe8639248>,\n <matplotlib.axis.XTick at 0x23fe8639b88>,\n <matplotlib.axis.XTick at 0x23fe863e9c8>,\n <matplotlib.axis.XTick at 0x23fe86351c8>,\n <matplotlib.axis.XTick at 0x23fe8641588>,\n <matplotlib.axis.XTick at 0x23fe8644308>,\n <matplotlib.axis.XTick at 0x23fe8647088>,\n <matplotlib.axis.XTick at 0x23fe864c208>,\n <matplotlib.axis.XTick at 0x23fe864cb48>,\n <matplotlib.axis.XTick at 0x23fe86508c8>,\n <matplotlib.axis.XTick at 0x23fe8647188>,\n <matplotlib.axis.XTick at 0x23fe8653488>,\n <matplotlib.axis.XTick at 0x23fe8658208>,\n <matplotlib.axis.XTick at 0x23fe865b388>,\n <matplotlib.axis.XTick at 0x23fe865bcc8>,\n <matplotlib.axis.XTick at 0x23fe8660a48>,\n <matplotlib.axis.XTick at 0x23fe86647c8>,\n <matplotlib.axis.XTick at 0x23fe8664248>,\n <matplotlib.axis.XTick at 0x23fe8668348>,\n <matplotlib.axis.XTick at 0x23fe866b0c8>,\n <matplotlib.axis.XTick at 0x23fe866f248>,\n <matplotlib.axis.XTick at 0x23fe866fb88>,\n <matplotlib.axis.XTick at 0x23fe8672908>,\n <matplotlib.axis.XTick at 0x23fe8677688>,\n <matplotlib.axis.XTick at 0x23fe8677108>,\n <matplotlib.axis.XTick at 0x23fe867b208>,\n <matplotlib.axis.XTick at 0x23fe867d388>,\n <matplotlib.axis.XTick at 0x23fe867dcc8>,\n <matplotlib.axis.XTick at 0x23fe8680a48>,\n <matplotlib.axis.XTick at 0x23fe86867c8>,\n <matplotlib.axis.XTick at 0x23fe8689548>,\n <matplotlib.axis.XTick at 0x23fe86802c8>,\n <matplotlib.axis.XTick at 0x23fe86772c8>,\n <matplotlib.axis.XTick at 0x23fe868e508>,\n <matplotlib.axis.XTick at 0x23fe8690288>,\n <matplotlib.axis.XTick at 0x23fe860ee48>,\n <matplotlib.axis.XTick at 0x23fe86fe908>,\n <matplotlib.axis.XTick at 0x23fe87012c8>,\n <matplotlib.axis.XTick at 0x23fe8705048>,\n <matplotlib.axis.XTick at 0x23fe86f1208>,\n <matplotlib.axis.XTick at 0x23fe86db688>,\n <matplotlib.axis.XTick at 0x23dcc74ea48>,\n <matplotlib.axis.XTick at 0x23fe87055c8>,\n <matplotlib.axis.XTick at 0x23fe870d208>,\n <matplotlib.axis.XTick at 0x23fe8711348>,\n <matplotlib.axis.XTick at 0x23fe8711c48>,\n <matplotlib.axis.XTick at 0x23dcc74eac8>,\n <matplotlib.axis.XTick at 0x23fe8715588>,\n <matplotlib.axis.XTick at 0x23fe87182c8>,\n <matplotlib.axis.XTick at 0x23fe871c408>,\n <matplotlib.axis.XTick at 0x23fe871cd08>,\n <matplotlib.axis.XTick at 0x23fe871fa48>,\n <matplotlib.axis.XTick at 0x23fe89f5788>,\n <matplotlib.axis.XTick at 0x23fe871c088>,\n <matplotlib.axis.XTick at 0x23fe89f8148>,\n <matplotlib.axis.XTick at 0x23fe89fb288>,\n <matplotlib.axis.XTick at 0x23fe89fbb88>]"
     },
     "execution_count": 28,
     "metadata": {},
     "output_type": "execute_result"
    }
   ],
   "source": [
    "ax1.set_xticks((range(0, int(FiringRate.shape[1]), int(step_size))),\n",
    "                   labels=(range(0, int(FiringRate.shape[1]/10),\n",
    "                                 int(step_size/10))))"
   ],
   "metadata": {
    "collapsed": false,
    "pycharm": {
     "name": "#%%\n"
    }
   }
  },
  {
   "cell_type": "code",
   "execution_count": 29,
   "outputs": [
    {
     "data": {
      "text/plain": "[<matplotlib.axis.YTick at 0x23dcf923288>,\n <matplotlib.axis.YTick at 0x23dcf75ee08>]"
     },
     "execution_count": 29,
     "metadata": {},
     "output_type": "execute_result"
    }
   ],
   "source": [
    "ax1.set_yticks([0, int(FiringRate.shape[0])], labels=[0, int(FiringRate.shape[0])])"
   ],
   "metadata": {
    "collapsed": false,
    "pycharm": {
     "name": "#%%\n"
    }
   }
  },
  {
   "cell_type": "code",
   "execution_count": 30,
   "outputs": [],
   "source": [
    "plt.show()"
   ],
   "metadata": {
    "collapsed": false,
    "pycharm": {
     "name": "#%%\n"
    }
   }
  }
 ],
 "metadata": {
  "kernelspec": {
   "display_name": "Python 3",
   "language": "python",
   "name": "python3"
  },
  "language_info": {
   "codemirror_mode": {
    "name": "ipython",
    "version": 3
   },
   "file_extension": ".py",
   "mimetype": "text/x-python",
   "name": "python",
   "nbconvert_exporter": "python",
   "pygments_lexer": "ipython3",
   "version": "3.7.9"
  }
 },
 "nbformat": 4,
 "nbformat_minor": 1
}