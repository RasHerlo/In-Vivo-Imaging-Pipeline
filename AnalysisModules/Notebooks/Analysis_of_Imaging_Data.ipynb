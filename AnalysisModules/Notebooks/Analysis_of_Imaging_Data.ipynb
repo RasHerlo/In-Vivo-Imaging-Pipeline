{
 "cells": [
  {
   "cell_type": "markdown",
   "metadata": {
    "collapsed": true,
    "pycharm": {
     "name": "#%% md\n"
    }
   },
   "source": [
    "# Pipeline for Recovering Neural Activity from Calcium Imaging Data"
   ]
  },
  {
   "cell_type": "markdown",
   "metadata": {},
   "source": [
    "### Relevant Citations / Dependencies\n",
    "**Motion Correction ->** Suite2P Package from Stringer Lab <br>\n",
    "**ROI Identification ->** Cellpose Package from Stringer Lab <br>\n",
    "**Signal Extraction ->** FISSA Package from Rochefort Lab <br>\n",
    "**Source-Separation ->** FISSA Package from Rochefort Lab <br>\n",
    "**Spike Inference ->** Cascade Package from Helmchen Lab <br>"
   ]
  },
  {
   "cell_type": "markdown",
   "metadata": {},
   "source": [
    "### Import Modules"
   ]
  },
  {
   "cell_type": "code",
   "execution_count": null,
   "metadata": {
    "pycharm": {
     "name": "#%%\n"
    }
   },
   "outputs": [],
   "source": [
    "# FISSA: Signal Extraction & Source-Separation\n",
    "from AnalysisModules.FissaAnalysis import FissaModule\n",
    "# Assorted Static Processing Functions\n",
    "from AnalysisModules.StaticProcessing import smoothTraces_TiffOrg, calculate_dFoF, mergeTraces, detrendTraces"
   ]
  },
  {
   "cell_type": "markdown",
   "metadata": {
    "pycharm": {
     "name": "#%% md\n"
    }
   },
   "source": [
    "### Instantiation"
   ]
  },
  {
   "cell_type": "code",
   "execution_count": null,
   "metadata": {},
   "outputs": [],
   "source": [
    "# Instantiate Fissa Module & Sub-Modules. \n",
    "# Sub-Module 1 is preparation, will contain raw data (PreparationModule)\n",
    "# Sub-Module 2 is experiment, will contain separation data (SeparationModule)\n",
    "# Sub-Module 3 is ProcessedTraces, just a container for processed signals\n",
    "Data = FissaModule(data_folder=\"D:\\\\M4618_Second_Round\\\\Encoding\", index_file = \"D:\\\\M4618_Second_Round\\\\Encoding\\\\suite2p\\\\plane0\\\\Debug_Neuronal_Index.csv\")\n",
    "# This folder contains the suite2p/plane0/___.npy files as well as the saved registered files located in the suite2p/plane0/reg_tif folder\n",
    "# Initialize\n",
    "Data.pruneNonNeuronalROIs() # This step removes all non-neuronal data\n",
    "Data.initializeFissa() \n"
   ]
  },
  {
   "cell_type": "markdown",
   "metadata": {},
   "source": [
    "### Extract Traces"
   ]
  },
  {
   "cell_type": "code",
   "execution_count": null,
   "metadata": {},
   "outputs": [],
   "source": [
    "Data.extractTraces() # simple, call to extract raw traces from videos"
   ]
  },
  {
   "cell_type": "markdown",
   "metadata": {},
   "source": [
    "### Save Progress"
   ]
  },
  {
   "cell_type": "code",
   "execution_count": null,
   "metadata": {},
   "outputs": [],
   "source": [
    "Data.saveFissaPrep()"
   ]
  },
  {
   "cell_type": "markdown",
   "metadata": {
    "pycharm": {
     "name": "#%% md\n"
    }
   },
   "source": [
    "### Pre-Process Traces"
   ]
  },
  {
   "cell_type": "code",
   "execution_count": null,
   "metadata": {
    "pycharm": {
     "name": "#%%\n"
    }
   },
   "outputs": [],
   "source": [
    "# let's smooth the data to make it nicer\n",
    "Data.ProcessedTraces.smoothed_raw = smoothTraces_TiffOrg(Data.preparation.raw, niter=50, kappa=150, gamma=0.15)[0]"
   ]
  },
  {
   "cell_type": "markdown",
   "metadata": {
    "pycharm": {
     "name": "#%% md\n"
    }
   },
   "source": [
    "### Save Progress"
   ]
  },
  {
   "cell_type": "code",
   "execution_count": null,
   "metadata": {
    "pycharm": {
     "name": "#%%\n"
    }
   },
   "outputs": [],
   "source": [
    "Data.saveProcessedTraces()"
   ]
  },
  {
   "cell_type": "markdown",
   "metadata": {
    "pycharm": {
     "name": "#%% md\n"
    }
   },
   "source": [
    "### Use Pre-Processed Traces for Source-Separation"
   ]
  },
  {
   "cell_type": "code",
   "execution_count": null,
   "metadata": {
    "pycharm": {
     "name": "#%%\n"
    }
   },
   "outputs": [],
   "source": [
    "Data.preparation.raw = Data.ProcessedTraces.smoothed_raw.copy()\n",
    "#Let's use for separation, so replace the raws with smooths\n",
    "Data.passPrepToFissa()"
   ]
  },
  {
   "cell_type": "markdown",
   "metadata": {
    "pycharm": {
     "name": "#%% md\n"
    }
   },
   "source": [
    "### Source-Separate Traces"
   ]
  },
  {
   "cell_type": "code",
   "execution_count": null,
   "metadata": {
    "pycharm": {
     "name": "#%%\n"
    }
   },
   "outputs": [],
   "source": [
    "Data.separateTraces() # simple, call to separate the traces"
   ]
  },
  {
   "cell_type": "markdown",
   "metadata": {
    "pycharm": {
     "name": "#%% md\n"
    }
   },
   "source": [
    "### Save Progress"
   ]
  },
  {
   "cell_type": "code",
   "execution_count": null,
   "metadata": {
    "pycharm": {
     "name": "#%%\n"
    }
   },
   "outputs": [],
   "source": [
    "Data.saveFissaSep()"
   ]
  },
  {
   "cell_type": "markdown",
   "metadata": {
    "pycharm": {
     "name": "#%% md\n"
    }
   },
   "source": [
    "### Post-Process Traces"
   ]
  },
  {
   "cell_type": "code",
   "execution_count": null,
   "metadata": {
    "pycharm": {
     "name": "#%%\n"
    }
   },
   "outputs": [],
   "source": [
    "# Calculate Fo/F\n",
    "Data.ProcessedTraces.dFoF_result = calculate_dFoF(Data.experiment.result, Data.frame_rate, raw=Data.preparation.raw, merge_after=False)\n",
    "# Condense the ROI Traces for each Trial into a Single Matrix\n",
    "Data.ProcessedTraces.merged_dFoF_result = mergeTraces(Data.ProcessedTraces.dFoF_result)\n",
    "# Detrend the Traces by fitting a 4th-order polynomial and subsequently subtracting\n",
    "Data.ProcessedTraces.detrended_merged_dFoF_result = detrendTraces(Data.ProcessedTraces.merged_dFoF_result, order=4, plot=False)"
   ]
  },
  {
   "cell_type": "markdown",
   "metadata": {},
   "source": [
    "### Save Progress"
   ]
  },
  {
   "cell_type": "code",
   "execution_count": null,
   "metadata": {
    "pycharm": {
     "name": "#%%\n"
    }
   },
   "outputs": [],
   "source": [
    "Data.saveProcessedTraces()"
   ]
  },
  {
   "cell_type": "markdown",
   "metadata": {
    "pycharm": {
     "name": "#%% md\n"
    }
   },
   "source": [
    "## Infer Firing Rates & Approximate Spikes"
   ]
  },
  {
   "cell_type": "markdown",
   "metadata": {
    "pycharm": {
     "name": "#%% md\n"
    }
   },
   "source": [
    "### Import Modules"
   ]
  },
  {
   "cell_type": "code",
   "execution_count": null,
   "metadata": {
    "pycharm": {
     "name": "#%%\n"
    }
   },
   "outputs": [],
   "source": [
    "# CASCADE: Spike Inference\n",
    "from AnalysisModules.CascadeAnalysis import CascadeModule\n",
    "# Assorted Static Processing Functions\n",
    "from AnalysisModules.StaticProcessing import calculateFiringRate\n",
    "# Assorted Static Utility Functions\n",
    "from AnalysisModules.StaticUtilities import pullModels"
   ]
  },
  {
   "cell_type": "markdown",
   "metadata": {
    "pycharm": {
     "name": "#%% md\n"
    }
   },
   "source": [
    "### Instantiation"
   ]
  },
  {
   "cell_type": "code",
   "execution_count": null,
   "metadata": {
    "pycharm": {
     "name": "#%%\n"
    }
   },
   "outputs": [],
   "source": [
    "# Pass the Post-Processed Traces. Here we choose the detrended, matrix-form, Fo/F traces\n",
    "Data.Cascade = CascadeModule(Data.ProcessedTraces.detrended_merged_dFoF_result, Data.frame_rate, model_folder=\"C:\\\\ProgramData\\\\Anaconda3\\\\envs\\\\suite2p\\\\Pretrained_models\")"
   ]
  },
  {
   "cell_type": "markdown",
   "metadata": {
    "pycharm": {
     "name": "#%% md\n"
    }
   },
   "source": [
    "### Model Selection"
   ]
  },
  {
   "cell_type": "code",
   "execution_count": null,
   "metadata": {
    "pycharm": {
     "name": "#%%\n"
    }
   },
   "outputs": [],
   "source": [
    "# Pull Available Models\n",
    "list_of_models = pullModels(Data.Cascade.model_folder)\n",
    "\n",
    "# Select Model: If you know what model you want, you should use the string instead.\n",
    "# This model is GLobal_EXC_10Hz_smoothing_100ms\n",
    "Data.Cascade.model_name = list_of_models[21]\n",
    "\n",
    "# Download Model: You will need to download the model before first use\n",
    "# from AnalysisModules.StaticUtilities import downloadModel"
   ]
  },
  {
   "cell_type": "markdown",
   "metadata": {
    "pycharm": {
     "name": "#%% md\n"
    }
   },
   "source": [
    "### Infer Firing Rates"
   ]
  },
  {
   "cell_type": "code",
   "execution_count": null,
   "metadata": {
    "pycharm": {
     "name": "#%%\n"
    }
   },
   "outputs": [],
   "source": [
    "# Infer Spike Probability\n",
    "Data.Cascade.predictSpikeProb() # Simple, call to infer spike probability for each frame\n",
    "# Calculate Firing Rates # Simple, firing rate = spike probability * imaging frequency\n",
    "Data.Cascade.ProcessedInferences.firing_rates = calculateFiringRate(Data.Cascade.spike_prob, Data.Cascade.frame_rate)"
   ]
  },
  {
   "cell_type": "markdown",
   "metadata": {
    "pycharm": {
     "name": "#%% md\n"
    }
   },
   "source": [
    "### Save Progress"
   ]
  },
  {
   "cell_type": "code",
   "execution_count": null,
   "metadata": {
    "pycharm": {
     "name": "#%%\n"
    }
   },
   "outputs": [],
   "source": [
    "Data.Cascade.saveSpikeProb(Data.output_folder)\n",
    "Data.Cascade.saveProcessedInferences(Data.output_folder)"
   ]
  },
  {
   "cell_type": "markdown",
   "metadata": {
    "pycharm": {
     "name": "#%% md\n"
    }
   },
   "source": [
    "### Infer Discrete Spike Times"
   ]
  },
  {
   "cell_type": "code",
   "execution_count": null,
   "metadata": {
    "pycharm": {
     "name": "#%%\n"
    }
   },
   "outputs": [],
   "source": [
    "\n",
    "# Infer the discrete spike events, simply call\n",
    "Data.Cascade.inferDiscreteSpikes()\n",
    "\n",
    "# If you have an infinite loop:\n",
    "# you are looking at a neuron that should have been dropped for\n",
    "# (1) exceedingly poor SNR\n",
    "# (2) major trend in the data (e.g., lots of bleaching)\n",
    "# (3) abnormal phenotype for particular model-- think of training your own!"
   ]
  },
  {
   "cell_type": "markdown",
   "metadata": {
    "pycharm": {
     "name": "#%% md\n"
    }
   },
   "source": [
    "### Save Progress"
   ]
  },
  {
   "cell_type": "code",
   "execution_count": null,
   "metadata": {
    "pycharm": {
     "name": "#%%\n"
    }
   },
   "outputs": [],
   "source": [
    "Data.Cascade.saveSpikeInference(Data.output_folder)"
   ]
  },
  {
   "cell_type": "markdown",
   "metadata": {
    "pycharm": {
     "name": "#%%\n"
    }
   },
   "source": [
    "### Export to MATLab for MATLab Analyses"
   ]
  },
  {
   "cell_type": "code",
   "execution_count": null,
   "metadata": {
    "pycharm": {
     "name": "#%%\n"
    }
   },
   "outputs": [],
   "source": [
    "# Here, we can export the spike prob or events to matlab .mat files\n",
    "Data.Cascade.exportSpikeProb(Data.output_folder)\n",
    "Data.Cascade.exportSpikeInference(Data.output_folder)"
   ]
  },
  {
   "cell_type": "markdown",
   "metadata": {
    "pycharm": {
     "name": "#%%\n"
    }
   },
   "source": [
    "### Visualize Noise Histogram"
   ]
  },
  {
   "cell_type": "code",
   "execution_count": null,
   "metadata": {},
   "outputs": [],
   "source": [
    "from AnalysisModules.StaticPlotting import plotNoise\n",
    "plotNoise(Data.Cascade.traces, Data.Cascade.frame_rate)"
   ]
  },
  {
   "cell_type": "markdown",
   "metadata": {},
   "source": [
    "### Visualize Spike Inference"
   ]
  },
  {
   "cell_type": "code",
   "execution_count": null,
   "metadata": {
    "pycharm": {
     "name": "#%%\n"
    }
   },
   "outputs": [],
   "source": [
    "from AnalysisModules.StaticPlotting import plotSpikeInference\n",
    "plotSpikeInference(Data.Cascade.spike_prob, Data.Cascade.spike_time_estimates, Data.Cascade.traces, Data.Cascade.frame_rate)"
   ]
  }
 ],
 "metadata": {
  "kernelspec": {
   "display_name": "Python 3",
   "language": "python",
   "name": "python3"
  },
  "language_info": {
   "codemirror_mode": {
    "name": "ipython",
    "version": 3
   },
   "file_extension": ".py",
   "mimetype": "text/x-python",
   "name": "python",
   "nbconvert_exporter": "python",
   "pygments_lexer": "ipython3",
   "version": "3.7.12"
  }
 },
 "nbformat": 4,
 "nbformat_minor": 1
}
