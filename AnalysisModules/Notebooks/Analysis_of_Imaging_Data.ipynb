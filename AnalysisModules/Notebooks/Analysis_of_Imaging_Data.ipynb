{
 "cells": [
  {
   "cell_type": "markdown",
   "metadata": {
    "collapsed": true,
    "pycharm": {
     "name": "#%% md\n"
    }
   },
   "source": [
    "# Pipeline for Recovering Neural Activity from Calcium Imaging Data"
   ]
  },
  {
   "cell_type": "markdown",
   "metadata": {},
   "source": [
    "### Relevant Citations / Dependencies\n",
    "**Motion Correction ->** Suite2P Package from X <br>\n",
    "**ROI Identifcation ->** Cellpose Package from X <br>\n",
    "**Signal Extraction ->** FISSA Package from X <br>\n",
    "**Source-Separation ->** FISSA Package from X <br>\n",
    "**Spike Inference ->** Cascade Package from X <br>"
   ]
  },
  {
   "cell_type": "markdown",
   "metadata": {},
   "source": [
    "### Import Modules"
   ]
  },
  {
   "cell_type": "code",
   "execution_count": null,
   "metadata": {
    "pycharm": {
     "name": "#%%\n"
    }
   },
   "outputs": [],
   "source": [
    "# FISSA: Signal Extraction & Source-Separation\n",
    "from AnalysisModules.FissaAnalysis import FissaModule\n",
    "# Assorted Static Processing Functions\n",
    "from AnalysisModules.StaticProcessing import smoothTraces_TiffOrg, calculate_dFoF, mergeTraces, detrendTraces"
   ]
  },
  {
   "cell_type": "markdown",
   "metadata": {
    "pycharm": {
     "name": "#%% md\n"
    }
   },
   "source": [
    "### Instantiation"
   ]
  },
  {
   "cell_type": "code",
   "execution_count": null,
   "metadata": {},
   "outputs": [],
   "source": [
    "# Instantiate Fissa Module & Sub-Modules (preparation, experiment (separation), and ProcessedTraces)\n",
    "Data = FissaModule(data_folder=\"D:\\\\M4618_Second_Round\\\\Encoding\", index_file = \"D:\\\\M4618_Second_Round\\\\Encoding\\\\suite2p\\\\plane0\\\\Debug_Neuronal_Index.csv\")\n",
    "# Initialize\n",
    "Data.pruneNonNeuronalROIs()\n",
    "Data.initializeFissa()\n"
   ]
  },
  {
   "cell_type": "markdown",
   "metadata": {},
   "source": [
    "### Extract Traces"
   ]
  },
  {
   "cell_type": "code",
   "execution_count": null,
   "metadata": {},
   "outputs": [],
   "source": [
    "Data.extractTraces()"
   ]
  },
  {
   "cell_type": "markdown",
   "metadata": {},
   "source": [
    "### Save Progress"
   ]
  },
  {
   "cell_type": "code",
   "execution_count": null,
   "metadata": {},
   "outputs": [],
   "source": [
    "Data.saveFissaPrep()"
   ]
  },
  {
   "cell_type": "markdown",
   "metadata": {
    "pycharm": {
     "name": "#%% md\n"
    }
   },
   "source": [
    "### Pre-Process Traces"
   ]
  },
  {
   "cell_type": "code",
   "execution_count": null,
   "metadata": {
    "pycharm": {
     "name": "#%%\n"
    }
   },
   "outputs": [],
   "source": [
    "Data.ProcessedTraces.smoothed_raw = smoothTraces_TiffOrg(Data.preparation.raw, niter=50, kappa=150, gamma=0.15)[0]"
   ]
  },
  {
   "cell_type": "markdown",
   "metadata": {
    "pycharm": {
     "name": "#%% md\n"
    }
   },
   "source": [
    "### Save Progress"
   ]
  },
  {
   "cell_type": "code",
   "execution_count": null,
   "metadata": {
    "pycharm": {
     "name": "#%%\n"
    }
   },
   "outputs": [],
   "source": [
    "Data.saveProcessedTraces()"
   ]
  },
  {
   "cell_type": "markdown",
   "metadata": {
    "pycharm": {
     "name": "#%% md\n"
    }
   },
   "source": [
    "### Use Pre-Processed Traces for Source-Separation"
   ]
  },
  {
   "cell_type": "code",
   "execution_count": null,
   "metadata": {
    "pycharm": {
     "name": "#%%\n"
    }
   },
   "outputs": [],
   "source": [
    "Data.preparation.raw = Data.ProcessedTraces.smoothed_raw.copy()\n",
    "Data.passPrepToFissa()"
   ]
  },
  {
   "cell_type": "markdown",
   "metadata": {
    "pycharm": {
     "name": "#%% md\n"
    }
   },
   "source": [
    "### Source-Separate Traces"
   ]
  },
  {
   "cell_type": "code",
   "execution_count": null,
   "metadata": {
    "pycharm": {
     "name": "#%%\n"
    }
   },
   "outputs": [],
   "source": [
    "Data.separateTraces()"
   ]
  },
  {
   "cell_type": "markdown",
   "metadata": {
    "pycharm": {
     "name": "#%% md\n"
    }
   },
   "source": [
    "### Save Progress"
   ]
  },
  {
   "cell_type": "code",
   "execution_count": null,
   "metadata": {
    "pycharm": {
     "name": "#%%\n"
    }
   },
   "outputs": [],
   "source": [
    "Data.saveFissaSep()"
   ]
  },
  {
   "cell_type": "markdown",
   "metadata": {
    "pycharm": {
     "name": "#%% md\n"
    }
   },
   "source": [
    "### Post-Process Traces"
   ]
  },
  {
   "cell_type": "code",
   "execution_count": null,
   "metadata": {
    "pycharm": {
     "name": "#%%\n"
    }
   },
   "outputs": [],
   "source": [
    "# Calculate Fo/F\n",
    "Data.ProcessedTraces.dFoF_result = calculate_dFoF(Data.experiment.result, Data.frame_rate, raw=Data.preparation.raw, merge_after=False)\n",
    "# Condense the ROI Traces for each Trial into a Single Matrix\n",
    "Data.ProcessedTraces.merged_dFoF_result = mergeTraces(Data.ProcessedTraces.dFoF_result)\n",
    "# Detrend the Traces\n",
    "Data.ProcessedTraces.detrended_merged_dFoF_result = detrendTraces(Data.ProcessedTraces.merged_dFoF_result, order=4, plot=False)"
   ]
  },
  {
   "cell_type": "markdown",
   "metadata": {},
   "source": [
    "### Save Progress"
   ]
  },
  {
   "cell_type": "code",
   "execution_count": null,
   "metadata": {
    "pycharm": {
     "name": "#%%\n"
    }
   },
   "outputs": [],
   "source": [
    "Data.saveProcessedTraces()"
   ]
  },
  {
   "cell_type": "markdown",
   "metadata": {
    "pycharm": {
     "name": "#%% md\n"
    }
   },
   "source": [
    "## Infer Firing Rates & Approximate Spikes"
   ]
  },
  {
   "cell_type": "markdown",
   "metadata": {
    "pycharm": {
     "name": "#%% md\n"
    }
   },
   "source": [
    "### Import Modules"
   ]
  },
  {
   "cell_type": "code",
   "execution_count": null,
   "metadata": {
    "pycharm": {
     "name": "#%%\n"
    }
   },
   "outputs": [],
   "source": [
    "# CASCADE: Spike Inference\n",
    "from AnalysisModules.CascadeAnalysis import CascadeModule\n",
    "# Assorted Static Processing Functions\n",
    "from AnalysisModules.StaticProcessing import calculateFiringRate\n",
    "# Assorted Static Utility Functions\n",
    "from AnalysisModules.StaticUtilities import pullModels"
   ]
  },
  {
   "cell_type": "markdown",
   "metadata": {
    "pycharm": {
     "name": "#%% md\n"
    }
   },
   "source": [
    "### Instantiation"
   ]
  },
  {
   "cell_type": "code",
   "execution_count": null,
   "metadata": {
    "pycharm": {
     "name": "#%%\n"
    }
   },
   "outputs": [],
   "source": [
    "# Pass the Post-Processed Traces\n",
    "Data.Cascade = CascadeModule(Data.ProcessedTraces.detrended_merged_dFoF_result, Data.frame_rate, model_folder=\"C:\\\\ProgramData\\\\Anaconda3\\\\envs\\\\suite2p\\\\Pretrained_models\")"
   ]
  },
  {
   "cell_type": "markdown",
   "metadata": {
    "pycharm": {
     "name": "#%% md\n"
    }
   },
   "source": [
    "### Model Selection"
   ]
  },
  {
   "cell_type": "code",
   "execution_count": null,
   "metadata": {
    "pycharm": {
     "name": "#%%\n"
    }
   },
   "outputs": [],
   "source": [
    "# Pull Available Models\n",
    "list_of_models = pullModels(Data.Cascade.model_folder)\n",
    "# Select Model: If you know what model you want, you should use the string instead.\n",
    "# Download Model: You will need to downlaod the model before use\n",
    "# from AnalysisModules.StaticUtilities import downloadModel\n",
    "# This model is GLobal_EXC_10Hz_smoothing_100ms\n",
    "Data.Cascade.model_name = list_of_models[21]"
   ]
  },
  {
   "cell_type": "markdown",
   "metadata": {
    "pycharm": {
     "name": "#%% md\n"
    }
   },
   "source": [
    "### Infer Firing Rates"
   ]
  },
  {
   "cell_type": "code",
   "execution_count": null,
   "metadata": {
    "pycharm": {
     "name": "#%%\n"
    }
   },
   "outputs": [],
   "source": [
    "# Infer Spike Probability\n",
    "Data.Cascade.predictSpikeProb()\n",
    "# Calculate Firing Rates\n",
    "Data.Cascade.ProcessedInferences.firing_rates = calculateFiringRate(Data.Cascade.spike_prob, Data.Cascade.frame_rate)"
   ]
  },
  {
   "cell_type": "markdown",
   "metadata": {
    "pycharm": {
     "name": "#%% md\n"
    }
   },
   "source": [
    "### Save Progress"
   ]
  },
  {
   "cell_type": "code",
   "execution_count": null,
   "metadata": {
    "pycharm": {
     "name": "#%%\n"
    }
   },
   "outputs": [],
   "source": [
    "Data.Cascade.saveSpikeProb(Data.output_folder)\n",
    "Data.Cascade.saveProcessedInferences(Data.output_folder)"
   ]
  },
  {
   "cell_type": "markdown",
   "metadata": {
    "pycharm": {
     "name": "#%% md\n"
    }
   },
   "source": [
    "### Infer Discrete Spike Times"
   ]
  },
  {
   "cell_type": "code",
   "execution_count": null,
   "metadata": {
    "pycharm": {
     "name": "#%%\n"
    }
   },
   "outputs": [],
   "source": [
    "# If you have an infinite loop:\n",
    "# you are looking at a neuron that should have been dropped for\n",
    "# (1) exceedingly poor SNR\n",
    "# (2) major trend in the data (e.g., lots of bleaching)\n",
    "# (3) abnormal phenotype for particular model-- think of training your own!\n",
    "Data.Cascade.inferDiscreteSpikes()"
   ]
  },
  {
   "cell_type": "markdown",
   "metadata": {
    "pycharm": {
     "name": "#%% md\n"
    }
   },
   "source": [
    "### Save Progress"
   ]
  },
  {
   "cell_type": "code",
   "execution_count": null,
   "metadata": {
    "pycharm": {
     "name": "#%%\n"
    }
   },
   "outputs": [],
   "source": [
    "Data.Cascade.saveSpikeInference(Data.output_folder)"
   ]
  },
  {
   "cell_type": "markdown",
   "metadata": {
    "pycharm": {
     "name": "#%%\n"
    }
   },
   "source": [
    "### Export to MATLab for MATLab Analyses"
   ]
  },
  {
   "cell_type": "code",
   "execution_count": null,
   "metadata": {
    "pycharm": {
     "name": "#%%\n"
    }
   },
   "outputs": [],
   "source": [
    "Data.Cascade.exportSpikeProb(Data.output_folder)\n",
    "Data.Cascade.exportSpikeInference(Data.output_folder)"
   ]
  },
  {
   "cell_type": "markdown",
   "metadata": {
    "pycharm": {
     "name": "#%%\n"
    }
   },
   "source": [
    "### Visualize Noise Histogram"
   ]
  },
  {
   "cell_type": "code",
   "execution_count": null,
   "metadata": {},
   "outputs": [],
   "source": [
    "from AnalysisModules.StaticPlotting import plotNoise\n",
    "plotNoise(Data.Cascade.traces, Data.Cascade.frame_rate)"
   ]
  },
  {
   "cell_type": "markdown",
   "metadata": {},
   "source": [
    "### Visualize Spike Inference"
   ]
  },
  {
   "cell_type": "code",
   "execution_count": null,
   "metadata": {
    "pycharm": {
     "name": "#%%\n"
    }
   },
   "outputs": [],
   "source": [
    "from AnalysisModules.StaticPlotting import plotSpikeInference\n",
    "plotSpikeInference(Data.Cascade.spike_prob, Data.Cascade.spike_time_estimates, Data.Cascade.traces, Data.Cascade.frame_rate)"
   ]
  }
 ],
 "metadata": {
  "kernelspec": {
   "display_name": "Python 3",
   "language": "python",
   "name": "python3"
  },
  "language_info": {
   "codemirror_mode": {
    "name": "ipython",
    "version": 3
   },
   "file_extension": ".py",
   "mimetype": "text/x-python",
   "name": "python",
   "nbconvert_exporter": "python",
   "pygments_lexer": "ipython3",
   "version": "3.7.12"
  }
 },
 "nbformat": 4,
 "nbformat_minor": 1
}