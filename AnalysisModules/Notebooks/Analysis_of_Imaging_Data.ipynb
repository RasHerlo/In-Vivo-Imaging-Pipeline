{
 "cells": [
  {
   "cell_type": "markdown",
   "metadata": {
    "collapsed": true,
    "pycharm": {
     "name": "#%% md\n"
    }
   },
   "source": [
    "# Analysis of Imaging Data"
   ]
  },
  {
   "cell_type": "markdown",
   "metadata": {},
   "source": [
    "## Signal Extraction & Source-Separation"
   ]
  },
  {
   "cell_type": "markdown",
   "metadata": {},
   "source": [
    "### Import Modules"
   ]
  },
  {
   "cell_type": "code",
   "execution_count": 1,
   "metadata": {
    "pycharm": {
     "is_executing": true,
     "name": "#%%\n"
    }
   },
   "outputs": [],
   "source": [
    "# FISSA: Signal Extraction & Source-Separation\n",
    "from AnalysisModules.FissaAnalysis import FissaModule\n",
    "# Assorted Static Processing Functions\n",
    "from AnalysisModules.StaticProcessing import smoothTraces_TrialOrg, calculate_dFoF, mergeTraces, detrendTraces"
   ]
  },
  {
   "cell_type": "markdown",
   "metadata": {
    "pycharm": {
     "name": "#%% md\n"
    }
   },
   "source": [
    "### Instantiation"
   ]
  },
  {
   "cell_type": "code",
   "execution_count": 2,
   "metadata": {},
   "outputs": [
    {
     "name": "stdout",
     "output_type": "stream",
     "text": [
      "Initialized Fissa\n"
     ]
    }
   ],
   "source": [
    "# Instantiate Fissa Module & Sub-Modules (preparation, experiment (separation), and ProcessedTraces)\n",
    "Data = FissaModule(data_folder=\"H:\\\\DEM_Excitatory_Study\\\\DEM2\\\\Retrieval\\\\Imaging\\\\10Hz\", index_path = \"H:\\\\DEM_Excitatory_Study\\\\DEM2\\\\Retrieval\\\\Imaging\\\\10Hz\\\\NeuronalIndex.csv\")\n",
    "# Initialize\n",
    "Data.initializeFissa()"
   ]
  },
  {
   "cell_type": "markdown",
   "metadata": {},
   "source": [
    "### Extract Traces"
   ]
  },
  {
   "cell_type": "code",
   "execution_count": 3,
   "metadata": {},
   "outputs": [
    {
     "data": {
      "application/vnd.jupyter.widget-view+json": {
       "model_id": "17ea9306ffd24a51be91ef4ef0ae4fe9",
       "version_major": 2,
       "version_minor": 0
      },
      "text/plain": [
       "Extracting traces:   0%|          | 0/4 [00:00<?, ?it/s]"
      ]
     },
     "metadata": {},
     "output_type": "display_data"
    },
    {
     "name": "stdout",
     "output_type": "stream",
     "text": [
      "Finished extracting raw signals from 1285 ROIs across 4 trials in 4 min, 21 sec.\n",
      "Passing traces between modules.\n",
      "Finished module-passing.\n",
      "Ready for post-processing or source-separation.\n"
     ]
    }
   ],
   "source": [
    "Data.extractTraces()"
   ]
  },
  {
   "cell_type": "markdown",
   "metadata": {},
   "source": [
    "### Save Progress"
   ]
  },
  {
   "cell_type": "code",
   "execution_count": 4,
   "metadata": {},
   "outputs": [
    {
     "name": "stdout",
     "output_type": "stream",
     "text": [
      "Saving extracted traces to H:\\DEM_Excitatory_Study\\DEM2\\Retrieval\\Imaging\\10Hz\\prepared.npz\n",
      "Finished Saving Prep\n"
     ]
    }
   ],
   "source": [
    "Data.saveFissaPrep()"
   ]
  },
  {
   "cell_type": "markdown",
   "metadata": {
    "pycharm": {
     "name": "#%% md\n"
    }
   },
   "source": [
    "### Pre-Process Traces"
   ]
  },
  {
   "cell_type": "code",
   "execution_count": 5,
   "metadata": {
    "pycharm": {
     "name": "#%%\n"
    }
   },
   "outputs": [
    {
     "data": {
      "application/vnd.jupyter.widget-view+json": {
       "model_id": "a1275c5a738a4deebd456f74888bcb89",
       "version_major": 2,
       "version_minor": 0
      },
      "text/plain": [
       "Smoothing:   0%|          | 0/1285 [00:00<?, ?it/s]"
      ]
     },
     "metadata": {},
     "output_type": "display_data"
    },
    {
     "data": {
      "application/vnd.jupyter.widget-view+json": {
       "model_id": "5098f4c7fc0b4025b0679818e0b5727f",
       "version_major": 2,
       "version_minor": 0
      },
      "text/plain": [
       "Organizing By Trial:   0%|          | 0/1285 [00:00<?, ?it/s]"
      ]
     },
     "metadata": {},
     "output_type": "display_data"
    }
   ],
   "source": [
    "Data.ProcessedTraces.smoothed_raw = smoothTraces_TrialOrg(Data.preparation.raw, niter=50, kappa=150, gamma=0.15)[0]"
   ]
  },
  {
   "cell_type": "markdown",
   "metadata": {
    "pycharm": {
     "name": "#%% md\n"
    }
   },
   "source": [
    "### Save Progress"
   ]
  },
  {
   "cell_type": "code",
   "execution_count": 6,
   "metadata": {
    "pycharm": {
     "name": "#%%\n"
    }
   },
   "outputs": [],
   "source": [
    "Data.saveProcessedTraces()"
   ]
  },
  {
   "cell_type": "markdown",
   "metadata": {
    "pycharm": {
     "name": "#%% md\n"
    }
   },
   "source": [
    "### Use Pre-Processed Traces for Source-Separation"
   ]
  },
  {
   "cell_type": "code",
   "execution_count": 7,
   "metadata": {
    "pycharm": {
     "name": "#%%\n"
    }
   },
   "outputs": [],
   "source": [
    "Data.preparation.raw = Data.ProcessedTraces.smoothed_raw.copy()\n",
    "Data.passPrepToFissa()"
   ]
  },
  {
   "cell_type": "markdown",
   "metadata": {
    "pycharm": {
     "name": "#%% md\n"
    }
   },
   "source": [
    "### Source-Separate Traces"
   ]
  },
  {
   "cell_type": "code",
   "execution_count": 8,
   "metadata": {
    "pycharm": {
     "name": "#%%\n"
    }
   },
   "outputs": [
    {
     "name": "stdout",
     "output_type": "stream",
     "text": [
      "Passing prepared traces to fissa.\n",
      "Initiating fissa source-separation\n"
     ]
    },
    {
     "data": {
      "application/vnd.jupyter.widget-view+json": {
       "model_id": "4cd3ebb12d7e4752b7623d68749eb85b",
       "version_major": 2,
       "version_minor": 0
      },
      "text/plain": [
       "Separating data:   0%|          | 0/1285 [00:00<?, ?it/s]"
      ]
     },
     "metadata": {},
     "output_type": "display_data"
    },
    {
     "name": "stdout",
     "output_type": "stream",
     "text": [
      "Finished separating signals from 1285 ROIs across 4 trials in 51 min, 9 sec\n",
      "Passing traces between modules.\n",
      "Finished module-passing.\n",
      "Ready for further analysis.\n"
     ]
    }
   ],
   "source": [
    "Data.separateTraces()"
   ]
  },
  {
   "cell_type": "markdown",
   "metadata": {
    "pycharm": {
     "name": "#%% md\n"
    }
   },
   "source": [
    "### Save Progress"
   ]
  },
  {
   "cell_type": "code",
   "execution_count": 9,
   "metadata": {
    "pycharm": {
     "name": "#%%\n"
    }
   },
   "outputs": [
    {
     "name": "stdout",
     "output_type": "stream",
     "text": [
      "Saving results to H:\\DEM_Excitatory_Study\\DEM2\\Retrieval\\Imaging\\10Hz\\separated.npz\n"
     ]
    }
   ],
   "source": [
    "Data.saveFissaSep()"
   ]
  },
  {
   "cell_type": "markdown",
   "metadata": {
    "pycharm": {
     "name": "#%% md\n"
    }
   },
   "source": [
    "### Post-Process Traces"
   ]
  },
  {
   "cell_type": "code",
   "execution_count": 10,
   "metadata": {
    "pycharm": {
     "name": "#%%\n"
    }
   },
   "outputs": [
    {
     "name": "stdout",
     "output_type": "stream",
     "text": [
      "Calculating Δf/f0  (using single f0 across all trials using f0 derived from raw traces during calculations)\n"
     ]
    },
    {
     "data": {
      "application/vnd.jupyter.widget-view+json": {
       "model_id": "7f404ed95e274d0dbc5bfac3a8b64168",
       "version_major": 2,
       "version_minor": 0
      },
      "text/plain": [
       "Calculating Δf/f0:   0%|          | 0/1285 [00:00<?, ?it/s]"
      ]
     },
     "metadata": {},
     "output_type": "display_data"
    },
    {
     "data": {
      "application/vnd.jupyter.widget-view+json": {
       "model_id": "2e135f1e76e1476b86b3937a257c522e",
       "version_major": 2,
       "version_minor": 0
      },
      "text/plain": [
       "Merging Traces Across Trials:   0%|          | 0/1285 [00:00<?, ?it/s]"
      ]
     },
     "metadata": {},
     "output_type": "display_data"
    },
    {
     "data": {
      "application/vnd.jupyter.widget-view+json": {
       "model_id": "fea4847e9a1448c0aabe7c66e9a149c6",
       "version_major": 2,
       "version_minor": 0
      },
      "text/plain": [
       "Detrending:   0%|          | 0/1285 [00:00<?, ?it/s]"
      ]
     },
     "metadata": {},
     "output_type": "display_data"
    }
   ],
   "source": [
    "# Calculate Fo/F\n",
    "Data.ProcessedTraces.dFoF_result = calculate_dFoF(Data.experiment.result, Data.frame_rate, raw=Data.preparation.raw, merge_after=False)\n",
    "# Condense the ROI Traces for each Trial into a Single Matrix\n",
    "Data.ProcessedTraces.merged_dFoF_result = mergeTraces(Data.ProcessedTraces.dFoF_result)\n",
    "# Detrend the Traces\n",
    "Data.ProcessedTraces.detrended_merged_dFoF_result = detrendTraces(Data.ProcessedTraces.merged_dFoF_result, order=4, plot=False)"
   ]
  },
  {
   "cell_type": "markdown",
   "metadata": {},
   "source": [
    "### Save Progress"
   ]
  },
  {
   "cell_type": "code",
   "execution_count": 11,
   "metadata": {
    "pycharm": {
     "name": "#%%\n"
    }
   },
   "outputs": [],
   "source": [
    "Data.saveProcessedTraces()"
   ]
  },
  {
   "cell_type": "markdown",
   "metadata": {
    "pycharm": {
     "name": "#%% md\n"
    }
   },
   "source": [
    "## Infer Firing Rates & Approximate Spikes"
   ]
  },
  {
   "cell_type": "markdown",
   "metadata": {
    "pycharm": {
     "name": "#%% md\n"
    }
   },
   "source": [
    "### Import Modules"
   ]
  },
  {
   "cell_type": "code",
   "execution_count": 12,
   "metadata": {
    "pycharm": {
     "name": "#%%\n"
    }
   },
   "outputs": [
    {
     "name": "stdout",
     "output_type": "stream",
     "text": [
      "\tYAML reader installed (version 0.17.17).\n"
     ]
    },
    {
     "name": "stderr",
     "output_type": "stream",
     "text": [
      "Using TensorFlow backend.\n"
     ]
    },
    {
     "name": "stdout",
     "output_type": "stream",
     "text": [
      "\tKeras installed (version 2.3.1).\n",
      "\tTensorflow installed (version 2.3.0).\n"
     ]
    }
   ],
   "source": [
    "from AnalysisModules.CascadeAnalysis import CascadeModule\n",
    "from AnalysisModules.StaticProcessing import calculateFiringRate\n",
    "from AnalysisModules.StaticUtilities import pullModels"
   ]
  },
  {
   "cell_type": "markdown",
   "metadata": {
    "pycharm": {
     "name": "#%% md\n"
    }
   },
   "source": [
    "### Instantiation"
   ]
  },
  {
   "cell_type": "code",
   "execution_count": 13,
   "metadata": {
    "pycharm": {
     "name": "#%%\n"
    }
   },
   "outputs": [],
   "source": [
    "# Pass the Post-Processed Traces\n",
    "Data.Cascade = CascadeModule(Data.ProcessedTraces.detrended_merged_dFoF_result, Data.frame_rate, model_folder=\"C:\\\\ProgramData\\\\Anaconda3\\\\envs\\\\suite2p\\\\Pretrained_models\")"
   ]
  },
  {
   "cell_type": "markdown",
   "metadata": {
    "pycharm": {
     "name": "#%% md\n"
    }
   },
   "source": [
    "### Model Selection"
   ]
  },
  {
   "cell_type": "code",
   "execution_count": 14,
   "metadata": {
    "pycharm": {
     "name": "#%%\n"
    }
   },
   "outputs": [],
   "source": [
    "# Pull Available Models\n",
    "list_of_models = pullModels(Data.Cascade.model_folder)\n",
    "# Select Model\n",
    "Data.Cascade.model_name = list_of_models[19]"
   ]
  },
  {
   "cell_type": "markdown",
   "metadata": {
    "pycharm": {
     "name": "#%% md\n"
    }
   },
   "source": [
    "### Infer Firing Rates"
   ]
  },
  {
   "cell_type": "code",
   "execution_count": 15,
   "metadata": {
    "pycharm": {
     "name": "#%%\n"
    }
   },
   "outputs": [
    {
     "name": "stdout",
     "output_type": "stream",
     "text": [
      "The configuration file \"config.yaml\" can not be found at the location \"C:\\ProgramData\\Anaconda3\\envs\\suite2p\\AnalysisModules\\Pretrained_models\\Global_EXC_10Hz_smoothing100ms\\config.yaml\".\n",
      "You have provided the model \"Global_EXC_10Hz_smoothing100ms\" at the absolute or relative path \"Pretrained_models\".\n",
      "Please check if there is a folder for model \"Global_EXC_10Hz_smoothing100ms\" at the location \"C:\\ProgramData\\Anaconda3\\envs\\suite2p\\AnalysisModules\\Pretrained_models\".\n"
     ]
    },
    {
     "ename": "Exception",
     "evalue": "The configuration file \"config.yaml\" can not be found at the location \"C:\\ProgramData\\Anaconda3\\envs\\suite2p\\AnalysisModules\\Pretrained_models\\Global_EXC_10Hz_smoothing100ms\\config.yaml\".\nYou have provided the model \"Global_EXC_10Hz_smoothing100ms\" at the absolute or relative path \"Pretrained_models\".\nPlease check if there is a folder for model \"Global_EXC_10Hz_smoothing100ms\" at the location \"C:\\ProgramData\\Anaconda3\\envs\\suite2p\\AnalysisModules\\Pretrained_models\".",
     "output_type": "error",
     "traceback": [
      "\u001B[1;31m---------------------------------------------------------------------------\u001B[0m",
      "\u001B[1;31mException\u001B[0m                                 Traceback (most recent call last)",
      "\u001B[1;32m<ipython-input-15-50031491d141>\u001B[0m in \u001B[0;36m<module>\u001B[1;34m\u001B[0m\n\u001B[0;32m      1\u001B[0m \u001B[1;31m# Infer Spike Probability\u001B[0m\u001B[1;33m\u001B[0m\u001B[1;33m\u001B[0m\u001B[1;33m\u001B[0m\u001B[0m\n\u001B[1;32m----> 2\u001B[1;33m \u001B[0mData\u001B[0m\u001B[1;33m.\u001B[0m\u001B[0mCascade\u001B[0m\u001B[1;33m.\u001B[0m\u001B[0mpredictSpikeProb\u001B[0m\u001B[1;33m(\u001B[0m\u001B[1;33m)\u001B[0m\u001B[1;33m\u001B[0m\u001B[1;33m\u001B[0m\u001B[0m\n\u001B[0m\u001B[0;32m      3\u001B[0m \u001B[1;31m# Calculate Firing Rates\u001B[0m\u001B[1;33m\u001B[0m\u001B[1;33m\u001B[0m\u001B[1;33m\u001B[0m\u001B[0m\n\u001B[0;32m      4\u001B[0m \u001B[0mData\u001B[0m\u001B[1;33m.\u001B[0m\u001B[0mCascade\u001B[0m\u001B[1;33m.\u001B[0m\u001B[0mProcessedInferences\u001B[0m\u001B[1;33m.\u001B[0m\u001B[0mfiring_rates\u001B[0m \u001B[1;33m=\u001B[0m \u001B[0mcalculateFiringRate\u001B[0m\u001B[1;33m(\u001B[0m\u001B[0mData\u001B[0m\u001B[1;33m.\u001B[0m\u001B[0mCascade\u001B[0m\u001B[1;33m.\u001B[0m\u001B[0mspike_prob\u001B[0m\u001B[1;33m,\u001B[0m \u001B[0mData\u001B[0m\u001B[1;33m.\u001B[0m\u001B[0mCascade\u001B[0m\u001B[1;33m.\u001B[0m\u001B[0mframe_rate\u001B[0m\u001B[1;33m)\u001B[0m\u001B[1;33m\u001B[0m\u001B[1;33m\u001B[0m\u001B[0m\n",
      "\u001B[1;32mC:\\ProgramData\\Anaconda3\\envs\\suite2p\\AnalysisModules\\CascadeAnalysis.py\u001B[0m in \u001B[0;36mpredictSpikeProb\u001B[1;34m(self)\u001B[0m\n\u001B[0;32m     40\u001B[0m \u001B[1;33m\u001B[0m\u001B[0m\n\u001B[0;32m     41\u001B[0m     \u001B[1;32mdef\u001B[0m \u001B[0mpredictSpikeProb\u001B[0m\u001B[1;33m(\u001B[0m\u001B[0mself\u001B[0m\u001B[1;33m)\u001B[0m\u001B[1;33m:\u001B[0m\u001B[1;33m\u001B[0m\u001B[1;33m\u001B[0m\u001B[0m\n\u001B[1;32m---> 42\u001B[1;33m         \u001B[0mself\u001B[0m\u001B[1;33m.\u001B[0m\u001B[0mspike_prob\u001B[0m \u001B[1;33m=\u001B[0m \u001B[0mcascade\u001B[0m\u001B[1;33m.\u001B[0m\u001B[0mpredict\u001B[0m\u001B[1;33m(\u001B[0m\u001B[0mself\u001B[0m\u001B[1;33m.\u001B[0m\u001B[0mmodel_name\u001B[0m\u001B[1;33m,\u001B[0m \u001B[0mself\u001B[0m\u001B[1;33m.\u001B[0m\u001B[0mtraces\u001B[0m\u001B[1;33m)\u001B[0m\u001B[1;33m\u001B[0m\u001B[1;33m\u001B[0m\u001B[0m\n\u001B[0m\u001B[0;32m     43\u001B[0m \u001B[1;33m\u001B[0m\u001B[0m\n\u001B[0;32m     44\u001B[0m     \u001B[1;32mdef\u001B[0m \u001B[0minferDiscreteSpikes\u001B[0m\u001B[1;33m(\u001B[0m\u001B[0mself\u001B[0m\u001B[1;33m)\u001B[0m\u001B[1;33m:\u001B[0m\u001B[1;33m\u001B[0m\u001B[1;33m\u001B[0m\u001B[0m\n",
      "\u001B[1;32mC:\\ProgramData\\Anaconda3\\envs\\suite2p\\cascade2p\\cascade.py\u001B[0m in \u001B[0;36mpredict\u001B[1;34m(model_name, traces, model_folder, threshold, padding)\u001B[0m\n\u001B[0;32m    292\u001B[0m         )\n\u001B[0;32m    293\u001B[0m         \u001B[0mprint\u001B[0m\u001B[1;33m(\u001B[0m\u001B[0mm\u001B[0m\u001B[1;33m)\u001B[0m\u001B[1;33m\u001B[0m\u001B[1;33m\u001B[0m\u001B[0m\n\u001B[1;32m--> 294\u001B[1;33m         \u001B[1;32mraise\u001B[0m \u001B[0mException\u001B[0m\u001B[1;33m(\u001B[0m\u001B[0mm\u001B[0m\u001B[1;33m)\u001B[0m\u001B[1;33m\u001B[0m\u001B[1;33m\u001B[0m\u001B[0m\n\u001B[0m\u001B[0;32m    295\u001B[0m \u001B[1;33m\u001B[0m\u001B[0m\n\u001B[0;32m    296\u001B[0m     \u001B[1;31m# Load config file\u001B[0m\u001B[1;33m\u001B[0m\u001B[1;33m\u001B[0m\u001B[1;33m\u001B[0m\u001B[0m\n",
      "\u001B[1;31mException\u001B[0m: The configuration file \"config.yaml\" can not be found at the location \"C:\\ProgramData\\Anaconda3\\envs\\suite2p\\AnalysisModules\\Pretrained_models\\Global_EXC_10Hz_smoothing100ms\\config.yaml\".\nYou have provided the model \"Global_EXC_10Hz_smoothing100ms\" at the absolute or relative path \"Pretrained_models\".\nPlease check if there is a folder for model \"Global_EXC_10Hz_smoothing100ms\" at the location \"C:\\ProgramData\\Anaconda3\\envs\\suite2p\\AnalysisModules\\Pretrained_models\"."
     ]
    }
   ],
   "source": [
    "# Infer Spike Probability\n",
    "Data.Cascade.predictSpikeProb()\n",
    "# Calculate Firing Rates\n",
    "Data.Cascade.ProcessedInferences.firing_rates = calculateFiringRate(Data.Cascade.spike_prob, Data.Cascade.frame_rate)"
   ]
  },
  {
   "cell_type": "markdown",
   "metadata": {
    "pycharm": {
     "name": "#%% md\n"
    }
   },
   "source": [
    "### Save Progress"
   ]
  },
  {
   "cell_type": "code",
   "execution_count": null,
   "metadata": {
    "pycharm": {
     "name": "#%%\n"
    }
   },
   "outputs": [],
   "source": [
    "Data.Cascade.exportSpikeProb(Data.output_folder)"
   ]
  },
  {
   "cell_type": "markdown",
   "metadata": {
    "pycharm": {
     "name": "#%% md\n"
    }
   },
   "source": [
    "### Infer Discrete Spike Times"
   ]
  },
  {
   "cell_type": "code",
   "execution_count": null,
   "metadata": {
    "pycharm": {
     "name": "#%%\n"
    }
   },
   "outputs": [],
   "source": [
    "Data.Cascade.inferDiscreteSpikes()"
   ]
  },
  {
   "cell_type": "markdown",
   "metadata": {
    "pycharm": {
     "name": "#%% md\n"
    }
   },
   "source": [
    "### Save Progress"
   ]
  },
  {
   "cell_type": "code",
   "execution_count": null,
   "metadata": {
    "pycharm": {
     "name": "#%%\n"
    }
   },
   "outputs": [],
   "source": [
    "Data.Cascade.exportSpikeInference(Data.output_folder)"
   ]
  }
 ],
 "metadata": {
  "kernelspec": {
   "display_name": "Python 3",
   "language": "python",
   "name": "python3"
  },
  "language_info": {
   "codemirror_mode": {
    "name": "ipython",
    "version": 3
   },
   "file_extension": ".py",
   "mimetype": "text/x-python",
   "name": "python",
   "nbconvert_exporter": "python",
   "pygments_lexer": "ipython3",
   "version": "3.7.9"
  }
 },
 "nbformat": 4,
 "nbformat_minor": 1
}