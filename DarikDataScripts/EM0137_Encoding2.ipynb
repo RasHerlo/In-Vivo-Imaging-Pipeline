{
 "cells": [
  {
   "cell_type": "markdown",
   "metadata": {
    "collapsed": true,
    "pycharm": {
     "name": "#%% md\n"
    }
   },
   "source": [
    "# Pipeline for Recovering Neural Activity from Calcium Imaging Data"
   ]
  },
  {
   "cell_type": "markdown",
   "source": [
    "### Relevant Neuroscience Citations / Dependencies\n",
    "**Motion Correction ->** Suite2P Package from Stringer Lab <br>\n",
    "**Denoising ->** DeepCAD Package from Dai Lab <br>\n",
    "\n",
    "**ROI Identification ->** Cellpose Package from Stringer Lab <br>\n",
    "**Signal Extraction ->** FISSA Package from Rochefort Lab <br>\n",
    "**Source-Separation ->** FISSA Package from Rochefort Lab <br>\n",
    "**Spike Inference ->** Cascade Package from Helmchen Lab <br>"
   ],
   "metadata": {
    "collapsed": false,
    "pycharm": {
     "name": "#%% md\n"
    }
   }
  },
  {
   "cell_type": "markdown",
   "source": [
    "## Imports"
   ],
   "metadata": {
    "collapsed": false,
    "pycharm": {
     "name": "#%% md\n"
    }
   }
  },
  {
   "cell_type": "code",
   "execution_count": 1,
   "outputs": [],
   "source": [
    "from ExperimentManagement.ExperimentHierarchy import ExperimentData\n",
    "import numpy as np"
   ],
   "metadata": {
    "collapsed": false,
    "pycharm": {
     "name": "#%%\n"
    }
   }
  },
  {
   "cell_type": "markdown",
   "source": [
    "## Generation of Hierarchy"
   ],
   "metadata": {
    "collapsed": false,
    "pycharm": {
     "name": "#%% md\n"
    }
   }
  },
  {
   "cell_type": "code",
   "execution_count": 2,
   "outputs": [],
   "source": [
    "# EH = ExperimentData(Mouse=\"EM0137\", Directory=\"D:\\\\EM0137\")\n",
    "# EH.create()"
   ],
   "metadata": {
    "collapsed": false,
    "pycharm": {
     "name": "#%%\n"
    }
   }
  },
  {
   "cell_type": "markdown",
   "source": [
    "## Load Hierarchy"
   ],
   "metadata": {
    "collapsed": false,
    "pycharm": {
     "name": "#%% md\n"
    }
   }
  },
  {
   "cell_type": "code",
   "execution_count": 3,
   "outputs": [
    {
     "name": "stdout",
     "output_type": "stream",
     "text": [
      "Loading Experimental Hierarchy...\n",
      "Finished.\n",
      "Activating auto-logging. Current session state plus future input saved.\n",
      "Filename       : D:\\EM0137\\log_file.log\n",
      "Mode           : append\n",
      "Output logging : True\n",
      "Raw input log  : True\n",
      "Timestamping   : True\n",
      "State          : active\n",
      "Logging Initiated\n"
     ]
    }
   ],
   "source": [
    "EH = ExperimentData.loadHierarchy(\"D:\\\\EM0137\")"
   ],
   "metadata": {
    "collapsed": false,
    "pycharm": {
     "name": "#%%\n"
    }
   }
  },
  {
   "cell_type": "markdown",
   "source": [
    "Imports"
   ],
   "metadata": {
    "collapsed": false,
    "pycharm": {
     "name": "#%% md\n"
    }
   }
  },
  {
   "cell_type": "code",
   "execution_count": 4,
   "outputs": [],
   "source": [
    "from ImagingAnalysis.PreprocessingImages import PreProcessing"
   ],
   "metadata": {
    "collapsed": false,
    "pycharm": {
     "name": "#%%\n"
    }
   }
  },
  {
   "cell_type": "markdown",
   "source": [
    "Construct Folder for Data"
   ],
   "metadata": {
    "collapsed": false,
    "pycharm": {
     "name": "#%% md\n"
    }
   }
  },
  {
   "cell_type": "code",
   "execution_count": 6,
   "outputs": [
    {
     "name": "stdout",
     "output_type": "stream",
     "text": [
      "The sampling folder already exists. Adding to folder dictionary\n",
      "Already created folders\n"
     ]
    }
   ],
   "source": [
    "try:\n",
    "    EH.Encoding.addImageSamplingFolder(10)\n",
    "except FileExistsError:\n",
    "    print(\"Already created folders\")"
   ],
   "metadata": {
    "collapsed": false,
    "pycharm": {
     "name": "#%%\n"
    }
   }
  },
  {
   "cell_type": "markdown",
   "source": [
    "Define Directories"
   ],
   "metadata": {
    "collapsed": false,
    "pycharm": {
     "name": "#%% md\n"
    }
   }
  },
  {
   "cell_type": "code",
   "execution_count": 8,
   "outputs": [],
   "source": [
    "from ExperimentManagement.ExperimentHierarchy import CollectedDataFolder\n",
    "EH.Encoding.folder_dictionary[\"raw_imaging_data\"] = CollectedDataFolder(EH.Encoding.folder_dictionary.get(\"raw_imaging_data\"))\n",
    "RawVideoDirectory = EH.Encoding.folder_dictionary.get(\"raw_imaging_data\").path\n",
    "OutputDirectory = EH.Encoding.folder_dictionary.get(\"imaging_10Hz\").folders.get(\"compiled\")"
   ],
   "metadata": {
    "collapsed": false,
    "pycharm": {
     "name": "#%%\n"
    }
   }
  },
  {
   "cell_type": "markdown",
   "source": [
    "Repackage bruker files into a single tiff"
   ],
   "metadata": {
    "collapsed": false,
    "pycharm": {
     "name": "#%% md\n"
    }
   }
  },
  {
   "cell_type": "code",
   "execution_count": 9,
   "outputs": [
    {
     "name": "stdout",
     "output_type": "stream",
     "text": [
      "Repackaging...\n"
     ]
    },
    {
     "data": {
      "text/plain": "Loading Images...:   0%|          | 0/7000 [00:00<?, ?it/s]",
      "application/vnd.jupyter.widget-view+json": {
       "version_major": 2,
       "version_minor": 0,
       "model_id": "42bc706cb99d4779a323f5980a7ebbdc"
      },
      "application/json": {
       "n": 0,
       "total": 7000,
       "elapsed": 0.018163204193115234,
       "ncols": null,
       "nrows": null,
       "prefix": "Loading Images...",
       "ascii": false,
       "unit": "it",
       "unit_scale": false,
       "rate": null,
       "bar_format": null,
       "postfix": null,
       "unit_divisor": 1000,
       "initial": 0,
       "colour": null
      }
     },
     "metadata": {},
     "output_type": "display_data"
    },
    {
     "data": {
      "text/plain": "Loading Images...:   0%|          | 0/7000 [00:00<?, ?it/s]",
      "application/vnd.jupyter.widget-view+json": {
       "version_major": 2,
       "version_minor": 0,
       "model_id": "5383220e42fd46aeaf3c89072491dafe"
      },
      "application/json": {
       "n": 0,
       "total": 7000,
       "elapsed": 0.019211530685424805,
       "ncols": null,
       "nrows": null,
       "prefix": "Loading Images...",
       "ascii": false,
       "unit": "it",
       "unit_scale": false,
       "rate": null,
       "bar_format": null,
       "postfix": null,
       "unit_divisor": 1000,
       "initial": 0,
       "colour": null
      }
     },
     "metadata": {},
     "output_type": "display_data"
    },
    {
     "data": {
      "text/plain": "Loading Images...:   0%|          | 0/7000 [00:00<?, ?it/s]",
      "application/vnd.jupyter.widget-view+json": {
       "version_major": 2,
       "version_minor": 0,
       "model_id": "c62046d296044a6f91ccf2383dcd56e7"
      },
      "application/json": {
       "n": 0,
       "total": 7000,
       "elapsed": 0.014149904251098633,
       "ncols": null,
       "nrows": null,
       "prefix": "Loading Images...",
       "ascii": false,
       "unit": "it",
       "unit_scale": false,
       "rate": null,
       "bar_format": null,
       "postfix": null,
       "unit_divisor": 1000,
       "initial": 0,
       "colour": null
      }
     },
     "metadata": {},
     "output_type": "display_data"
    },
    {
     "data": {
      "text/plain": "Loading Images...:   0%|          | 0/7000 [00:00<?, ?it/s]",
      "application/vnd.jupyter.widget-view+json": {
       "version_major": 2,
       "version_minor": 0,
       "model_id": "7abb5f055b82477cbe0f6043da6a4781"
      },
      "application/json": {
       "n": 0,
       "total": 7000,
       "elapsed": 0.018490076065063477,
       "ncols": null,
       "nrows": null,
       "prefix": "Loading Images...",
       "ascii": false,
       "unit": "it",
       "unit_scale": false,
       "rate": null,
       "bar_format": null,
       "postfix": null,
       "unit_divisor": 1000,
       "initial": 0,
       "colour": null
      }
     },
     "metadata": {},
     "output_type": "display_data"
    },
    {
     "data": {
      "text/plain": "Loading Images...:   0%|          | 0/7000 [00:00<?, ?it/s]",
      "application/vnd.jupyter.widget-view+json": {
       "version_major": 2,
       "version_minor": 0,
       "model_id": "36ee9b4396574e35b37712b9ad5d2bca"
      },
      "application/json": {
       "n": 0,
       "total": 7000,
       "elapsed": 0.013135433197021484,
       "ncols": null,
       "nrows": null,
       "prefix": "Loading Images...",
       "ascii": false,
       "unit": "it",
       "unit_scale": false,
       "rate": null,
       "bar_format": null,
       "postfix": null,
       "unit_divisor": 1000,
       "initial": 0,
       "colour": null
      }
     },
     "metadata": {},
     "output_type": "display_data"
    },
    {
     "data": {
      "text/plain": "Loading Images...:   0%|          | 0/7000 [00:00<?, ?it/s]",
      "application/vnd.jupyter.widget-view+json": {
       "version_major": 2,
       "version_minor": 0,
       "model_id": "6a3f8e90147848508992de0b174e095e"
      },
      "application/json": {
       "n": 0,
       "total": 7000,
       "elapsed": 0.013265371322631836,
       "ncols": null,
       "nrows": null,
       "prefix": "Loading Images...",
       "ascii": false,
       "unit": "it",
       "unit_scale": false,
       "rate": null,
       "bar_format": null,
       "postfix": null,
       "unit_divisor": 1000,
       "initial": 0,
       "colour": null
      }
     },
     "metadata": {},
     "output_type": "display_data"
    },
    {
     "data": {
      "text/plain": "Loading Images...:   0%|          | 0/7000 [00:00<?, ?it/s]",
      "application/vnd.jupyter.widget-view+json": {
       "version_major": 2,
       "version_minor": 0,
       "model_id": "1b36bff83e6c4b54b122705ff4c2ea2e"
      },
      "application/json": {
       "n": 0,
       "total": 7000,
       "elapsed": 0.014130353927612305,
       "ncols": null,
       "nrows": null,
       "prefix": "Loading Images...",
       "ascii": false,
       "unit": "it",
       "unit_scale": false,
       "rate": null,
       "bar_format": null,
       "postfix": null,
       "unit_divisor": 1000,
       "initial": 0,
       "colour": null
      }
     },
     "metadata": {},
     "output_type": "display_data"
    },
    {
     "data": {
      "text/plain": "Loading Images...:   0%|          | 0/7000 [00:00<?, ?it/s]",
      "application/vnd.jupyter.widget-view+json": {
       "version_major": 2,
       "version_minor": 0,
       "model_id": "c4e06d480abe4cd386ac8c06834b6d07"
      },
      "application/json": {
       "n": 0,
       "total": 7000,
       "elapsed": 0.013434171676635742,
       "ncols": null,
       "nrows": null,
       "prefix": "Loading Images...",
       "ascii": false,
       "unit": "it",
       "unit_scale": false,
       "rate": null,
       "bar_format": null,
       "postfix": null,
       "unit_divisor": 1000,
       "initial": 0,
       "colour": null
      }
     },
     "metadata": {},
     "output_type": "display_data"
    },
    {
     "data": {
      "text/plain": "Loading Images...:   0%|          | 0/7000 [00:00<?, ?it/s]",
      "application/vnd.jupyter.widget-view+json": {
       "version_major": 2,
       "version_minor": 0,
       "model_id": "a61de6f007f34bc4a08f6c24a5480256"
      },
      "application/json": {
       "n": 0,
       "total": 7000,
       "elapsed": 0.014311075210571289,
       "ncols": null,
       "nrows": null,
       "prefix": "Loading Images...",
       "ascii": false,
       "unit": "it",
       "unit_scale": false,
       "rate": null,
       "bar_format": null,
       "postfix": null,
       "unit_divisor": 1000,
       "initial": 0,
       "colour": null
      }
     },
     "metadata": {},
     "output_type": "display_data"
    },
    {
     "data": {
      "text/plain": "Loading Images...:   0%|          | 0/7000 [00:00<?, ?it/s]",
      "application/vnd.jupyter.widget-view+json": {
       "version_major": 2,
       "version_minor": 0,
       "model_id": "108716f2629d46b6839f6d10dab3c4fe"
      },
      "application/json": {
       "n": 0,
       "total": 7000,
       "elapsed": 0.013132095336914062,
       "ncols": null,
       "nrows": null,
       "prefix": "Loading Images...",
       "ascii": false,
       "unit": "it",
       "unit_scale": false,
       "rate": null,
       "bar_format": null,
       "postfix": null,
       "unit_divisor": 1000,
       "initial": 0,
       "colour": null
      }
     },
     "metadata": {},
     "output_type": "display_data"
    },
    {
     "data": {
      "text/plain": "Loading Images...:   0%|          | 0/7000 [00:00<?, ?it/s]",
      "application/vnd.jupyter.widget-view+json": {
       "version_major": 2,
       "version_minor": 0,
       "model_id": "e93f63cd1ef247f7aa6fda7d2e1de39a"
      },
      "application/json": {
       "n": 0,
       "total": 7000,
       "elapsed": 0.014160871505737305,
       "ncols": null,
       "nrows": null,
       "prefix": "Loading Images...",
       "ascii": false,
       "unit": "it",
       "unit_scale": false,
       "rate": null,
       "bar_format": null,
       "postfix": null,
       "unit_divisor": 1000,
       "initial": 0,
       "colour": null
      }
     },
     "metadata": {},
     "output_type": "display_data"
    },
    {
     "data": {
      "text/plain": "Loading Images...:   0%|          | 0/7000 [00:00<?, ?it/s]",
      "application/vnd.jupyter.widget-view+json": {
       "version_major": 2,
       "version_minor": 0,
       "model_id": "590784ede64945cda7a465c3be47e757"
      },
      "application/json": {
       "n": 0,
       "total": 7000,
       "elapsed": 0.014184713363647461,
       "ncols": null,
       "nrows": null,
       "prefix": "Loading Images...",
       "ascii": false,
       "unit": "it",
       "unit_scale": false,
       "rate": null,
       "bar_format": null,
       "postfix": null,
       "unit_divisor": 1000,
       "initial": 0,
       "colour": null
      }
     },
     "metadata": {},
     "output_type": "display_data"
    },
    {
     "data": {
      "text/plain": "Loading Images...:   0%|          | 0/7000 [00:00<?, ?it/s]",
      "application/vnd.jupyter.widget-view+json": {
       "version_major": 2,
       "version_minor": 0,
       "model_id": "8e836acfced64351911850fd9dd666d0"
      },
      "application/json": {
       "n": 0,
       "total": 7000,
       "elapsed": 0.013386726379394531,
       "ncols": null,
       "nrows": null,
       "prefix": "Loading Images...",
       "ascii": false,
       "unit": "it",
       "unit_scale": false,
       "rate": null,
       "bar_format": null,
       "postfix": null,
       "unit_divisor": 1000,
       "initial": 0,
       "colour": null
      }
     },
     "metadata": {},
     "output_type": "display_data"
    },
    {
     "data": {
      "text/plain": "Loading Images...:   0%|          | 0/7000 [00:00<?, ?it/s]",
      "application/vnd.jupyter.widget-view+json": {
       "version_major": 2,
       "version_minor": 0,
       "model_id": "ed6dc18cec6f443e9bc96c71e68f995b"
      },
      "application/json": {
       "n": 0,
       "total": 7000,
       "elapsed": 0.01312708854675293,
       "ncols": null,
       "nrows": null,
       "prefix": "Loading Images...",
       "ascii": false,
       "unit": "it",
       "unit_scale": false,
       "rate": null,
       "bar_format": null,
       "postfix": null,
       "unit_divisor": 1000,
       "initial": 0,
       "colour": null
      }
     },
     "metadata": {},
     "output_type": "display_data"
    },
    {
     "data": {
      "text/plain": "Loading Images...:   0%|          | 0/7000 [00:00<?, ?it/s]",
      "application/vnd.jupyter.widget-view+json": {
       "version_major": 2,
       "version_minor": 0,
       "model_id": "93a96fed6c384e49aad39e1c3328fff0"
      },
      "application/json": {
       "n": 0,
       "total": 7000,
       "elapsed": 0.014215230941772461,
       "ncols": null,
       "nrows": null,
       "prefix": "Loading Images...",
       "ascii": false,
       "unit": "it",
       "unit_scale": false,
       "rate": null,
       "bar_format": null,
       "postfix": null,
       "unit_divisor": 1000,
       "initial": 0,
       "colour": null
      }
     },
     "metadata": {},
     "output_type": "display_data"
    },
    {
     "data": {
      "text/plain": "Loading Images...:   0%|          | 0/5597 [00:00<?, ?it/s]",
      "application/vnd.jupyter.widget-view+json": {
       "version_major": 2,
       "version_minor": 0,
       "model_id": "550dbdebfcaf4daeae8068a86d8aba1f"
      },
      "application/json": {
       "n": 0,
       "total": 5597,
       "elapsed": 0.013077497482299805,
       "ncols": null,
       "nrows": null,
       "prefix": "Loading Images...",
       "ascii": false,
       "unit": "it",
       "unit_scale": false,
       "rate": null,
       "bar_format": null,
       "postfix": null,
       "unit_divisor": 1000,
       "initial": 0,
       "colour": null
      }
     },
     "metadata": {},
     "output_type": "display_data"
    },
    {
     "name": "stdout",
     "output_type": "stream",
     "text": [
      "Finished Repackaging Bruker Tiffs\n"
     ]
    }
   ],
   "source": [
    "PreProcessing.repackage_bruker_tiffs(RawVideoDirectory, OutputDirectory)\n",
    "EH.Encoding.update_folder_dictionary()"
   ],
   "metadata": {
    "collapsed": false,
    "pycharm": {
     "name": "#%%\n"
    }
   }
  },
  {
   "cell_type": "markdown",
   "source": [
    "Load Images"
   ],
   "metadata": {
    "collapsed": false,
    "pycharm": {
     "name": "#%% md\n"
    }
   }
  },
  {
   "cell_type": "code",
   "execution_count": 10,
   "outputs": [
    {
     "data": {
      "text/plain": "Loading Images...:   0%|          | 0/16 [00:00<?, ?it/s]",
      "application/vnd.jupyter.widget-view+json": {
       "version_major": 2,
       "version_minor": 0,
       "model_id": "56e34682c6c54197bf7ddd0b33f2c812"
      },
      "application/json": {
       "n": 0,
       "total": 16,
       "elapsed": 0.015260934829711914,
       "ncols": null,
       "nrows": null,
       "prefix": "Loading Images...",
       "ascii": false,
       "unit": "it",
       "unit_scale": false,
       "rate": null,
       "bar_format": null,
       "postfix": null,
       "unit_divisor": 1000,
       "initial": 0,
       "colour": null
      }
     },
     "metadata": {},
     "output_type": "display_data"
    }
   ],
   "source": [
    "images = PreProcessing.load_all_tiffs(OutputDirectory)"
   ],
   "metadata": {
    "collapsed": false,
    "pycharm": {
     "name": "#%%\n"
    }
   }
  },
  {
   "cell_type": "markdown",
   "source": [
    "Filter Images"
   ],
   "metadata": {
    "collapsed": false,
    "pycharm": {
     "name": "#%% md\n"
    }
   }
  },
  {
   "cell_type": "code",
   "execution_count": 11,
   "outputs": [
    {
     "data": {
      "text/plain": "Filtering Images...:   0%|          | 0/6 [00:00<?, ?it/s]",
      "application/vnd.jupyter.widget-view+json": {
       "version_major": 2,
       "version_minor": 0,
       "model_id": "8c7695a0580043fb9a6bf30d50c1baf5"
      },
      "application/json": {
       "n": 0,
       "total": 6,
       "elapsed": 0.014000177383422852,
       "ncols": null,
       "nrows": null,
       "prefix": "Filtering Images...",
       "ascii": false,
       "unit": "it",
       "unit_scale": false,
       "rate": null,
       "bar_format": null,
       "postfix": null,
       "unit_divisor": 1000,
       "initial": 0,
       "colour": null
      }
     },
     "metadata": {},
     "output_type": "display_data"
    }
   ],
   "source": [
    "images = PreProcessing.blockwise_fast_filter_tiff(images, Footprint=np.ones((7, 3, 3)))"
   ],
   "metadata": {
    "collapsed": false,
    "pycharm": {
     "name": "#%%\n"
    }
   }
  },
  {
   "cell_type": "markdown",
   "source": [
    "Grouped Z-Project"
   ],
   "metadata": {
    "collapsed": false,
    "pycharm": {
     "name": "#%% md\n"
    }
   }
  },
  {
   "cell_type": "code",
   "execution_count": 12,
   "outputs": [
    {
     "name": "stdout",
     "output_type": "stream",
     "text": [
      "Downsampling data...\n"
     ]
    },
    {
     "ename": "MemoryError",
     "evalue": "Unable to allocate 72.0 GiB for an array with shape (36866, 512, 512) and data type float64",
     "output_type": "error",
     "traceback": [
      "\u001B[1;31m---------------------------------------------------------------------------\u001B[0m",
      "\u001B[1;31mMemoryError\u001B[0m                               Traceback (most recent call last)",
      "\u001B[1;32m~\\AppData\\Local\\Temp\\ipykernel_18500\\383794050.py\u001B[0m in \u001B[0;36m<module>\u001B[1;34m\u001B[0m\n\u001B[1;32m----> 1\u001B[1;33m \u001B[0mimages\u001B[0m \u001B[1;33m=\u001B[0m \u001B[0mPreProcessing\u001B[0m\u001B[1;33m.\u001B[0m\u001B[0mgroupedZProject\u001B[0m\u001B[1;33m(\u001B[0m\u001B[0mimages\u001B[0m\u001B[1;33m,\u001B[0m \u001B[1;33m(\u001B[0m\u001B[1;36m3\u001B[0m\u001B[1;33m,\u001B[0m \u001B[1;36m1\u001B[0m\u001B[1;33m,\u001B[0m \u001B[1;36m1\u001B[0m\u001B[1;33m)\u001B[0m\u001B[1;33m,\u001B[0m \u001B[0mnp\u001B[0m\u001B[1;33m.\u001B[0m\u001B[0mmean\u001B[0m\u001B[1;33m)\u001B[0m\u001B[1;33m\u001B[0m\u001B[1;33m\u001B[0m\u001B[0m\n\u001B[0m",
      "\u001B[1;32mC:\\ProgramData\\Anaconda3\\envs\\Calcium-Imaging-Analysis-Pipeline\\ImagingAnalysis\\PreprocessingImages.py\u001B[0m in \u001B[0;36mgroupedZProject\u001B[1;34m(TiffStack, BinSize, DownsampleFunction)\u001B[0m\n\u001B[0;32m    432\u001B[0m         \u001B[0mprint\u001B[0m\u001B[1;33m(\u001B[0m\u001B[1;34m\"Downsampling data...\"\u001B[0m\u001B[1;33m)\u001B[0m\u001B[1;33m\u001B[0m\u001B[1;33m\u001B[0m\u001B[0m\n\u001B[0;32m    433\u001B[0m         downsampled_image = skimage.measure.block_reduce(TiffStack, block_size=BinSize,\n\u001B[1;32m--> 434\u001B[1;33m                                                          func=DownsampleFunction)\n\u001B[0m\u001B[0;32m    435\u001B[0m         \u001B[0mprint\u001B[0m\u001B[1;33m(\u001B[0m\u001B[1;34m\"Finished.\"\u001B[0m\u001B[1;33m)\u001B[0m\u001B[1;33m\u001B[0m\u001B[1;33m\u001B[0m\u001B[0m\n\u001B[0;32m    436\u001B[0m         \u001B[1;32mreturn\u001B[0m \u001B[0mdownsampled_image\u001B[0m\u001B[1;33m\u001B[0m\u001B[1;33m\u001B[0m\u001B[0m\n",
      "\u001B[1;32mC:\\ProgramData\\Anaconda3\\envs\\Calcium-Imaging-Analysis-Pipeline\\lib\\site-packages\\skimage\\measure\\block.py\u001B[0m in \u001B[0;36mblock_reduce\u001B[1;34m(image, block_size, func, cval, func_kwargs)\u001B[0m\n\u001B[0;32m     88\u001B[0m \u001B[1;33m\u001B[0m\u001B[0m\n\u001B[0;32m     89\u001B[0m     return func(blocked, axis=tuple(range(image.ndim, blocked.ndim)),\n\u001B[1;32m---> 90\u001B[1;33m                 **func_kwargs)\n\u001B[0m",
      "\u001B[1;32m<__array_function__ internals>\u001B[0m in \u001B[0;36mmean\u001B[1;34m(*args, **kwargs)\u001B[0m\n",
      "\u001B[1;32mC:\\ProgramData\\Anaconda3\\envs\\Calcium-Imaging-Analysis-Pipeline\\lib\\site-packages\\numpy\\core\\fromnumeric.py\u001B[0m in \u001B[0;36mmean\u001B[1;34m(a, axis, dtype, out, keepdims, where)\u001B[0m\n\u001B[0;32m   3439\u001B[0m \u001B[1;33m\u001B[0m\u001B[0m\n\u001B[0;32m   3440\u001B[0m     return _methods._mean(a, axis=axis, dtype=dtype,\n\u001B[1;32m-> 3441\u001B[1;33m                           out=out, **kwargs)\n\u001B[0m\u001B[0;32m   3442\u001B[0m \u001B[1;33m\u001B[0m\u001B[0m\n\u001B[0;32m   3443\u001B[0m \u001B[1;33m\u001B[0m\u001B[0m\n",
      "\u001B[1;32mC:\\ProgramData\\Anaconda3\\envs\\Calcium-Imaging-Analysis-Pipeline\\lib\\site-packages\\numpy\\core\\_methods.py\u001B[0m in \u001B[0;36m_mean\u001B[1;34m(a, axis, dtype, out, keepdims, where)\u001B[0m\n\u001B[0;32m    177\u001B[0m             \u001B[0mis_float16_result\u001B[0m \u001B[1;33m=\u001B[0m \u001B[1;32mTrue\u001B[0m\u001B[1;33m\u001B[0m\u001B[1;33m\u001B[0m\u001B[0m\n\u001B[0;32m    178\u001B[0m \u001B[1;33m\u001B[0m\u001B[0m\n\u001B[1;32m--> 179\u001B[1;33m     \u001B[0mret\u001B[0m \u001B[1;33m=\u001B[0m \u001B[0mumr_sum\u001B[0m\u001B[1;33m(\u001B[0m\u001B[0marr\u001B[0m\u001B[1;33m,\u001B[0m \u001B[0maxis\u001B[0m\u001B[1;33m,\u001B[0m \u001B[0mdtype\u001B[0m\u001B[1;33m,\u001B[0m \u001B[0mout\u001B[0m\u001B[1;33m,\u001B[0m \u001B[0mkeepdims\u001B[0m\u001B[1;33m,\u001B[0m \u001B[0mwhere\u001B[0m\u001B[1;33m=\u001B[0m\u001B[0mwhere\u001B[0m\u001B[1;33m)\u001B[0m\u001B[1;33m\u001B[0m\u001B[1;33m\u001B[0m\u001B[0m\n\u001B[0m\u001B[0;32m    180\u001B[0m     \u001B[1;32mif\u001B[0m \u001B[0misinstance\u001B[0m\u001B[1;33m(\u001B[0m\u001B[0mret\u001B[0m\u001B[1;33m,\u001B[0m \u001B[0mmu\u001B[0m\u001B[1;33m.\u001B[0m\u001B[0mndarray\u001B[0m\u001B[1;33m)\u001B[0m\u001B[1;33m:\u001B[0m\u001B[1;33m\u001B[0m\u001B[1;33m\u001B[0m\u001B[0m\n\u001B[0;32m    181\u001B[0m         ret = um.true_divide(\n",
      "\u001B[1;31mMemoryError\u001B[0m: Unable to allocate 72.0 GiB for an array with shape (36866, 512, 512) and data type float64"
     ]
    }
   ],
   "source": [
    "# for spatial complexity purposes I saved to binary and worked on the memory mapped file, ignore this cell\n",
    "images = PreProcessing.grouped_z_project(images, (3, 1, 1), np.mean)"
   ],
   "metadata": {
    "collapsed": false,
    "pycharm": {
     "name": "#%%\n"
    }
   }
  },
  {
   "cell_type": "markdown",
   "source": [
    "Remove Shutter Artifact"
   ],
   "metadata": {
    "collapsed": false,
    "pycharm": {
     "name": "#%% md\n"
    }
   }
  },
  {
   "cell_type": "code",
   "execution_count": null,
   "outputs": [],
   "source": [
    "images = PreProcessing.remove_shuttle_artifact(images, chunk_size=7000, artifact_length=1000)"
   ],
   "metadata": {
    "collapsed": false,
    "pycharm": {
     "name": "#%%\n"
    }
   }
  },
  {
   "cell_type": "markdown",
   "source": [
    "Store Parameters"
   ],
   "metadata": {
    "collapsed": false,
    "pycharm": {
     "name": "#%% md\n"
    }
   }
  },
  {
   "cell_type": "code",
   "execution_count": null,
   "outputs": [],
   "source": [
    "Parameters = {\n",
    "    \"grouped-z project bin size\": 3,\n",
    "    \"median filter tensor size\": (7, 3, 3),\n",
    "    \"shuttle artifact length\": 1000,\n",
    "    \"chunk size\": 7000,\n",
    "}\n",
    "EH.Encoding.folder_dictionary.get(\"imaging_10Hz\").add_notes(\"preprocessing\", Parameters)"
   ],
   "metadata": {
    "collapsed": false,
    "pycharm": {
     "name": "#%%\n"
    }
   }
  },
  {
   "cell_type": "markdown",
   "source": [
    "Save Images as Binary"
   ],
   "metadata": {
    "collapsed": false,
    "pycharm": {
     "name": "#%% md\n"
    }
   }
  },
  {
   "cell_type": "code",
   "execution_count": null,
   "outputs": [],
   "source": [
    "PreProcessing.save_raw_binary(images, OutputDirectory)\n",
    "EH.Encoding.update_folder_dictionary()\n",
    "EH.recordMod(\"Repackaged, filtered, and exported images as raw binary. Made video even length this time\")"
   ],
   "metadata": {
    "collapsed": false,
    "pycharm": {
     "name": "#%%\n"
    }
   }
  },
  {
   "cell_type": "markdown",
   "source": [
    "Cleanup"
   ],
   "metadata": {
    "collapsed": false,
    "pycharm": {
     "name": "#%% md\n"
    }
   }
  },
  {
   "cell_type": "code",
   "execution_count": null,
   "outputs": [],
   "source": [
    "EH.Encoding.folder_dictionary.get(\"imaging_10Hz\").clean_up_compilation()\n",
    "del images"
   ],
   "metadata": {
    "collapsed": false,
    "pycharm": {
     "name": "#%%\n"
    }
   }
  },
  {
   "cell_type": "markdown",
   "source": [
    "## Image Processing"
   ],
   "metadata": {
    "collapsed": false,
    "pycharm": {
     "name": "#%% md\n"
    }
   }
  },
  {
   "cell_type": "markdown",
   "source": [
    "Motion Correction"
   ],
   "metadata": {
    "collapsed": false,
    "pycharm": {
     "name": "#%% md\n"
    }
   }
  },
  {
   "cell_type": "code",
   "execution_count": null,
   "outputs": [],
   "source": [
    "from ImagingAnalysis.Suite2PAnalysis import Suite2PModule"
   ],
   "metadata": {
    "collapsed": false,
    "pycharm": {
     "name": "#%%\n"
    }
   }
  },
  {
   "cell_type": "code",
   "execution_count": null,
   "outputs": [],
   "source": [
    "S2P = Suite2PModule(EH.Encoding.folder_dictionary.get(\"imaging_10Hz\").folders.get(\"compiled\"), EH.Encoding.folder_dictionary.get(\"imaging_10Hz\").path, file_type=\"binary\")\n",
    "S2P.motionCorrect()"
   ],
   "metadata": {
    "collapsed": false,
    "pycharm": {
     "name": "#%%\n"
    }
   }
  },
  {
   "cell_type": "markdown",
   "source": [
    "ROI Detection & Classification"
   ],
   "metadata": {
    "collapsed": false,
    "pycharm": {
     "name": "#%% md\n"
    }
   }
  },
  {
   "cell_type": "code",
   "execution_count": 1,
   "outputs": [
    {
     "ename": "NameError",
     "evalue": "name 'np' is not defined",
     "output_type": "error",
     "traceback": [
      "\u001B[1;31m---------------------------------------------------------------------------\u001B[0m",
      "\u001B[1;31mNameError\u001B[0m                                 Traceback (most recent call last)",
      "\u001B[1;32m~\\AppData\\Local\\Temp\\ipykernel_7772\\3338400733.py\u001B[0m in \u001B[0;36m<module>\u001B[1;34m\u001B[0m\n\u001B[1;32m----> 1\u001B[1;33m \u001B[0mS2P\u001B[0m\u001B[1;33m.\u001B[0m\u001B[0mops\u001B[0m\u001B[1;33m[\u001B[0m\u001B[1;34m\"meanImg_chan2\"\u001B[0m\u001B[1;33m]\u001B[0m \u001B[1;33m=\u001B[0m \u001B[0mnp\u001B[0m\u001B[1;33m.\u001B[0m\u001B[0marray\u001B[0m\u001B[1;33m(\u001B[0m\u001B[1;33m[\u001B[0m\u001B[1;36m0\u001B[0m\u001B[1;33m]\u001B[0m\u001B[1;33m)\u001B[0m\u001B[1;33m\u001B[0m\u001B[1;33m\u001B[0m\u001B[0m\n\u001B[0m\u001B[0;32m      2\u001B[0m \u001B[0mS2P\u001B[0m\u001B[1;33m.\u001B[0m\u001B[0mdb\u001B[0m  \u001B[1;33m=\u001B[0m \u001B[0mS2P\u001B[0m\u001B[1;33m.\u001B[0m\u001B[0mops\u001B[0m\u001B[1;33m\u001B[0m\u001B[1;33m\u001B[0m\u001B[0m\n\u001B[0;32m      3\u001B[0m \u001B[0mS2P\u001B[0m\u001B[1;33m.\u001B[0m\u001B[0mroiDetection\u001B[0m\u001B[1;33m(\u001B[0m\u001B[1;33m)\u001B[0m\u001B[1;33m\u001B[0m\u001B[1;33m\u001B[0m\u001B[0m\n\u001B[0;32m      4\u001B[0m \u001B[0mS2P\u001B[0m\u001B[1;33m.\u001B[0m\u001B[0mextractTraces\u001B[0m\u001B[1;33m(\u001B[0m\u001B[1;33m)\u001B[0m\u001B[1;33m\u001B[0m\u001B[1;33m\u001B[0m\u001B[0m\n\u001B[0;32m      5\u001B[0m \u001B[0mS2P\u001B[0m\u001B[1;33m.\u001B[0m\u001B[0mclassifyROIs\u001B[0m\u001B[1;33m(\u001B[0m\u001B[1;33m)\u001B[0m\u001B[1;33m\u001B[0m\u001B[1;33m\u001B[0m\u001B[0m\n",
      "\u001B[1;31mNameError\u001B[0m: name 'np' is not defined"
     ]
    }
   ],
   "source": [
    "S2P.ops[\"meanImg_chan2\"] = np.array([0])\n",
    "S2P.ops.pop(\"meanImg_chan2\")\n",
    "S2P.db  = S2P.ops\n",
    "S2P.roiDetection()\n",
    "S2P.extractTraces()\n",
    "S2P.classifyROIs()\n",
    "S2P.spikeExtraction() # Finalize (Required spks.npy to use GUI)"
   ],
   "metadata": {
    "collapsed": false,
    "pycharm": {
     "name": "#%%\n"
    }
   }
  },
  {
   "cell_type": "markdown",
   "source": [],
   "metadata": {
    "collapsed": false,
    "pycharm": {
     "name": "#%% md\n"
    }
   }
  },
  {
   "cell_type": "code",
   "execution_count": null,
   "outputs": [],
   "source": [
    "S2P.iscell, S2P.stat = S2P.remove_small_neurons(S2P.iscell, S2P.stat)\n",
    "S2P.save_files()\n",
    "EH.recordStageMod(\"Encoding\", \"S2P Encoding\")\n",
    "EH.Encoding.update_folder_dictionary()\n",
    "EH.saveHierarchy()\n",
    "del S2P"
   ],
   "metadata": {
    "collapsed": false,
    "pycharm": {
     "name": "#%%\n"
    }
   }
  },
  {
   "cell_type": "markdown",
   "source": [
    "Fissa: Signal Extraction"
   ],
   "metadata": {
    "collapsed": false,
    "pycharm": {
     "name": "#%% md\n"
    }
   }
  },
  {
   "cell_type": "code",
   "execution_count": null,
   "outputs": [],
   "source": [
    "from ImagingAnalysis.FissaAnalysis import FissaAnalysis"
   ],
   "metadata": {
    "collapsed": false,
    "pycharm": {
     "name": "#%%\n"
    }
   }
  },
  {
   "cell_type": "code",
   "execution_count": null,
   "outputs": [],
   "source": [
    "Image = np.reshape(np.fromfile(EH.Encoding.folder_dictionary.get(\"imaging_10Hz\").find_matching_files(\"registered_data.bin\", \"plane0\")[0], dtype=np.int16), (-1, 512, 512))\n",
    "PreProcessing.save_raw_binary(Image, EH.Encoding.folder_dictionary.get(\"imaging_10Hz\").folders.get(\"denoised\"))\n",
    "# saved reg to denoised"
   ],
   "metadata": {
    "collapsed": false,
    "pycharm": {
     "name": "#%%\n"
    }
   }
  },
  {
   "cell_type": "code",
   "execution_count": null,
   "outputs": [],
   "source": [
    "Fissa = FissaAnalysis(data_folder=EH.Encoding.folder_dictionary.get(\"imaging_10Hz\").path, video_folder=EH.Encoding.folder_dictionary.get(\"imaging_10Hz\").folders.get(\"denoised\"), output_folder=EH.Encoding.folder_dictionary.get(\"imaging_10Hz\").folders.get(\"fissa\"))\n",
    "Fissa.initializeFissa()"
   ],
   "metadata": {
    "collapsed": false,
    "pycharm": {
     "name": "#%%\n"
    }
   }
  },
  {
   "cell_type": "code",
   "execution_count": null,
   "outputs": [],
   "source": [
    "Fissa.extractTraces() # simple, call to extract raw traces from videos\n",
    "Fissa.saveFissaPrep()"
   ],
   "metadata": {
    "collapsed": false,
    "pycharm": {
     "name": "#%%\n"
    }
   }
  },
  {
   "cell_type": "markdown",
   "source": [
    "Trace Processing"
   ],
   "metadata": {
    "collapsed": false,
    "pycharm": {
     "name": "#%% md\n"
    }
   }
  },
  {
   "cell_type": "code",
   "execution_count": null,
   "outputs": [],
   "source": [
    "from ImagingAnalysis.DataProcessing import Processing"
   ],
   "metadata": {
    "collapsed": false,
    "pycharm": {
     "name": "#%%\n"
    }
   }
  },
  {
   "cell_type": "code",
   "execution_count": null,
   "outputs": [],
   "source": [
    "# let's smooth the data with edge-preserving to make it nicer\n",
    "#Fissa.ProcessedTraces.smoothed_raw = Processing.smoothTraces_TiffOrg(Fissa.preparation.raw, niter=5, kappa=0.15, gamma=0.15)[0]\n",
    "#Fissa.preparation.raw = Fissa.ProcessedTraces.smoothed_raw.copy()\n",
    "#Let's use for separation, so replace the raws with smooths\n",
    "Fissa.passPrepToFissa()"
   ],
   "metadata": {
    "collapsed": false,
    "pycharm": {
     "name": "#%%\n"
    }
   }
  },
  {
   "cell_type": "markdown",
   "source": [
    "Fissa: Source-Separation"
   ],
   "metadata": {
    "collapsed": false,
    "pycharm": {
     "name": "#%% md\n"
    }
   }
  },
  {
   "cell_type": "code",
   "execution_count": null,
   "outputs": [],
   "source": [
    "Fissa.separateTraces() # simple, call to separate the traces\n",
    "Fissa.saveFissaSep()"
   ],
   "metadata": {
    "collapsed": false,
    "pycharm": {
     "name": "#%%\n"
    }
   }
  },
  {
   "cell_type": "markdown",
   "source": [
    "Trace Post-Processing"
   ],
   "metadata": {
    "collapsed": false,
    "pycharm": {
     "name": "#%% md\n"
    }
   }
  },
  {
   "cell_type": "code",
   "execution_count": null,
   "outputs": [],
   "source": [
    "# Smooth\n",
    "Fissa.ProcessedTraces.smoothed_result = Processing.smoothTraces_TiffOrg(Fissa.experiment.result, niter=25, kappa=0.15, gamma=0.25)[0]\n",
    "\n",
    "# Calculate Fo/F\n",
    "Fissa.ProcessedTraces.dFoF_result = Processing.calculate_dFoF(Fissa.ProcessedTraces.smoothed_result, Fissa.frame_rate, raw=Fissa.preparation.raw, merge_after=False)\n",
    "\n",
    "# Condense the ROI Traces for each Trial into a Single Matrix\n",
    "Fissa.ProcessedTraces.merged_dFoF_result = Processing.mergeTraces(Fissa.ProcessedTraces.dFoF_result)\n",
    "\n",
    "for _trace in range(Fissa.ProcessedTraces.merged_dFoF_result.shape[0]):\n",
    "    Fissa.ProcessedTraces.merged_dFoF_result[_trace, :] = Fissa.ProcessedTraces.merged_dFoF_result[_trace, :] - np.mean(Fissa.ProcessedTraces.merged_dFoF_result[_trace, :])\n",
    "\n",
    "# Detrend the Traces by fitting a 4th-order polynomial and subsequently subtracting\n",
    "Fissa.ProcessedTraces.detrended_merged_dFoF_result = Processing.detrendTraces(Fissa.ProcessedTraces.merged_dFoF_result, order=4, plot=False)\n",
    "\n",
    "# Save\n",
    "Fissa.saveProcessedTraces()\n",
    "EH.recordMod(\"Encoding\", \"Encoding Source-Separation\")\n",
    "EH.saveHierarchy()"
   ],
   "metadata": {
    "collapsed": false,
    "pycharm": {
     "name": "#%%\n"
    }
   }
  },
  {
   "cell_type": "markdown",
   "source": [
    "Cascade: Event/Spike/Firing Rate Inference"
   ],
   "metadata": {
    "collapsed": false,
    "pycharm": {
     "name": "#%% md\n"
    }
   }
  },
  {
   "cell_type": "code",
   "execution_count": null,
   "outputs": [],
   "source": [
    "from ImagingAnalysis.CascadeAnalysis import CascadeModule"
   ],
   "metadata": {
    "collapsed": false,
    "pycharm": {
     "name": "#%%\n"
    }
   }
  },
  {
   "cell_type": "code",
   "execution_count": null,
   "outputs": [],
   "source": [
    "Cascade = CascadeModule(Fissa.ProcessedTraces.detrended_merged_dFoF_result, 10, model_folder=\"C:\\\\ProgramData\\\\Anaconda3\\\\envs\\\\Calcium-Imaging-Analysis-Pipeline\\\\Pretrained_models\", SavePath=EH.Encoding.folder_dictionary.get(\"imaging_10Hz\").folders.get(\"cascade\"))"
   ],
   "metadata": {
    "collapsed": false,
    "pycharm": {
     "name": "#%%\n"
    }
   }
  },
  {
   "cell_type": "code",
   "execution_count": null,
   "outputs": [],
   "source": [
    "# Pull Available Models\n",
    "list_of_models = Cascade.pullModels(Cascade.model_folder)\n",
    "# Select Model: If you know what model you want, you should use the string instead.\n",
    "# This model is Global_EXC_10Hz_smoothing_100ms\n",
    "# Cascade.model_name = list_of_models[21]\n",
    "Cascade.model_name = \"Global_EXC_10Hz_smoothing100ms\"\n",
    "Cascade.downloadModel(Cascade.model_name, \"C:\\\\ProgramData\\\\Anaconda3\\\\envs\\\\Calcium-Imaging-Analysis-Pipeline\\\\Pretrained_models\")"
   ],
   "metadata": {
    "collapsed": false,
    "pycharm": {
     "name": "#%%\n"
    }
   }
  },
  {
   "cell_type": "code",
   "execution_count": null,
   "outputs": [],
   "source": [
    "# Infer Spike Probability\n",
    "Cascade.predictSpikeProb() # Simple, call to infer spike probability for each frame\n",
    "# Calculate Firing Rates # Simple, firing rate = spike probability * imaging frequency\n",
    "Cascade.ProcessedInferences.firing_rates = Processing.calculateFiringRate(Cascade.spike_prob, Cascade.frame_rate)"
   ],
   "metadata": {
    "collapsed": false,
    "pycharm": {
     "name": "#%%\n"
    }
   }
  },
  {
   "cell_type": "code",
   "execution_count": null,
   "outputs": [],
   "source": [
    "Cascade.saveSpikeProb()\n",
    "Cascade.saveProcessedInferences()"
   ],
   "metadata": {
    "collapsed": false,
    "pycharm": {
     "name": "#%%\n"
    }
   }
  },
  {
   "cell_type": "code",
   "execution_count": null,
   "outputs": [],
   "source": [
    "Cascade.inferDiscreteSpikes()"
   ],
   "metadata": {
    "collapsed": false,
    "pycharm": {
     "name": "#%%\n"
    }
   }
  },
  {
   "cell_type": "code",
   "execution_count": null,
   "outputs": [],
   "source": [
    "Cascade.saveSpikeInference()"
   ],
   "metadata": {
    "collapsed": false,
    "pycharm": {
     "name": "#%%\n"
    }
   }
  },
  {
   "cell_type": "code",
   "execution_count": null,
   "outputs": [],
   "source": [
    "EH.recordStageMod(\"Encoding\", \"Encoding Cascade\")\n",
    "EH.saveHierarchy()"
   ],
   "metadata": {
    "collapsed": false,
    "pycharm": {
     "name": "#%%\n"
    }
   }
  },
  {
   "cell_type": "code",
   "execution_count": null,
   "outputs": [],
   "source": [
    "EH.Encoding.update_folder_dictionary()\n",
    "EH.recordStageMod(\"Encoding\", \"Ready\")\n",
    "EH.saveHierarchy()\n",
    "del Cascade"
   ],
   "metadata": {
    "collapsed": false,
    "pycharm": {
     "name": "#%%\n"
    }
   }
  },
  {
   "cell_type": "markdown",
   "source": [
    "## Import Behavioral Data"
   ],
   "metadata": {
    "collapsed": false,
    "pycharm": {
     "name": "#%% md\n"
    }
   }
  },
  {
   "cell_type": "code",
   "execution_count": null,
   "outputs": [],
   "source": [
    "EH.Encoding.__load_base_behavior()\n",
    "EH.Encoding.__load_dlc_data(5, 799)\n",
    "EH.Encoding.load_bruker_data(EH.Encoding.folder_dictionary.get(\"imaging_10Hz\").parameters)\n",
    "EH.Encoding.data = EH.Encoding.__sync_grouped_z_projected_images(EH.Encoding.data, EH.Encoding.meta,\n",
    "                                             EH.Encoding.folder_dictionary.get(\"imaging_10Hz\").parameters)\n",
    "EH.recordStageMod(\"Encoding\", \"Added Down Sample Sync Encoding\")\n",
    "EH.saveHierarchy()"
   ],
   "metadata": {
    "collapsed": false,
    "pycharm": {
     "name": "#%%\n"
    }
   }
  },
  {
   "cell_type": "markdown",
   "source": [
    "## Decoding"
   ],
   "metadata": {
    "collapsed": false,
    "pycharm": {
     "name": "#%% md\n"
    }
   }
  },
  {
   "cell_type": "code",
   "execution_count": null,
   "outputs": [],
   "source": [
    "firing_rates = EH.Encoding.folder_dictionary.get(\"imaging_10Hz\").import_proc_inferences().firing_rates"
   ],
   "metadata": {
    "collapsed": false,
    "pycharm": {
     "name": "#%%\n"
    }
   }
  },
  {
   "cell_type": "code",
   "execution_count": null,
   "outputs": [],
   "source": [
    "def trial_matrix_org(DataFrame_, NeuralData):\n",
    "    _trial_index = np.where(DataFrame_[\" TrialIndicator\"] >= 3.3)[0]\n",
    "    _trial_frame = DataFrame_.iloc[_trial_index]\n",
    "    _cut_to_images = _trial_frame[~_trial_frame[\"Downsampled Imaging Frame\"].isnull()]\n",
    "    _selected_frames = np.unique(_cut_to_images[\"Downsampled Imaging Frame\"].values)\n",
    "    _cs_index = _cut_to_images[\"CS\"].values\n",
    "    OrgNeuralData = NeuralData[:, _selected_frames.astype(int)]\n",
    "    # noinspection PyShadowingNames\n",
    "\n",
    "    Features = np.full((2, _cs_index.shape[0]), 0, dtype=np.float64)\n",
    "    Features[0, np.where(_cs_index == 0)[0]] = 1\n",
    "    Features[1, np.where(_cs_index == 1)[0]] = 1\n",
    "\n",
    "    return OrgNeuralData, Features"
   ],
   "metadata": {
    "collapsed": false,
    "pycharm": {
     "name": "#%%\n"
    }
   }
  },
  {
   "cell_type": "code",
   "execution_count": null,
   "outputs": [],
   "source": [
    "DataFrame = EH.Encoding.data.copy(deep=True)\n",
    "cs_ids = EH.Encoding.trial_parameters.get(\"stimulusTypes\")"
   ],
   "metadata": {
    "collapsed": false,
    "pycharm": {
     "name": "#%%\n"
    }
   }
  },
  {
   "cell_type": "code",
   "execution_count": null,
   "outputs": [],
   "source": [
    "from ImagingAnalysis.DataProcessing import Processing"
   ],
   "metadata": {
    "collapsed": false,
    "pycharm": {
     "name": "#%%\n"
    }
   }
  },
  {
   "cell_type": "code",
   "execution_count": null,
   "outputs": [],
   "source": [
    "NFR = Processing.normalizeSmoothFiringRates(firing_rates, 5)"
   ],
   "metadata": {
    "collapsed": false,
    "pycharm": {
     "name": "#%%\n"
    }
   }
  },
  {
   "cell_type": "code",
   "execution_count": null,
   "outputs": [],
   "source": [
    "NeuralData_Matrix, FeatureData_Matrix = trial_matrix_org(DataFrame, NFR)"
   ],
   "metadata": {
    "collapsed": false,
    "pycharm": {
     "name": "#%%\n"
    }
   }
  },
  {
   "cell_type": "code",
   "execution_count": null,
   "outputs": [],
   "source": [
    "from ComputationalAnalysis.SupportVectorMachine import SVM"
   ],
   "metadata": {
    "collapsed": false,
    "pycharm": {
     "name": "#%%\n"
    }
   }
  },
  {
   "cell_type": "code",
   "execution_count": null,
   "outputs": [],
   "source": [
    "SVR = SVM(NeuralData=NeuralData_Matrix, FeatureData=FeatureData_Matrix)\n"
   ],
   "metadata": {
    "collapsed": false,
    "pycharm": {
     "name": "#%%\n"
    }
   }
  },
  {
   "cell_type": "code",
   "execution_count": null,
   "outputs": [],
   "source": [
    "SVR.neural_data, SVR.feature_data = SVR.shuffleFrames(SVR.neural_data, FeatureData=SVR.feature_data)\n",
    "SVR.feature_data = SVR.feature_data[0, :]"
   ],
   "metadata": {
    "collapsed": false,
    "pycharm": {
     "name": "#%%\n"
    }
   }
  },
  {
   "cell_type": "code",
   "execution_count": null,
   "outputs": [],
   "source": [
    "SVR.splitData()"
   ],
   "metadata": {
    "collapsed": false,
    "pycharm": {
     "name": "#%%\n"
    }
   }
  },
  {
   "cell_type": "code",
   "execution_count": null,
   "outputs": [],
   "source": [
    "SVR.fitModel()\n",
    "SVR.assessFit()\n",
    "SVR.makeAllPredictions()\n",
    "SVR.commonAssessment()"
   ],
   "metadata": {
    "collapsed": false,
    "pycharm": {
     "name": "#%%\n"
    }
   }
  },
  {
   "cell_type": "code",
   "execution_count": null,
   "outputs": [],
   "source": [],
   "metadata": {
    "collapsed": false,
    "pycharm": {
     "name": "#%%\n"
    }
   }
  }
 ],
 "metadata": {
  "kernelspec": {
   "display_name": "Python 3",
   "language": "python",
   "name": "python3"
  },
  "language_info": {
   "codemirror_mode": {
    "name": "ipython",
    "version": 2
   },
   "file_extension": ".py",
   "mimetype": "text/x-python",
   "name": "python",
   "nbconvert_exporter": "python",
   "pygments_lexer": "ipython2",
   "version": "2.7.6"
  }
 },
 "nbformat": 4,
 "nbformat_minor": 0
}