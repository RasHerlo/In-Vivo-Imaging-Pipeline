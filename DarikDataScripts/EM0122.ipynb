{
 "cells": [
  {
   "cell_type": "markdown",
   "metadata": {
    "collapsed": true,
    "pycharm": {
     "name": "#%% md\n"
    }
   },
   "source": [
    "# EM0122"
   ]
  },
  {
   "cell_type": "markdown",
   "source": [
    "## Imports"
   ],
   "metadata": {
    "collapsed": false,
    "pycharm": {
     "name": "#%% md\n"
    }
   }
  },
  {
   "cell_type": "code",
   "execution_count": 1,
   "outputs": [],
   "source": [
    "from ExperimentManagement.ExperimentHierarchy import ExperimentData\n",
    "import numpy as np"
   ],
   "metadata": {
    "collapsed": false,
    "pycharm": {
     "name": "#%%\n"
    }
   }
  },
  {
   "cell_type": "markdown",
   "source": [
    "## Generation"
   ],
   "metadata": {
    "collapsed": false,
    "pycharm": {
     "name": "#%% md\n"
    }
   }
  },
  {
   "cell_type": "code",
   "execution_count": 1,
   "outputs": [],
   "source": [
    "#"
   ],
   "metadata": {
    "collapsed": false,
    "pycharm": {
     "name": "#%%\n"
    }
   }
  },
  {
   "cell_type": "markdown",
   "source": [
    "## Load Hierarchy"
   ],
   "metadata": {
    "collapsed": false,
    "pycharm": {
     "name": "#%% md\n"
    }
   }
  },
  {
   "cell_type": "code",
   "execution_count": 2,
   "outputs": [
    {
     "name": "stdout",
     "output_type": "stream",
     "text": [
      "Loading Experimental Hierarchy...\n",
      "Finished.\n",
      "Activating auto-logging. Current session state plus future input saved.\n",
      "Filename       : D:\\EM0122\\log_file.log\n",
      "Mode           : append\n",
      "Output logging : True\n",
      "Raw input log  : True\n",
      "Timestamping   : True\n",
      "State          : active\n",
      "Logging Initiated\n"
     ]
    }
   ],
   "source": [
    "EH = ExperimentData.loadHierarchy(\"D:\\\\EM0122\")"
   ],
   "metadata": {
    "collapsed": false,
    "pycharm": {
     "name": "#%%\n"
    }
   }
  },
  {
   "cell_type": "markdown",
   "source": [
    "## Image PreProcessing"
   ],
   "metadata": {
    "collapsed": false,
    "pycharm": {
     "name": "#%% md\n"
    }
   }
  },
  {
   "cell_type": "markdown",
   "source": [
    "Imports"
   ],
   "metadata": {
    "collapsed": false,
    "pycharm": {
     "name": "#%% md\n"
    }
   }
  },
  {
   "cell_type": "code",
   "execution_count": 3,
   "outputs": [],
   "source": [
    "from ImagingAnalysis.PreprocessingImages import PreProcessing"
   ],
   "metadata": {
    "collapsed": false,
    "pycharm": {
     "name": "#%%\n"
    }
   }
  },
  {
   "cell_type": "markdown",
   "source": [
    "Define Directories"
   ],
   "metadata": {
    "collapsed": false,
    "pycharm": {
     "name": "#%% md\n"
    }
   }
  },
  {
   "cell_type": "code",
   "execution_count": 4,
   "outputs": [],
   "source": [
    "RawVideoDirectory = EH.Encoding.folder_dictionary.get(\"raw_imaging_data\")\n",
    "OutputDirectory = EH.Encoding.folder_dictionary.get(\"compiled_imaging_data_folder\").path"
   ],
   "metadata": {
    "collapsed": false,
    "pycharm": {
     "name": "#%%\n"
    }
   }
  },
  {
   "cell_type": "markdown",
   "source": [
    "Import MetaData"
   ],
   "metadata": {
    "collapsed": false,
    "pycharm": {
     "name": "#%% md\n"
    }
   }
  },
  {
   "cell_type": "code",
   "execution_count": 5,
   "outputs": [],
   "source": [
    "EH.Encoding.loadBrukerMetaData()"
   ],
   "metadata": {
    "collapsed": false,
    "pycharm": {
     "name": "#%%\n"
    }
   }
  },
  {
   "cell_type": "markdown",
   "source": [
    "Repackage bruker files into a single tiff"
   ],
   "metadata": {
    "collapsed": false,
    "pycharm": {
     "name": "#%% md\n"
    }
   }
  },
  {
   "cell_type": "code",
   "execution_count": 5,
   "outputs": [
    {
     "name": "stdout",
     "output_type": "stream",
     "text": [
      "Repackaging...\n"
     ]
    },
    {
     "data": {
      "text/plain": "Loading Images...:   0%|          | 0/7000 [00:00<?, ?it/s]",
      "application/vnd.jupyter.widget-view+json": {
       "version_major": 2,
       "version_minor": 0,
       "model_id": "9b3a6f342250411f9d1bf9c9a78accdc"
      },
      "application/json": {
       "n": 0,
       "total": 7000,
       "elapsed": 0.027492761611938477,
       "ncols": null,
       "nrows": null,
       "prefix": "Loading Images...",
       "ascii": false,
       "unit": "it",
       "unit_scale": false,
       "rate": null,
       "bar_format": null,
       "postfix": null,
       "unit_divisor": 1000,
       "initial": 0,
       "colour": null
      }
     },
     "metadata": {},
     "output_type": "display_data"
    },
    {
     "data": {
      "text/plain": "Loading Images...:   0%|          | 0/7000 [00:00<?, ?it/s]",
      "application/vnd.jupyter.widget-view+json": {
       "version_major": 2,
       "version_minor": 0,
       "model_id": "d9cf7af603fd444994dcaa3bde056496"
      },
      "application/json": {
       "n": 0,
       "total": 7000,
       "elapsed": 0.014999628067016602,
       "ncols": null,
       "nrows": null,
       "prefix": "Loading Images...",
       "ascii": false,
       "unit": "it",
       "unit_scale": false,
       "rate": null,
       "bar_format": null,
       "postfix": null,
       "unit_divisor": 1000,
       "initial": 0,
       "colour": null
      }
     },
     "metadata": {},
     "output_type": "display_data"
    },
    {
     "data": {
      "text/plain": "Loading Images...:   0%|          | 0/7000 [00:00<?, ?it/s]",
      "application/vnd.jupyter.widget-view+json": {
       "version_major": 2,
       "version_minor": 0,
       "model_id": "d3caf9b2b2f14940b217177ebed7a1ae"
      },
      "application/json": {
       "n": 0,
       "total": 7000,
       "elapsed": 0.014999628067016602,
       "ncols": null,
       "nrows": null,
       "prefix": "Loading Images...",
       "ascii": false,
       "unit": "it",
       "unit_scale": false,
       "rate": null,
       "bar_format": null,
       "postfix": null,
       "unit_divisor": 1000,
       "initial": 0,
       "colour": null
      }
     },
     "metadata": {},
     "output_type": "display_data"
    },
    {
     "data": {
      "text/plain": "Loading Images...:   0%|          | 0/7000 [00:00<?, ?it/s]",
      "application/vnd.jupyter.widget-view+json": {
       "version_major": 2,
       "version_minor": 0,
       "model_id": "3511769f1a5a4662891fda0659263dc7"
      },
      "application/json": {
       "n": 0,
       "total": 7000,
       "elapsed": 0.01450204849243164,
       "ncols": null,
       "nrows": null,
       "prefix": "Loading Images...",
       "ascii": false,
       "unit": "it",
       "unit_scale": false,
       "rate": null,
       "bar_format": null,
       "postfix": null,
       "unit_divisor": 1000,
       "initial": 0,
       "colour": null
      }
     },
     "metadata": {},
     "output_type": "display_data"
    },
    {
     "data": {
      "text/plain": "Loading Images...:   0%|          | 0/7000 [00:00<?, ?it/s]",
      "application/vnd.jupyter.widget-view+json": {
       "version_major": 2,
       "version_minor": 0,
       "model_id": "a1c7c2b2fa47409e9ec23540b4d8248a"
      },
      "application/json": {
       "n": 0,
       "total": 7000,
       "elapsed": 0.015500068664550781,
       "ncols": null,
       "nrows": null,
       "prefix": "Loading Images...",
       "ascii": false,
       "unit": "it",
       "unit_scale": false,
       "rate": null,
       "bar_format": null,
       "postfix": null,
       "unit_divisor": 1000,
       "initial": 0,
       "colour": null
      }
     },
     "metadata": {},
     "output_type": "display_data"
    },
    {
     "data": {
      "text/plain": "Loading Images...:   0%|          | 0/7000 [00:00<?, ?it/s]",
      "application/vnd.jupyter.widget-view+json": {
       "version_major": 2,
       "version_minor": 0,
       "model_id": "98732878cbff4972ac51812e836bf402"
      },
      "application/json": {
       "n": 0,
       "total": 7000,
       "elapsed": 0.014999628067016602,
       "ncols": null,
       "nrows": null,
       "prefix": "Loading Images...",
       "ascii": false,
       "unit": "it",
       "unit_scale": false,
       "rate": null,
       "bar_format": null,
       "postfix": null,
       "unit_divisor": 1000,
       "initial": 0,
       "colour": null
      }
     },
     "metadata": {},
     "output_type": "display_data"
    },
    {
     "data": {
      "text/plain": "Loading Images...:   0%|          | 0/7000 [00:00<?, ?it/s]",
      "application/vnd.jupyter.widget-view+json": {
       "version_major": 2,
       "version_minor": 0,
       "model_id": "18bb844a1f1442879fdd2e9ba3a93db4"
      },
      "application/json": {
       "n": 0,
       "total": 7000,
       "elapsed": 0.015006542205810547,
       "ncols": null,
       "nrows": null,
       "prefix": "Loading Images...",
       "ascii": false,
       "unit": "it",
       "unit_scale": false,
       "rate": null,
       "bar_format": null,
       "postfix": null,
       "unit_divisor": 1000,
       "initial": 0,
       "colour": null
      }
     },
     "metadata": {},
     "output_type": "display_data"
    },
    {
     "data": {
      "text/plain": "Loading Images...:   0%|          | 0/7000 [00:00<?, ?it/s]",
      "application/vnd.jupyter.widget-view+json": {
       "version_major": 2,
       "version_minor": 0,
       "model_id": "1dd894d7f27a40e1b9642f48906e80ef"
      },
      "application/json": {
       "n": 0,
       "total": 7000,
       "elapsed": 0.016001462936401367,
       "ncols": null,
       "nrows": null,
       "prefix": "Loading Images...",
       "ascii": false,
       "unit": "it",
       "unit_scale": false,
       "rate": null,
       "bar_format": null,
       "postfix": null,
       "unit_divisor": 1000,
       "initial": 0,
       "colour": null
      }
     },
     "metadata": {},
     "output_type": "display_data"
    },
    {
     "data": {
      "text/plain": "Loading Images...:   0%|          | 0/2895 [00:00<?, ?it/s]",
      "application/vnd.jupyter.widget-view+json": {
       "version_major": 2,
       "version_minor": 0,
       "model_id": "272d51a2756e4f9da085435e628a16d3"
      },
      "application/json": {
       "n": 0,
       "total": 2895,
       "elapsed": 0.015499353408813477,
       "ncols": null,
       "nrows": null,
       "prefix": "Loading Images...",
       "ascii": false,
       "unit": "it",
       "unit_scale": false,
       "rate": null,
       "bar_format": null,
       "postfix": null,
       "unit_divisor": 1000,
       "initial": 0,
       "colour": null
      }
     },
     "metadata": {},
     "output_type": "display_data"
    },
    {
     "name": "stdout",
     "output_type": "stream",
     "text": [
      "Finished Repackaging Bruker Tiffs\n"
     ]
    }
   ],
   "source": [
    "PreProcessing.repackageBrukerTiffs(RawVideoDirectory, OutputDirectory)\n",
    "EH.Encoding.folder_dictionary.get(\"compiled_imaging_data_folder\").reIndex()"
   ],
   "metadata": {
    "collapsed": false,
    "pycharm": {
     "name": "#%%\n"
    }
   }
  },
  {
   "cell_type": "markdown",
   "source": [
    "Load Images"
   ],
   "metadata": {
    "collapsed": false,
    "pycharm": {
     "name": "#%% md\n"
    }
   }
  },
  {
   "cell_type": "code",
   "execution_count": 8,
   "outputs": [
    {
     "data": {
      "text/plain": "Loading Images...:   0%|          | 0/9 [00:00<?, ?it/s]",
      "application/vnd.jupyter.widget-view+json": {
       "version_major": 2,
       "version_minor": 0,
       "model_id": "23d18b25184d41dd950fb0d7edab96b2"
      },
      "application/json": {
       "n": 0,
       "total": 9,
       "elapsed": 0.016500473022460938,
       "ncols": null,
       "nrows": null,
       "prefix": "Loading Images...",
       "ascii": false,
       "unit": "it",
       "unit_scale": false,
       "rate": null,
       "bar_format": null,
       "postfix": null,
       "unit_divisor": 1000,
       "initial": 0,
       "colour": null
      }
     },
     "metadata": {},
     "output_type": "display_data"
    }
   ],
   "source": [
    "images = PreProcessing.loadAllTiffs(OutputDirectory)"
   ],
   "metadata": {
    "collapsed": false,
    "pycharm": {
     "name": "#%%\n"
    }
   }
  },
  {
   "cell_type": "markdown",
   "source": [
    "Filter Images"
   ],
   "metadata": {
    "collapsed": false,
    "pycharm": {
     "name": "#%% md\n"
    }
   }
  },
  {
   "cell_type": "code",
   "execution_count": 9,
   "outputs": [
    {
     "data": {
      "text/plain": "Filtering Images...:   0%|          | 0/3 [00:00<?, ?it/s]",
      "application/vnd.jupyter.widget-view+json": {
       "version_major": 2,
       "version_minor": 0,
       "model_id": "ba02a39c7ab841e7aad4d1a3b1bef0bf"
      },
      "application/json": {
       "n": 0,
       "total": 3,
       "elapsed": 0.014028787612915039,
       "ncols": null,
       "nrows": null,
       "prefix": "Filtering Images...",
       "ascii": false,
       "unit": "it",
       "unit_scale": false,
       "rate": null,
       "bar_format": null,
       "postfix": null,
       "unit_divisor": 1000,
       "initial": 0,
       "colour": null
      }
     },
     "metadata": {},
     "output_type": "display_data"
    }
   ],
   "source": [
    "images = PreProcessing.blockwiseFastFilterTiff(images, Footprint=np.ones((7, 3, 3)))"
   ],
   "metadata": {
    "collapsed": false,
    "pycharm": {
     "name": "#%%\n"
    }
   }
  },
  {
   "cell_type": "markdown",
   "source": [
    "Remove Shutter Artifact"
   ],
   "metadata": {
    "collapsed": false,
    "pycharm": {
     "name": "#%% md\n"
    }
   }
  },
  {
   "cell_type": "code",
   "execution_count": 10,
   "outputs": [],
   "source": [
    "images = PreProcessing.removeShuttleArtifact(images, chunk_size=7000, artifact_length=1000)"
   ],
   "metadata": {
    "collapsed": false,
    "pycharm": {
     "name": "#%%\n"
    }
   }
  },
  {
   "cell_type": "markdown",
   "source": [
    "Save Images as Binary"
   ],
   "metadata": {
    "collapsed": false,
    "pycharm": {
     "name": "#%% md\n"
    }
   }
  },
  {
   "cell_type": "code",
   "execution_count": 11,
   "outputs": [
    {
     "name": "stdout",
     "output_type": "stream",
     "text": [
      "Finished saving video as a binary.\n"
     ]
    }
   ],
   "source": [
    "PreProcessing.saveRawBinary(images, OutputDirectory)\n",
    "EH.Encoding.folder_dictionary.get(\"compiled_imaging_data_folder\").reIndex()\n",
    "EH.recordMod(\"Repackaged, filtered, and exported images as raw binary. Made video even length this time\")"
   ],
   "metadata": {
    "collapsed": false,
    "pycharm": {
     "name": "#%%\n"
    }
   }
  },
  {
   "cell_type": "markdown",
   "source": [
    "## Image Processing"
   ],
   "metadata": {
    "collapsed": false,
    "pycharm": {
     "name": "#%% md\n"
    }
   }
  },
  {
   "cell_type": "markdown",
   "source": [
    "Imports"
   ],
   "metadata": {
    "collapsed": false,
    "pycharm": {
     "name": "#%% md\n"
    }
   }
  },
  {
   "cell_type": "code",
   "execution_count": 4,
   "outputs": [],
   "source": [
    "from ImagingAnalysis.Suite2PAnalysis import Suite2PModule"
   ],
   "metadata": {
    "collapsed": false,
    "pycharm": {
     "name": "#%%\n"
    }
   }
  },
  {
   "cell_type": "markdown",
   "source": [
    "Construct Folder for Data"
   ],
   "metadata": {
    "collapsed": false,
    "pycharm": {
     "name": "#%% md\n"
    }
   }
  },
  {
   "cell_type": "code",
   "execution_count": 4,
   "outputs": [],
   "source": [
    "EH.Encoding.addImageSamplingFolder(30)"
   ],
   "metadata": {
    "collapsed": false,
    "pycharm": {
     "name": "#%%\n"
    }
   }
  },
  {
   "cell_type": "markdown",
   "source": [
    "Motion Correct"
   ],
   "metadata": {
    "collapsed": false,
    "pycharm": {
     "name": "#%% md\n"
    }
   }
  },
  {
   "cell_type": "code",
   "execution_count": 5,
   "outputs": [
    {
     "name": "stdout",
     "output_type": "stream",
     "text": [
      "Reference frame, 32.47 sec.\n",
      "Registered 7000/56000 in 51.38s\n",
      "Registered 14000/56000 in 103.20s\n",
      "Registered 21000/56000 in 154.99s\n",
      "Registered 28000/56000 in 206.90s\n",
      "Registered 35000/56000 in 261.91s\n",
      "Registered 42000/56000 in 317.82s\n",
      "Registered 49000/56000 in 373.88s\n",
      "Registered 56000/56000 in 429.61s\n",
      "Exported Cropped Motion-Corrected Video\n"
     ]
    }
   ],
   "source": [
    "MotionCorrection = Suite2PModule(EH.Encoding.folder_dictionary.get(\"compiled_imaging_data_folder\").path, EH.Encoding.Imaging_30Hz.path, file_type=\"binary\")\n",
    "MotionCorrection.motionCorrect()\n",
    "MotionCorrection.exportCroppedCorrection(MotionCorrection.ops)\n",
    "del MotionCorrection # Clean Up"
   ],
   "metadata": {
    "collapsed": false,
    "pycharm": {
     "name": "#%%\n"
    }
   }
  },
  {
   "cell_type": "markdown",
   "source": [
    "Denoise"
   ],
   "metadata": {
    "collapsed": false,
    "pycharm": {
     "name": "#%% md\n"
    }
   }
  },
  {
   "cell_type": "code",
   "execution_count": 3,
   "outputs": [],
   "source": [
    "from ImagingAnalysis.Denoising import DenoisingModule"
   ],
   "metadata": {
    "collapsed": false,
    "pycharm": {
     "name": "#%%\n"
    }
   }
  },
  {
   "cell_type": "code",
   "execution_count": 4,
   "outputs": [],
   "source": [
    "Denoiser = DenoisingModule(\"ModelForPyTorch\", \"binary_video\",\n",
    "                    model_path=\"C:\\\\ProgramData\\\\Anaconda3\\\\envs\\\\Calcium-Imaging-Analysis-Pipeline\\\\pth\",\n",
    "                    data_path=\"\".join([EH.Encoding.Imaging_30Hz.path, \"\\\\suite2p\\\\plane0\"]),\n",
    "                    output_path=\"\".join([EH.Encoding.Imaging_30Hz.path, \"\\\\denoised\"]),\n",
    "                    image_type=\"binary\",\n",
    "                    length=\"21000\",\n",
    "                    workers=4,\n",
    "                    vram=24,\n",
    "                    batch_size2=4)\n",
    "Denoiser.runDenoising()\n",
    "Denoiser = None"
   ],
   "metadata": {
    "collapsed": false,
    "pycharm": {
     "name": "#%%\n"
    }
   }
  },
  {
   "cell_type": "markdown",
   "source": [
    "ROI Detection"
   ],
   "metadata": {
    "collapsed": false,
    "pycharm": {
     "name": "#%% md\n"
    }
   }
  },
  {
   "cell_type": "code",
   "execution_count": null,
   "outputs": [],
   "source": [
    "S2P = Suite2PModule(\"\".join([EH.Encoding.Imaging_30Hz.path, \"\\\\denoised\"]), EH.Encoding.Imaging_30Hz.path, file_type=\"binary\")\n",
    "S2P.roiDetection()"
   ],
   "metadata": {
    "collapsed": false,
    "pycharm": {
     "name": "#%%\n"
    }
   }
  },
  {
   "cell_type": "markdown",
   "source": [
    "Trace Extraction"
   ],
   "metadata": {
    "collapsed": false,
    "pycharm": {
     "name": "#%% md\n"
    }
   }
  },
  {
   "cell_type": "code",
   "execution_count": null,
   "outputs": [],
   "source": [
    "S2P.extractTraces()"
   ],
   "metadata": {
    "collapsed": false,
    "pycharm": {
     "name": "#%%\n"
    }
   }
  },
  {
   "cell_type": "markdown",
   "source": [
    "ROI Classification"
   ],
   "metadata": {
    "collapsed": false,
    "pycharm": {
     "name": "#%% md\n"
    }
   }
  },
  {
   "cell_type": "markdown",
   "source": [],
   "metadata": {
    "collapsed": false
   }
  },
  {
   "cell_type": "code",
   "execution_count": null,
   "outputs": [],
   "source": [
    "S2P.classifyROIs()"
   ],
   "metadata": {
    "collapsed": false,
    "pycharm": {
     "name": "#%%\n"
    }
   }
  },
  {
   "cell_type": "markdown",
   "source": [
    "Finalize (Required spks.npy to use GUI)"
   ],
   "metadata": {
    "collapsed": false,
    "pycharm": {
     "name": "#%% md\n"
    }
   }
  },
  {
   "cell_type": "code",
   "execution_count": null,
   "outputs": [],
   "source": [
    "S2P.spikeExtraction()"
   ],
   "metadata": {
    "collapsed": false,
    "pycharm": {
     "name": "#%%\n"
    }
   }
  },
  {
   "cell_type": "markdown",
   "source": [
    "Save"
   ],
   "metadata": {
    "collapsed": false,
    "pycharm": {
     "name": "#%% md\n"
    }
   }
  },
  {
   "cell_type": "code",
   "execution_count": null,
   "outputs": [],
   "source": [
    "# Derp\n",
    "S2P.ops[\"meanImg\"] = S2P.ops.get(\"max_proj\")\n",
    "S2P.ops[\"xrange\"]= [0, 496]\n",
    "S2P.ops[\"yrange\"]=[0, 500]\n",
    "# Now Save\n",
    "S2P.save_files()\n",
    "EH.Encoding.recordMod()\n",
    "EH.recordMod(\"S2P Encoding\")\n",
    "EH.saveHierarchy()"
   ],
   "metadata": {
    "collapsed": false,
    "pycharm": {
     "name": "#%%\n"
    }
   }
  }
 ],
 "metadata": {
  "kernelspec": {
   "display_name": "Python 3",
   "language": "python",
   "name": "python3"
  },
  "language_info": {
   "codemirror_mode": {
    "name": "ipython",
    "version": 2
   },
   "file_extension": ".py",
   "mimetype": "text/x-python",
   "name": "python",
   "nbconvert_exporter": "python",
   "pygments_lexer": "ipython2",
   "version": "2.7.6"
  }
 },
 "nbformat": 4,
 "nbformat_minor": 0
}